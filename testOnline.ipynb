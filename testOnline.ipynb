{
 "cells": [
  {
   "cell_type": "code",
   "execution_count": 1,
   "id": "29d00b37-9e7a-4b14-afc6-73bdd49692ee",
   "metadata": {},
   "outputs": [],
   "source": [
    "from tf.fabric import Fabric\n",
    "from tf.app import use"
   ]
  },
  {
   "cell_type": "code",
   "execution_count": 2,
   "id": "4154fe45-9f67-476d-8cd0-5dc8b7a80250",
   "metadata": {},
   "outputs": [
    {
     "data": {
      "text/markdown": [
       "**Locating corpus resources ...**"
      ],
      "text/plain": [
       "<IPython.core.display.Markdown object>"
      ]
     },
     "metadata": {},
     "output_type": "display_data"
    },
    {
     "name": "stdout",
     "output_type": "stream",
     "text": [
      "The requested app is not available offline\n",
      "\t~/text-fabric-data/github/tonyjurg/MPTF/app not found\n"
     ]
    },
    {
     "data": {
      "text/html": [
       "Status: latest release online <b>test</b> versus <b>None</b> locally"
      ],
      "text/plain": [
       "<IPython.core.display.HTML object>"
      ]
     },
     "metadata": {},
     "output_type": "display_data"
    },
    {
     "data": {
      "text/html": [
       "downloading app, main data and requested additions ..."
      ],
      "text/plain": [
       "<IPython.core.display.HTML object>"
      ]
     },
     "metadata": {},
     "output_type": "display_data"
    },
    {
     "data": {
      "text/html": [
       "<b title=\"latest release\">app:</b> <span title=\"unknown release or commit\">~/text-fabric-data/github/tonyjurg/MPTF/app</span>"
      ],
      "text/plain": [
       "<IPython.core.display.HTML object>"
      ]
     },
     "metadata": {},
     "output_type": "display_data"
    },
    {
     "name": "stdout",
     "output_type": "stream",
     "text": [
      "The requested data is not available offline\n",
      "\t~/text-fabric-data/github/tonyjurg/MPTF/tf/test not found\n"
     ]
    },
    {
     "data": {
      "text/html": [
       "Status: latest release online <b>test</b> versus <b>None</b> locally"
      ],
      "text/plain": [
       "<IPython.core.display.HTML object>"
      ]
     },
     "metadata": {},
     "output_type": "display_data"
    },
    {
     "data": {
      "text/html": [
       "downloading app, main data and requested additions ..."
      ],
      "text/plain": [
       "<IPython.core.display.HTML object>"
      ]
     },
     "metadata": {},
     "output_type": "display_data"
    },
    {
     "data": {
      "text/html": [
       "<b title=\"latest release\">data:</b> <span title=\"unknown release or commit\">~/text-fabric-data/github/tonyjurg/MPTF/tf/test</span>"
      ],
      "text/plain": [
       "<IPython.core.display.HTML object>"
      ]
     },
     "metadata": {},
     "output_type": "display_data"
    },
    {
     "name": "stdout",
     "output_type": "stream",
     "text": [
      "   |     0.02s T otype                from ~/text-fabric-data/github/tonyjurg/MPTF/tf/test\n",
      "   |     0.36s T oslots               from ~/text-fabric-data/github/tonyjurg/MPTF/tf/test\n",
      "   |     0.05s T after_N1904          from ~/text-fabric-data/github/tonyjurg/MPTF/tf/test\n",
      "   |     0.05s T chapter              from ~/text-fabric-data/github/tonyjurg/MPTF/tf/test\n",
      "   |     0.07s T text                 from ~/text-fabric-data/github/tonyjurg/MPTF/tf/test\n",
      "   |     0.05s T verse                from ~/text-fabric-data/github/tonyjurg/MPTF/tf/test\n",
      "   |     0.06s T book                 from ~/text-fabric-data/github/tonyjurg/MPTF/tf/test\n",
      "   |      |     0.01s C __levels__           from otype, oslots, otext\n",
      "   |      |     0.31s C __order__            from otype, oslots, __levels__\n",
      "   |      |     0.01s C __rank__             from otype, __order__\n",
      "   |      |     0.65s C __levUp__            from otype, oslots, __rank__\n",
      "   |      |     0.26s C __levDown__          from otype, __levUp__, __rank__\n",
      "   |      |     0.01s C __characters__       from otext\n",
      "   |      |     0.13s C __boundary__         from otype, oslots, __rank__\n",
      "   |      |     0.02s C __sections__         from otype, oslots, otext, __levUp__, __levDown__, __levels__, book, chapter, verse\n",
      "   |      |     0.02s C __structure__        from otype, oslots, otext, __rank__, __levUp__, book, chapter, verse\n",
      "   |     0.05s T after_KJTR           from ~/text-fabric-data/github/tonyjurg/MPTF/tf/test\n",
      "   |     0.05s T after_SBL            from ~/text-fabric-data/github/tonyjurg/MPTF/tf/test\n",
      "   |     0.04s T after_SR             from ~/text-fabric-data/github/tonyjurg/MPTF/tf/test\n",
      "   |     0.04s T after_TCGNT          from ~/text-fabric-data/github/tonyjurg/MPTF/tf/test\n",
      "   |     0.05s T after_TISCH          from ~/text-fabric-data/github/tonyjurg/MPTF/tf/test\n",
      "   |     0.05s T monad                from ~/text-fabric-data/github/tonyjurg/MPTF/tf/test\n",
      "   |     0.01s T sentence_KJTR        from ~/text-fabric-data/github/tonyjurg/MPTF/tf/test\n",
      "   |     0.00s T sentence_N1904       from ~/text-fabric-data/github/tonyjurg/MPTF/tf/test\n",
      "   |     0.00s T sentence_SBL         from ~/text-fabric-data/github/tonyjurg/MPTF/tf/test\n",
      "   |     0.00s T sentence_SR          from ~/text-fabric-data/github/tonyjurg/MPTF/tf/test\n",
      "   |     0.00s T sentence_TCGNT       from ~/text-fabric-data/github/tonyjurg/MPTF/tf/test\n",
      "   |     0.00s T sentence_TISCH       from ~/text-fabric-data/github/tonyjurg/MPTF/tf/test\n",
      "   |     0.01s T subsent_KJTR         from ~/text-fabric-data/github/tonyjurg/MPTF/tf/test\n",
      "   |     0.01s T subsent_N1904        from ~/text-fabric-data/github/tonyjurg/MPTF/tf/test\n",
      "   |     0.01s T subsent_SBL          from ~/text-fabric-data/github/tonyjurg/MPTF/tf/test\n",
      "   |     0.01s T subsent_SR           from ~/text-fabric-data/github/tonyjurg/MPTF/tf/test\n",
      "   |     0.01s T subsent_TCGNT        from ~/text-fabric-data/github/tonyjurg/MPTF/tf/test\n",
      "   |     0.01s T subsent_TISCH        from ~/text-fabric-data/github/tonyjurg/MPTF/tf/test\n"
     ]
    },
    {
     "data": {
      "text/html": [
       "\n",
       "            <b>TF:</b> <a target=\"_blank\" href=\"https://annotation.github.io/text-fabric/tf/cheatsheet.html\" title=\"text-fabric api\">TF API 12.6.1</a>, <a target=\"_blank\" href=\"https://github.com/tonyjurg/MPTF/blob/master/app\" title=\"tonyjurg/MPTF app\">tonyjurg/MPTF/app  v3</a>, <a target=\"_blank\" href=\"https://annotation.github.io/text-fabric/tf/about/searchusage.html\" title=\"Search Templates Introduction and Reference\">Search Reference</a><br>\n",
       "            <b>Data:</b> <a target=\"_blank\" href=\"https://github.com/tonyjurg/MPTF/blob/master/docs/home.md\" title=\"provenance of Nestle 1904 (multi punctuated Gospel of John)\">tonyjurg - MPTF test</a>, <a target=\"_blank\" href=\"https://annotation.github.io/text-fabric/tf/writing/\" title=\"How TF features represent text\">Character table</a>, <a target=\"_blank\" href=\"https://github.com/tonyjurg/MPTF/blob/master/docs/features/home.md\" title=\"tonyjurg - MPTF feature documentation\">Feature docs</a><br>\n",
       "            <details class=\"nodeinfo\"><summary><b>Node types</b></summary>\n",
       "<table class=\"nodeinfo\">\n",
       "    <tr>\n",
       "        <th>Name</th>\n",
       "        <th># of nodes</th>\n",
       "        <th># slots / node</th>\n",
       "        <th>% coverage</th>\n",
       "    </tr>\n",
       "\n",
       "<tr>\n",
       "    <th>book</th>\n",
       "    <td>1</td>\n",
       "    <td>15643.00</td>\n",
       "    <td><b>100</b></td>\n",
       "</tr>\n",
       "\n",
       "<tr>\n",
       "    <th>chapter</th>\n",
       "    <td>21</td>\n",
       "    <td>744.90</td>\n",
       "    <td><b>100</b></td>\n",
       "</tr>\n",
       "\n",
       "<tr>\n",
       "    <th>sentence_SR</th>\n",
       "    <td>581</td>\n",
       "    <td>26.92</td>\n",
       "    <td><b>100</b></td>\n",
       "</tr>\n",
       "\n",
       "<tr>\n",
       "    <th>sentence_SBL</th>\n",
       "    <td>693</td>\n",
       "    <td>22.57</td>\n",
       "    <td><b>100</b></td>\n",
       "</tr>\n",
       "\n",
       "<tr>\n",
       "    <th>sentence_TISCH</th>\n",
       "    <td>725</td>\n",
       "    <td>21.58</td>\n",
       "    <td><b>100</b></td>\n",
       "</tr>\n",
       "\n",
       "<tr>\n",
       "    <th>sentence_N1904</th>\n",
       "    <td>731</td>\n",
       "    <td>21.40</td>\n",
       "    <td><b>100</b></td>\n",
       "</tr>\n",
       "\n",
       "<tr>\n",
       "    <th>sentence_KJTR</th>\n",
       "    <td>777</td>\n",
       "    <td>20.13</td>\n",
       "    <td><b>100</b></td>\n",
       "</tr>\n",
       "\n",
       "<tr>\n",
       "    <th>sentence_TCGNT</th>\n",
       "    <td>782</td>\n",
       "    <td>20.00</td>\n",
       "    <td><b>100</b></td>\n",
       "</tr>\n",
       "\n",
       "<tr>\n",
       "    <th>verse</th>\n",
       "    <td>879</td>\n",
       "    <td>17.80</td>\n",
       "    <td><b>100</b></td>\n",
       "</tr>\n",
       "\n",
       "<tr>\n",
       "    <th>sub_N1904</th>\n",
       "    <td>1411</td>\n",
       "    <td>11.09</td>\n",
       "    <td><b>100</b></td>\n",
       "</tr>\n",
       "\n",
       "<tr>\n",
       "    <th>sub_SBL</th>\n",
       "    <td>1661</td>\n",
       "    <td>9.42</td>\n",
       "    <td><b>100</b></td>\n",
       "</tr>\n",
       "\n",
       "<tr>\n",
       "    <th>sub_TISCH</th>\n",
       "    <td>1801</td>\n",
       "    <td>8.69</td>\n",
       "    <td><b>100</b></td>\n",
       "</tr>\n",
       "\n",
       "<tr>\n",
       "    <th>sub_KJTR</th>\n",
       "    <td>2190</td>\n",
       "    <td>7.14</td>\n",
       "    <td><b>100</b></td>\n",
       "</tr>\n",
       "\n",
       "<tr>\n",
       "    <th>sub_TCGNT</th>\n",
       "    <td>2210</td>\n",
       "    <td>7.08</td>\n",
       "    <td><b>100</b></td>\n",
       "</tr>\n",
       "\n",
       "<tr>\n",
       "    <th>sub_SR</th>\n",
       "    <td>2244</td>\n",
       "    <td>6.97</td>\n",
       "    <td><b>100</b></td>\n",
       "</tr>\n",
       "\n",
       "<tr>\n",
       "    <th><i>word</i></th>\n",
       "    <td>15643</td>\n",
       "    <td>1.00</td>\n",
       "    <td><b>100</b></td>\n",
       "</tr>\n",
       "</table></details>\n",
       "            <b>Sets:</b> no custom sets<br>\n",
       "            <b>Features:</b><br>\n",
       "<details><summary><b>Nestle 1904 (multi punctuated Gospel of John)</b></summary>\n",
       "    <div class=\"fcorpus\">\n",
       "\n",
       "<div class=\"frow\">\n",
       "    <div class=\"fnamecat \">\n",
       "<a target=\"_blank\" href=\"https://github.com/tonyjurg/MPTF/blob/master/docs/features/after_KJTR.md\" title=\"~/text-fabric-data/github/tonyjurg/MPTF/tf/test/after_KJTR.tf\">after_KJTR</a>\n",
       "</div>\n",
       "<div class=\"fmono\">str</div>\n",
       "\n",
       "<span> Characters following the word (N1904 base text with KNTR punctuation)</span>\n",
       "\n",
       "</div>\n",
       "\n",
       "<div class=\"frow\">\n",
       "    <div class=\"fnamecat \">\n",
       "<a target=\"_blank\" href=\"https://github.com/tonyjurg/MPTF/blob/master/docs/features/after_N1904.md\" title=\"~/text-fabric-data/github/tonyjurg/MPTF/tf/test/after_N1904.tf\">after_N1904</a>\n",
       "</div>\n",
       "<div class=\"fmono\">str</div>\n",
       "\n",
       "<span> Characters following the word (N1904 punctuation)</span>\n",
       "\n",
       "</div>\n",
       "\n",
       "<div class=\"frow\">\n",
       "    <div class=\"fnamecat \">\n",
       "<a target=\"_blank\" href=\"https://github.com/tonyjurg/MPTF/blob/master/docs/features/after_SBL.md\" title=\"~/text-fabric-data/github/tonyjurg/MPTF/tf/test/after_SBL.tf\">after_SBL</a>\n",
       "</div>\n",
       "<div class=\"fmono\">str</div>\n",
       "\n",
       "<span> Characters following the word (N1904 base text with SBL punctuation)</span>\n",
       "\n",
       "</div>\n",
       "\n",
       "<div class=\"frow\">\n",
       "    <div class=\"fnamecat \">\n",
       "<a target=\"_blank\" href=\"https://github.com/tonyjurg/MPTF/blob/master/docs/features/after_SR.md\" title=\"~/text-fabric-data/github/tonyjurg/MPTF/tf/test/after_SR.tf\">after_SR</a>\n",
       "</div>\n",
       "<div class=\"fmono\">str</div>\n",
       "\n",
       "<span> Characters following the word (N1904 base text with SR punctuation)</span>\n",
       "\n",
       "</div>\n",
       "\n",
       "<div class=\"frow\">\n",
       "    <div class=\"fnamecat \">\n",
       "<a target=\"_blank\" href=\"https://github.com/tonyjurg/MPTF/blob/master/docs/features/after_TCGNT.md\" title=\"~/text-fabric-data/github/tonyjurg/MPTF/tf/test/after_TCGNT.tf\">after_TCGNT</a>\n",
       "</div>\n",
       "<div class=\"fmono\">str</div>\n",
       "\n",
       "<span> Characters following the word (N1904 base text with TCGNT punctuation)</span>\n",
       "\n",
       "</div>\n",
       "\n",
       "<div class=\"frow\">\n",
       "    <div class=\"fnamecat \">\n",
       "<a target=\"_blank\" href=\"https://github.com/tonyjurg/MPTF/blob/master/docs/features/after_TISCH.md\" title=\"~/text-fabric-data/github/tonyjurg/MPTF/tf/test/after_TISCH.tf\">after_TISCH</a>\n",
       "</div>\n",
       "<div class=\"fmono\">str</div>\n",
       "\n",
       "<span> Characters following the word (N1904 base text with TISCH punctuation)</span>\n",
       "\n",
       "</div>\n",
       "\n",
       "<div class=\"frow\">\n",
       "    <div class=\"fnamecat \">\n",
       "<a target=\"_blank\" href=\"https://github.com/tonyjurg/MPTF/blob/master/docs/features/book.md\" title=\"~/text-fabric-data/github/tonyjurg/MPTF/tf/test/book.tf\">book</a>\n",
       "</div>\n",
       "<div class=\"fmono\">str</div>\n",
       "\n",
       "<span> Book (in this dataset only the Gospel of John</span>\n",
       "\n",
       "</div>\n",
       "\n",
       "<div class=\"frow\">\n",
       "    <div class=\"fnamecat \">\n",
       "<a target=\"_blank\" href=\"https://github.com/tonyjurg/MPTF/blob/master/docs/features/chapter.md\" title=\"~/text-fabric-data/github/tonyjurg/MPTF/tf/test/chapter.tf\">chapter</a>\n",
       "</div>\n",
       "<div class=\"fmono\">int</div>\n",
       "\n",
       "<span> Chapter number inside the Gospel of John</span>\n",
       "\n",
       "</div>\n",
       "\n",
       "<div class=\"frow\">\n",
       "    <div class=\"fnamecat \">\n",
       "<a target=\"_blank\" href=\"https://github.com/tonyjurg/MPTF/blob/master/docs/features/monad.md\" title=\"~/text-fabric-data/github/tonyjurg/MPTF/tf/test/monad.tf\">monad</a>\n",
       "</div>\n",
       "<div class=\"fmono\">int</div>\n",
       "\n",
       "<span> Monad, the sequence number of the word in the corpus (i.e. the Gospel of John)</span>\n",
       "\n",
       "</div>\n",
       "\n",
       "<div class=\"frow\">\n",
       "    <div class=\"fnamecat \">\n",
       "<a target=\"_blank\" href=\"https://github.com/tonyjurg/MPTF/blob/master/docs/features/otype.md\" title=\"~/text-fabric-data/github/tonyjurg/MPTF/tf/test/otype.tf\">otype</a>\n",
       "</div>\n",
       "<div class=\"fmono\">str</div>\n",
       "\n",
       "<span> </span>\n",
       "\n",
       "</div>\n",
       "\n",
       "<div class=\"frow\">\n",
       "    <div class=\"fnamecat \">\n",
       "<a target=\"_blank\" href=\"https://github.com/tonyjurg/MPTF/blob/master/docs/features/sentence_KJTR.md\" title=\"~/text-fabric-data/github/tonyjurg/MPTF/tf/test/sentence_KJTR.tf\">sentence_KJTR</a>\n",
       "</div>\n",
       "<div class=\"fmono\">int</div>\n",
       "\n",
       "<span> Sentence number (counted over the N1904 base text with KJTR punctuation)</span>\n",
       "\n",
       "</div>\n",
       "\n",
       "<div class=\"frow\">\n",
       "    <div class=\"fnamecat \">\n",
       "<a target=\"_blank\" href=\"https://github.com/tonyjurg/MPTF/blob/master/docs/features/sentence_N1904.md\" title=\"~/text-fabric-data/github/tonyjurg/MPTF/tf/test/sentence_N1904.tf\">sentence_N1904</a>\n",
       "</div>\n",
       "<div class=\"fmono\">int</div>\n",
       "\n",
       "<span> Sentence number (counted over the N1904 base text with standard punctuation)</span>\n",
       "\n",
       "</div>\n",
       "\n",
       "<div class=\"frow\">\n",
       "    <div class=\"fnamecat \">\n",
       "<a target=\"_blank\" href=\"https://github.com/tonyjurg/MPTF/blob/master/docs/features/sentence_SBL.md\" title=\"~/text-fabric-data/github/tonyjurg/MPTF/tf/test/sentence_SBL.tf\">sentence_SBL</a>\n",
       "</div>\n",
       "<div class=\"fmono\">int</div>\n",
       "\n",
       "<span> Sentence number (counted over the N1904 base text with SBL punctuation)</span>\n",
       "\n",
       "</div>\n",
       "\n",
       "<div class=\"frow\">\n",
       "    <div class=\"fnamecat \">\n",
       "<a target=\"_blank\" href=\"https://github.com/tonyjurg/MPTF/blob/master/docs/features/sentence_SR.md\" title=\"~/text-fabric-data/github/tonyjurg/MPTF/tf/test/sentence_SR.tf\">sentence_SR</a>\n",
       "</div>\n",
       "<div class=\"fmono\">int</div>\n",
       "\n",
       "<span> Sentence number (counted over the N1904 base text with SR punctuation)</span>\n",
       "\n",
       "</div>\n",
       "\n",
       "<div class=\"frow\">\n",
       "    <div class=\"fnamecat \">\n",
       "<a target=\"_blank\" href=\"https://github.com/tonyjurg/MPTF/blob/master/docs/features/sentence_TCGNT.md\" title=\"~/text-fabric-data/github/tonyjurg/MPTF/tf/test/sentence_TCGNT.tf\">sentence_TCGNT</a>\n",
       "</div>\n",
       "<div class=\"fmono\">int</div>\n",
       "\n",
       "<span> Sentence number (counted over the N1904 base text with TCGNT punctuation)</span>\n",
       "\n",
       "</div>\n",
       "\n",
       "<div class=\"frow\">\n",
       "    <div class=\"fnamecat \">\n",
       "<a target=\"_blank\" href=\"https://github.com/tonyjurg/MPTF/blob/master/docs/features/sentence_TISCH.md\" title=\"~/text-fabric-data/github/tonyjurg/MPTF/tf/test/sentence_TISCH.tf\">sentence_TISCH</a>\n",
       "</div>\n",
       "<div class=\"fmono\">int</div>\n",
       "\n",
       "<span> Sentence number (counted over the N1904 base text with TISCH punctuation)</span>\n",
       "\n",
       "</div>\n",
       "\n",
       "<div class=\"frow\">\n",
       "    <div class=\"fnamecat \">\n",
       "<a target=\"_blank\" href=\"https://github.com/tonyjurg/MPTF/blob/master/docs/features/subsent_KJTR.md\" title=\"~/text-fabric-data/github/tonyjurg/MPTF/tf/test/subsent_KJTR.tf\">subsent_KJTR</a>\n",
       "</div>\n",
       "<div class=\"fmono\">int</div>\n",
       "\n",
       "<span> Subsentence number (counted over the N1904 base text with KJTR punctuation)</span>\n",
       "\n",
       "</div>\n",
       "\n",
       "<div class=\"frow\">\n",
       "    <div class=\"fnamecat \">\n",
       "<a target=\"_blank\" href=\"https://github.com/tonyjurg/MPTF/blob/master/docs/features/subsent_N1904.md\" title=\"~/text-fabric-data/github/tonyjurg/MPTF/tf/test/subsent_N1904.tf\">subsent_N1904</a>\n",
       "</div>\n",
       "<div class=\"fmono\">int</div>\n",
       "\n",
       "<span> Subsentence number (counted over the N1904 base text with standard punctuation)</span>\n",
       "\n",
       "</div>\n",
       "\n",
       "<div class=\"frow\">\n",
       "    <div class=\"fnamecat \">\n",
       "<a target=\"_blank\" href=\"https://github.com/tonyjurg/MPTF/blob/master/docs/features/subsent_SBL.md\" title=\"~/text-fabric-data/github/tonyjurg/MPTF/tf/test/subsent_SBL.tf\">subsent_SBL</a>\n",
       "</div>\n",
       "<div class=\"fmono\">int</div>\n",
       "\n",
       "<span> Susbsentence number (counted over the N1904 base text with SBL punctuation)</span>\n",
       "\n",
       "</div>\n",
       "\n",
       "<div class=\"frow\">\n",
       "    <div class=\"fnamecat \">\n",
       "<a target=\"_blank\" href=\"https://github.com/tonyjurg/MPTF/blob/master/docs/features/subsent_SR.md\" title=\"~/text-fabric-data/github/tonyjurg/MPTF/tf/test/subsent_SR.tf\">subsent_SR</a>\n",
       "</div>\n",
       "<div class=\"fmono\">int</div>\n",
       "\n",
       "<span> Subentence number (counted over the N1904 base text with SR punctuation)</span>\n",
       "\n",
       "</div>\n",
       "\n",
       "<div class=\"frow\">\n",
       "    <div class=\"fnamecat \">\n",
       "<a target=\"_blank\" href=\"https://github.com/tonyjurg/MPTF/blob/master/docs/features/subsent_TCGNT.md\" title=\"~/text-fabric-data/github/tonyjurg/MPTF/tf/test/subsent_TCGNT.tf\">subsent_TCGNT</a>\n",
       "</div>\n",
       "<div class=\"fmono\">int</div>\n",
       "\n",
       "<span> Subsentence number (counted over the N1904 base text with TCGNT punctuation)</span>\n",
       "\n",
       "</div>\n",
       "\n",
       "<div class=\"frow\">\n",
       "    <div class=\"fnamecat \">\n",
       "<a target=\"_blank\" href=\"https://github.com/tonyjurg/MPTF/blob/master/docs/features/subsent_TISCH.md\" title=\"~/text-fabric-data/github/tonyjurg/MPTF/tf/test/subsent_TISCH.tf\">subsent_TISCH</a>\n",
       "</div>\n",
       "<div class=\"fmono\">int</div>\n",
       "\n",
       "<span> Subentence number (counted over the N1904 base text with TISCH punctuation)</span>\n",
       "\n",
       "</div>\n",
       "\n",
       "<div class=\"frow\">\n",
       "    <div class=\"fnamecat \">\n",
       "<a target=\"_blank\" href=\"https://github.com/tonyjurg/MPTF/blob/master/docs/features/text.md\" title=\"~/text-fabric-data/github/tonyjurg/MPTF/tf/test/text.tf\">text</a>\n",
       "</div>\n",
       "<div class=\"fmono\">str</div>\n",
       "\n",
       "<span> Word as it appears in the N1904 base text (excl. punctuations)</span>\n",
       "\n",
       "</div>\n",
       "\n",
       "<div class=\"frow\">\n",
       "    <div class=\"fnamecat \">\n",
       "<a target=\"_blank\" href=\"https://github.com/tonyjurg/MPTF/blob/master/docs/features/verse.md\" title=\"~/text-fabric-data/github/tonyjurg/MPTF/tf/test/verse.tf\">verse</a>\n",
       "</div>\n",
       "<div class=\"fmono\">int</div>\n",
       "\n",
       "<span> Verse number inside chapter</span>\n",
       "\n",
       "</div>\n",
       "\n",
       "<div class=\"frow\">\n",
       "    <div class=\"fnamecat edge\">\n",
       "<a target=\"_blank\" href=\"https://github.com/tonyjurg/MPTF/blob/master/docs/features/oslots.md\" title=\"~/text-fabric-data/github/tonyjurg/MPTF/tf/test/oslots.tf\">oslots</a>\n",
       "</div>\n",
       "<div class=\"fmono\">none</div>\n",
       "\n",
       "<span> </span>\n",
       "\n",
       "</div>\n",
       "\n",
       "    </div>\n",
       "</details>\n",
       "\n",
       "            <b>Settings:</b><br><details ><summary><b>specified</b></summary><ol><li><b>apiVersion</b>: <code>3</code></li><li><b>appName</b>: <code>tonyjurg/MPTF</code></li><li><b>appPath</b>: <code>C:/Users/tonyj/text-fabric-data/github/tonyjurg/MPTF/app</code></li><li><b>commit</b>: <i>no value</i></li><li><b>css</b>: <code>''</code></li><li><details><summary><b>dataDisplay</b>:</summary><li><details open>\n",
       "                <summary><b>noneValues</b>:</summary>\n",
       "                <ul><li><code>none</code></li><li><code>unknown</code></li><li><i>no value</i></li><li><code>NA</code></li><li><code>''</code></li></ul>\n",
       "                </details></li></details></li><li><b>interfaceDefaults</b>: {<b>fmt</b>: <code>layout-orig-full</code>}</li><li><b>isCompatible</b>: <code>True</code></li><li><b>local</b>: <i>no value</i></li><li><b>localDir</b>: <code>C:/Users/tonyj/text-fabric-data/github/tonyjurg/MPTF/_temp</code></li><li><details><summary><b>provenanceSpec</b>:</summary><ul><li><b>corpus</b>: <code>Nestle 1904 (multi punctuated Gospel of John)</code></li><li><b>org</b>: <code>tonyjurg</code></li><li><b>relative</b>: <code>/tf</code></li><li><b>repo</b>: <code>MPTF</code></li><li><b>repro</b>: <code>MP-FT</code></li><li><b>version</b>: <code>test</code></li><li><details><summary><b>webUrl</b>:</summary><code>https://bibleol.3bmoodle.dk/text/show_text/nestle1904/&lt;1&gt;/&lt;2&gt;/&lt;3&gt;</code></details></li></ul></details></li><li><b>release</b>: <i>no value</i></li><li><details><summary><b>typeDisplay</b>:</summary><ul><li><details><summary><b>book</b>:</summary><ul><li><b>label</b>: <code>{book}</code></li><li><b>style</b>: <code>''</code></li></ul></details></li><li><details><summary><b>chapter</b>:</summary><ul><li><b>condense</b>: <code>True</code></li><li><b>label</b>: <code>{chapter}</code></li><li><b>style</b>: <code>''</code></li></ul></details></li><li><details><summary><b>verse</b>:</summary><ul><li><b>condense</b>: <code>True</code></li><li><b>excludedFeatures</b>: <code>chapter verse</code></li><li><b>label</b>: <code>{book} {chapter}:{verse}</code></li><li><b>style</b>: <code>''</code></li></ul></details></li><li><details><summary><b>word</b>:</summary><ul><li><b>base</b>: <code>True</code></li><li><b>featuresBare</b>: <code>text</code></li></ul></details></li></ul></details></li></ol></details>\n"
      ],
      "text/plain": [
       "<IPython.core.display.HTML object>"
      ]
     },
     "metadata": {},
     "output_type": "display_data"
    },
    {
     "data": {
      "text/html": [
       "<style>tr.tf.ltr, td.tf.ltr, th.tf.ltr { text-align: left ! important;}\n",
       "tr.tf.rtl, td.tf.rtl, th.tf.rtl { text-align: right ! important;}\n",
       "@font-face {\n",
       "  font-family: \"Gentium Plus\";\n",
       "  src: local('Gentium Plus'), local('GentiumPlus'),\n",
       "    url('/browser/static/fonts/GentiumPlus-R.woff') format('woff'),\n",
       "    url('https://github.com/annotation/text-fabric/blob/master/tf/browser/static/fonts/GentiumPlus-R.woff?raw=true') format('woff');\n",
       "}\n",
       "\n",
       "@font-face {\n",
       "  font-family: \"Ezra SIL\";\n",
       "  src: local('Ezra SIL'), local('EzraSIL'),\n",
       "    url('/browser/static/fonts/SILEOT.woff') format('woff'),\n",
       "    url('https://github.com/annotation/text-fabric/blob/master/tf/browser/static/fonts/SILEOT.woff?raw=true') format('woff');\n",
       "}\n",
       "\n",
       "@font-face {\n",
       "  font-family: \"SBL Hebrew\";\n",
       "  src: local('SBL Hebrew'), local('SBLHebrew'),\n",
       "    url('/browser/static/fonts/SBL_Hbrw.woff') format('woff'),\n",
       "    url('https://github.com/annotation/text-fabric/blob/master/tf/browser/static/fonts/SBL_Hbrw.woff?raw=true') format('woff');\n",
       "}\n",
       "\n",
       "@font-face {\n",
       "  font-family: \"Estrangelo Edessa\";\n",
       "  src: local('Estrangelo Edessa'), local('EstrangeloEdessa');\n",
       "    url('/browser/static/fonts/SyrCOMEdessa.woff') format('woff'),\n",
       "    url('https://github.com/annotation/text-fabric/blob/master/tf/browser/static/fonts/SyrCOMEdessa.woff?raw=true') format('woff');\n",
       "}\n",
       "\n",
       "@font-face {\n",
       "  font-family: AmiriQuran;\n",
       "  font-style: normal;\n",
       "  font-weight: 400;\n",
       "  src: local('Amiri Quran'), local('AmiriQuran'),\n",
       "    url('/browser/static/fonts/AmiriQuran.woff') format('woff'),\n",
       "    url('https://github.com/annotation/text-fabric/blob/master/tf/browser/static/fonts/AmiriQuran.woff?raw=true') format('woff');\n",
       "}\n",
       "\n",
       "@font-face {\n",
       "  font-family: AmiriQuranColored;\n",
       "  font-style: normal;\n",
       "  font-weight: 400;\n",
       "  src: local('Amiri Quran Colored'), local('AmiriQuranColored'),\n",
       "    url('/browser/static/fonts/AmiriQuranColored.woff') format('woff'),\n",
       "    url('https://github.com/annotation/text-fabric/blob/master/tf/browser/static/fonts/AmiriQuranColored.woff?raw=true') format('woff');\n",
       "}\n",
       "\n",
       "@font-face {\n",
       "  font-family: \"Santakku\";\n",
       "  src: local('Santakku'),\n",
       "    url('/browser/static/fonts/Santakku.woff') format('woff'),\n",
       "    url('https://github.com/annotation/text-fabric/blob/master/tf/browser/static/fonts/Santakku.woff?raw=true') format('woff');\n",
       "}\n",
       "\n",
       "@font-face {\n",
       "  font-family: \"SantakkuM\";\n",
       "  src: local('SantakkuM'),\n",
       "    url('/browser/static/fonts/SantakkuM.woff') format('woff'),\n",
       "    url('https://github.com/annotation/text-fabric/blob/master/tf/browser/static/fonts/SantakkuM.woff?raw=true') format('woff');\n",
       "}\n",
       "\n",
       "/* bypassing some classical notebook settings */\n",
       "div#notebook {\n",
       "  line-height: unset;\n",
       "}\n",
       "/* neutral text */\n",
       ".txtn,.txtn a:visited,.txtn a:link {\n",
       "    font-family: sans-serif;\n",
       "    font-size: medium;\n",
       "    direction: ltr;\n",
       "    unicode-bidi: embed;\n",
       "    text-decoration: none;\n",
       "    color: var(--text-color);\n",
       "}\n",
       "/* transcription text */\n",
       ".txtt,.txtt a:visited,.txtt a:link {\n",
       "    font-family: monospace;\n",
       "    font-size: medium;\n",
       "    direction: ltr;\n",
       "    unicode-bidi: embed;\n",
       "    text-decoration: none;\n",
       "    color: var(--text-color);\n",
       "}\n",
       "/* source text */\n",
       ".txto,.txto a:visited,.txto a:link {\n",
       "    font-family: serif;\n",
       "    font-size: medium;\n",
       "    direction: ltr;\n",
       "    unicode-bidi: embed;\n",
       "    text-decoration: none;\n",
       "    color: var(--text-color);\n",
       "}\n",
       "/* phonetic text */\n",
       ".txtp,.txtp a:visited,.txtp a:link {\n",
       "    font-family: Gentium, sans-serif;\n",
       "    font-size: medium;\n",
       "    direction: ltr;\n",
       "    unicode-bidi: embed;\n",
       "    text-decoration: none;\n",
       "    color: var(--text-color);\n",
       "}\n",
       "/* original script text */\n",
       ".txtu,.txtu a:visited,.txtu a:link {\n",
       "    font-family: Gentium, sans-serif;\n",
       "    font-size: medium;\n",
       "    text-decoration: none;\n",
       "    color: var(--text-color);\n",
       "}\n",
       "/* hebrew */\n",
       ".txtu.hbo,.lex.hbo {\n",
       "    font-family: \"Ezra SIL\", \"SBL Hebrew\", sans-serif;\n",
       "    font-size: large;\n",
       "    direction: rtl ! important;\n",
       "    unicode-bidi: embed;\n",
       "}\n",
       "/* syriac */\n",
       ".txtu.syc,.lex.syc {\n",
       "    font-family: \"Estrangelo Edessa\", sans-serif;\n",
       "    font-size: medium;\n",
       "    direction: rtl ! important;\n",
       "    unicode-bidi: embed;\n",
       "}\n",
       "/* neo aramaic */\n",
       ".txtu.cld,.lex.cld {\n",
       "    font-family: \"CharisSIL-R\", sans-serif;\n",
       "    font-size: medium;\n",
       "    direction: ltr ! important;\n",
       "    unicode-bidi: embed;\n",
       "}\n",
       "/* standard arabic */\n",
       ".txtu.ara,.lex.ara {\n",
       "    font-family: \"AmiriQuran\", sans-serif;\n",
       "    font-size: large;\n",
       "    direction: rtl ! important;\n",
       "    unicode-bidi: embed;\n",
       "}\n",
       "/* cuneiform */\n",
       ".txtu.akk,.lex.akk {\n",
       "    font-family: Santakku, sans-serif;\n",
       "    font-size: large;\n",
       "    direction: ltr ! important;\n",
       "    unicode-bidi: embed;\n",
       "}\n",
       ".txtu.uga,.lex.uga {\n",
       "    font-family: sans-serif;\n",
       "    /*font-family: Noto Sans Ugaritic, sans-serif;*/\n",
       "    font-size: large;\n",
       "    direction: ltr ! important;\n",
       "    unicode-bidi: embed;\n",
       "}\n",
       "/* greek */\n",
       ".txtu.grc,.lex.grc a:link {\n",
       "    font-family: Gentium, sans-serif;\n",
       "    font-size: medium;\n",
       "    direction: ltr ! important;\n",
       "    unicode-bidi: embed;\n",
       "}\n",
       "a:hover {\n",
       "    text-decoration: underline | important;\n",
       "    color: #0000ff | important;\n",
       "}\n",
       ".ltr {\n",
       "    direction: ltr ! important;\n",
       "    unicode-bidi: embed;\n",
       "}\n",
       ".rtl {\n",
       "    direction: rtl ! important;\n",
       "    unicode-bidi: embed;\n",
       "}\n",
       ".ubd {\n",
       "    unicode-bidi: embed;\n",
       "}\n",
       ".col {\n",
       "   display: inline-block;\n",
       "}\n",
       ".features {\n",
       "    font-family: monospace;\n",
       "    font-size: medium;\n",
       "    font-weight: bold;\n",
       "    color: var(--features);\n",
       "    display: flex;\n",
       "    flex-flow: column nowrap;\n",
       "    justify-content: flex-start;\n",
       "    align-items: flex-start;\n",
       "    align-content: flex-start;\n",
       "    padding: 2px;\n",
       "    margin: 2px;\n",
       "    direction: ltr;\n",
       "    unicode-bidi: embed;\n",
       "    border: var(--meta-width) solid var(--meta-color);\n",
       "    border-radius: var(--meta-width);\n",
       "}\n",
       ".features div,.features span {\n",
       "    padding: 0;\n",
       "    margin: -2px 0;\n",
       "}\n",
       ".features .f {\n",
       "    font-family: sans-serif;\n",
       "    font-size: small;\n",
       "    font-weight: normal;\n",
       "    color: #5555bb;\n",
       "}\n",
       ".features .xft {\n",
       "  color: #000000;\n",
       "  background-color: #eeeeee;\n",
       "  font-size: medium;\n",
       "  margin: 2px 0px;\n",
       "}\n",
       ".features .xft .f {\n",
       "  color: #000000;\n",
       "  background-color: #eeeeee;\n",
       "  font-size: small;\n",
       "  font-weight: normal;\n",
       "}\n",
       ".tfsechead {\n",
       "    font-family: sans-serif;\n",
       "    font-size: small;\n",
       "    font-weight: bold;\n",
       "    color: var(--tfsechead);\n",
       "    unicode-bidi: embed;\n",
       "    text-align: start;\n",
       "}\n",
       ".structure {\n",
       "    font-family: sans-serif;\n",
       "    font-size: small;\n",
       "    font-weight: bold;\n",
       "    color: var(--structure);\n",
       "    unicode-bidi: embed;\n",
       "    text-align: start;\n",
       "}\n",
       ".comments {\n",
       "    display: flex;\n",
       "    justify-content: flex-start;\n",
       "    align-items: flex-start;\n",
       "    align-content: flex-start;\n",
       "    flex-flow: column nowrap;\n",
       "}\n",
       ".nd, a:link.nd {\n",
       "    font-family: sans-serif;\n",
       "    font-size: small;\n",
       "    color: var(--node);\n",
       "    vertical-align: super;\n",
       "    direction: ltr ! important;\n",
       "    unicode-bidi: embed;\n",
       "}\n",
       ".nde, a:link.nde {\n",
       "    font-family: sans-serif;\n",
       "    font-size: small;\n",
       "    color: var(--node);\n",
       "    direction: ltr ! important;\n",
       "    unicode-bidi: embed;\n",
       "}\n",
       ".etf {\n",
       "    font-size: normal;\n",
       "    border-radius: 0.2rem;\n",
       "    border: 1pt solid white;\n",
       "    padding: 0 0.2rem ! important;\n",
       "    margin: 0 0.2rem ! important;\n",
       "}\n",
       ".etfx {\n",
       "    font-size: x-large;\n",
       "}\n",
       ".lex {\n",
       "  color: var(--lex-color);;\n",
       "}\n",
       "#colormapplus, #colormapmin, .ecolormapmin {\n",
       "  font-weight: bold;\n",
       "  border-radius: 0.1rem;\n",
       "  background-color: #eeeeff;\n",
       "  padding: 0 1rem;\n",
       "  margin: 0 1rem;\n",
       "}\n",
       ".clr {\n",
       "  font-style: italic;\n",
       "  font-size: small;\n",
       "}\n",
       ".clmap,.eclmap {\n",
       "  padding: 0;\n",
       "}\n",
       ".children,.children.ltr {\n",
       "    display: flex;\n",
       "    border: 0;\n",
       "    background-color: #ffffff;\n",
       "    justify-content: flex-start;\n",
       "    align-items: flex-start;\n",
       "    align-content: flex-start;\n",
       "}\n",
       ".children.stretch {\n",
       "    align-items: stretch;\n",
       "}\n",
       ".children.hor {\n",
       "    flex-flow: row nowrap;\n",
       "}\n",
       ".children.hor.wrap {\n",
       "    flex-flow: row wrap;\n",
       "}\n",
       ".children.ver {\n",
       "    flex-flow: column nowrap;\n",
       "}\n",
       ".children.ver.wrap {\n",
       "    flex-flow: column wrap;\n",
       "}\n",
       ".contnr {\n",
       "    width: fit-content;\n",
       "    display: flex;\n",
       "    justify-content: flex-start;\n",
       "    align-items: flex-start;\n",
       "    align-content: flex-start;\n",
       "    flex-flow: column nowrap;\n",
       "    background: #ffffff none repeat scroll 0 0;\n",
       "    padding:  10px 2px 2px 2px;\n",
       "    margin: 16px 2px 2px 2px;\n",
       "    border-style: solid;\n",
       "    font-size: small;\n",
       "}\n",
       ".contnr.trm {\n",
       "    background-attachment: local;\n",
       "}\n",
       ".contnr.cnul {\n",
       "    padding:  0;\n",
       "    margin: 0;\n",
       "    border-style: solid;\n",
       "    font-size: xx-small;\n",
       "}\n",
       ".contnr.cnul,.lbl.cnul {\n",
       "    border-color: var(--border-color-nul);\n",
       "    border-width: var(--border-width-nul);\n",
       "    border-radius: var(--border-width-nul);\n",
       "}\n",
       ".contnr.c0,.lbl.c0 {\n",
       "    border-color: var(--border-color0);\n",
       "    border-width: var(--border-width0);\n",
       "    border-radius: var(--border-width0);\n",
       "}\n",
       ".contnr.c1,.lbl.c1 {\n",
       "    border-color: var(--border-color1);\n",
       "    border-width: var(--border-width1);\n",
       "    border-radius: var(--border-width1);\n",
       "}\n",
       ".contnr.c2,.lbl.c2 {\n",
       "    border-color: var(--border-color2);\n",
       "    border-width: var(--border-width2);\n",
       "    border-radius: var(--border-width2);\n",
       "}\n",
       ".contnr.c3,.lbl.c3 {\n",
       "    border-color: var(--border-color3);\n",
       "    border-width: var(--border-width3);\n",
       "    border-radius: var(--border-width3);\n",
       "}\n",
       ".contnr.c4,.lbl.c4 {\n",
       "    border-color: var(--border-color4);\n",
       "    border-width: var(--border-width4);\n",
       "    border-radius: var(--border-width4);\n",
       "}\n",
       "span.plain {\n",
       "    /*display: inline-block;*/\n",
       "    display: inline-flex;\n",
       "    flex-flow: row wrap;\n",
       "    white-space: pre-wrap;\n",
       "}\n",
       "span.break {\n",
       "  flex-basis: 100%;\n",
       "  height: 0;\n",
       "}\n",
       ".plain {\n",
       "    background-color: #ffffff;\n",
       "}\n",
       ".plain.l,.contnr.l,.contnr.l>.lbl {\n",
       "    border-left-style: dotted\n",
       "}\n",
       ".plain.r,.contnr.r,.contnr.r>.lbl {\n",
       "    border-right-style: dotted\n",
       "}\n",
       ".plain.lno,.contnr.lno,.contnr.lno>.lbl {\n",
       "    border-left-style: none\n",
       "}\n",
       ".plain.rno,.contnr.rno,.contnr.rno>.lbl {\n",
       "    border-right-style: none\n",
       "}\n",
       ".plain.l {\n",
       "    padding-left: 4px;\n",
       "    margin-left: 2px;\n",
       "    border-width: var(--border-width-plain);\n",
       "}\n",
       ".plain.r {\n",
       "    padding-right: 4px;\n",
       "    margin-right: 2px;\n",
       "    border-width: var(--border-width-plain);\n",
       "}\n",
       ".lbl {\n",
       "    font-family: monospace;\n",
       "    margin-top: -24px;\n",
       "    margin-left: 20px;\n",
       "    background: #ffffff none repeat scroll 0 0;\n",
       "    padding: 0 6px;\n",
       "    border-style: solid;\n",
       "    display: block;\n",
       "    color: var(--label)\n",
       "}\n",
       ".lbl.trm {\n",
       "    background-attachment: local;\n",
       "    margin-top: 2px;\n",
       "    margin-left: 2px;\n",
       "    padding: 2px 2px;\n",
       "    border-style: none;\n",
       "}\n",
       ".lbl.cnul {\n",
       "    font-size: xx-small;\n",
       "}\n",
       ".lbl.c0 {\n",
       "    font-size: small;\n",
       "}\n",
       ".lbl.c1 {\n",
       "    font-size: small;\n",
       "}\n",
       ".lbl.c2 {\n",
       "    font-size: medium;\n",
       "}\n",
       ".lbl.c3 {\n",
       "    font-size: medium;\n",
       "}\n",
       ".lbl.c4 {\n",
       "    font-size: large;\n",
       "}\n",
       ".occs, a:link.occs {\n",
       "    font-size: small;\n",
       "}\n",
       "\n",
       "/* PROVENANCE */\n",
       "\n",
       "div.prov {\n",
       "\tmargin: 40px;\n",
       "\tpadding: 20px;\n",
       "\tborder: 2px solid var(--fog-rim);\n",
       "}\n",
       "div.pline {\n",
       "\tdisplay: flex;\n",
       "\tflex-flow: row nowrap;\n",
       "\tjustify-content: stretch;\n",
       "\talign-items: baseline;\n",
       "}\n",
       "div.p2line {\n",
       "\tmargin-left: 2em;\n",
       "\tdisplay: flex;\n",
       "\tflex-flow: row nowrap;\n",
       "\tjustify-content: stretch;\n",
       "\talign-items: baseline;\n",
       "}\n",
       "div.psline {\n",
       "\tdisplay: flex;\n",
       "\tflex-flow: row nowrap;\n",
       "\tjustify-content: stretch;\n",
       "\talign-items: baseline;\n",
       "\tbackground-color: var(--gold-mist-back);\n",
       "}\n",
       "div.pname {\n",
       "\tflex: 0 0 5rem;\n",
       "\tfont-weight: bold;\n",
       "}\n",
       "div.pval {\n",
       "    flex: 1 1 auto;\n",
       "}\n",
       "\n",
       "/* KEYBOARD */\n",
       ".ccoff {\n",
       "  background-color: inherit;\n",
       "}\n",
       ".ccon {\n",
       "  background-color: yellow ! important;\n",
       "}\n",
       ".ccon,.ccoff {\n",
       "  padding: 0.2rem;\n",
       "  margin: 0.2rem;\n",
       "  border: 0.1rem solid var(--letter-box-border);\n",
       "  border-radius: 0.1rem;\n",
       "}\n",
       ".ccline {\n",
       "  font-size: xx-large ! important;\n",
       "  font-weight: bold;\n",
       "  line-height: 2em ! important;\n",
       "}\n",
       "/* TF header */\n",
       "\n",
       "summary {\n",
       "  /* needed to override the normalize.less\n",
       "   * in the classical Jupyter Notebook\n",
       "   */\n",
       "  display: list-item ! important;\n",
       "}\n",
       "\n",
       ".fcorpus {\n",
       "  display: flex;\n",
       "  flex-flow: column nowrap;\n",
       "  justify-content: flex-start;\n",
       "  align-items: flex-start;\n",
       "  align-content: flex-start;\n",
       "  overflow: auto;\n",
       "}\n",
       ".frow {\n",
       "  display: flex;\n",
       "  flex-flow: row nowrap;\n",
       "  justify-content: flex-start;\n",
       "  align-items: flex-start;\n",
       "  align-content: flex-start;\n",
       "}\n",
       ".fmeta {\n",
       "  display: flex;\n",
       "  flex-flow: column nowrap;\n",
       "  justify-content: flex-start;\n",
       "  align-items: flex-start;\n",
       "  align-content: flex-start;\n",
       "}\n",
       ".fmetarow {\n",
       "  display: flex;\n",
       "  flex-flow: row nowrap;\n",
       "  justify-content: flex-start;\n",
       "  align-items: flex-start;\n",
       "  align-content: flex-start;\n",
       "}\n",
       ".fmetakey {\n",
       "  min-width: 8em;\n",
       "  font-family: monospace;\n",
       "}\n",
       ".fnamecat {\n",
       "  min-width: 8em;\n",
       "}\n",
       ".fnamecat.edge {\n",
       "  font-weight: bold;\n",
       "  font-style: italic;\n",
       "}\n",
       ".fmono {\n",
       "    font-family: monospace;\n",
       "}\n",
       "\n",
       ":root {\n",
       "\t--node:               hsla(120, 100%,  20%, 1.0  );\n",
       "\t--label:              hsla(  0, 100%,  20%, 1.0  );\n",
       "\t--tfsechead:          hsla(  0, 100%,  25%, 1.0  );\n",
       "\t--structure:          hsla(120, 100%,  25%, 1.0  );\n",
       "\t--features:           hsla(  0,   0%,  30%, 1.0  );\n",
       "  --text-color:         hsla( 60,  80%,  10%, 1.0  );\n",
       "  --lex-color:          hsla(220,  90%,  60%, 1.0  );\n",
       "  --meta-color:         hsla(  0,   0%,  90%, 0.7  );\n",
       "  --meta-width:         3px;\n",
       "  --border-color-nul:   hsla(  0,   0%,  90%, 0.5  );\n",
       "  --border-color0:      hsla(  0,   0%,  90%, 0.9  );\n",
       "  --border-color1:      hsla(  0,   0%,  80%, 0.9  );\n",
       "  --border-color2:      hsla(  0,   0%,  70%, 0.9  );\n",
       "  --border-color3:      hsla(  0,   0%,  80%, 0.8  );\n",
       "  --border-color4:      hsla(  0,   0%,  60%, 0.9  );\n",
       "\t--letter-box-border:  hsla(  0,   0%,  80%, 0.5  );\n",
       "  --border-width-nul:   2px;\n",
       "  --border-width0:      2px;\n",
       "  --border-width1:      3px;\n",
       "  --border-width2:      4px;\n",
       "  --border-width3:      6px;\n",
       "  --border-width4:      5px;\n",
       "  --border-width-plain: 2px;\n",
       "}\n",
       ".hl {\n",
       "  background-color: var(--hl-strong);\n",
       "}\n",
       "span.hl {\n",
       "\tbackground-color: var(--hl-strong);\n",
       "\tborder-width: 0;\n",
       "\tborder-radius: 2px;\n",
       "\tborder-style: solid;\n",
       "}\n",
       "div.contnr.hl,div.lbl.hl {\n",
       "  background-color: var(--hl-strong);\n",
       "}\n",
       "div.contnr.hl {\n",
       "  border-color: var(--hl-rim) ! important;\n",
       "\tborder-width: 4px ! important;\n",
       "}\n",
       "\n",
       "span.hlbx {\n",
       "\tborder-color: var(--hl-rim);\n",
       "\tborder-width: 4px ! important;\n",
       "\tborder-style: solid;\n",
       "\tborder-radius: 6px;\n",
       "  padding: 4px;\n",
       "  margin: 4px;\n",
       "}\n",
       ".ehl {\n",
       "  background-color: var(--ehl-strong);\n",
       "}\n",
       "\n",
       ":root {\n",
       "\t--hl-strong:        hsla( 60, 100%,  70%, 0.9  );\n",
       "\t--hl-rim:           hsla( 55,  80%,  50%, 1.0  );\n",
       "\t--ehl-strong:       hsla(240, 100%,  70%, 0.9  );\n",
       "}\n",
       "</style>"
      ],
      "text/plain": [
       "<IPython.core.display.HTML object>"
      ]
     },
     "metadata": {},
     "output_type": "display_data"
    },
    {
     "data": {
      "text/html": [
       "\n",
       "<script>\n",
       "globalThis.copyChar = (el, c) => {\n",
       "    for (const el of document.getElementsByClassName('ccon')) {\n",
       "        el.className = 'ccoff'\n",
       "    }\n",
       "    el.className = 'ccon'\n",
       "    navigator.clipboard.writeText(String.fromCharCode(c))\n",
       "}\n",
       "</script>\n"
      ],
      "text/plain": [
       "<IPython.core.display.HTML object>"
      ]
     },
     "metadata": {},
     "output_type": "display_data"
    },
    {
     "data": {
      "text/html": [
       "<div><b>TF API:</b> names <a target=\"_blank\" href=\"https://annotation.github.io/text-fabric/tf/cheatsheet.html\" title=\"doc\">N F E L T S C TF Fs Fall Es Eall Cs Call</a> directly usable</div><hr>"
      ],
      "text/plain": [
       "<IPython.core.display.HTML object>"
      ]
     },
     "metadata": {},
     "output_type": "display_data"
    },
    {
     "data": {
      "text/markdown": [
       "method `run_queries` made available"
      ],
      "text/plain": [
       "<IPython.core.display.Markdown object>"
      ]
     },
     "metadata": {},
     "output_type": "display_data"
    }
   ],
   "source": [
    "# load the N1904 app and data\n",
    "MPTF = use (\"tonyjurg/MPTF\", hoist=globals())"
   ]
  },
  {
   "cell_type": "code",
   "execution_count": 3,
   "id": "cf67eaab-2240-48cb-ad57-d4c6ab5d51e4",
   "metadata": {},
   "outputs": [
    {
     "name": "stdout",
     "output_type": "stream",
     "text": [
      "  0.01s 4 results\n"
     ]
    }
   ],
   "source": [
    "testQuery = \"\"\"\n",
    "sentence_N1904\n",
    "  sub_N1904\n",
    "     word text=ανθρωπος\n",
    "\"\"\"\n",
    "# Execute the query\n",
    "testResults = MPTF.search(testQuery)"
   ]
  },
  {
   "cell_type": "code",
   "execution_count": 4,
   "id": "f976c90a-876b-403a-b7d0-c82135ba769a",
   "metadata": {},
   "outputs": [
    {
     "data": {
      "text/plain": [
       "[(16498, 22223, 973),\n",
       " (16703, 22597, 5667),\n",
       " (16769, 22738, 7006),\n",
       " (16859, 22926, 8983)]"
      ]
     },
     "execution_count": 4,
     "metadata": {},
     "output_type": "execute_result"
    }
   ],
   "source": [
    "testResults"
   ]
  },
  {
   "cell_type": "code",
   "execution_count": 5,
   "id": "2b50d5e9-4c71-446e-ba24-dd22cdb678ba",
   "metadata": {},
   "outputs": [
    {
     "data": {
      "text/plain": [
       "'\\nsentence_N1904\\n  sub_N1904\\n     word text=ανθρωπος\\n'"
      ]
     },
     "execution_count": 5,
     "metadata": {},
     "output_type": "execute_result"
    }
   ],
   "source": [
    "testQuery"
   ]
  },
  {
   "cell_type": "code",
   "execution_count": 6,
   "id": "589b1888-7c0c-466b-a605-f92e89017794",
   "metadata": {},
   "outputs": [
    {
     "name": "stdout",
     "output_type": "stream",
     "text": [
      "  0.01s 4 results\n",
      " on N1904  0.01s 11 results\n",
      " on KJTR  0.03s 9 results\n",
      " on SBL  0.01s 16 results\n",
      " on SR  0.01s 11 results\n",
      " on TCGNT  0.01s 16 results\n",
      " on TISCH"
     ]
    }
   ],
   "source": [
    "testQuery2 = \"\"\"\n",
    "sentence\n",
    "  sub\n",
    "    word text=ανθρωπος\n",
    "\"\"\"\n",
    "# Execute the query\n",
    "testResults2 = MPTF.run_queries(testQuery2)"
   ]
  },
  {
   "cell_type": "code",
   "execution_count": 7,
   "id": "078d9c8f-d429-4a4b-8d13-e8871429bc27",
   "metadata": {},
   "outputs": [],
   "source": [
    "# Set default view in a way to limit noise as much as possible.\n",
    "MPTF.displaySetup(condensed=True, multiFeatures=False, queryFeatures=False)"
   ]
  },
  {
   "cell_type": "code",
   "execution_count": 8,
   "id": "d5f20849-fe20-4a82-a8b2-70f2eefea285",
   "metadata": {},
   "outputs": [
    {
     "data": {
      "text/html": [
       "<p><b>verse</b> <i>1</i>"
      ],
      "text/plain": [
       "<IPython.core.display.HTML object>"
      ]
     },
     "metadata": {},
     "output_type": "display_data"
    },
    {
     "data": {
      "text/html": [
       "<div class=\"tfsechead \"><span class=\"ltr\"><a target=\"_blank\" href=\"https://bibleol.3bmoodle.dk/text/show_text/nestle1904/John/2/9\" sec=\"John 2:9\">John 2:9</a></span></div><div class=\" children pr-mode\"><div class=\"contnr c3    \" ><div class=\"lbl c3  \" ><span class=\"nd\">verse </span> <span class=\"\"><span title=\"book\">John</span> <span title=\"chapter\">2</span>:<span title=\"verse\">9</span></span></div><div class=\"children hor wrap \"><div class=\"contnr c1   lno \" ><div class=\"lbl c1  \" ><span class=\"nd\">sub_N1904 </span></div><div class=\"children hor wrap \"><div class=\"contnr c1   lno \" ><div class=\"lbl c1  \" ><span class=\"nd\">sub_SBL </span></div><div class=\"children hor wrap \"><div class=\"contnr c1   lno rno \" ><div class=\"lbl c1  \" ><span class=\"nd\">sub_TISCH </span></div><div class=\"children hor wrap \"><div class=\"contnr c1   lno \" ><div class=\"lbl c1  \" ><span class=\"nd\">sub_KJTR </span></div><div class=\"children hor wrap \"><div class=\"contnr c1   lno rno \" ><div class=\"lbl c1  \" ><span class=\"nd\">sub_TCGNT </span></div><div class=\"children hor wrap \"><div class=\"contnr c1   lno rno \" ><div class=\"lbl c1  \" ><span class=\"nd\">sub_SR </span></div><div class=\"children hor wrap \"><div class=\"contnr c0 trm   \" ><div class=\"lbl c0 trm \" ><span class=\"txtu\">ως</span></div></div><div class=\"contnr c0 trm   \" ><div class=\"lbl c0 trm \" ><span class=\"txtu\">δε</span></div></div><div class=\"contnr c0 trm   \" ><div class=\"lbl c0 trm \" ><span class=\"txtu\">εγευσατο</span></div></div><div class=\"contnr c0 trm   \" ><div class=\"lbl c0 trm \" ><span class=\"txtu\">ο</span></div></div><div class=\"contnr c0 trm   \" ><div class=\"lbl c0 trm \" ><span class=\"txtu\">αρχιτρικλινος</span></div></div><div class=\"contnr c0 trm   \" ><div class=\"lbl c0 trm \" ><span class=\"txtu\">το</span></div></div><div class=\"contnr c0 trm   \" ><div class=\"lbl c0 trm \" ><span class=\"txtu\">υδωρ</span></div></div></div></div></div></div></div></div></div></div></div></div><div class=\"contnr c1   rno \" ><div class=\"lbl c1  \" ><span class=\"nd\">sub_SBL </span></div><div class=\"children hor wrap \"><div class=\"contnr c1   lno \" ><div class=\"lbl c1  \" ><span class=\"nd\">sub_TISCH </span></div><div class=\"children hor wrap \"><div class=\"contnr c1    \" ><div class=\"lbl c1  \" ><span class=\"nd\">sub_KJTR </span></div><div class=\"children hor wrap \"><div class=\"contnr c1   lno rno \" ><div class=\"lbl c1  \" ><span class=\"nd\">sub_TCGNT </span></div><div class=\"children hor wrap \"><div class=\"contnr c1   lno \" ><div class=\"lbl c1  \" ><span class=\"nd\">sub_SR </span></div><div class=\"children hor wrap \"><div class=\"contnr c0 trm   \" ><div class=\"lbl c0 trm \" ><span class=\"txtu\">οινον</span></div></div></div></div><div class=\"contnr c1   rno \" ><div class=\"lbl c1  \" ><span class=\"nd\">sub_SR </span></div><div class=\"children hor wrap \"><div class=\"contnr c0 trm   \" ><div class=\"lbl c0 trm \" ><span class=\"txtu\">γεγενημενον,</span></div></div></div></div></div></div></div></div></div></div></div></div></div></div><div class=\"contnr c1    \" ><div class=\"lbl c1  \" ><span class=\"nd\">sub_N1904 </span></div><div class=\"children hor wrap \"><div class=\"contnr c1   lno \" ><div class=\"lbl c1  \" ><span class=\"nd\">sub_SBL </span></div><div class=\"children hor wrap \"><div class=\"contnr c1   rno \" ><div class=\"lbl c1  \" ><span class=\"nd\">sub_TISCH </span></div><div class=\"children hor wrap \"><div class=\"contnr c1   rno \" ><div class=\"lbl c1  \" ><span class=\"nd\">sub_KJTR </span></div><div class=\"children hor wrap \"><div class=\"contnr c1   lno rno \" ><div class=\"lbl c1  \" ><span class=\"nd\">sub_TCGNT </span></div><div class=\"children hor wrap \"><div class=\"contnr c1   lno rno \" ><div class=\"lbl c1  \" ><span class=\"nd\">sub_SR </span></div><div class=\"children hor wrap \"><div class=\"contnr c0 trm   \" ><div class=\"lbl c0 trm \" ><span class=\"txtu\">και</span></div></div><div class=\"contnr c0 trm   \" ><div class=\"lbl c0 trm \" ><span class=\"txtu\">ουκ</span></div></div><div class=\"contnr c0 trm   \" ><div class=\"lbl c0 trm \" ><span class=\"txtu\">ηδει</span></div></div></div></div></div></div></div></div></div></div></div></div><div class=\"contnr c1   rno \" ><div class=\"lbl c1  \" ><span class=\"nd\">sub_SBL </span></div><div class=\"children hor wrap \"><div class=\"contnr c1   lno \" ><div class=\"lbl c1  \" ><span class=\"nd\">sub_TISCH </span></div><div class=\"children hor wrap \"><div class=\"contnr c1   lno rno \" ><div class=\"lbl c1  \" ><span class=\"nd\">sub_KJTR </span></div><div class=\"children hor wrap \"><div class=\"contnr c1   lno \" ><div class=\"lbl c1  \" ><span class=\"nd\">sub_TCGNT </span></div><div class=\"children hor wrap \"><div class=\"contnr c1   lno \" ><div class=\"lbl c1  \" ><span class=\"nd\">sub_SR </span></div><div class=\"children hor wrap \"><div class=\"contnr c0 trm   \" ><div class=\"lbl c0 trm \" ><span class=\"txtu\">ποθεν</span></div></div></div></div></div></div><div class=\"contnr c1   rno \" ><div class=\"lbl c1  \" ><span class=\"nd\">sub_TCGNT </span></div><div class=\"children hor wrap \"><div class=\"contnr c1   rno \" ><div class=\"lbl c1  \" ><span class=\"nd\">sub_SR </span></div><div class=\"children hor wrap \"><div class=\"contnr c0 trm   \" ><div class=\"lbl c0 trm \" ><span class=\"txtu\">εστιν,</span></div></div></div></div></div></div></div></div></div></div></div></div></div></div><div class=\"contnr c1    \" ><div class=\"lbl c1  \" ><span class=\"nd\">sub_N1904 </span></div><div class=\"children hor wrap \"><div class=\"contnr c1   lno \" ><div class=\"lbl c1  \" ><span class=\"nd\">sub_SBL </span></div><div class=\"children hor wrap \"><div class=\"contnr c1   rno \" ><div class=\"lbl c1  \" ><span class=\"nd\">sub_TISCH </span></div><div class=\"children hor wrap \"><div class=\"contnr c1   lno rno \" ><div class=\"lbl c1  \" ><span class=\"nd\">sub_KJTR </span></div><div class=\"children hor wrap \"><div class=\"contnr c1   lno rno \" ><div class=\"lbl c1  \" ><span class=\"nd\">sub_TCGNT </span></div><div class=\"children hor wrap \"><div class=\"contnr c1   lno rno \" ><div class=\"lbl c1  \" ><span class=\"nd\">sub_SR </span></div><div class=\"children hor wrap \"><div class=\"contnr c0 trm   \" ><div class=\"lbl c0 trm \" ><span class=\"txtu\">οι</span></div></div><div class=\"contnr c0 trm   \" ><div class=\"lbl c0 trm \" ><span class=\"txtu\">δε</span></div></div><div class=\"contnr c0 trm   \" ><div class=\"lbl c0 trm \" ><span class=\"txtu\">διακονοι</span></div></div><div class=\"contnr c0 trm   \" ><div class=\"lbl c0 trm \" ><span class=\"txtu\">ηδεισαν</span></div></div><div class=\"contnr c0 trm   \" ><div class=\"lbl c0 trm \" ><span class=\"txtu\">οι</span></div></div><div class=\"contnr c0 trm   \" ><div class=\"lbl c0 trm \" ><span class=\"txtu\">ηντληκοτες</span></div></div></div></div></div></div></div></div></div></div></div></div><div class=\"contnr c1   rno \" ><div class=\"lbl c1  \" ><span class=\"nd\">sub_SBL </span></div><div class=\"children hor wrap \"><div class=\"contnr c1   lno \" ><div class=\"lbl c1  \" ><span class=\"nd\">sub_TISCH </span></div><div class=\"children hor wrap \"><div class=\"contnr c1   lno rno \" ><div class=\"lbl c1  \" ><span class=\"nd\">sub_KJTR </span></div><div class=\"children hor wrap \"><div class=\"contnr c1   lno rno \" ><div class=\"lbl c1  \" ><span class=\"nd\">sub_TCGNT </span></div><div class=\"children hor wrap \"><div class=\"contnr c1   lno \" ><div class=\"lbl c1  \" ><span class=\"nd\">sub_SR </span></div><div class=\"children hor wrap \"><div class=\"contnr c0 trm   \" ><div class=\"lbl c0 trm \" ><span class=\"txtu\">το</span></div></div></div></div><div class=\"contnr c1   rno \" ><div class=\"lbl c1  \" ><span class=\"nd\">sub_SR </span></div><div class=\"children hor wrap \"><div class=\"contnr c0 trm   \" ><div class=\"lbl c0 trm \" ><span class=\"txtu\">υδωρ,</span></div></div></div></div></div></div></div></div></div></div></div></div></div></div><div class=\"contnr c1   rno hl\" ><div class=\"lbl c1  hl\" ><span class=\"nd\">sub_N1904 </span></div><div class=\"children hor wrap \"><div class=\"contnr c1   lno rno \" ><div class=\"lbl c1  \" ><span class=\"nd\">sub_SBL </span></div><div class=\"children hor wrap \"><div class=\"contnr c1   rno \" ><div class=\"lbl c1  \" ><span class=\"nd\">sub_TISCH </span></div><div class=\"children hor wrap \"><div class=\"contnr c1   lno \" ><div class=\"lbl c1  \" ><span class=\"nd\">sub_KJTR </span></div><div class=\"children hor wrap \"><div class=\"contnr c1   lno rno \" ><div class=\"lbl c1  \" ><span class=\"nd\">sub_TCGNT </span></div><div class=\"children hor wrap \"><div class=\"contnr c1   lno rno \" ><div class=\"lbl c1  \" ><span class=\"nd\">sub_SR </span></div><div class=\"children hor wrap \"><div class=\"contnr c0 trm   \" ><div class=\"lbl c0 trm \" ><span class=\"txtu\">φωνει</span></div></div><div class=\"contnr c0 trm   \" ><div class=\"lbl c0 trm \" ><span class=\"txtu\">τον</span></div></div></div></div></div></div></div></div><div class=\"contnr c1   rno hl\" ><div class=\"lbl c1  hl\" ><span class=\"nd\">sub_KJTR </span></div><div class=\"children hor wrap \"><div class=\"contnr c1   lno rno \" ><div class=\"lbl c1  \" ><span class=\"nd\">sub_TCGNT </span></div><div class=\"children hor wrap \"><div class=\"contnr c1   lno rno \" ><div class=\"lbl c1  \" ><span class=\"nd\">sub_SR </span></div><div class=\"children hor wrap \"><div class=\"contnr c0 trm   \" ><div class=\"lbl c0 trm \" ><span class=\"txtu\">νυμφιον</span></div></div><div class=\"contnr c0 trm   \" ><div class=\"lbl c0 trm \" ><span class=\"txtu\">ο</span></div></div><div class=\"contnr c0 trm   \" ><div class=\"lbl c0 trm \" ><span class=\"txtu\">αρχιτρικλινος</span></div></div></div></div></div></div></div></div></div></div></div></div></div></div></div></div></div>"
      ],
      "text/plain": [
       "<IPython.core.display.HTML object>"
      ]
     },
     "metadata": {},
     "output_type": "display_data"
    }
   ],
   "source": [
    "MPTF.show(testResults2,end=1)\n"
   ]
  },
  {
   "cell_type": "code",
   "execution_count": 9,
   "id": "05b8abc5-56eb-4026-8083-687eff6d9e86",
   "metadata": {},
   "outputs": [
    {
     "data": {
      "text/html": [
       "<table><tr class=\"tf ltr\"><th class=\"tf ltr\">n</th><th class=\"tf ltr\">p</th><th class=\"tf ltr\">sentence_N1904</th><th class=\"tf ltr\">sub_N1904</th><th class=\"tf ltr\">word</th></tr><tr class=\"tf ltr\"><td class=\"tf ltr\"><span class=\"tfsechead ltr\"><span class=\"ltr\"><a target=\"_blank\" href=\"https://bibleol.3bmoodle.dk/text/show_text/nestle1904/John/2/10\" sec=\"John 2:10\">John 2:10</a></span></span></td><td class=\"tf ltr\"><span class=\" ubd pl-mode\"></span></td><td class=\"tf ltr\"><span class=\" ubd pl-mode\"><span class=\"plain   hlbx\" ><span class=\"txtu\">φωνει</span><span class=\"txtu\">τον</span><span class=\"txtu\">νυμφιον</span><span class=\"txtu\">ο</span><span class=\"txtu\">αρχιτρικλινος</span><span class=\"txtu\">και</span><span class=\"txtu\">λεγει</span><span class=\"txtu\">αυτω</span><span class=\"txtu\">πας</span><span class=\"plain   hl\" ><span class=\"txtu\">ανθρωπος</span></span><span class=\"txtu\">πρωτον</span><span class=\"txtu\">τον</span><span class=\"txtu\">καλον</span><span class=\"txtu\">οινον</span><span class=\"txtu\">τιθησιν,</span></span></span></td><td class=\"tf ltr\"><span class=\" ubd pl-mode\"><span class=\"plain   hl\" ><span class=\"txtu\">ανθρωπος</span></span></span></td></tr></table>"
      ],
      "text/plain": [
       "<IPython.core.display.HTML object>"
      ]
     },
     "metadata": {},
     "output_type": "display_data"
    }
   ],
   "source": [
    "MPTF.plainTuple(testResults[0])"
   ]
  },
  {
   "cell_type": "code",
   "execution_count": 10,
   "id": "9c7651de-e2e6-42c8-86c7-b261b49a7cca",
   "metadata": {
    "scrolled": true
   },
   "outputs": [
    {
     "data": {
      "text/html": [
       "<p><b>verse</b> <i>1</i>"
      ],
      "text/plain": [
       "<IPython.core.display.HTML object>"
      ]
     },
     "metadata": {},
     "output_type": "display_data"
    },
    {
     "data": {
      "text/html": [
       "<div class=\"tfsechead \"><span class=\"ltr\"><a target=\"_blank\" href=\"https://bibleol.3bmoodle.dk/text/show_text/nestle1904/John/2/9\" sec=\"John 2:9\">John 2:9</a></span></div><div class=\" children pr-mode\"><div class=\"contnr c3    \" ><div class=\"lbl c3  \" ><span class=\"nd\">verse </span> <span class=\"\"><span title=\"book\">John</span> <span title=\"chapter\">2</span>:<span title=\"verse\">9</span></span></div><div class=\"children hor wrap \"><div class=\"contnr c1   lno \" ><div class=\"lbl c1  \" ><span class=\"nd\">sub_N1904 </span></div><div class=\"children hor wrap \"><div class=\"contnr c1   lno \" ><div class=\"lbl c1  \" ><span class=\"nd\">sub_SBL </span></div><div class=\"children hor wrap \"><div class=\"contnr c1   lno rno \" ><div class=\"lbl c1  \" ><span class=\"nd\">sub_TISCH </span></div><div class=\"children hor wrap \"><div class=\"contnr c1   lno \" ><div class=\"lbl c1  \" ><span class=\"nd\">sub_KJTR </span></div><div class=\"children hor wrap \"><div class=\"contnr c1   lno rno \" ><div class=\"lbl c1  \" ><span class=\"nd\">sub_TCGNT </span></div><div class=\"children hor wrap \"><div class=\"contnr c1   lno rno \" ><div class=\"lbl c1  \" ><span class=\"nd\">sub_SR </span></div><div class=\"children hor wrap \"><div class=\"contnr c0 trm   \" ><div class=\"lbl c0 trm \" ><span class=\"txtu\">ως</span></div></div><div class=\"contnr c0 trm   \" ><div class=\"lbl c0 trm \" ><span class=\"txtu\">δε</span></div></div><div class=\"contnr c0 trm   \" ><div class=\"lbl c0 trm \" ><span class=\"txtu\">εγευσατο</span></div></div><div class=\"contnr c0 trm   \" ><div class=\"lbl c0 trm \" ><span class=\"txtu\">ο</span></div></div><div class=\"contnr c0 trm   \" ><div class=\"lbl c0 trm \" ><span class=\"txtu\">αρχιτρικλινος</span></div></div><div class=\"contnr c0 trm   \" ><div class=\"lbl c0 trm \" ><span class=\"txtu\">το</span></div></div><div class=\"contnr c0 trm   \" ><div class=\"lbl c0 trm \" ><span class=\"txtu\">υδωρ</span></div></div></div></div></div></div></div></div></div></div></div></div><div class=\"contnr c1   rno \" ><div class=\"lbl c1  \" ><span class=\"nd\">sub_SBL </span></div><div class=\"children hor wrap \"><div class=\"contnr c1   lno \" ><div class=\"lbl c1  \" ><span class=\"nd\">sub_TISCH </span></div><div class=\"children hor wrap \"><div class=\"contnr c1    \" ><div class=\"lbl c1  \" ><span class=\"nd\">sub_KJTR </span></div><div class=\"children hor wrap \"><div class=\"contnr c1   lno rno \" ><div class=\"lbl c1  \" ><span class=\"nd\">sub_TCGNT </span></div><div class=\"children hor wrap \"><div class=\"contnr c1   lno \" ><div class=\"lbl c1  \" ><span class=\"nd\">sub_SR </span></div><div class=\"children hor wrap \"><div class=\"contnr c0 trm   \" ><div class=\"lbl c0 trm \" ><span class=\"txtu\">οινον</span></div></div></div></div><div class=\"contnr c1   rno \" ><div class=\"lbl c1  \" ><span class=\"nd\">sub_SR </span></div><div class=\"children hor wrap \"><div class=\"contnr c0 trm   \" ><div class=\"lbl c0 trm \" ><span class=\"txtu\">γεγενημενον,</span></div></div></div></div></div></div></div></div></div></div></div></div></div></div><div class=\"contnr c1    \" ><div class=\"lbl c1  \" ><span class=\"nd\">sub_N1904 </span></div><div class=\"children hor wrap \"><div class=\"contnr c1   lno \" ><div class=\"lbl c1  \" ><span class=\"nd\">sub_SBL </span></div><div class=\"children hor wrap \"><div class=\"contnr c1   rno \" ><div class=\"lbl c1  \" ><span class=\"nd\">sub_TISCH </span></div><div class=\"children hor wrap \"><div class=\"contnr c1   rno \" ><div class=\"lbl c1  \" ><span class=\"nd\">sub_KJTR </span></div><div class=\"children hor wrap \"><div class=\"contnr c1   lno rno \" ><div class=\"lbl c1  \" ><span class=\"nd\">sub_TCGNT </span></div><div class=\"children hor wrap \"><div class=\"contnr c1   lno rno \" ><div class=\"lbl c1  \" ><span class=\"nd\">sub_SR </span></div><div class=\"children hor wrap \"><div class=\"contnr c0 trm   \" ><div class=\"lbl c0 trm \" ><span class=\"txtu\">και</span></div></div><div class=\"contnr c0 trm   \" ><div class=\"lbl c0 trm \" ><span class=\"txtu\">ουκ</span></div></div><div class=\"contnr c0 trm   \" ><div class=\"lbl c0 trm \" ><span class=\"txtu\">ηδει</span></div></div></div></div></div></div></div></div></div></div></div></div><div class=\"contnr c1   rno \" ><div class=\"lbl c1  \" ><span class=\"nd\">sub_SBL </span></div><div class=\"children hor wrap \"><div class=\"contnr c1   lno \" ><div class=\"lbl c1  \" ><span class=\"nd\">sub_TISCH </span></div><div class=\"children hor wrap \"><div class=\"contnr c1   lno rno \" ><div class=\"lbl c1  \" ><span class=\"nd\">sub_KJTR </span></div><div class=\"children hor wrap \"><div class=\"contnr c1   lno \" ><div class=\"lbl c1  \" ><span class=\"nd\">sub_TCGNT </span></div><div class=\"children hor wrap \"><div class=\"contnr c1   lno \" ><div class=\"lbl c1  \" ><span class=\"nd\">sub_SR </span></div><div class=\"children hor wrap \"><div class=\"contnr c0 trm   \" ><div class=\"lbl c0 trm \" ><span class=\"txtu\">ποθεν</span></div></div></div></div></div></div><div class=\"contnr c1   rno \" ><div class=\"lbl c1  \" ><span class=\"nd\">sub_TCGNT </span></div><div class=\"children hor wrap \"><div class=\"contnr c1   rno \" ><div class=\"lbl c1  \" ><span class=\"nd\">sub_SR </span></div><div class=\"children hor wrap \"><div class=\"contnr c0 trm   \" ><div class=\"lbl c0 trm \" ><span class=\"txtu\">εστιν,</span></div></div></div></div></div></div></div></div></div></div></div></div></div></div><div class=\"contnr c1    \" ><div class=\"lbl c1  \" ><span class=\"nd\">sub_N1904 </span></div><div class=\"children hor wrap \"><div class=\"contnr c1   lno \" ><div class=\"lbl c1  \" ><span class=\"nd\">sub_SBL </span></div><div class=\"children hor wrap \"><div class=\"contnr c1   rno \" ><div class=\"lbl c1  \" ><span class=\"nd\">sub_TISCH </span></div><div class=\"children hor wrap \"><div class=\"contnr c1   lno rno \" ><div class=\"lbl c1  \" ><span class=\"nd\">sub_KJTR </span></div><div class=\"children hor wrap \"><div class=\"contnr c1   lno rno \" ><div class=\"lbl c1  \" ><span class=\"nd\">sub_TCGNT </span></div><div class=\"children hor wrap \"><div class=\"contnr c1   lno rno \" ><div class=\"lbl c1  \" ><span class=\"nd\">sub_SR </span></div><div class=\"children hor wrap \"><div class=\"contnr c0 trm   \" ><div class=\"lbl c0 trm \" ><span class=\"txtu\">οι</span></div></div><div class=\"contnr c0 trm   \" ><div class=\"lbl c0 trm \" ><span class=\"txtu\">δε</span></div></div><div class=\"contnr c0 trm   \" ><div class=\"lbl c0 trm \" ><span class=\"txtu\">διακονοι</span></div></div><div class=\"contnr c0 trm   \" ><div class=\"lbl c0 trm \" ><span class=\"txtu\">ηδεισαν</span></div></div><div class=\"contnr c0 trm   \" ><div class=\"lbl c0 trm \" ><span class=\"txtu\">οι</span></div></div><div class=\"contnr c0 trm   \" ><div class=\"lbl c0 trm \" ><span class=\"txtu\">ηντληκοτες</span></div></div></div></div></div></div></div></div></div></div></div></div><div class=\"contnr c1   rno \" ><div class=\"lbl c1  \" ><span class=\"nd\">sub_SBL </span></div><div class=\"children hor wrap \"><div class=\"contnr c1   lno \" ><div class=\"lbl c1  \" ><span class=\"nd\">sub_TISCH </span></div><div class=\"children hor wrap \"><div class=\"contnr c1   lno rno \" ><div class=\"lbl c1  \" ><span class=\"nd\">sub_KJTR </span></div><div class=\"children hor wrap \"><div class=\"contnr c1   lno rno \" ><div class=\"lbl c1  \" ><span class=\"nd\">sub_TCGNT </span></div><div class=\"children hor wrap \"><div class=\"contnr c1   lno \" ><div class=\"lbl c1  \" ><span class=\"nd\">sub_SR </span></div><div class=\"children hor wrap \"><div class=\"contnr c0 trm   \" ><div class=\"lbl c0 trm \" ><span class=\"txtu\">το</span></div></div></div></div><div class=\"contnr c1   rno \" ><div class=\"lbl c1  \" ><span class=\"nd\">sub_SR </span></div><div class=\"children hor wrap \"><div class=\"contnr c0 trm   \" ><div class=\"lbl c0 trm \" ><span class=\"txtu\">υδωρ,</span></div></div></div></div></div></div></div></div></div></div></div></div></div></div><div class=\"contnr c1   rno hl\" ><div class=\"lbl c1  hl\" ><span class=\"nd\">sub_N1904 </span></div><div class=\"children hor wrap \"><div class=\"contnr c1   lno rno \" ><div class=\"lbl c1  \" ><span class=\"nd\">sub_SBL </span></div><div class=\"children hor wrap \"><div class=\"contnr c1   rno \" ><div class=\"lbl c1  \" ><span class=\"nd\">sub_TISCH </span></div><div class=\"children hor wrap \"><div class=\"contnr c1   lno \" ><div class=\"lbl c1  \" ><span class=\"nd\">sub_KJTR </span></div><div class=\"children hor wrap \"><div class=\"contnr c1   lno rno \" ><div class=\"lbl c1  \" ><span class=\"nd\">sub_TCGNT </span></div><div class=\"children hor wrap \"><div class=\"contnr c1   lno rno \" ><div class=\"lbl c1  \" ><span class=\"nd\">sub_SR </span></div><div class=\"children hor wrap \"><div class=\"contnr c0 trm   \" ><div class=\"lbl c0 trm \" ><span class=\"txtu\">φωνει</span></div></div><div class=\"contnr c0 trm   \" ><div class=\"lbl c0 trm \" ><span class=\"txtu\">τον</span></div></div></div></div></div></div></div></div><div class=\"contnr c1   rno hl\" ><div class=\"lbl c1  hl\" ><span class=\"nd\">sub_KJTR </span></div><div class=\"children hor wrap \"><div class=\"contnr c1   lno rno \" ><div class=\"lbl c1  \" ><span class=\"nd\">sub_TCGNT </span></div><div class=\"children hor wrap \"><div class=\"contnr c1   lno rno \" ><div class=\"lbl c1  \" ><span class=\"nd\">sub_SR </span></div><div class=\"children hor wrap \"><div class=\"contnr c0 trm   \" ><div class=\"lbl c0 trm \" ><span class=\"txtu\">νυμφιον</span></div></div><div class=\"contnr c0 trm   \" ><div class=\"lbl c0 trm \" ><span class=\"txtu\">ο</span></div></div><div class=\"contnr c0 trm   \" ><div class=\"lbl c0 trm \" ><span class=\"txtu\">αρχιτρικλινος</span></div></div></div></div></div></div></div></div></div></div></div></div></div></div></div></div></div>"
      ],
      "text/plain": [
       "<IPython.core.display.HTML object>"
      ]
     },
     "metadata": {},
     "output_type": "display_data"
    },
    {
     "data": {
      "text/html": [
       "<p><b>verse</b> <i>2</i>"
      ],
      "text/plain": [
       "<IPython.core.display.HTML object>"
      ]
     },
     "metadata": {},
     "output_type": "display_data"
    },
    {
     "data": {
      "text/html": [
       "<div class=\"tfsechead \"><span class=\"ltr\"><a target=\"_blank\" href=\"https://bibleol.3bmoodle.dk/text/show_text/nestle1904/John/2/10\" sec=\"John 2:10\">John 2:10</a></span></div><div class=\" children pr-mode\"><div class=\"contnr c3    \" ><div class=\"lbl c3  \" ><span class=\"nd\">verse </span> <span class=\"\"><span title=\"book\">John</span> <span title=\"chapter\">2</span>:<span title=\"verse\">10</span></span></div><div class=\"children hor wrap \"><div class=\"contnr c1   lno hl\" ><div class=\"lbl c1  hl\" ><span class=\"nd\">sub_N1904 </span></div><div class=\"children hor wrap \"><div class=\"contnr c1   lno \" ><div class=\"lbl c1  \" ><span class=\"nd\">sub_SBL </span></div><div class=\"children hor wrap \"><div class=\"contnr c1   lno rno \" ><div class=\"lbl c1  \" ><span class=\"nd\">sub_TISCH </span></div><div class=\"children hor wrap \"><div class=\"contnr c1   lno rno hl\" ><div class=\"lbl c1  hl\" ><span class=\"nd\">sub_KJTR </span></div><div class=\"children hor wrap \"><div class=\"contnr c1   lno rno \" ><div class=\"lbl c1  \" ><span class=\"nd\">sub_TCGNT </span></div><div class=\"children hor wrap \"><div class=\"contnr c1   lno rno \" ><div class=\"lbl c1  \" ><span class=\"nd\">sub_SR </span></div><div class=\"children hor wrap \"><div class=\"contnr c0 trm   \" ><div class=\"lbl c0 trm \" ><span class=\"txtu\">και</span></div></div></div></div></div></div></div></div></div></div></div></div><div class=\"contnr c1    hl\" ><div class=\"lbl c1  hl\" ><span class=\"nd\">sub_SBL </span></div><div class=\"children hor wrap \"><div class=\"contnr c1   lno \" ><div class=\"lbl c1  \" ><span class=\"nd\">sub_TISCH </span></div><div class=\"children hor wrap \"><div class=\"contnr c1   lno rno hl\" ><div class=\"lbl c1  hl\" ><span class=\"nd\">sub_KJTR </span></div><div class=\"children hor wrap \"><div class=\"contnr c1   lno \" ><div class=\"lbl c1  \" ><span class=\"nd\">sub_TCGNT </span></div><div class=\"children hor wrap \"><div class=\"contnr c1   lno \" ><div class=\"lbl c1  \" ><span class=\"nd\">sub_SR </span></div><div class=\"children hor wrap \"><div class=\"contnr c0 trm   \" ><div class=\"lbl c0 trm \" ><span class=\"txtu\">λεγει</span></div></div></div></div></div></div><div class=\"contnr c1   rno hl\" ><div class=\"lbl c1  hl\" ><span class=\"nd\">sub_TCGNT </span></div><div class=\"children hor wrap \"><div class=\"contnr c1   rno hl\" ><div class=\"lbl c1  hl\" ><span class=\"nd\">sub_SR </span></div><div class=\"children hor wrap \"><div class=\"contnr c0 trm   \" ><div class=\"lbl c0 trm \" ><span class=\"txtu\">αυτω</span></div></div></div></div></div></div></div></div></div></div><div class=\"contnr c1   rno hl\" ><div class=\"lbl c1  hl\" ><span class=\"nd\">sub_TISCH </span></div><div class=\"children hor wrap \"><div class=\"contnr c1   lno rno hl\" ><div class=\"lbl c1  hl\" ><span class=\"nd\">sub_KJTR </span></div><div class=\"children hor wrap \"><div class=\"contnr c1   lno hl\" ><div class=\"lbl c1  hl\" ><span class=\"nd\">sub_TCGNT </span></div><div class=\"children hor wrap \"><div class=\"contnr c1   lno rno hl\" ><div class=\"lbl c1  hl\" ><span class=\"nd\">sub_SR </span></div><div class=\"children hor wrap \"><div class=\"contnr c0 trm   \" ><div class=\"lbl c0 trm \" ><span class=\"txtu\">πας</span></div></div><div class=\"contnr c0 trm   hl\" ><div class=\"lbl c0 trm hl\" ><span class=\"txtu\">ανθρωπος</span></div></div></div></div></div></div><div class=\"contnr c1   rno \" ><div class=\"lbl c1  \" ><span class=\"nd\">sub_TCGNT </span></div><div class=\"children hor wrap \"><div class=\"contnr c1   lno rno hl\" ><div class=\"lbl c1  hl\" ><span class=\"nd\">sub_SR </span></div><div class=\"children hor wrap \"><div class=\"contnr c0 trm   \" ><div class=\"lbl c0 trm \" ><span class=\"txtu\">πρωτον</span></div></div><div class=\"contnr c0 trm   \" ><div class=\"lbl c0 trm \" ><span class=\"txtu\">τον</span></div></div><div class=\"contnr c0 trm   \" ><div class=\"lbl c0 trm \" ><span class=\"txtu\">καλον</span></div></div></div></div></div></div></div></div></div></div></div></div><div class=\"contnr c1   rno \" ><div class=\"lbl c1  \" ><span class=\"nd\">sub_SBL </span></div><div class=\"children hor wrap \"><div class=\"contnr c1   lno hl\" ><div class=\"lbl c1  hl\" ><span class=\"nd\">sub_TISCH </span></div><div class=\"children hor wrap \"><div class=\"contnr c1   lno hl\" ><div class=\"lbl c1  hl\" ><span class=\"nd\">sub_KJTR </span></div><div class=\"children hor wrap \"><div class=\"contnr c1   lno rno \" ><div class=\"lbl c1  \" ><span class=\"nd\">sub_TCGNT </span></div><div class=\"children hor wrap \"><div class=\"contnr c1   lno hl\" ><div class=\"lbl c1  hl\" ><span class=\"nd\">sub_SR </span></div><div class=\"children hor wrap \"><div class=\"contnr c0 trm   \" ><div class=\"lbl c0 trm \" ><span class=\"txtu\">οινον</span></div></div></div></div><div class=\"contnr c1   rno \" ><div class=\"lbl c1  \" ><span class=\"nd\">sub_SR </span></div><div class=\"children hor wrap \"><div class=\"contnr c0 trm   \" ><div class=\"lbl c0 trm \" ><span class=\"txtu\">τιθησιν,</span></div></div></div></div></div></div></div></div></div></div></div></div></div></div><div class=\"contnr c1    \" ><div class=\"lbl c1  \" ><span class=\"nd\">sub_N1904 </span></div><div class=\"children hor wrap \"><div class=\"contnr c1   lno \" ><div class=\"lbl c1  \" ><span class=\"nd\">sub_SBL </span></div><div class=\"children hor wrap \"><div class=\"contnr c1   rno \" ><div class=\"lbl c1  \" ><span class=\"nd\">sub_TISCH </span></div><div class=\"children hor wrap \"><div class=\"contnr c1   rno \" ><div class=\"lbl c1  \" ><span class=\"nd\">sub_KJTR </span></div><div class=\"children hor wrap \"><div class=\"contnr c1   lno \" ><div class=\"lbl c1  \" ><span class=\"nd\">sub_TCGNT </span></div><div class=\"children hor wrap \"><div class=\"contnr c1   lno rno \" ><div class=\"lbl c1  \" ><span class=\"nd\">sub_SR </span></div><div class=\"children hor wrap \"><div class=\"contnr c0 trm   \" ><div class=\"lbl c0 trm \" ><span class=\"txtu\">και</span></div></div><div class=\"contnr c0 trm   \" ><div class=\"lbl c0 trm \" ><span class=\"txtu\">οταν</span></div></div></div></div></div></div><div class=\"contnr c1   rno \" ><div class=\"lbl c1  \" ><span class=\"nd\">sub_TCGNT </span></div><div class=\"children hor wrap \"><div class=\"contnr c1   lno rno \" ><div class=\"lbl c1  \" ><span class=\"nd\">sub_SR </span></div><div class=\"children hor wrap \"><div class=\"contnr c0 trm   \" ><div class=\"lbl c0 trm \" ><span class=\"txtu\">μεθυσθωσιν</span></div></div></div></div></div></div></div></div></div></div></div></div><div class=\"contnr c1   rno \" ><div class=\"lbl c1  \" ><span class=\"nd\">sub_SBL </span></div><div class=\"children hor wrap \"><div class=\"contnr c1   lno \" ><div class=\"lbl c1  \" ><span class=\"nd\">sub_TISCH </span></div><div class=\"children hor wrap \"><div class=\"contnr c1   lno \" ><div class=\"lbl c1  \" ><span class=\"nd\">sub_KJTR </span></div><div class=\"children hor wrap \"><div class=\"contnr c1   lno \" ><div class=\"lbl c1  \" ><span class=\"nd\">sub_TCGNT </span></div><div class=\"children hor wrap \"><div class=\"contnr c1   lno \" ><div class=\"lbl c1  \" ><span class=\"nd\">sub_SR </span></div><div class=\"children hor wrap \"><div class=\"contnr c0 trm   \" ><div class=\"lbl c0 trm \" ><span class=\"txtu\">τον</span></div></div></div></div><div class=\"contnr c1   rno \" ><div class=\"lbl c1  \" ><span class=\"nd\">sub_SR </span></div><div class=\"children hor wrap \"><div class=\"contnr c0 trm   \" ><div class=\"lbl c0 trm \" ><span class=\"txtu\">ελασσω·</span></div></div></div></div></div></div></div></div></div></div></div></div></div></div><div class=\"contnr c1   rno \" ><div class=\"lbl c1  \" ><span class=\"nd\">sub_N1904 </span></div><div class=\"children hor wrap \"><div class=\"contnr c1   lno rno \" ><div class=\"lbl c1  \" ><span class=\"nd\">sub_SBL </span></div><div class=\"children hor wrap \"><div class=\"contnr c1   rno \" ><div class=\"lbl c1  \" ><span class=\"nd\">sub_TISCH </span></div><div class=\"children hor wrap \"><div class=\"contnr c1    \" ><div class=\"lbl c1  \" ><span class=\"nd\">sub_KJTR </span></div><div class=\"children hor wrap \"><div class=\"contnr c1    \" ><div class=\"lbl c1  \" ><span class=\"nd\">sub_TCGNT </span></div><div class=\"children hor wrap \"><div class=\"contnr c1   lno rno \" ><div class=\"lbl c1  \" ><span class=\"nd\">sub_SR </span></div><div class=\"children hor wrap \"><div class=\"contnr c0 trm   \" ><div class=\"lbl c0 trm \" ><span class=\"txtu\">συ</span></div></div><div class=\"contnr c0 trm   \" ><div class=\"lbl c0 trm \" ><span class=\"txtu\">τετηρηκας</span></div></div><div class=\"contnr c0 trm   \" ><div class=\"lbl c0 trm \" ><span class=\"txtu\">τον</span></div></div></div></div></div></div></div></div><div class=\"contnr c1   rno \" ><div class=\"lbl c1  \" ><span class=\"nd\">sub_KJTR </span></div><div class=\"children hor wrap \"><div class=\"contnr c1   rno \" ><div class=\"lbl c1  \" ><span class=\"nd\">sub_TCGNT </span></div><div class=\"children hor wrap \"><div class=\"contnr c1   lno rno \" ><div class=\"lbl c1  \" ><span class=\"nd\">sub_SR </span></div><div class=\"children hor wrap \"><div class=\"contnr c0 trm   \" ><div class=\"lbl c0 trm \" ><span class=\"txtu\">καλον</span></div></div><div class=\"contnr c0 trm   \" ><div class=\"lbl c0 trm \" ><span class=\"txtu\">οινον</span></div></div><div class=\"contnr c0 trm   \" ><div class=\"lbl c0 trm \" ><span class=\"txtu\">εως</span></div></div><div class=\"contnr c0 trm   \" ><div class=\"lbl c0 trm \" ><span class=\"txtu\">αρτι.</span></div></div></div></div></div></div></div></div></div></div></div></div></div></div></div></div></div>"
      ],
      "text/plain": [
       "<IPython.core.display.HTML object>"
      ]
     },
     "metadata": {},
     "output_type": "display_data"
    },
    {
     "data": {
      "text/html": [
       "<p><b>verse</b> <i>3</i>"
      ],
      "text/plain": [
       "<IPython.core.display.HTML object>"
      ]
     },
     "metadata": {},
     "output_type": "display_data"
    },
    {
     "data": {
      "text/html": [
       "<div class=\"tfsechead \"><span class=\"ltr\"><a target=\"_blank\" href=\"https://bibleol.3bmoodle.dk/text/show_text/nestle1904/John/3/4\" sec=\"John 3:4\">John 3:4</a></span></div><div class=\" children pr-mode\"><div class=\"contnr c3    \" ><div class=\"lbl c3  \" ><span class=\"nd\">verse </span> <span class=\"\"><span title=\"book\">John</span> <span title=\"chapter\">3</span>:<span title=\"verse\">4</span></span></div><div class=\"children hor wrap \"><div class=\"contnr c1   lno \" ><div class=\"lbl c1  \" ><span class=\"nd\">sub_N1904 </span></div><div class=\"children hor wrap \"><div class=\"contnr c1   lno \" ><div class=\"lbl c1  \" ><span class=\"nd\">sub_SBL </span></div><div class=\"children hor wrap \"><div class=\"contnr c1   lno rno \" ><div class=\"lbl c1  \" ><span class=\"nd\">sub_TISCH </span></div><div class=\"children hor wrap \"><div class=\"contnr c1   lno rno \" ><div class=\"lbl c1  \" ><span class=\"nd\">sub_KJTR </span></div><div class=\"children hor wrap \"><div class=\"contnr c1   lno \" ><div class=\"lbl c1  \" ><span class=\"nd\">sub_TCGNT </span></div><div class=\"children hor wrap \"><div class=\"contnr c1   lno rno \" ><div class=\"lbl c1  \" ><span class=\"nd\">sub_SR </span></div><div class=\"children hor wrap \"><div class=\"contnr c0 trm   \" ><div class=\"lbl c0 trm \" ><span class=\"txtu\">λεγει</span></div></div></div></div></div></div><div class=\"contnr c1   rno \" ><div class=\"lbl c1  \" ><span class=\"nd\">sub_TCGNT </span></div><div class=\"children hor wrap \"><div class=\"contnr c1   lno \" ><div class=\"lbl c1  \" ><span class=\"nd\">sub_SR </span></div><div class=\"children hor wrap \"><div class=\"contnr c0 trm   \" ><div class=\"lbl c0 trm \" ><span class=\"txtu\">προς</span></div></div><div class=\"contnr c0 trm   \" ><div class=\"lbl c0 trm \" ><span class=\"txtu\">αυτον</span></div></div></div></div></div></div></div></div></div></div></div></div><div class=\"contnr c1    hl\" ><div class=\"lbl c1  hl\" ><span class=\"nd\">sub_SBL </span></div><div class=\"children hor wrap \"><div class=\"contnr c1   lno \" ><div class=\"lbl c1  \" ><span class=\"nd\">sub_TISCH </span></div><div class=\"children hor wrap \"><div class=\"contnr c1   lno \" ><div class=\"lbl c1  \" ><span class=\"nd\">sub_KJTR </span></div><div class=\"children hor wrap \"><div class=\"contnr c1   lno rno \" ><div class=\"lbl c1  \" ><span class=\"nd\">sub_TCGNT </span></div><div class=\"children hor wrap \"><div class=\"contnr c1   rno \" ><div class=\"lbl c1  \" ><span class=\"nd\">sub_SR </span></div><div class=\"children hor wrap \"><div class=\"contnr c0 trm   \" ><div class=\"lbl c0 trm \" ><span class=\"txtu\">ο</span></div></div><div class=\"contnr c0 trm   \" ><div class=\"lbl c0 trm \" ><span class=\"txtu\">νικοδημος</span></div></div><div class=\"contnr c0 trm   \" ><div class=\"lbl c0 trm \" ><span class=\"txtu\">πως</span></div></div></div></div></div></div></div></div></div></div><div class=\"contnr c1   rno hl\" ><div class=\"lbl c1  hl\" ><span class=\"nd\">sub_TISCH </span></div><div class=\"children hor wrap \"><div class=\"contnr c1    \" ><div class=\"lbl c1  \" ><span class=\"nd\">sub_KJTR </span></div><div class=\"children hor wrap \"><div class=\"contnr c1   lno rno \" ><div class=\"lbl c1  \" ><span class=\"nd\">sub_TCGNT </span></div><div class=\"children hor wrap \"><div class=\"contnr c1   lno \" ><div class=\"lbl c1  \" ><span class=\"nd\">sub_SR </span></div><div class=\"children hor wrap \"><div class=\"contnr c0 trm   \" ><div class=\"lbl c0 trm \" ><span class=\"txtu\">δυναται</span></div></div></div></div></div></div></div></div><div class=\"contnr c1    hl\" ><div class=\"lbl c1  hl\" ><span class=\"nd\">sub_KJTR </span></div><div class=\"children hor wrap \"><div class=\"contnr c1   lno rno \" ><div class=\"lbl c1  \" ><span class=\"nd\">sub_TCGNT </span></div><div class=\"children hor wrap \"><div class=\"contnr c1   rno hl\" ><div class=\"lbl c1  hl\" ><span class=\"nd\">sub_SR </span></div><div class=\"children hor wrap \"><div class=\"contnr c0 trm   hl\" ><div class=\"lbl c0 trm hl\" ><span class=\"txtu\">ανθρωπος</span></div></div></div></div></div></div></div></div><div class=\"contnr c1   rno \" ><div class=\"lbl c1  \" ><span class=\"nd\">sub_KJTR </span></div><div class=\"children hor wrap \"><div class=\"contnr c1   lno rno \" ><div class=\"lbl c1  \" ><span class=\"nd\">sub_TCGNT </span></div><div class=\"children hor wrap \"><div class=\"contnr c1   lno hl\" ><div class=\"lbl c1  hl\" ><span class=\"nd\">sub_SR </span></div><div class=\"children hor wrap \"><div class=\"contnr c0 trm   \" ><div class=\"lbl c0 trm \" ><span class=\"txtu\">γεννηθηναι</span></div></div></div></div></div></div></div></div></div></div></div></div><div class=\"contnr c1   rno \" ><div class=\"lbl c1  \" ><span class=\"nd\">sub_SBL </span></div><div class=\"children hor wrap \"><div class=\"contnr c1   lno rno hl\" ><div class=\"lbl c1  hl\" ><span class=\"nd\">sub_TISCH </span></div><div class=\"children hor wrap \"><div class=\"contnr c1   lno \" ><div class=\"lbl c1  \" ><span class=\"nd\">sub_KJTR </span></div><div class=\"children hor wrap \"><div class=\"contnr c1   lno rno \" ><div class=\"lbl c1  \" ><span class=\"nd\">sub_TCGNT </span></div><div class=\"children hor wrap \"><div class=\"contnr c1   rno \" ><div class=\"lbl c1  \" ><span class=\"nd\">sub_SR </span></div><div class=\"children hor wrap \"><div class=\"contnr c0 trm   \" ><div class=\"lbl c0 trm \" ><span class=\"txtu\">γερων</span></div></div></div></div></div></div></div></div><div class=\"contnr c1   rno \" ><div class=\"lbl c1  \" ><span class=\"nd\">sub_KJTR </span></div><div class=\"children hor wrap \"><div class=\"contnr c1   lno rno \" ><div class=\"lbl c1  \" ><span class=\"nd\">sub_TCGNT </span></div><div class=\"children hor wrap \"><div class=\"contnr c1   lno rno \" ><div class=\"lbl c1  \" ><span class=\"nd\">sub_SR </span></div><div class=\"children hor wrap \"><div class=\"contnr c0 trm   \" ><div class=\"lbl c0 trm \" ><span class=\"txtu\">ων;</span></div></div></div></div></div></div></div></div></div></div></div></div></div></div><div class=\"contnr c1    \" ><div class=\"lbl c1  \" ><span class=\"nd\">sub_N1904 </span></div><div class=\"children hor wrap \"><div class=\"contnr c1   lno \" ><div class=\"lbl c1  \" ><span class=\"nd\">sub_SBL </span></div><div class=\"children hor wrap \"><div class=\"contnr c1   lno hl\" ><div class=\"lbl c1  hl\" ><span class=\"nd\">sub_TISCH </span></div><div class=\"children hor wrap \"><div class=\"contnr c1   lno rno \" ><div class=\"lbl c1  \" ><span class=\"nd\">sub_KJTR </span></div><div class=\"children hor wrap \"><div class=\"contnr c1   lno rno \" ><div class=\"lbl c1  \" ><span class=\"nd\">sub_TCGNT </span></div><div class=\"children hor wrap \"><div class=\"contnr c1   lno rno \" ><div class=\"lbl c1  \" ><span class=\"nd\">sub_SR </span></div><div class=\"children hor wrap \"><div class=\"contnr c0 trm   \" ><div class=\"lbl c0 trm \" ><span class=\"txtu\">μη</span></div></div></div></div></div></div></div></div></div></div><div class=\"contnr c1   rno \" ><div class=\"lbl c1  \" ><span class=\"nd\">sub_TISCH </span></div><div class=\"children hor wrap \"><div class=\"contnr c1   lno \" ><div class=\"lbl c1  \" ><span class=\"nd\">sub_KJTR </span></div><div class=\"children hor wrap \"><div class=\"contnr c1   lno \" ><div class=\"lbl c1  \" ><span class=\"nd\">sub_TCGNT </span></div><div class=\"children hor wrap \"><div class=\"contnr c1   lno rno \" ><div class=\"lbl c1  \" ><span class=\"nd\">sub_SR </span></div><div class=\"children hor wrap \"><div class=\"contnr c0 trm   \" ><div class=\"lbl c0 trm \" ><span class=\"txtu\">δυναται</span></div></div></div></div></div></div><div class=\"contnr c1   rno \" ><div class=\"lbl c1  \" ><span class=\"nd\">sub_TCGNT </span></div><div class=\"children hor wrap \"><div class=\"contnr c1   lno rno \" ><div class=\"lbl c1  \" ><span class=\"nd\">sub_SR </span></div><div class=\"children hor wrap \"><div class=\"contnr c0 trm   \" ><div class=\"lbl c0 trm \" ><span class=\"txtu\">εις</span></div></div><div class=\"contnr c0 trm   \" ><div class=\"lbl c0 trm \" ><span class=\"txtu\">την</span></div></div></div></div></div></div></div></div><div class=\"contnr c1   rno \" ><div class=\"lbl c1  \" ><span class=\"nd\">sub_KJTR </span></div><div class=\"children hor wrap \"><div class=\"contnr c1   lno \" ><div class=\"lbl c1  \" ><span class=\"nd\">sub_TCGNT </span></div><div class=\"children hor wrap \"><div class=\"contnr c1   lno rno \" ><div class=\"lbl c1  \" ><span class=\"nd\">sub_SR </span></div><div class=\"children hor wrap \"><div class=\"contnr c0 trm   \" ><div class=\"lbl c0 trm \" ><span class=\"txtu\">κοιλιαν</span></div></div><div class=\"contnr c0 trm   \" ><div class=\"lbl c0 trm \" ><span class=\"txtu\">της</span></div></div><div class=\"contnr c0 trm   \" ><div class=\"lbl c0 trm \" ><span class=\"txtu\">μητρος</span></div></div><div class=\"contnr c0 trm   \" ><div class=\"lbl c0 trm \" ><span class=\"txtu\">αυτου</span></div></div></div></div></div></div><div class=\"contnr c1   rno \" ><div class=\"lbl c1  \" ><span class=\"nd\">sub_TCGNT </span></div><div class=\"children hor wrap \"><div class=\"contnr c1   lno rno \" ><div class=\"lbl c1  \" ><span class=\"nd\">sub_SR </span></div><div class=\"children hor wrap \"><div class=\"contnr c0 trm   \" ><div class=\"lbl c0 trm \" ><span class=\"txtu\">δευτερον</span></div></div><div class=\"contnr c0 trm   \" ><div class=\"lbl c0 trm \" ><span class=\"txtu\">εισελθειν</span></div></div></div></div></div></div></div></div></div></div></div></div><div class=\"contnr c1    \" ><div class=\"lbl c1  \" ><span class=\"nd\">sub_SBL </span></div><div class=\"children hor wrap \"><div class=\"contnr c1   lno rno \" ><div class=\"lbl c1  \" ><span class=\"nd\">sub_TISCH </span></div><div class=\"children hor wrap \"><div class=\"contnr c1   lno rno \" ><div class=\"lbl c1  \" ><span class=\"nd\">sub_KJTR </span></div><div class=\"children hor wrap \"><div class=\"contnr c1   lno rno \" ><div class=\"lbl c1  \" ><span class=\"nd\">sub_TCGNT </span></div><div class=\"children hor wrap \"><div class=\"contnr c1   lno \" ><div class=\"lbl c1  \" ><span class=\"nd\">sub_SR </span></div><div class=\"children hor wrap \"><div class=\"contnr c0 trm   \" ><div class=\"lbl c0 trm \" ><span class=\"txtu\">και</span></div></div><div class=\"contnr c0 trm   \" ><div class=\"lbl c0 trm \" ><span class=\"txtu\">γεννηθηναι;</span></div></div></div></div></div></div></div></div></div></div></div></div></div></div></div></div></div>"
      ],
      "text/plain": [
       "<IPython.core.display.HTML object>"
      ]
     },
     "metadata": {},
     "output_type": "display_data"
    },
    {
     "data": {
      "text/html": [
       "<p><b>verse</b> <i>4</i>"
      ],
      "text/plain": [
       "<IPython.core.display.HTML object>"
      ]
     },
     "metadata": {},
     "output_type": "display_data"
    },
    {
     "data": {
      "text/html": [
       "<div class=\"tfsechead \"><span class=\"ltr\"><a target=\"_blank\" href=\"https://bibleol.3bmoodle.dk/text/show_text/nestle1904/John/3/27\" sec=\"John 3:27\">John 3:27</a></span></div><div class=\" children pr-mode\"><div class=\"contnr c3    \" ><div class=\"lbl c3  \" ><span class=\"nd\">verse </span> <span class=\"\"><span title=\"book\">John</span> <span title=\"chapter\">3</span>:<span title=\"verse\">27</span></span></div><div class=\"children hor wrap \"><div class=\"contnr c1   lno rno \" ><div class=\"lbl c1  \" ><span class=\"nd\">sub_N1904 </span></div><div class=\"children hor wrap \"><div class=\"contnr c1   lno \" ><div class=\"lbl c1  \" ><span class=\"nd\">sub_SBL </span></div><div class=\"children hor wrap \"><div class=\"contnr c1   lno rno \" ><div class=\"lbl c1  \" ><span class=\"nd\">sub_TISCH </span></div><div class=\"children hor wrap \"><div class=\"contnr c1   lno rno \" ><div class=\"lbl c1  \" ><span class=\"nd\">sub_KJTR </span></div><div class=\"children hor wrap \"><div class=\"contnr c1   lno \" ><div class=\"lbl c1  \" ><span class=\"nd\">sub_TCGNT </span></div><div class=\"children hor wrap \"><div class=\"contnr c1   lno rno \" ><div class=\"lbl c1  \" ><span class=\"nd\">sub_SR </span></div><div class=\"children hor wrap \"><div class=\"contnr c0 trm   \" ><div class=\"lbl c0 trm \" ><span class=\"txtu\">απεκριθη</span></div></div></div></div></div></div><div class=\"contnr c1    \" ><div class=\"lbl c1  \" ><span class=\"nd\">sub_TCGNT </span></div><div class=\"children hor wrap \"><div class=\"contnr c1   lno rno \" ><div class=\"lbl c1  \" ><span class=\"nd\">sub_SR </span></div><div class=\"children hor wrap \"><div class=\"contnr c0 trm   \" ><div class=\"lbl c0 trm \" ><span class=\"txtu\">ιωανης</span></div></div></div></div></div></div><div class=\"contnr c1   rno hl\" ><div class=\"lbl c1  hl\" ><span class=\"nd\">sub_TCGNT </span></div><div class=\"children hor wrap \"><div class=\"contnr c1   lno \" ><div class=\"lbl c1  \" ><span class=\"nd\">sub_SR </span></div><div class=\"children hor wrap \"><div class=\"contnr c0 trm   \" ><div class=\"lbl c0 trm \" ><span class=\"txtu\">και</span></div></div><div class=\"contnr c0 trm   \" ><div class=\"lbl c0 trm \" ><span class=\"txtu\">ειπεν</span></div></div><div class=\"contnr c0 trm   \" ><div class=\"lbl c0 trm \" ><span class=\"txtu\">ου</span></div></div></div></div></div></div></div></div></div></div></div></div><div class=\"contnr c1   rno \" ><div class=\"lbl c1  \" ><span class=\"nd\">sub_SBL </span></div><div class=\"children hor wrap \"><div class=\"contnr c1   lno \" ><div class=\"lbl c1  \" ><span class=\"nd\">sub_TISCH </span></div><div class=\"children hor wrap \"><div class=\"contnr c1   lno rno \" ><div class=\"lbl c1  \" ><span class=\"nd\">sub_KJTR </span></div><div class=\"children hor wrap \"><div class=\"contnr c1   lno hl\" ><div class=\"lbl c1  hl\" ><span class=\"nd\">sub_TCGNT </span></div><div class=\"children hor wrap \"><div class=\"contnr c1    hl\" ><div class=\"lbl c1  hl\" ><span class=\"nd\">sub_SR </span></div><div class=\"children hor wrap \"><div class=\"contnr c0 trm   \" ><div class=\"lbl c0 trm \" ><span class=\"txtu\">δυναται</span></div></div><div class=\"contnr c0 trm   hl\" ><div class=\"lbl c0 trm hl\" ><span class=\"txtu\">ανθρωπος</span></div></div><div class=\"contnr c0 trm   \" ><div class=\"lbl c0 trm \" ><span class=\"txtu\">λαμβανειν</span></div></div><div class=\"contnr c0 trm   \" ><div class=\"lbl c0 trm \" ><span class=\"txtu\">ουδεν</span></div></div></div></div></div></div><div class=\"contnr c1   rno \" ><div class=\"lbl c1  \" ><span class=\"nd\">sub_TCGNT </span></div><div class=\"children hor wrap \"><div class=\"contnr c1   rno \" ><div class=\"lbl c1  \" ><span class=\"nd\">sub_SR </span></div><div class=\"children hor wrap \"><div class=\"contnr c0 trm   \" ><div class=\"lbl c0 trm \" ><span class=\"txtu\">εαν</span></div></div></div></div></div></div></div></div></div></div><div class=\"contnr c1   rno \" ><div class=\"lbl c1  \" ><span class=\"nd\">sub_TISCH </span></div><div class=\"children hor wrap \"><div class=\"contnr c1   lno \" ><div class=\"lbl c1  \" ><span class=\"nd\">sub_KJTR </span></div><div class=\"children hor wrap \"><div class=\"contnr c1   lno \" ><div class=\"lbl c1  \" ><span class=\"nd\">sub_TCGNT </span></div><div class=\"children hor wrap \"><div class=\"contnr c1   lno rno \" ><div class=\"lbl c1  \" ><span class=\"nd\">sub_SR </span></div><div class=\"children hor wrap \"><div class=\"contnr c0 trm   \" ><div class=\"lbl c0 trm \" ><span class=\"txtu\">μη</span></div></div><div class=\"contnr c0 trm   \" ><div class=\"lbl c0 trm \" ><span class=\"txtu\">η</span></div></div></div></div></div></div></div></div><div class=\"contnr c1    \" ><div class=\"lbl c1  \" ><span class=\"nd\">sub_KJTR </span></div><div class=\"children hor wrap \"><div class=\"contnr c1    \" ><div class=\"lbl c1  \" ><span class=\"nd\">sub_TCGNT </span></div><div class=\"children hor wrap \"><div class=\"contnr c1   lno rno \" ><div class=\"lbl c1  \" ><span class=\"nd\">sub_SR </span></div><div class=\"children hor wrap \"><div class=\"contnr c0 trm   \" ><div class=\"lbl c0 trm \" ><span class=\"txtu\">δεδομενον</span></div></div><div class=\"contnr c0 trm   \" ><div class=\"lbl c0 trm \" ><span class=\"txtu\">αυτω</span></div></div><div class=\"contnr c0 trm   \" ><div class=\"lbl c0 trm \" ><span class=\"txtu\">εκ</span></div></div></div></div></div></div></div></div><div class=\"contnr c1    \" ><div class=\"lbl c1  \" ><span class=\"nd\">sub_KJTR </span></div><div class=\"children hor wrap \"><div class=\"contnr c1   rno \" ><div class=\"lbl c1  \" ><span class=\"nd\">sub_TCGNT </span></div><div class=\"children hor wrap \"><div class=\"contnr c1   lno rno \" ><div class=\"lbl c1  \" ><span class=\"nd\">sub_SR </span></div><div class=\"children hor wrap \"><div class=\"contnr c0 trm   \" ><div class=\"lbl c0 trm \" ><span class=\"txtu\">του</span></div></div></div></div></div></div></div></div><div class=\"contnr c1   rno \" ><div class=\"lbl c1  \" ><span class=\"nd\">sub_KJTR </span></div><div class=\"children hor wrap \"><div class=\"contnr c1   lno rno \" ><div class=\"lbl c1  \" ><span class=\"nd\">sub_TCGNT </span></div><div class=\"children hor wrap \"><div class=\"contnr c1   lno rno \" ><div class=\"lbl c1  \" ><span class=\"nd\">sub_SR </span></div><div class=\"children hor wrap \"><div class=\"contnr c0 trm   \" ><div class=\"lbl c0 trm \" ><span class=\"txtu\">ουρανου.</span></div></div></div></div></div></div></div></div></div></div></div></div></div></div></div></div></div>"
      ],
      "text/plain": [
       "<IPython.core.display.HTML object>"
      ]
     },
     "metadata": {},
     "output_type": "display_data"
    },
    {
     "data": {
      "text/html": [
       "<p><b>verse</b> <i>5</i>"
      ],
      "text/plain": [
       "<IPython.core.display.HTML object>"
      ]
     },
     "metadata": {},
     "output_type": "display_data"
    },
    {
     "data": {
      "text/html": [
       "<div class=\"tfsechead \"><span class=\"ltr\"><a target=\"_blank\" href=\"https://bibleol.3bmoodle.dk/text/show_text/nestle1904/John/4/50\" sec=\"John 4:50\">John 4:50</a></span></div><div class=\" children pr-mode\"><div class=\"contnr c3    \" ><div class=\"lbl c3  \" ><span class=\"nd\">verse </span> <span class=\"\"><span title=\"book\">John</span> <span title=\"chapter\">4</span>:<span title=\"verse\">50</span></span></div><div class=\"children hor wrap \"><div class=\"contnr c1   lno \" ><div class=\"lbl c1  \" ><span class=\"nd\">sub_N1904 </span></div><div class=\"children hor wrap \"><div class=\"contnr c1    \" ><div class=\"lbl c1  \" ><span class=\"nd\">sub_SBL </span></div><div class=\"children hor wrap \"><div class=\"contnr c1   lno \" ><div class=\"lbl c1  \" ><span class=\"nd\">sub_TISCH </span></div><div class=\"children hor wrap \"><div class=\"contnr c1   lno rno \" ><div class=\"lbl c1  \" ><span class=\"nd\">sub_KJTR </span></div><div class=\"children hor wrap \"><div class=\"contnr c1   lno rno \" ><div class=\"lbl c1  \" ><span class=\"nd\">sub_TCGNT </span></div><div class=\"children hor wrap \"><div class=\"contnr c1   lno \" ><div class=\"lbl c1  \" ><span class=\"nd\">sub_SR </span></div><div class=\"children hor wrap \"><div class=\"contnr c0 trm   \" ><div class=\"lbl c0 trm \" ><span class=\"txtu\">λεγει</span></div></div></div></div></div></div></div></div></div></div></div></div><div class=\"contnr c1   rno \" ><div class=\"lbl c1  \" ><span class=\"nd\">sub_SBL </span></div><div class=\"children hor wrap \"><div class=\"contnr c1    \" ><div class=\"lbl c1  \" ><span class=\"nd\">sub_TISCH </span></div><div class=\"children hor wrap \"><div class=\"contnr c1   lno rno \" ><div class=\"lbl c1  \" ><span class=\"nd\">sub_KJTR </span></div><div class=\"children hor wrap \"><div class=\"contnr c1   lno rno \" ><div class=\"lbl c1  \" ><span class=\"nd\">sub_TCGNT </span></div><div class=\"children hor wrap \"><div class=\"contnr c1    \" ><div class=\"lbl c1  \" ><span class=\"nd\">sub_SR </span></div><div class=\"children hor wrap \"><div class=\"contnr c0 trm   \" ><div class=\"lbl c0 trm \" ><span class=\"txtu\">αυτω</span></div></div></div></div></div></div></div></div></div></div><div class=\"contnr c1   rno \" ><div class=\"lbl c1  \" ><span class=\"nd\">sub_TISCH </span></div><div class=\"children hor wrap \"><div class=\"contnr c1   lno rno \" ><div class=\"lbl c1  \" ><span class=\"nd\">sub_KJTR </span></div><div class=\"children hor wrap \"><div class=\"contnr c1   lno rno \" ><div class=\"lbl c1  \" ><span class=\"nd\">sub_TCGNT </span></div><div class=\"children hor wrap \"><div class=\"contnr c1   rno hl\" ><div class=\"lbl c1  hl\" ><span class=\"nd\">sub_SR </span></div><div class=\"children hor wrap \"><div class=\"contnr c0 trm   \" ><div class=\"lbl c0 trm \" ><span class=\"txtu\">ο</span></div></div><div class=\"contnr c0 trm   \" ><div class=\"lbl c0 trm \" ><span class=\"txtu\">ιησους</span></div></div><div class=\"contnr c0 trm   \" ><div class=\"lbl c0 trm \" ><span class=\"txtu\">πορευου·</span></div></div></div></div></div></div></div></div></div></div></div></div></div></div><div class=\"contnr c1    \" ><div class=\"lbl c1  \" ><span class=\"nd\">sub_N1904 </span></div><div class=\"children hor wrap \"><div class=\"contnr c1   lno \" ><div class=\"lbl c1  \" ><span class=\"nd\">sub_SBL </span></div><div class=\"children hor wrap \"><div class=\"contnr c1   lno rno \" ><div class=\"lbl c1  \" ><span class=\"nd\">sub_TISCH </span></div><div class=\"children hor wrap \"><div class=\"contnr c1   lno \" ><div class=\"lbl c1  \" ><span class=\"nd\">sub_KJTR </span></div><div class=\"children hor wrap \"><div class=\"contnr c1   lno \" ><div class=\"lbl c1  \" ><span class=\"nd\">sub_TCGNT </span></div><div class=\"children hor wrap \"><div class=\"contnr c1   lno rno hl\" ><div class=\"lbl c1  hl\" ><span class=\"nd\">sub_SR </span></div><div class=\"children hor wrap \"><div class=\"contnr c0 trm   \" ><div class=\"lbl c0 trm \" ><span class=\"txtu\">ο</span></div></div></div></div></div></div><div class=\"contnr c1   rno \" ><div class=\"lbl c1  \" ><span class=\"nd\">sub_TCGNT </span></div><div class=\"children hor wrap \"><div class=\"contnr c1   lno rno hl\" ><div class=\"lbl c1  hl\" ><span class=\"nd\">sub_SR </span></div><div class=\"children hor wrap \"><div class=\"contnr c0 trm   \" ><div class=\"lbl c0 trm \" ><span class=\"txtu\">υιος</span></div></div><div class=\"contnr c0 trm   \" ><div class=\"lbl c0 trm \" ><span class=\"txtu\">σου</span></div></div><div class=\"contnr c0 trm   \" ><div class=\"lbl c0 trm \" ><span class=\"txtu\">ζη.</span></div></div><div class=\"contnr c0 trm   \" ><div class=\"lbl c0 trm \" ><span class=\"txtu\">επιστευσεν</span></div></div><div class=\"contnr c0 trm   \" ><div class=\"lbl c0 trm \" ><span class=\"txtu\">ο</span></div></div></div></div></div></div></div></div></div></div></div></div><div class=\"contnr c1    hl\" ><div class=\"lbl c1  hl\" ><span class=\"nd\">sub_SBL </span></div><div class=\"children hor wrap \"><div class=\"contnr c1   lno rno \" ><div class=\"lbl c1  \" ><span class=\"nd\">sub_TISCH </span></div><div class=\"children hor wrap \"><div class=\"contnr c1   rno hl\" ><div class=\"lbl c1  hl\" ><span class=\"nd\">sub_KJTR </span></div><div class=\"children hor wrap \"><div class=\"contnr c1   lno rno \" ><div class=\"lbl c1  \" ><span class=\"nd\">sub_TCGNT </span></div><div class=\"children hor wrap \"><div class=\"contnr c1   lno hl\" ><div class=\"lbl c1  hl\" ><span class=\"nd\">sub_SR </span></div><div class=\"children hor wrap \"><div class=\"contnr c0 trm   hl\" ><div class=\"lbl c0 trm hl\" ><span class=\"txtu\">ανθρωπος</span></div></div></div></div></div></div></div></div></div></div></div></div><div class=\"contnr c1   rno \" ><div class=\"lbl c1  \" ><span class=\"nd\">sub_SBL </span></div><div class=\"children hor wrap \"><div class=\"contnr c1   lno rno \" ><div class=\"lbl c1  \" ><span class=\"nd\">sub_TISCH </span></div><div class=\"children hor wrap \"><div class=\"contnr c1   lno hl\" ><div class=\"lbl c1  hl\" ><span class=\"nd\">sub_KJTR </span></div><div class=\"children hor wrap \"><div class=\"contnr c1   lno rno \" ><div class=\"lbl c1  \" ><span class=\"nd\">sub_TCGNT </span></div><div class=\"children hor wrap \"><div class=\"contnr c1    \" ><div class=\"lbl c1  \" ><span class=\"nd\">sub_SR </span></div><div class=\"children hor wrap \"><div class=\"contnr c0 trm   \" ><div class=\"lbl c0 trm \" ><span class=\"txtu\">τω</span></div></div></div></div><div class=\"contnr c1   rno \" ><div class=\"lbl c1  \" ><span class=\"nd\">sub_SR </span></div><div class=\"children hor wrap \"><div class=\"contnr c0 trm   \" ><div class=\"lbl c0 trm \" ><span class=\"txtu\">λογω</span></div></div></div></div></div></div></div></div><div class=\"contnr c1    \" ><div class=\"lbl c1  \" ><span class=\"nd\">sub_KJTR </span></div><div class=\"children hor wrap \"><div class=\"contnr c1   lno \" ><div class=\"lbl c1  \" ><span class=\"nd\">sub_TCGNT </span></div><div class=\"children hor wrap \"><div class=\"contnr c1   lno rno \" ><div class=\"lbl c1  \" ><span class=\"nd\">sub_SR </span></div><div class=\"children hor wrap \"><div class=\"contnr c0 trm   \" ><div class=\"lbl c0 trm \" ><span class=\"txtu\">ον</span></div></div></div></div></div></div><div class=\"contnr c1   rno \" ><div class=\"lbl c1  \" ><span class=\"nd\">sub_TCGNT </span></div><div class=\"children hor wrap \"><div class=\"contnr c1   lno rno \" ><div class=\"lbl c1  \" ><span class=\"nd\">sub_SR </span></div><div class=\"children hor wrap \"><div class=\"contnr c0 trm   \" ><div class=\"lbl c0 trm \" ><span class=\"txtu\">ειπεν</span></div></div><div class=\"contnr c0 trm   \" ><div class=\"lbl c0 trm \" ><span class=\"txtu\">αυτω</span></div></div><div class=\"contnr c0 trm   \" ><div class=\"lbl c0 trm \" ><span class=\"txtu\">ο</span></div></div><div class=\"contnr c0 trm   \" ><div class=\"lbl c0 trm \" ><span class=\"txtu\">ιησους,</span></div></div></div></div></div></div></div></div></div></div></div></div></div></div><div class=\"contnr c1   rno \" ><div class=\"lbl c1  \" ><span class=\"nd\">sub_N1904 </span></div><div class=\"children hor wrap \"><div class=\"contnr c1   lno rno \" ><div class=\"lbl c1  \" ><span class=\"nd\">sub_SBL </span></div><div class=\"children hor wrap \"><div class=\"contnr c1   lno rno \" ><div class=\"lbl c1  \" ><span class=\"nd\">sub_TISCH </span></div><div class=\"children hor wrap \"><div class=\"contnr c1   rno \" ><div class=\"lbl c1  \" ><span class=\"nd\">sub_KJTR </span></div><div class=\"children hor wrap \"><div class=\"contnr c1   lno \" ><div class=\"lbl c1  \" ><span class=\"nd\">sub_TCGNT </span></div><div class=\"children hor wrap \"><div class=\"contnr c1   lno rno \" ><div class=\"lbl c1  \" ><span class=\"nd\">sub_SR </span></div><div class=\"children hor wrap \"><div class=\"contnr c0 trm   \" ><div class=\"lbl c0 trm \" ><span class=\"txtu\">και</span></div></div><div class=\"contnr c0 trm   \" ><div class=\"lbl c0 trm \" ><span class=\"txtu\">επορευετο.</span></div></div></div></div></div></div></div></div></div></div></div></div></div></div></div></div></div>"
      ],
      "text/plain": [
       "<IPython.core.display.HTML object>"
      ]
     },
     "metadata": {},
     "output_type": "display_data"
    },
    {
     "data": {
      "text/html": [
       "<p><b>verse</b> <i>6</i>"
      ],
      "text/plain": [
       "<IPython.core.display.HTML object>"
      ]
     },
     "metadata": {},
     "output_type": "display_data"
    },
    {
     "data": {
      "text/html": [
       "<div class=\"tfsechead \"><span class=\"ltr\"><a target=\"_blank\" href=\"https://bibleol.3bmoodle.dk/text/show_text/nestle1904/John/5/4\" sec=\"John 5:4\">John 5:4</a></span></div><div class=\" children pr-mode\"><div class=\"contnr c3    \" ><div class=\"lbl c3  \" ><span class=\"nd\">verse </span> <span class=\"\"><span title=\"book\">John</span> <span title=\"chapter\">5</span>:<span title=\"verse\">4</span></span></div><div class=\"children hor wrap \"><div class=\"contnr c1   lno \" ><div class=\"lbl c1  \" ><span class=\"nd\">sub_N1904 </span></div><div class=\"children hor wrap \"><div class=\"contnr c1    \" ><div class=\"lbl c1  \" ><span class=\"nd\">sub_SBL </span></div><div class=\"children hor wrap \"><div class=\"contnr c1   lno rno \" ><div class=\"lbl c1  \" ><span class=\"nd\">sub_TISCH </span></div><div class=\"children hor wrap \"><div class=\"contnr c1   lno rno \" ><div class=\"lbl c1  \" ><span class=\"nd\">sub_KJTR </span></div><div class=\"children hor wrap \"><div class=\"contnr c1   lno rno \" ><div class=\"lbl c1  \" ><span class=\"nd\">sub_TCGNT </span></div><div class=\"children hor wrap \"><div class=\"contnr c1   lno rno \" ><div class=\"lbl c1  \" ><span class=\"nd\">sub_SR </span></div><div class=\"children hor wrap \"><div class=\"contnr c0 trm   \" ><div class=\"lbl c0 trm \" ><span class=\"txtu\">αγγελος</span></div></div></div></div></div></div></div></div></div></div></div></div><div class=\"contnr c1    \" ><div class=\"lbl c1  \" ><span class=\"nd\">sub_SBL </span></div><div class=\"children hor wrap \"><div class=\"contnr c1   lno rno \" ><div class=\"lbl c1  \" ><span class=\"nd\">sub_TISCH </span></div><div class=\"children hor wrap \"><div class=\"contnr c1   lno rno \" ><div class=\"lbl c1  \" ><span class=\"nd\">sub_KJTR </span></div><div class=\"children hor wrap \"><div class=\"contnr c1   lno rno \" ><div class=\"lbl c1  \" ><span class=\"nd\">sub_TCGNT </span></div><div class=\"children hor wrap \"><div class=\"contnr c1   lno rno \" ><div class=\"lbl c1  \" ><span class=\"nd\">sub_SR </span></div><div class=\"children hor wrap \"><div class=\"contnr c0 trm   \" ><div class=\"lbl c0 trm \" ><span class=\"txtu\">γαρ</span></div></div></div></div></div></div></div></div></div></div></div></div><div class=\"contnr c1   rno \" ><div class=\"lbl c1  \" ><span class=\"nd\">sub_SBL </span></div><div class=\"children hor wrap \"><div class=\"contnr c1   lno \" ><div class=\"lbl c1  \" ><span class=\"nd\">sub_TISCH </span></div><div class=\"children hor wrap \"><div class=\"contnr c1   lno rno \" ><div class=\"lbl c1  \" ><span class=\"nd\">sub_KJTR </span></div><div class=\"children hor wrap \"><div class=\"contnr c1   lno \" ><div class=\"lbl c1  \" ><span class=\"nd\">sub_TCGNT </span></div><div class=\"children hor wrap \"><div class=\"contnr c1   lno \" ><div class=\"lbl c1  \" ><span class=\"nd\">sub_SR </span></div><div class=\"children hor wrap \"><div class=\"contnr c0 trm   \" ><div class=\"lbl c0 trm \" ><span class=\"txtu\">κατα</span></div></div></div></div><div class=\"contnr c1    \" ><div class=\"lbl c1  \" ><span class=\"nd\">sub_SR </span></div><div class=\"children hor wrap \"><div class=\"contnr c0 trm   \" ><div class=\"lbl c0 trm \" ><span class=\"txtu\">καιρον</span></div></div></div></div><div class=\"contnr c1    \" ><div class=\"lbl c1  \" ><span class=\"nd\">sub_SR </span></div><div class=\"children hor wrap \"><div class=\"contnr c0 trm   \" ><div class=\"lbl c0 trm \" ><span class=\"txtu\">κατεβαινεν</span></div></div></div></div><div class=\"contnr c1   rno \" ><div class=\"lbl c1  \" ><span class=\"nd\">sub_SR </span></div><div class=\"children hor wrap \"><div class=\"contnr c0 trm   \" ><div class=\"lbl c0 trm \" ><span class=\"txtu\">εν</span></div></div><div class=\"contnr c0 trm   \" ><div class=\"lbl c0 trm \" ><span class=\"txtu\">τη</span></div></div></div></div></div></div></div></div></div></div><div class=\"contnr c1    \" ><div class=\"lbl c1  \" ><span class=\"nd\">sub_TISCH </span></div><div class=\"children hor wrap \"><div class=\"contnr c1   lno \" ><div class=\"lbl c1  \" ><span class=\"nd\">sub_KJTR </span></div><div class=\"children hor wrap \"><div class=\"contnr c1   rno \" ><div class=\"lbl c1  \" ><span class=\"nd\">sub_TCGNT </span></div><div class=\"children hor wrap \"><div class=\"contnr c1   lno rno \" ><div class=\"lbl c1  \" ><span class=\"nd\">sub_SR </span></div><div class=\"children hor wrap \"><div class=\"contnr c0 trm   \" ><div class=\"lbl c0 trm \" ><span class=\"txtu\">κολυμβηθρα</span></div></div><div class=\"contnr c0 trm   \" ><div class=\"lbl c0 trm \" ><span class=\"txtu\">και</span></div></div><div class=\"contnr c0 trm   \" ><div class=\"lbl c0 trm \" ><span class=\"txtu\">εταρασσε</span></div></div></div></div></div></div></div></div><div class=\"contnr c1   rno \" ><div class=\"lbl c1  \" ><span class=\"nd\">sub_KJTR </span></div><div class=\"children hor wrap \"><div class=\"contnr c1   lno rno \" ><div class=\"lbl c1  \" ><span class=\"nd\">sub_TCGNT </span></div><div class=\"children hor wrap \"><div class=\"contnr c1   lno \" ><div class=\"lbl c1  \" ><span class=\"nd\">sub_SR </span></div><div class=\"children hor wrap \"><div class=\"contnr c0 trm   \" ><div class=\"lbl c0 trm \" ><span class=\"txtu\">το</span></div></div><div class=\"contnr c0 trm   \" ><div class=\"lbl c0 trm \" ><span class=\"txtu\">υδωρ·</span></div></div></div></div></div></div></div></div></div></div></div></div></div></div><div class=\"contnr c1    \" ><div class=\"lbl c1  \" ><span class=\"nd\">sub_N1904 </span></div><div class=\"children hor wrap \"><div class=\"contnr c1   lno \" ><div class=\"lbl c1  \" ><span class=\"nd\">sub_SBL </span></div><div class=\"children hor wrap \"><div class=\"contnr c1   rno \" ><div class=\"lbl c1  \" ><span class=\"nd\">sub_TISCH </span></div><div class=\"children hor wrap \"><div class=\"contnr c1   lno rno \" ><div class=\"lbl c1  \" ><span class=\"nd\">sub_KJTR </span></div><div class=\"children hor wrap \"><div class=\"contnr c1   lno rno \" ><div class=\"lbl c1  \" ><span class=\"nd\">sub_TCGNT </span></div><div class=\"children hor wrap \"><div class=\"contnr c1   rno \" ><div class=\"lbl c1  \" ><span class=\"nd\">sub_SR </span></div><div class=\"children hor wrap \"><div class=\"contnr c0 trm   \" ><div class=\"lbl c0 trm \" ><span class=\"txtu\">ο</span></div></div><div class=\"contnr c0 trm   \" ><div class=\"lbl c0 trm \" ><span class=\"txtu\">ουν</span></div></div><div class=\"contnr c0 trm   \" ><div class=\"lbl c0 trm \" ><span class=\"txtu\">πρωτος</span></div></div><div class=\"contnr c0 trm   \" ><div class=\"lbl c0 trm \" ><span class=\"txtu\">εμβας</span></div></div></div></div></div></div></div></div></div></div></div></div><div class=\"contnr c1    \" ><div class=\"lbl c1  \" ><span class=\"nd\">sub_SBL </span></div><div class=\"children hor wrap \"><div class=\"contnr c1   lno \" ><div class=\"lbl c1  \" ><span class=\"nd\">sub_TISCH </span></div><div class=\"children hor wrap \"><div class=\"contnr c1   lno rno \" ><div class=\"lbl c1  \" ><span class=\"nd\">sub_KJTR </span></div><div class=\"children hor wrap \"><div class=\"contnr c1   lno rno \" ><div class=\"lbl c1  \" ><span class=\"nd\">sub_TCGNT </span></div><div class=\"children hor wrap \"><div class=\"contnr c1   lno rno \" ><div class=\"lbl c1  \" ><span class=\"nd\">sub_SR </span></div><div class=\"children hor wrap \"><div class=\"contnr c0 trm   \" ><div class=\"lbl c0 trm \" ><span class=\"txtu\">μετα</span></div></div><div class=\"contnr c0 trm   \" ><div class=\"lbl c0 trm \" ><span class=\"txtu\">την</span></div></div><div class=\"contnr c0 trm   \" ><div class=\"lbl c0 trm \" ><span class=\"txtu\">ταραχην</span></div></div></div></div></div></div></div></div></div></div><div class=\"contnr c1    \" ><div class=\"lbl c1  \" ><span class=\"nd\">sub_TISCH </span></div><div class=\"children hor wrap \"><div class=\"contnr c1   lno rno \" ><div class=\"lbl c1  \" ><span class=\"nd\">sub_KJTR </span></div><div class=\"children hor wrap \"><div class=\"contnr c1   lno rno \" ><div class=\"lbl c1  \" ><span class=\"nd\">sub_TCGNT </span></div><div class=\"children hor wrap \"><div class=\"contnr c1   lno rno \" ><div class=\"lbl c1  \" ><span class=\"nd\">sub_SR </span></div><div class=\"children hor wrap \"><div class=\"contnr c0 trm   \" ><div class=\"lbl c0 trm \" ><span class=\"txtu\">του</span></div></div><div class=\"contnr c0 trm   \" ><div class=\"lbl c0 trm \" ><span class=\"txtu\">υδατος</span></div></div></div></div></div></div></div></div></div></div></div></div><div class=\"contnr c1   rno \" ><div class=\"lbl c1  \" ><span class=\"nd\">sub_SBL </span></div><div class=\"children hor wrap \"><div class=\"contnr c1   rno \" ><div class=\"lbl c1  \" ><span class=\"nd\">sub_TISCH </span></div><div class=\"children hor wrap \"><div class=\"contnr c1   lno \" ><div class=\"lbl c1  \" ><span class=\"nd\">sub_KJTR </span></div><div class=\"children hor wrap \"><div class=\"contnr c1   lno \" ><div class=\"lbl c1  \" ><span class=\"nd\">sub_TCGNT </span></div><div class=\"children hor wrap \"><div class=\"contnr c1   lno rno \" ><div class=\"lbl c1  \" ><span class=\"nd\">sub_SR </span></div><div class=\"children hor wrap \"><div class=\"contnr c0 trm   \" ><div class=\"lbl c0 trm \" ><span class=\"txtu\">υγιης</span></div></div></div></div></div></div><div class=\"contnr c1   rno \" ><div class=\"lbl c1  \" ><span class=\"nd\">sub_TCGNT </span></div><div class=\"children hor wrap \"><div class=\"contnr c1   lno rno \" ><div class=\"lbl c1  \" ><span class=\"nd\">sub_SR </span></div><div class=\"children hor wrap \"><div class=\"contnr c0 trm   \" ><div class=\"lbl c0 trm \" ><span class=\"txtu\">εγινετο,</span></div></div></div></div></div></div></div></div></div></div></div></div></div></div><div class=\"contnr c1   rno \" ><div class=\"lbl c1  \" ><span class=\"nd\">sub_N1904 </span></div><div class=\"children hor wrap \"><div class=\"contnr c1   lno rno \" ><div class=\"lbl c1  \" ><span class=\"nd\">sub_SBL </span></div><div class=\"children hor wrap \"><div class=\"contnr c1   lno \" ><div class=\"lbl c1  \" ><span class=\"nd\">sub_TISCH </span></div><div class=\"children hor wrap \"><div class=\"contnr c1   rno \" ><div class=\"lbl c1  \" ><span class=\"nd\">sub_KJTR </span></div><div class=\"children hor wrap \"><div class=\"contnr c1   lno rno \" ><div class=\"lbl c1  \" ><span class=\"nd\">sub_TCGNT </span></div><div class=\"children hor wrap \"><div class=\"contnr c1   lno rno \" ><div class=\"lbl c1  \" ><span class=\"nd\">sub_SR </span></div><div class=\"children hor wrap \"><div class=\"contnr c0 trm   \" ><div class=\"lbl c0 trm \" ><span class=\"txtu\">ω</span></div></div></div></div></div></div></div></div></div></div><div class=\"contnr c1   rno \" ><div class=\"lbl c1  \" ><span class=\"nd\">sub_TISCH </span></div><div class=\"children hor wrap \"><div class=\"contnr c1   lno rno \" ><div class=\"lbl c1  \" ><span class=\"nd\">sub_KJTR </span></div><div class=\"children hor wrap \"><div class=\"contnr c1   lno \" ><div class=\"lbl c1  \" ><span class=\"nd\">sub_TCGNT </span></div><div class=\"children hor wrap \"><div class=\"contnr c1   lno \" ><div class=\"lbl c1  \" ><span class=\"nd\">sub_SR </span></div><div class=\"children hor wrap \"><div class=\"contnr c0 trm   \" ><div class=\"lbl c0 trm \" ><span class=\"txtu\">δηποτε</span></div></div></div></div><div class=\"contnr c1   rno hl\" ><div class=\"lbl c1  hl\" ><span class=\"nd\">sub_SR </span></div><div class=\"children hor wrap \"><div class=\"contnr c0 trm   \" ><div class=\"lbl c0 trm \" ><span class=\"txtu\">κατειχετο</span></div></div></div></div></div></div><div class=\"contnr c1   rno \" ><div class=\"lbl c1  \" ><span class=\"nd\">sub_TCGNT </span></div><div class=\"children hor wrap \"><div class=\"contnr c1   lno rno hl\" ><div class=\"lbl c1  hl\" ><span class=\"nd\">sub_SR </span></div><div class=\"children hor wrap \"><div class=\"contnr c0 trm   \" ><div class=\"lbl c0 trm \" ><span class=\"txtu\">νοσηματι.</span></div></div></div></div></div></div></div></div></div></div></div></div></div></div></div></div></div>"
      ],
      "text/plain": [
       "<IPython.core.display.HTML object>"
      ]
     },
     "metadata": {},
     "output_type": "display_data"
    },
    {
     "data": {
      "text/html": [
       "<p><b>verse</b> <i>7</i>"
      ],
      "text/plain": [
       "<IPython.core.display.HTML object>"
      ]
     },
     "metadata": {},
     "output_type": "display_data"
    },
    {
     "data": {
      "text/html": [
       "<div class=\"tfsechead \"><span class=\"ltr\"><a target=\"_blank\" href=\"https://bibleol.3bmoodle.dk/text/show_text/nestle1904/John/5/5\" sec=\"John 5:5\">John 5:5</a></span></div><div class=\" children pr-mode\"><div class=\"contnr c3    \" ><div class=\"lbl c3  \" ><span class=\"nd\">verse </span> <span class=\"\"><span title=\"book\">John</span> <span title=\"chapter\">5</span>:<span title=\"verse\">5</span></span></div><div class=\"children hor wrap \"><div class=\"contnr c1   lno \" ><div class=\"lbl c1  \" ><span class=\"nd\">sub_N1904 </span></div><div class=\"children hor wrap \"><div class=\"contnr c1   lno \" ><div class=\"lbl c1  \" ><span class=\"nd\">sub_SBL </span></div><div class=\"children hor wrap \"><div class=\"contnr c1   lno \" ><div class=\"lbl c1  \" ><span class=\"nd\">sub_TISCH </span></div><div class=\"children hor wrap \"><div class=\"contnr c1   lno rno \" ><div class=\"lbl c1  \" ><span class=\"nd\">sub_KJTR </span></div><div class=\"children hor wrap \"><div class=\"contnr c1   lno rno \" ><div class=\"lbl c1  \" ><span class=\"nd\">sub_TCGNT </span></div><div class=\"children hor wrap \"><div class=\"contnr c1   lno rno hl\" ><div class=\"lbl c1  hl\" ><span class=\"nd\">sub_SR </span></div><div class=\"children hor wrap \"><div class=\"contnr c0 trm   \" ><div class=\"lbl c0 trm \" ><span class=\"txtu\">ην</span></div></div></div></div></div></div></div></div></div></div></div></div><div class=\"contnr c1    \" ><div class=\"lbl c1  \" ><span class=\"nd\">sub_SBL </span></div><div class=\"children hor wrap \"><div class=\"contnr c1    \" ><div class=\"lbl c1  \" ><span class=\"nd\">sub_TISCH </span></div><div class=\"children hor wrap \"><div class=\"contnr c1   lno rno \" ><div class=\"lbl c1  \" ><span class=\"nd\">sub_KJTR </span></div><div class=\"children hor wrap \"><div class=\"contnr c1   lno rno \" ><div class=\"lbl c1  \" ><span class=\"nd\">sub_TCGNT </span></div><div class=\"children hor wrap \"><div class=\"contnr c1   lno rno hl\" ><div class=\"lbl c1  hl\" ><span class=\"nd\">sub_SR </span></div><div class=\"children hor wrap \"><div class=\"contnr c0 trm   \" ><div class=\"lbl c0 trm \" ><span class=\"txtu\">δε</span></div></div></div></div></div></div></div></div></div></div><div class=\"contnr c1   rno hl\" ><div class=\"lbl c1  hl\" ><span class=\"nd\">sub_TISCH </span></div><div class=\"children hor wrap \"><div class=\"contnr c1   lno rno \" ><div class=\"lbl c1  \" ><span class=\"nd\">sub_KJTR </span></div><div class=\"children hor wrap \"><div class=\"contnr c1   lno rno \" ><div class=\"lbl c1  \" ><span class=\"nd\">sub_TCGNT </span></div><div class=\"children hor wrap \"><div class=\"contnr c1   lno rno hl\" ><div class=\"lbl c1  hl\" ><span class=\"nd\">sub_SR </span></div><div class=\"children hor wrap \"><div class=\"contnr c0 trm   \" ><div class=\"lbl c0 trm \" ><span class=\"txtu\">τις</span></div></div></div></div></div></div></div></div></div></div></div></div><div class=\"contnr c1    hl\" ><div class=\"lbl c1  hl\" ><span class=\"nd\">sub_SBL </span></div><div class=\"children hor wrap \"><div class=\"contnr c1   lno hl\" ><div class=\"lbl c1  hl\" ><span class=\"nd\">sub_TISCH </span></div><div class=\"children hor wrap \"><div class=\"contnr c1   lno rno \" ><div class=\"lbl c1  \" ><span class=\"nd\">sub_KJTR </span></div><div class=\"children hor wrap \"><div class=\"contnr c1   lno rno \" ><div class=\"lbl c1  \" ><span class=\"nd\">sub_TCGNT </span></div><div class=\"children hor wrap \"><div class=\"contnr c1   lno hl\" ><div class=\"lbl c1  hl\" ><span class=\"nd\">sub_SR </span></div><div class=\"children hor wrap \"><div class=\"contnr c0 trm   hl\" ><div class=\"lbl c0 trm hl\" ><span class=\"txtu\">ανθρωπος</span></div></div><div class=\"contnr c0 trm   \" ><div class=\"lbl c0 trm \" ><span class=\"txtu\">εκει</span></div></div></div></div></div></div></div></div></div></div><div class=\"contnr c1   rno \" ><div class=\"lbl c1  \" ><span class=\"nd\">sub_TISCH </span></div><div class=\"children hor wrap \"><div class=\"contnr c1   lno rno \" ><div class=\"lbl c1  \" ><span class=\"nd\">sub_KJTR </span></div><div class=\"children hor wrap \"><div class=\"contnr c1   lno rno \" ><div class=\"lbl c1  \" ><span class=\"nd\">sub_TCGNT </span></div><div class=\"children hor wrap \"><div class=\"contnr c1   rno \" ><div class=\"lbl c1  \" ><span class=\"nd\">sub_SR </span></div><div class=\"children hor wrap \"><div class=\"contnr c0 trm   \" ><div class=\"lbl c0 trm \" ><span class=\"txtu\">τριακοντα</span></div></div></div></div></div></div></div></div></div></div></div></div><div class=\"contnr c1    \" ><div class=\"lbl c1  \" ><span class=\"nd\">sub_SBL </span></div><div class=\"children hor wrap \"><div class=\"contnr c1   lno rno \" ><div class=\"lbl c1  \" ><span class=\"nd\">sub_TISCH </span></div><div class=\"children hor wrap \"><div class=\"contnr c1   lno rno \" ><div class=\"lbl c1  \" ><span class=\"nd\">sub_KJTR </span></div><div class=\"children hor wrap \"><div class=\"contnr c1   lno \" ><div class=\"lbl c1  \" ><span class=\"nd\">sub_TCGNT </span></div><div class=\"children hor wrap \"><div class=\"contnr c1   lno \" ><div class=\"lbl c1  \" ><span class=\"nd\">sub_SR </span></div><div class=\"children hor wrap \"><div class=\"contnr c0 trm   \" ><div class=\"lbl c0 trm \" ><span class=\"txtu\">και</span></div></div></div></div><div class=\"contnr c1   rno \" ><div class=\"lbl c1  \" ><span class=\"nd\">sub_SR </span></div><div class=\"children hor wrap \"><div class=\"contnr c0 trm   \" ><div class=\"lbl c0 trm \" ><span class=\"txtu\">οκτω</span></div></div><div class=\"contnr c0 trm   \" ><div class=\"lbl c0 trm \" ><span class=\"txtu\">ετη</span></div></div></div></div></div></div><div class=\"contnr c1    \" ><div class=\"lbl c1  \" ><span class=\"nd\">sub_TCGNT </span></div><div class=\"children hor wrap \"><div class=\"contnr c1   lno rno \" ><div class=\"lbl c1  \" ><span class=\"nd\">sub_SR </span></div><div class=\"children hor wrap \"><div class=\"contnr c0 trm   \" ><div class=\"lbl c0 trm \" ><span class=\"txtu\">εχων</span></div></div></div></div></div></div></div></div></div></div></div></div><div class=\"contnr c1    \" ><div class=\"lbl c1  \" ><span class=\"nd\">sub_SBL </span></div><div class=\"children hor wrap \"><div class=\"contnr c1   lno rno \" ><div class=\"lbl c1  \" ><span class=\"nd\">sub_TISCH </span></div><div class=\"children hor wrap \"><div class=\"contnr c1   lno \" ><div class=\"lbl c1  \" ><span class=\"nd\">sub_KJTR </span></div><div class=\"children hor wrap \"><div class=\"contnr c1    \" ><div class=\"lbl c1  \" ><span class=\"nd\">sub_TCGNT </span></div><div class=\"children hor wrap \"><div class=\"contnr c1   lno rno \" ><div class=\"lbl c1  \" ><span class=\"nd\">sub_SR </span></div><div class=\"children hor wrap \"><div class=\"contnr c0 trm   \" ><div class=\"lbl c0 trm \" ><span class=\"txtu\">εν</span></div></div></div></div></div></div></div></div></div></div></div></div><div class=\"contnr c1   rno \" ><div class=\"lbl c1  \" ><span class=\"nd\">sub_SBL </span></div><div class=\"children hor wrap \"><div class=\"contnr c1   lno rno \" ><div class=\"lbl c1  \" ><span class=\"nd\">sub_TISCH </span></div><div class=\"children hor wrap \"><div class=\"contnr c1   rno \" ><div class=\"lbl c1  \" ><span class=\"nd\">sub_KJTR </span></div><div class=\"children hor wrap \"><div class=\"contnr c1    \" ><div class=\"lbl c1  \" ><span class=\"nd\">sub_TCGNT </span></div><div class=\"children hor wrap \"><div class=\"contnr c1   lno rno \" ><div class=\"lbl c1  \" ><span class=\"nd\">sub_SR </span></div><div class=\"children hor wrap \"><div class=\"contnr c0 trm   \" ><div class=\"lbl c0 trm \" ><span class=\"txtu\">τη</span></div></div></div></div></div></div><div class=\"contnr c1   rno \" ><div class=\"lbl c1  \" ><span class=\"nd\">sub_TCGNT </span></div><div class=\"children hor wrap \"><div class=\"contnr c1   lno \" ><div class=\"lbl c1  \" ><span class=\"nd\">sub_SR </span></div><div class=\"children hor wrap \"><div class=\"contnr c0 trm   \" ><div class=\"lbl c0 trm \" ><span class=\"txtu\">ασθενεια</span></div></div><div class=\"contnr c0 trm   \" ><div class=\"lbl c0 trm \" ><span class=\"txtu\">αυτου·</span></div></div></div></div></div></div></div></div></div></div></div></div></div></div></div></div></div>"
      ],
      "text/plain": [
       "<IPython.core.display.HTML object>"
      ]
     },
     "metadata": {},
     "output_type": "display_data"
    },
    {
     "data": {
      "text/html": [
       "<p><b>verse</b> <i>8</i>"
      ],
      "text/plain": [
       "<IPython.core.display.HTML object>"
      ]
     },
     "metadata": {},
     "output_type": "display_data"
    },
    {
     "data": {
      "text/html": [
       "<div class=\"tfsechead \"><span class=\"ltr\"><a target=\"_blank\" href=\"https://bibleol.3bmoodle.dk/text/show_text/nestle1904/John/5/9\" sec=\"John 5:9\">John 5:9</a></span></div><div class=\" children pr-mode\"><div class=\"contnr c3    \" ><div class=\"lbl c3  \" ><span class=\"nd\">verse </span> <span class=\"\"><span title=\"book\">John</span> <span title=\"chapter\">5</span>:<span title=\"verse\">9</span></span></div><div class=\"children hor wrap \"><div class=\"contnr c1   lno \" ><div class=\"lbl c1  \" ><span class=\"nd\">sub_N1904 </span></div><div class=\"children hor wrap \"><div class=\"contnr c1   lno \" ><div class=\"lbl c1  \" ><span class=\"nd\">sub_SBL </span></div><div class=\"children hor wrap \"><div class=\"contnr c1   lno rno \" ><div class=\"lbl c1  \" ><span class=\"nd\">sub_TISCH </span></div><div class=\"children hor wrap \"><div class=\"contnr c1   lno rno \" ><div class=\"lbl c1  \" ><span class=\"nd\">sub_KJTR </span></div><div class=\"children hor wrap \"><div class=\"contnr c1   lno \" ><div class=\"lbl c1  \" ><span class=\"nd\">sub_TCGNT </span></div><div class=\"children hor wrap \"><div class=\"contnr c1   lno rno \" ><div class=\"lbl c1  \" ><span class=\"nd\">sub_SR </span></div><div class=\"children hor wrap \"><div class=\"contnr c0 trm   \" ><div class=\"lbl c0 trm \" ><span class=\"txtu\">και</span></div></div></div></div></div></div></div></div></div></div></div></div><div class=\"contnr c1    \" ><div class=\"lbl c1  \" ><span class=\"nd\">sub_SBL </span></div><div class=\"children hor wrap \"><div class=\"contnr c1   lno \" ><div class=\"lbl c1  \" ><span class=\"nd\">sub_TISCH </span></div><div class=\"children hor wrap \"><div class=\"contnr c1   lno rno \" ><div class=\"lbl c1  \" ><span class=\"nd\">sub_KJTR </span></div><div class=\"children hor wrap \"><div class=\"contnr c1   rno \" ><div class=\"lbl c1  \" ><span class=\"nd\">sub_TCGNT </span></div><div class=\"children hor wrap \"><div class=\"contnr c1   lno rno \" ><div class=\"lbl c1  \" ><span class=\"nd\">sub_SR </span></div><div class=\"children hor wrap \"><div class=\"contnr c0 trm   \" ><div class=\"lbl c0 trm \" ><span class=\"txtu\">ευθεως</span></div></div></div></div></div></div></div></div></div></div><div class=\"contnr c1   rno hl\" ><div class=\"lbl c1  hl\" ><span class=\"nd\">sub_TISCH </span></div><div class=\"children hor wrap \"><div class=\"contnr c1   lno rno \" ><div class=\"lbl c1  \" ><span class=\"nd\">sub_KJTR </span></div><div class=\"children hor wrap \"><div class=\"contnr c1   lno rno \" ><div class=\"lbl c1  \" ><span class=\"nd\">sub_TCGNT </span></div><div class=\"children hor wrap \"><div class=\"contnr c1   lno rno \" ><div class=\"lbl c1  \" ><span class=\"nd\">sub_SR </span></div><div class=\"children hor wrap \"><div class=\"contnr c0 trm   \" ><div class=\"lbl c0 trm \" ><span class=\"txtu\">εγενετο</span></div></div></div></div></div></div></div></div></div></div></div></div><div class=\"contnr c1   rno \" ><div class=\"lbl c1  \" ><span class=\"nd\">sub_SBL </span></div><div class=\"children hor wrap \"><div class=\"contnr c1   lno hl\" ><div class=\"lbl c1  hl\" ><span class=\"nd\">sub_TISCH </span></div><div class=\"children hor wrap \"><div class=\"contnr c1   lno rno \" ><div class=\"lbl c1  \" ><span class=\"nd\">sub_KJTR </span></div><div class=\"children hor wrap \"><div class=\"contnr c1   lno \" ><div class=\"lbl c1  \" ><span class=\"nd\">sub_TCGNT </span></div><div class=\"children hor wrap \"><div class=\"contnr c1   lno rno \" ><div class=\"lbl c1  \" ><span class=\"nd\">sub_SR </span></div><div class=\"children hor wrap \"><div class=\"contnr c0 trm   \" ><div class=\"lbl c0 trm \" ><span class=\"txtu\">υγιης</span></div></div></div></div></div></div><div class=\"contnr c1   rno hl\" ><div class=\"lbl c1  hl\" ><span class=\"nd\">sub_TCGNT </span></div><div class=\"children hor wrap \"><div class=\"contnr c1   lno \" ><div class=\"lbl c1  \" ><span class=\"nd\">sub_SR </span></div><div class=\"children hor wrap \"><div class=\"contnr c0 trm   \" ><div class=\"lbl c0 trm \" ><span class=\"txtu\">ο</span></div></div></div></div><div class=\"contnr c1   rno hl\" ><div class=\"lbl c1  hl\" ><span class=\"nd\">sub_SR </span></div><div class=\"children hor wrap \"><div class=\"contnr c0 trm   hl\" ><div class=\"lbl c0 trm hl\" ><span class=\"txtu\">ανθρωπος,</span></div></div></div></div></div></div></div></div></div></div></div></div></div></div><div class=\"contnr c1   rno \" ><div class=\"lbl c1  \" ><span class=\"nd\">sub_N1904 </span></div><div class=\"children hor wrap \"><div class=\"contnr c1   lno \" ><div class=\"lbl c1  \" ><span class=\"nd\">sub_SBL </span></div><div class=\"children hor wrap \"><div class=\"contnr c1    \" ><div class=\"lbl c1  \" ><span class=\"nd\">sub_TISCH </span></div><div class=\"children hor wrap \"><div class=\"contnr c1   lno \" ><div class=\"lbl c1  \" ><span class=\"nd\">sub_KJTR </span></div><div class=\"children hor wrap \"><div class=\"contnr c1   lno hl\" ><div class=\"lbl c1  hl\" ><span class=\"nd\">sub_TCGNT </span></div><div class=\"children hor wrap \"><div class=\"contnr c1   lno hl\" ><div class=\"lbl c1  hl\" ><span class=\"nd\">sub_SR </span></div><div class=\"children hor wrap \"><div class=\"contnr c0 trm   \" ><div class=\"lbl c0 trm \" ><span class=\"txtu\">και</span></div></div></div></div><div class=\"contnr c1   rno \" ><div class=\"lbl c1  \" ><span class=\"nd\">sub_SR </span></div><div class=\"children hor wrap \"><div class=\"contnr c0 trm   \" ><div class=\"lbl c0 trm \" ><span class=\"txtu\">ηρεν</span></div></div></div></div></div></div><div class=\"contnr c1    \" ><div class=\"lbl c1  \" ><span class=\"nd\">sub_TCGNT </span></div><div class=\"children hor wrap \"><div class=\"contnr c1   lno rno \" ><div class=\"lbl c1  \" ><span class=\"nd\">sub_SR </span></div><div class=\"children hor wrap \"><div class=\"contnr c0 trm   \" ><div class=\"lbl c0 trm \" ><span class=\"txtu\">τον</span></div></div></div></div></div></div></div></div></div></div><div class=\"contnr c1   rno \" ><div class=\"lbl c1  \" ><span class=\"nd\">sub_TISCH </span></div><div class=\"children hor wrap \"><div class=\"contnr c1   rno \" ><div class=\"lbl c1  \" ><span class=\"nd\">sub_KJTR </span></div><div class=\"children hor wrap \"><div class=\"contnr c1    \" ><div class=\"lbl c1  \" ><span class=\"nd\">sub_TCGNT </span></div><div class=\"children hor wrap \"><div class=\"contnr c1   lno rno \" ><div class=\"lbl c1  \" ><span class=\"nd\">sub_SR </span></div><div class=\"children hor wrap \"><div class=\"contnr c0 trm   \" ><div class=\"lbl c0 trm \" ><span class=\"txtu\">κραβαττον</span></div></div><div class=\"contnr c0 trm   \" ><div class=\"lbl c0 trm \" ><span class=\"txtu\">αυτου</span></div></div><div class=\"contnr c0 trm   \" ><div class=\"lbl c0 trm \" ><span class=\"txtu\">και</span></div></div><div class=\"contnr c0 trm   \" ><div class=\"lbl c0 trm \" ><span class=\"txtu\">περιεπατει.</span></div></div></div></div></div></div><div class=\"contnr c1   rno \" ><div class=\"lbl c1  \" ><span class=\"nd\">sub_TCGNT </span></div><div class=\"children hor wrap \"><div class=\"contnr c1   lno rno \" ><div class=\"lbl c1  \" ><span class=\"nd\">sub_SR </span></div><div class=\"children hor wrap \"><div class=\"contnr c0 trm   \" ><div class=\"lbl c0 trm \" ><span class=\"txtu\">ην</span></div></div></div></div></div></div></div></div></div></div></div></div><div class=\"contnr c1   rno \" ><div class=\"lbl c1  \" ><span class=\"nd\">sub_SBL </span></div><div class=\"children hor wrap \"><div class=\"contnr c1   lno \" ><div class=\"lbl c1  \" ><span class=\"nd\">sub_TISCH </span></div><div class=\"children hor wrap \"><div class=\"contnr c1   lno \" ><div class=\"lbl c1  \" ><span class=\"nd\">sub_KJTR </span></div><div class=\"children hor wrap \"><div class=\"contnr c1   lno rno \" ><div class=\"lbl c1  \" ><span class=\"nd\">sub_TCGNT </span></div><div class=\"children hor wrap \"><div class=\"contnr c1   lno rno \" ><div class=\"lbl c1  \" ><span class=\"nd\">sub_SR </span></div><div class=\"children hor wrap \"><div class=\"contnr c0 trm   \" ><div class=\"lbl c0 trm \" ><span class=\"txtu\">δε</span></div></div><div class=\"contnr c0 trm   \" ><div class=\"lbl c0 trm \" ><span class=\"txtu\">σαββατον</span></div></div></div></div></div></div></div></div><div class=\"contnr c1   rno \" ><div class=\"lbl c1  \" ><span class=\"nd\">sub_KJTR </span></div><div class=\"children hor wrap \"><div class=\"contnr c1   lno \" ><div class=\"lbl c1  \" ><span class=\"nd\">sub_TCGNT </span></div><div class=\"children hor wrap \"><div class=\"contnr c1   lno rno \" ><div class=\"lbl c1  \" ><span class=\"nd\">sub_SR </span></div><div class=\"children hor wrap \"><div class=\"contnr c0 trm   \" ><div class=\"lbl c0 trm \" ><span class=\"txtu\">εν</span></div></div></div></div></div></div></div></div></div></div><div class=\"contnr c1   rno \" ><div class=\"lbl c1  \" ><span class=\"nd\">sub_TISCH </span></div><div class=\"children hor wrap \"><div class=\"contnr c1   lno \" ><div class=\"lbl c1  \" ><span class=\"nd\">sub_KJTR </span></div><div class=\"children hor wrap \"><div class=\"contnr c1   rno \" ><div class=\"lbl c1  \" ><span class=\"nd\">sub_TCGNT </span></div><div class=\"children hor wrap \"><div class=\"contnr c1   lno rno \" ><div class=\"lbl c1  \" ><span class=\"nd\">sub_SR </span></div><div class=\"children hor wrap \"><div class=\"contnr c0 trm   \" ><div class=\"lbl c0 trm \" ><span class=\"txtu\">εκεινη</span></div></div></div></div></div></div></div></div><div class=\"contnr c1   rno \" ><div class=\"lbl c1  \" ><span class=\"nd\">sub_KJTR </span></div><div class=\"children hor wrap \"><div class=\"contnr c1   lno rno \" ><div class=\"lbl c1  \" ><span class=\"nd\">sub_TCGNT </span></div><div class=\"children hor wrap \"><div class=\"contnr c1   lno \" ><div class=\"lbl c1  \" ><span class=\"nd\">sub_SR </span></div><div class=\"children hor wrap \"><div class=\"contnr c0 trm   \" ><div class=\"lbl c0 trm \" ><span class=\"txtu\">τη</span></div></div></div></div><div class=\"contnr c1   rno \" ><div class=\"lbl c1  \" ><span class=\"nd\">sub_SR </span></div><div class=\"children hor wrap \"><div class=\"contnr c0 trm   \" ><div class=\"lbl c0 trm \" ><span class=\"txtu\">ημερα.</span></div></div></div></div></div></div></div></div></div></div></div></div></div></div></div></div></div>"
      ],
      "text/plain": [
       "<IPython.core.display.HTML object>"
      ]
     },
     "metadata": {},
     "output_type": "display_data"
    },
    {
     "data": {
      "text/html": [
       "<p><b>verse</b> <i>9</i>"
      ],
      "text/plain": [
       "<IPython.core.display.HTML object>"
      ]
     },
     "metadata": {},
     "output_type": "display_data"
    },
    {
     "data": {
      "text/html": [
       "<div class=\"tfsechead \"><span class=\"ltr\"><a target=\"_blank\" href=\"https://bibleol.3bmoodle.dk/text/show_text/nestle1904/John/5/12\" sec=\"John 5:12\">John 5:12</a></span></div><div class=\" children pr-mode\"><div class=\"contnr c3    \" ><div class=\"lbl c3  \" ><span class=\"nd\">verse </span> <span class=\"\"><span title=\"book\">John</span> <span title=\"chapter\">5</span>:<span title=\"verse\">12</span></span></div><div class=\"children hor wrap \"><div class=\"contnr c1   lno \" ><div class=\"lbl c1  \" ><span class=\"nd\">sub_N1904 </span></div><div class=\"children hor wrap \"><div class=\"contnr c1   lno rno \" ><div class=\"lbl c1  \" ><span class=\"nd\">sub_SBL </span></div><div class=\"children hor wrap \"><div class=\"contnr c1   lno \" ><div class=\"lbl c1  \" ><span class=\"nd\">sub_TISCH </span></div><div class=\"children hor wrap \"><div class=\"contnr c1    \" ><div class=\"lbl c1  \" ><span class=\"nd\">sub_KJTR </span></div><div class=\"children hor wrap \"><div class=\"contnr c1   lno rno \" ><div class=\"lbl c1  \" ><span class=\"nd\">sub_TCGNT </span></div><div class=\"children hor wrap \"><div class=\"contnr c1   lno rno \" ><div class=\"lbl c1  \" ><span class=\"nd\">sub_SR </span></div><div class=\"children hor wrap \"><div class=\"contnr c0 trm   \" ><div class=\"lbl c0 trm \" ><span class=\"txtu\">ηρωτησαν</span></div></div></div></div></div></div></div></div><div class=\"contnr c1   rno \" ><div class=\"lbl c1  \" ><span class=\"nd\">sub_KJTR </span></div><div class=\"children hor wrap \"><div class=\"contnr c1   lno rno \" ><div class=\"lbl c1  \" ><span class=\"nd\">sub_TCGNT </span></div><div class=\"children hor wrap \"><div class=\"contnr c1   lno \" ><div class=\"lbl c1  \" ><span class=\"nd\">sub_SR </span></div><div class=\"children hor wrap \"><div class=\"contnr c0 trm   \" ><div class=\"lbl c0 trm \" ><span class=\"txtu\">αυτον</span></div></div><div class=\"contnr c0 trm   \" ><div class=\"lbl c0 trm \" ><span class=\"txtu\">τις</span></div></div></div></div></div></div></div></div></div></div><div class=\"contnr c1    hl\" ><div class=\"lbl c1  hl\" ><span class=\"nd\">sub_TISCH </span></div><div class=\"children hor wrap \"><div class=\"contnr c1   lno \" ><div class=\"lbl c1  \" ><span class=\"nd\">sub_KJTR </span></div><div class=\"children hor wrap \"><div class=\"contnr c1   lno rno \" ><div class=\"lbl c1  \" ><span class=\"nd\">sub_TCGNT </span></div><div class=\"children hor wrap \"><div class=\"contnr c1   rno \" ><div class=\"lbl c1  \" ><span class=\"nd\">sub_SR </span></div><div class=\"children hor wrap \"><div class=\"contnr c0 trm   \" ><div class=\"lbl c0 trm \" ><span class=\"txtu\">εστιν</span></div></div><div class=\"contnr c0 trm   \" ><div class=\"lbl c0 trm \" ><span class=\"txtu\">ο</span></div></div></div></div></div></div></div></div><div class=\"contnr c1   rno \" ><div class=\"lbl c1  \" ><span class=\"nd\">sub_KJTR </span></div><div class=\"children hor wrap \"><div class=\"contnr c1   lno rno \" ><div class=\"lbl c1  \" ><span class=\"nd\">sub_TCGNT </span></div><div class=\"children hor wrap \"><div class=\"contnr c1   lno rno \" ><div class=\"lbl c1  \" ><span class=\"nd\">sub_SR </span></div><div class=\"children hor wrap \"><div class=\"contnr c0 trm   hl\" ><div class=\"lbl c0 trm hl\" ><span class=\"txtu\">ανθρωπος</span></div></div></div></div></div></div></div></div></div></div><div class=\"contnr c1    \" ><div class=\"lbl c1  \" ><span class=\"nd\">sub_TISCH </span></div><div class=\"children hor wrap \"><div class=\"contnr c1   lno rno \" ><div class=\"lbl c1  \" ><span class=\"nd\">sub_KJTR </span></div><div class=\"children hor wrap \"><div class=\"contnr c1   lno rno \" ><div class=\"lbl c1  \" ><span class=\"nd\">sub_TCGNT </span></div><div class=\"children hor wrap \"><div class=\"contnr c1   lno rno \" ><div class=\"lbl c1  \" ><span class=\"nd\">sub_SR </span></div><div class=\"children hor wrap \"><div class=\"contnr c0 trm   \" ><div class=\"lbl c0 trm \" ><span class=\"txtu\">ο</span></div></div><div class=\"contnr c0 trm   \" ><div class=\"lbl c0 trm \" ><span class=\"txtu\">ειπων</span></div></div></div></div></div></div></div></div></div></div><div class=\"contnr c1   rno \" ><div class=\"lbl c1  \" ><span class=\"nd\">sub_TISCH </span></div><div class=\"children hor wrap \"><div class=\"contnr c1   lno rno \" ><div class=\"lbl c1  \" ><span class=\"nd\">sub_KJTR </span></div><div class=\"children hor wrap \"><div class=\"contnr c1   lno rno \" ><div class=\"lbl c1  \" ><span class=\"nd\">sub_TCGNT </span></div><div class=\"children hor wrap \"><div class=\"contnr c1   lno rno \" ><div class=\"lbl c1  \" ><span class=\"nd\">sub_SR </span></div><div class=\"children hor wrap \"><div class=\"contnr c0 trm   \" ><div class=\"lbl c0 trm \" ><span class=\"txtu\">σοι</span></div></div><div class=\"contnr c0 trm   \" ><div class=\"lbl c0 trm \" ><span class=\"txtu\">αρον</span></div></div><div class=\"contnr c0 trm   \" ><div class=\"lbl c0 trm \" ><span class=\"txtu\">και</span></div></div><div class=\"contnr c0 trm   \" ><div class=\"lbl c0 trm \" ><span class=\"txtu\">περιπατει;</span></div></div></div></div></div></div></div></div></div></div></div></div></div></div></div></div></div>"
      ],
      "text/plain": [
       "<IPython.core.display.HTML object>"
      ]
     },
     "metadata": {},
     "output_type": "display_data"
    },
    {
     "data": {
      "text/html": [
       "<p><b>verse</b> <i>10</i>"
      ],
      "text/plain": [
       "<IPython.core.display.HTML object>"
      ]
     },
     "metadata": {},
     "output_type": "display_data"
    },
    {
     "data": {
      "text/html": [
       "<div class=\"tfsechead \"><span class=\"ltr\"><a target=\"_blank\" href=\"https://bibleol.3bmoodle.dk/text/show_text/nestle1904/John/5/14\" sec=\"John 5:14\">John 5:14</a></span></div><div class=\" children pr-mode\"><div class=\"contnr c3    \" ><div class=\"lbl c3  \" ><span class=\"nd\">verse </span> <span class=\"\"><span title=\"book\">John</span> <span title=\"chapter\">5</span>:<span title=\"verse\">14</span></span></div><div class=\"children hor wrap \"><div class=\"contnr c1   lno \" ><div class=\"lbl c1  \" ><span class=\"nd\">sub_N1904 </span></div><div class=\"children hor wrap \"><div class=\"contnr c1   lno rno \" ><div class=\"lbl c1  \" ><span class=\"nd\">sub_SBL </span></div><div class=\"children hor wrap \"><div class=\"contnr c1   lno \" ><div class=\"lbl c1  \" ><span class=\"nd\">sub_TISCH </span></div><div class=\"children hor wrap \"><div class=\"contnr c1   lno \" ><div class=\"lbl c1  \" ><span class=\"nd\">sub_KJTR </span></div><div class=\"children hor wrap \"><div class=\"contnr c1   lno \" ><div class=\"lbl c1  \" ><span class=\"nd\">sub_TCGNT </span></div><div class=\"children hor wrap \"><div class=\"contnr c1   lno rno \" ><div class=\"lbl c1  \" ><span class=\"nd\">sub_SR </span></div><div class=\"children hor wrap \"><div class=\"contnr c0 trm   \" ><div class=\"lbl c0 trm \" ><span class=\"txtu\">μετα</span></div></div><div class=\"contnr c0 trm   \" ><div class=\"lbl c0 trm \" ><span class=\"txtu\">ταυτα</span></div></div></div></div></div></div><div class=\"contnr c1    \" ><div class=\"lbl c1  \" ><span class=\"nd\">sub_TCGNT </span></div><div class=\"children hor wrap \"><div class=\"contnr c1   lno rno \" ><div class=\"lbl c1  \" ><span class=\"nd\">sub_SR </span></div><div class=\"children hor wrap \"><div class=\"contnr c0 trm   \" ><div class=\"lbl c0 trm \" ><span class=\"txtu\">ευρισκει</span></div></div><div class=\"contnr c0 trm   \" ><div class=\"lbl c0 trm \" ><span class=\"txtu\">αυτον</span></div></div><div class=\"contnr c0 trm   \" ><div class=\"lbl c0 trm \" ><span class=\"txtu\">ο</span></div></div></div></div></div></div></div></div><div class=\"contnr c1   rno \" ><div class=\"lbl c1  \" ><span class=\"nd\">sub_KJTR </span></div><div class=\"children hor wrap \"><div class=\"contnr c1   rno \" ><div class=\"lbl c1  \" ><span class=\"nd\">sub_TCGNT </span></div><div class=\"children hor wrap \"><div class=\"contnr c1   lno \" ><div class=\"lbl c1  \" ><span class=\"nd\">sub_SR </span></div><div class=\"children hor wrap \"><div class=\"contnr c0 trm   \" ><div class=\"lbl c0 trm \" ><span class=\"txtu\">ιησους</span></div></div></div></div><div class=\"contnr c1   rno \" ><div class=\"lbl c1  \" ><span class=\"nd\">sub_SR </span></div><div class=\"children hor wrap \"><div class=\"contnr c0 trm   \" ><div class=\"lbl c0 trm \" ><span class=\"txtu\">εν</span></div></div><div class=\"contnr c0 trm   \" ><div class=\"lbl c0 trm \" ><span class=\"txtu\">τω</span></div></div></div></div></div></div></div></div></div></div><div class=\"contnr c1   rno \" ><div class=\"lbl c1  \" ><span class=\"nd\">sub_TISCH </span></div><div class=\"children hor wrap \"><div class=\"contnr c1   lno \" ><div class=\"lbl c1  \" ><span class=\"nd\">sub_KJTR </span></div><div class=\"children hor wrap \"><div class=\"contnr c1   lno \" ><div class=\"lbl c1  \" ><span class=\"nd\">sub_TCGNT </span></div><div class=\"children hor wrap \"><div class=\"contnr c1   lno rno \" ><div class=\"lbl c1  \" ><span class=\"nd\">sub_SR </span></div><div class=\"children hor wrap \"><div class=\"contnr c0 trm   \" ><div class=\"lbl c0 trm \" ><span class=\"txtu\">ιερω</span></div></div><div class=\"contnr c0 trm   \" ><div class=\"lbl c0 trm \" ><span class=\"txtu\">και</span></div></div><div class=\"contnr c0 trm   \" ><div class=\"lbl c0 trm \" ><span class=\"txtu\">ειπεν</span></div></div><div class=\"contnr c0 trm   \" ><div class=\"lbl c0 trm \" ><span class=\"txtu\">αυτω</span></div></div><div class=\"contnr c0 trm   \" ><div class=\"lbl c0 trm \" ><span class=\"txtu\">ιδε</span></div></div><div class=\"contnr c0 trm   \" ><div class=\"lbl c0 trm \" ><span class=\"txtu\">υγιης</span></div></div></div></div></div></div><div class=\"contnr c1   rno \" ><div class=\"lbl c1  \" ><span class=\"nd\">sub_TCGNT </span></div><div class=\"children hor wrap \"><div class=\"contnr c1   lno rno \" ><div class=\"lbl c1  \" ><span class=\"nd\">sub_SR </span></div><div class=\"children hor wrap \"><div class=\"contnr c0 trm   \" ><div class=\"lbl c0 trm \" ><span class=\"txtu\">γεγονας·</span></div></div></div></div></div></div></div></div></div></div></div></div></div></div><div class=\"contnr c1    \" ><div class=\"lbl c1  \" ><span class=\"nd\">sub_N1904 </span></div><div class=\"children hor wrap \"><div class=\"contnr c1   lno rno \" ><div class=\"lbl c1  \" ><span class=\"nd\">sub_SBL </span></div><div class=\"children hor wrap \"><div class=\"contnr c1   lno \" ><div class=\"lbl c1  \" ><span class=\"nd\">sub_TISCH </span></div><div class=\"children hor wrap \"><div class=\"contnr c1   rno \" ><div class=\"lbl c1  \" ><span class=\"nd\">sub_KJTR </span></div><div class=\"children hor wrap \"><div class=\"contnr c1   lno rno \" ><div class=\"lbl c1  \" ><span class=\"nd\">sub_TCGNT </span></div><div class=\"children hor wrap \"><div class=\"contnr c1   lno rno \" ><div class=\"lbl c1  \" ><span class=\"nd\">sub_SR </span></div><div class=\"children hor wrap \"><div class=\"contnr c0 trm   \" ><div class=\"lbl c0 trm \" ><span class=\"txtu\">μηκετι</span></div></div><div class=\"contnr c0 trm   \" ><div class=\"lbl c0 trm \" ><span class=\"txtu\">αμαρτανε,</span></div></div></div></div></div></div></div></div></div></div></div></div></div></div><div class=\"contnr c1   rno \" ><div class=\"lbl c1  \" ><span class=\"nd\">sub_N1904 </span></div><div class=\"children hor wrap \"><div class=\"contnr c1   lno rno \" ><div class=\"lbl c1  \" ><span class=\"nd\">sub_SBL </span></div><div class=\"children hor wrap \"><div class=\"contnr c1    \" ><div class=\"lbl c1  \" ><span class=\"nd\">sub_TISCH </span></div><div class=\"children hor wrap \"><div class=\"contnr c1   lno \" ><div class=\"lbl c1  \" ><span class=\"nd\">sub_KJTR </span></div><div class=\"children hor wrap \"><div class=\"contnr c1   lno rno \" ><div class=\"lbl c1  \" ><span class=\"nd\">sub_TCGNT </span></div><div class=\"children hor wrap \"><div class=\"contnr c1   lno rno \" ><div class=\"lbl c1  \" ><span class=\"nd\">sub_SR </span></div><div class=\"children hor wrap \"><div class=\"contnr c0 trm   \" ><div class=\"lbl c0 trm \" ><span class=\"txtu\">ινα</span></div></div><div class=\"contnr c0 trm   \" ><div class=\"lbl c0 trm \" ><span class=\"txtu\">μη</span></div></div></div></div></div></div></div></div><div class=\"contnr c1    \" ><div class=\"lbl c1  \" ><span class=\"nd\">sub_KJTR </span></div><div class=\"children hor wrap \"><div class=\"contnr c1   lno \" ><div class=\"lbl c1  \" ><span class=\"nd\">sub_TCGNT </span></div><div class=\"children hor wrap \"><div class=\"contnr c1   lno \" ><div class=\"lbl c1  \" ><span class=\"nd\">sub_SR </span></div><div class=\"children hor wrap \"><div class=\"contnr c0 trm   \" ><div class=\"lbl c0 trm \" ><span class=\"txtu\">χειρον</span></div></div></div></div><div class=\"contnr c1   rno \" ><div class=\"lbl c1  \" ><span class=\"nd\">sub_SR </span></div><div class=\"children hor wrap \"><div class=\"contnr c0 trm   \" ><div class=\"lbl c0 trm \" ><span class=\"txtu\">σοι</span></div></div></div></div></div></div><div class=\"contnr c1   rno hl\" ><div class=\"lbl c1  hl\" ><span class=\"nd\">sub_TCGNT </span></div><div class=\"children hor wrap \"><div class=\"contnr c1   lno rno \" ><div class=\"lbl c1  \" ><span class=\"nd\">sub_SR </span></div><div class=\"children hor wrap \"><div class=\"contnr c0 trm   \" ><div class=\"lbl c0 trm \" ><span class=\"txtu\">τι</span></div></div></div></div></div></div></div></div><div class=\"contnr c1   rno hl\" ><div class=\"lbl c1  hl\" ><span class=\"nd\">sub_KJTR </span></div><div class=\"children hor wrap \"><div class=\"contnr c1   lno rno hl\" ><div class=\"lbl c1  hl\" ><span class=\"nd\">sub_TCGNT </span></div><div class=\"children hor wrap \"><div class=\"contnr c1   lno rno \" ><div class=\"lbl c1  \" ><span class=\"nd\">sub_SR </span></div><div class=\"children hor wrap \"><div class=\"contnr c0 trm   \" ><div class=\"lbl c0 trm \" ><span class=\"txtu\">γενηται.</span></div></div></div></div></div></div></div></div></div></div></div></div></div></div></div></div></div>"
      ],
      "text/plain": [
       "<IPython.core.display.HTML object>"
      ]
     },
     "metadata": {},
     "output_type": "display_data"
    },
    {
     "data": {
      "text/html": [
       "<p><b>verse</b> <i>11</i>"
      ],
      "text/plain": [
       "<IPython.core.display.HTML object>"
      ]
     },
     "metadata": {},
     "output_type": "display_data"
    },
    {
     "data": {
      "text/html": [
       "<div class=\"tfsechead \"><span class=\"ltr\"><a target=\"_blank\" href=\"https://bibleol.3bmoodle.dk/text/show_text/nestle1904/John/5/15\" sec=\"John 5:15\">John 5:15</a></span></div><div class=\" children pr-mode\"><div class=\"contnr c3    \" ><div class=\"lbl c3  \" ><span class=\"nd\">verse </span> <span class=\"\"><span title=\"book\">John</span> <span title=\"chapter\">5</span>:<span title=\"verse\">15</span></span></div><div class=\"children hor wrap \"><div class=\"contnr c1   lno rno \" ><div class=\"lbl c1  \" ><span class=\"nd\">sub_N1904 </span></div><div class=\"children hor wrap \"><div class=\"contnr c1   lno \" ><div class=\"lbl c1  \" ><span class=\"nd\">sub_SBL </span></div><div class=\"children hor wrap \"><div class=\"contnr c1   rno \" ><div class=\"lbl c1  \" ><span class=\"nd\">sub_TISCH </span></div><div class=\"children hor wrap \"><div class=\"contnr c1   lno hl\" ><div class=\"lbl c1  hl\" ><span class=\"nd\">sub_KJTR </span></div><div class=\"children hor wrap \"><div class=\"contnr c1   lno rno hl\" ><div class=\"lbl c1  hl\" ><span class=\"nd\">sub_TCGNT </span></div><div class=\"children hor wrap \"><div class=\"contnr c1   lno \" ><div class=\"lbl c1  \" ><span class=\"nd\">sub_SR </span></div><div class=\"children hor wrap \"><div class=\"contnr c0 trm   \" ><div class=\"lbl c0 trm \" ><span class=\"txtu\">απηλθεν</span></div></div><div class=\"contnr c0 trm   \" ><div class=\"lbl c0 trm \" ><span class=\"txtu\">ο</span></div></div></div></div><div class=\"contnr c1   rno \" ><div class=\"lbl c1  \" ><span class=\"nd\">sub_SR </span></div><div class=\"children hor wrap \"><div class=\"contnr c0 trm   hl\" ><div class=\"lbl c0 trm hl\" ><span class=\"txtu\">ανθρωπος</span></div></div></div></div></div></div></div></div><div class=\"contnr c1   rno \" ><div class=\"lbl c1  \" ><span class=\"nd\">sub_KJTR </span></div><div class=\"children hor wrap \"><div class=\"contnr c1   lno hl\" ><div class=\"lbl c1  hl\" ><span class=\"nd\">sub_TCGNT </span></div><div class=\"children hor wrap \"><div class=\"contnr c1   lno rno \" ><div class=\"lbl c1  \" ><span class=\"nd\">sub_SR </span></div><div class=\"children hor wrap \"><div class=\"contnr c0 trm   \" ><div class=\"lbl c0 trm \" ><span class=\"txtu\">και</span></div></div></div></div></div></div><div class=\"contnr c1   rno \" ><div class=\"lbl c1  \" ><span class=\"nd\">sub_TCGNT </span></div><div class=\"children hor wrap \"><div class=\"contnr c1   lno rno \" ><div class=\"lbl c1  \" ><span class=\"nd\">sub_SR </span></div><div class=\"children hor wrap \"><div class=\"contnr c0 trm   \" ><div class=\"lbl c0 trm \" ><span class=\"txtu\">ειπεν</span></div></div><div class=\"contnr c0 trm   \" ><div class=\"lbl c0 trm \" ><span class=\"txtu\">τοις</span></div></div><div class=\"contnr c0 trm   \" ><div class=\"lbl c0 trm \" ><span class=\"txtu\">ιουδαιοις</span></div></div></div></div></div></div></div></div></div></div></div></div><div class=\"contnr c1   rno \" ><div class=\"lbl c1  \" ><span class=\"nd\">sub_SBL </span></div><div class=\"children hor wrap \"><div class=\"contnr c1   lno \" ><div class=\"lbl c1  \" ><span class=\"nd\">sub_TISCH </span></div><div class=\"children hor wrap \"><div class=\"contnr c1   lno \" ><div class=\"lbl c1  \" ><span class=\"nd\">sub_KJTR </span></div><div class=\"children hor wrap \"><div class=\"contnr c1   lno rno \" ><div class=\"lbl c1  \" ><span class=\"nd\">sub_TCGNT </span></div><div class=\"children hor wrap \"><div class=\"contnr c1   lno rno \" ><div class=\"lbl c1  \" ><span class=\"nd\">sub_SR </span></div><div class=\"children hor wrap \"><div class=\"contnr c0 trm   \" ><div class=\"lbl c0 trm \" ><span class=\"txtu\">οτι</span></div></div></div></div></div></div></div></div><div class=\"contnr c1   rno \" ><div class=\"lbl c1  \" ><span class=\"nd\">sub_KJTR </span></div><div class=\"children hor wrap \"><div class=\"contnr c1   lno rno \" ><div class=\"lbl c1  \" ><span class=\"nd\">sub_TCGNT </span></div><div class=\"children hor wrap \"><div class=\"contnr c1   lno rno \" ><div class=\"lbl c1  \" ><span class=\"nd\">sub_SR </span></div><div class=\"children hor wrap \"><div class=\"contnr c0 trm   \" ><div class=\"lbl c0 trm \" ><span class=\"txtu\">ιησους</span></div></div><div class=\"contnr c0 trm   \" ><div class=\"lbl c0 trm \" ><span class=\"txtu\">εστιν</span></div></div></div></div></div></div></div></div></div></div><div class=\"contnr c1   rno \" ><div class=\"lbl c1  \" ><span class=\"nd\">sub_TISCH </span></div><div class=\"children hor wrap \"><div class=\"contnr c1   lno rno \" ><div class=\"lbl c1  \" ><span class=\"nd\">sub_KJTR </span></div><div class=\"children hor wrap \"><div class=\"contnr c1   lno \" ><div class=\"lbl c1  \" ><span class=\"nd\">sub_TCGNT </span></div><div class=\"children hor wrap \"><div class=\"contnr c1   lno \" ><div class=\"lbl c1  \" ><span class=\"nd\">sub_SR </span></div><div class=\"children hor wrap \"><div class=\"contnr c0 trm   \" ><div class=\"lbl c0 trm \" ><span class=\"txtu\">ο</span></div></div></div></div></div></div><div class=\"contnr c1   rno \" ><div class=\"lbl c1  \" ><span class=\"nd\">sub_TCGNT </span></div><div class=\"children hor wrap \"><div class=\"contnr c1   rno \" ><div class=\"lbl c1  \" ><span class=\"nd\">sub_SR </span></div><div class=\"children hor wrap \"><div class=\"contnr c0 trm   \" ><div class=\"lbl c0 trm \" ><span class=\"txtu\">ποιησας</span></div></div><div class=\"contnr c0 trm   \" ><div class=\"lbl c0 trm \" ><span class=\"txtu\">αυτον</span></div></div><div class=\"contnr c0 trm   \" ><div class=\"lbl c0 trm \" ><span class=\"txtu\">υγιη.</span></div></div></div></div></div></div></div></div></div></div></div></div></div></div></div></div></div>"
      ],
      "text/plain": [
       "<IPython.core.display.HTML object>"
      ]
     },
     "metadata": {},
     "output_type": "display_data"
    },
    {
     "data": {
      "text/html": [
       "<p><b>verse</b> <i>12</i>"
      ],
      "text/plain": [
       "<IPython.core.display.HTML object>"
      ]
     },
     "metadata": {},
     "output_type": "display_data"
    },
    {
     "data": {
      "text/html": [
       "<div class=\"tfsechead \"><span class=\"ltr\"><a target=\"_blank\" href=\"https://bibleol.3bmoodle.dk/text/show_text/nestle1904/John/7/23\" sec=\"John 7:23\">John 7:23</a></span></div><div class=\" children pr-mode\"><div class=\"contnr c3    \" ><div class=\"lbl c3  \" ><span class=\"nd\">verse </span> <span class=\"\"><span title=\"book\">John</span> <span title=\"chapter\">7</span>:<span title=\"verse\">23</span></span></div><div class=\"children hor wrap \"><div class=\"contnr c1   lno \" ><div class=\"lbl c1  \" ><span class=\"nd\">sub_N1904 </span></div><div class=\"children hor wrap \"><div class=\"contnr c1   lno \" ><div class=\"lbl c1  \" ><span class=\"nd\">sub_SBL </span></div><div class=\"children hor wrap \"><div class=\"contnr c1   rno hl\" ><div class=\"lbl c1  hl\" ><span class=\"nd\">sub_TISCH </span></div><div class=\"children hor wrap \"><div class=\"contnr c1    \" ><div class=\"lbl c1  \" ><span class=\"nd\">sub_KJTR </span></div><div class=\"children hor wrap \"><div class=\"contnr c1   lno rno \" ><div class=\"lbl c1  \" ><span class=\"nd\">sub_TCGNT </span></div><div class=\"children hor wrap \"><div class=\"contnr c1   rno hl\" ><div class=\"lbl c1  hl\" ><span class=\"nd\">sub_SR </span></div><div class=\"children hor wrap \"><div class=\"contnr c0 trm   \" ><div class=\"lbl c0 trm \" ><span class=\"txtu\">ει</span></div></div><div class=\"contnr c0 trm   \" ><div class=\"lbl c0 trm \" ><span class=\"txtu\">περιτομην</span></div></div></div></div></div></div></div></div><div class=\"contnr c1   rno hl\" ><div class=\"lbl c1  hl\" ><span class=\"nd\">sub_KJTR </span></div><div class=\"children hor wrap \"><div class=\"contnr c1   lno \" ><div class=\"lbl c1  \" ><span class=\"nd\">sub_TCGNT </span></div><div class=\"children hor wrap \"><div class=\"contnr c1   lno rno hl\" ><div class=\"lbl c1  hl\" ><span class=\"nd\">sub_SR </span></div><div class=\"children hor wrap \"><div class=\"contnr c0 trm   \" ><div class=\"lbl c0 trm \" ><span class=\"txtu\">λαμβανει</span></div></div></div></div></div></div></div></div></div></div></div></div><div class=\"contnr c1   rno \" ><div class=\"lbl c1  \" ><span class=\"nd\">sub_SBL </span></div><div class=\"children hor wrap \"><div class=\"contnr c1   lno hl\" ><div class=\"lbl c1  hl\" ><span class=\"nd\">sub_TISCH </span></div><div class=\"children hor wrap \"><div class=\"contnr c1   lno rno hl\" ><div class=\"lbl c1  hl\" ><span class=\"nd\">sub_KJTR </span></div><div class=\"children hor wrap \"><div class=\"contnr c1   rno hl\" ><div class=\"lbl c1  hl\" ><span class=\"nd\">sub_TCGNT </span></div><div class=\"children hor wrap \"><div class=\"contnr c1   lno hl\" ><div class=\"lbl c1  hl\" ><span class=\"nd\">sub_SR </span></div><div class=\"children hor wrap \"><div class=\"contnr c0 trm   hl\" ><div class=\"lbl c0 trm hl\" ><span class=\"txtu\">ανθρωπος</span></div></div></div></div></div></div></div></div></div></div><div class=\"contnr c1   rno \" ><div class=\"lbl c1  \" ><span class=\"nd\">sub_TISCH </span></div><div class=\"children hor wrap \"><div class=\"contnr c1   lno hl\" ><div class=\"lbl c1  hl\" ><span class=\"nd\">sub_KJTR </span></div><div class=\"children hor wrap \"><div class=\"contnr c1   lno hl\" ><div class=\"lbl c1  hl\" ><span class=\"nd\">sub_TCGNT </span></div><div class=\"children hor wrap \"><div class=\"contnr c1   rno \" ><div class=\"lbl c1  \" ><span class=\"nd\">sub_SR </span></div><div class=\"children hor wrap \"><div class=\"contnr c0 trm   \" ><div class=\"lbl c0 trm \" ><span class=\"txtu\">εν</span></div></div><div class=\"contnr c0 trm   \" ><div class=\"lbl c0 trm \" ><span class=\"txtu\">σαββατω</span></div></div><div class=\"contnr c0 trm   \" ><div class=\"lbl c0 trm \" ><span class=\"txtu\">ινα</span></div></div><div class=\"contnr c0 trm   \" ><div class=\"lbl c0 trm \" ><span class=\"txtu\">μη</span></div></div></div></div></div></div></div></div><div class=\"contnr c1   rno \" ><div class=\"lbl c1  \" ><span class=\"nd\">sub_KJTR </span></div><div class=\"children hor wrap \"><div class=\"contnr c1   rno \" ><div class=\"lbl c1  \" ><span class=\"nd\">sub_TCGNT </span></div><div class=\"children hor wrap \"><div class=\"contnr c1   lno rno \" ><div class=\"lbl c1  \" ><span class=\"nd\">sub_SR </span></div><div class=\"children hor wrap \"><div class=\"contnr c0 trm   \" ><div class=\"lbl c0 trm \" ><span class=\"txtu\">λυθη</span></div></div><div class=\"contnr c0 trm   \" ><div class=\"lbl c0 trm \" ><span class=\"txtu\">ο</span></div></div><div class=\"contnr c0 trm   \" ><div class=\"lbl c0 trm \" ><span class=\"txtu\">νομος</span></div></div><div class=\"contnr c0 trm   \" ><div class=\"lbl c0 trm \" ><span class=\"txtu\">μωυσεως,</span></div></div></div></div></div></div></div></div></div></div></div></div></div></div><div class=\"contnr c1    \" ><div class=\"lbl c1  \" ><span class=\"nd\">sub_N1904 </span></div><div class=\"children hor wrap \"><div class=\"contnr c1   lno \" ><div class=\"lbl c1  \" ><span class=\"nd\">sub_SBL </span></div><div class=\"children hor wrap \"><div class=\"contnr c1   lno rno \" ><div class=\"lbl c1  \" ><span class=\"nd\">sub_TISCH </span></div><div class=\"children hor wrap \"><div class=\"contnr c1   lno rno \" ><div class=\"lbl c1  \" ><span class=\"nd\">sub_KJTR </span></div><div class=\"children hor wrap \"><div class=\"contnr c1   lno rno \" ><div class=\"lbl c1  \" ><span class=\"nd\">sub_TCGNT </span></div><div class=\"children hor wrap \"><div class=\"contnr c1   lno rno \" ><div class=\"lbl c1  \" ><span class=\"nd\">sub_SR </span></div><div class=\"children hor wrap \"><div class=\"contnr c0 trm   \" ><div class=\"lbl c0 trm \" ><span class=\"txtu\">εμοι</span></div></div><div class=\"contnr c0 trm   \" ><div class=\"lbl c0 trm \" ><span class=\"txtu\">χολατε</span></div></div></div></div></div></div></div></div></div></div></div></div><div class=\"contnr c1    \" ><div class=\"lbl c1  \" ><span class=\"nd\">sub_SBL </span></div><div class=\"children hor wrap \"><div class=\"contnr c1   lno \" ><div class=\"lbl c1  \" ><span class=\"nd\">sub_TISCH </span></div><div class=\"children hor wrap \"><div class=\"contnr c1   lno rno \" ><div class=\"lbl c1  \" ><span class=\"nd\">sub_KJTR </span></div><div class=\"children hor wrap \"><div class=\"contnr c1   lno \" ><div class=\"lbl c1  \" ><span class=\"nd\">sub_TCGNT </span></div><div class=\"children hor wrap \"><div class=\"contnr c1   lno \" ><div class=\"lbl c1  \" ><span class=\"nd\">sub_SR </span></div><div class=\"children hor wrap \"><div class=\"contnr c0 trm   \" ><div class=\"lbl c0 trm \" ><span class=\"txtu\">οτι</span></div></div></div></div><div class=\"contnr c1   rno \" ><div class=\"lbl c1  \" ><span class=\"nd\">sub_SR </span></div><div class=\"children hor wrap \"><div class=\"contnr c0 trm   \" ><div class=\"lbl c0 trm \" ><span class=\"txtu\">ολον</span></div></div><div class=\"contnr c0 trm   \" ><div class=\"lbl c0 trm \" ><span class=\"txtu\">ανθρωπον</span></div></div></div></div></div></div><div class=\"contnr c1   rno \" ><div class=\"lbl c1  \" ><span class=\"nd\">sub_TCGNT </span></div><div class=\"children hor wrap \"><div class=\"contnr c1   lno rno \" ><div class=\"lbl c1  \" ><span class=\"nd\">sub_SR </span></div><div class=\"children hor wrap \"><div class=\"contnr c0 trm   \" ><div class=\"lbl c0 trm \" ><span class=\"txtu\">υγιη</span></div></div></div></div></div></div></div></div></div></div><div class=\"contnr c1   rno \" ><div class=\"lbl c1  \" ><span class=\"nd\">sub_TISCH </span></div><div class=\"children hor wrap \"><div class=\"contnr c1   lno \" ><div class=\"lbl c1  \" ><span class=\"nd\">sub_KJTR </span></div><div class=\"children hor wrap \"><div class=\"contnr c1   lno rno \" ><div class=\"lbl c1  \" ><span class=\"nd\">sub_TCGNT </span></div><div class=\"children hor wrap \"><div class=\"contnr c1   lno rno \" ><div class=\"lbl c1  \" ><span class=\"nd\">sub_SR </span></div><div class=\"children hor wrap \"><div class=\"contnr c0 trm   \" ><div class=\"lbl c0 trm \" ><span class=\"txtu\">εποιησα</span></div></div></div></div></div></div></div></div><div class=\"contnr c1   rno \" ><div class=\"lbl c1  \" ><span class=\"nd\">sub_KJTR </span></div><div class=\"children hor wrap \"><div class=\"contnr c1   lno rno \" ><div class=\"lbl c1  \" ><span class=\"nd\">sub_TCGNT </span></div><div class=\"children hor wrap \"><div class=\"contnr c1   lno rno \" ><div class=\"lbl c1  \" ><span class=\"nd\">sub_SR </span></div><div class=\"children hor wrap \"><div class=\"contnr c0 trm   \" ><div class=\"lbl c0 trm \" ><span class=\"txtu\">εν</span></div></div></div></div></div></div></div></div></div></div></div></div><div class=\"contnr c1   rno \" ><div class=\"lbl c1  \" ><span class=\"nd\">sub_SBL </span></div><div class=\"children hor wrap \"><div class=\"contnr c1   lno rno \" ><div class=\"lbl c1  \" ><span class=\"nd\">sub_TISCH </span></div><div class=\"children hor wrap \"><div class=\"contnr c1   lno rno \" ><div class=\"lbl c1  \" ><span class=\"nd\">sub_KJTR </span></div><div class=\"children hor wrap \"><div class=\"contnr c1   lno rno \" ><div class=\"lbl c1  \" ><span class=\"nd\">sub_TCGNT </span></div><div class=\"children hor wrap \"><div class=\"contnr c1   lno \" ><div class=\"lbl c1  \" ><span class=\"nd\">sub_SR </span></div><div class=\"children hor wrap \"><div class=\"contnr c0 trm   \" ><div class=\"lbl c0 trm \" ><span class=\"txtu\">σαββατω;</span></div></div></div></div></div></div></div></div></div></div></div></div></div></div></div></div></div>"
      ],
      "text/plain": [
       "<IPython.core.display.HTML object>"
      ]
     },
     "metadata": {},
     "output_type": "display_data"
    },
    {
     "data": {
      "text/html": [
       "<p><b>verse</b> <i>13</i>"
      ],
      "text/plain": [
       "<IPython.core.display.HTML object>"
      ]
     },
     "metadata": {},
     "output_type": "display_data"
    },
    {
     "data": {
      "text/html": [
       "<div class=\"tfsechead \"><span class=\"ltr\"><a target=\"_blank\" href=\"https://bibleol.3bmoodle.dk/text/show_text/nestle1904/John/7/46\" sec=\"John 7:46\">John 7:46</a></span></div><div class=\" children pr-mode\"><div class=\"contnr c3    \" ><div class=\"lbl c3  \" ><span class=\"nd\">verse </span> <span class=\"\"><span title=\"book\">John</span> <span title=\"chapter\">7</span>:<span title=\"verse\">46</span></span></div><div class=\"children hor wrap \"><div class=\"contnr c1    hl\" ><div class=\"lbl c1  hl\" ><span class=\"nd\">sub_N1904 </span></div><div class=\"children hor wrap \"><div class=\"contnr c1   lno \" ><div class=\"lbl c1  \" ><span class=\"nd\">sub_SBL </span></div><div class=\"children hor wrap \"><div class=\"contnr c1   lno \" ><div class=\"lbl c1  \" ><span class=\"nd\">sub_TISCH </span></div><div class=\"children hor wrap \"><div class=\"contnr c1   lno \" ><div class=\"lbl c1  \" ><span class=\"nd\">sub_KJTR </span></div><div class=\"children hor wrap \"><div class=\"contnr c1   lno \" ><div class=\"lbl c1  \" ><span class=\"nd\">sub_TCGNT </span></div><div class=\"children hor wrap \"><div class=\"contnr c1   lno rno \" ><div class=\"lbl c1  \" ><span class=\"nd\">sub_SR </span></div><div class=\"children hor wrap \"><div class=\"contnr c0 trm   \" ><div class=\"lbl c0 trm \" ><span class=\"txtu\">απεκριθησαν</span></div></div></div></div></div></div></div></div><div class=\"contnr c1   rno \" ><div class=\"lbl c1  \" ><span class=\"nd\">sub_KJTR </span></div><div class=\"children hor wrap \"><div class=\"contnr c1   rno \" ><div class=\"lbl c1  \" ><span class=\"nd\">sub_TCGNT </span></div><div class=\"children hor wrap \"><div class=\"contnr c1   lno rno \" ><div class=\"lbl c1  \" ><span class=\"nd\">sub_SR </span></div><div class=\"children hor wrap \"><div class=\"contnr c0 trm   \" ><div class=\"lbl c0 trm \" ><span class=\"txtu\">οι</span></div></div><div class=\"contnr c0 trm   \" ><div class=\"lbl c0 trm \" ><span class=\"txtu\">υπηρεται</span></div></div></div></div></div></div></div></div></div></div><div class=\"contnr c1   rno hl\" ><div class=\"lbl c1  hl\" ><span class=\"nd\">sub_TISCH </span></div><div class=\"children hor wrap \"><div class=\"contnr c1   lno \" ><div class=\"lbl c1  \" ><span class=\"nd\">sub_KJTR </span></div><div class=\"children hor wrap \"><div class=\"contnr c1   lno rno \" ><div class=\"lbl c1  \" ><span class=\"nd\">sub_TCGNT </span></div><div class=\"children hor wrap \"><div class=\"contnr c1   lno \" ><div class=\"lbl c1  \" ><span class=\"nd\">sub_SR </span></div><div class=\"children hor wrap \"><div class=\"contnr c0 trm   \" ><div class=\"lbl c0 trm \" ><span class=\"txtu\">ουδεποτε</span></div></div></div></div><div class=\"contnr c1   rno hl\" ><div class=\"lbl c1  hl\" ><span class=\"nd\">sub_SR </span></div><div class=\"children hor wrap \"><div class=\"contnr c0 trm   \" ><div class=\"lbl c0 trm \" ><span class=\"txtu\">ελαλησεν</span></div></div></div></div></div></div></div></div></div></div></div></div><div class=\"contnr c1   rno \" ><div class=\"lbl c1  \" ><span class=\"nd\">sub_SBL </span></div><div class=\"children hor wrap \"><div class=\"contnr c1   lno rno hl\" ><div class=\"lbl c1  hl\" ><span class=\"nd\">sub_TISCH </span></div><div class=\"children hor wrap \"><div class=\"contnr c1   rno \" ><div class=\"lbl c1  \" ><span class=\"nd\">sub_KJTR </span></div><div class=\"children hor wrap \"><div class=\"contnr c1   lno \" ><div class=\"lbl c1  \" ><span class=\"nd\">sub_TCGNT </span></div><div class=\"children hor wrap \"><div class=\"contnr c1   lno rno hl\" ><div class=\"lbl c1  hl\" ><span class=\"nd\">sub_SR </span></div><div class=\"children hor wrap \"><div class=\"contnr c0 trm   \" ><div class=\"lbl c0 trm \" ><span class=\"txtu\">ουτως</span></div></div></div></div></div></div><div class=\"contnr c1   rno \" ><div class=\"lbl c1  \" ><span class=\"nd\">sub_TCGNT </span></div><div class=\"children hor wrap \"><div class=\"contnr c1   lno rno hl\" ><div class=\"lbl c1  hl\" ><span class=\"nd\">sub_SR </span></div><div class=\"children hor wrap \"><div class=\"contnr c0 trm   hl\" ><div class=\"lbl c0 trm hl\" ><span class=\"txtu\">ανθρωπος,</span></div></div></div></div></div></div></div></div></div></div></div></div></div></div><div class=\"contnr c1   rno \" ><div class=\"lbl c1  \" ><span class=\"nd\">sub_N1904 </span></div><div class=\"children hor wrap \"><div class=\"contnr c1   lno rno \" ><div class=\"lbl c1  \" ><span class=\"nd\">sub_SBL </span></div><div class=\"children hor wrap \"><div class=\"contnr c1   lno rno hl\" ><div class=\"lbl c1  hl\" ><span class=\"nd\">sub_TISCH </span></div><div class=\"children hor wrap \"><div class=\"contnr c1   lno rno \" ><div class=\"lbl c1  \" ><span class=\"nd\">sub_KJTR </span></div><div class=\"children hor wrap \"><div class=\"contnr c1   lno rno \" ><div class=\"lbl c1  \" ><span class=\"nd\">sub_TCGNT </span></div><div class=\"children hor wrap \"><div class=\"contnr c1   lno hl\" ><div class=\"lbl c1  hl\" ><span class=\"nd\">sub_SR </span></div><div class=\"children hor wrap \"><div class=\"contnr c0 trm   \" ><div class=\"lbl c0 trm \" ><span class=\"txtu\">ως</span></div></div></div></div><div class=\"contnr c1    hl\" ><div class=\"lbl c1  hl\" ><span class=\"nd\">sub_SR </span></div><div class=\"children hor wrap \"><div class=\"contnr c0 trm   \" ><div class=\"lbl c0 trm \" ><span class=\"txtu\">ουτος</span></div></div><div class=\"contnr c0 trm   \" ><div class=\"lbl c0 trm \" ><span class=\"txtu\">λαλει</span></div></div><div class=\"contnr c0 trm   \" ><div class=\"lbl c0 trm \" ><span class=\"txtu\">ο</span></div></div><div class=\"contnr c0 trm   hl\" ><div class=\"lbl c0 trm hl\" ><span class=\"txtu\">ανθρωπος.</span></div></div></div></div></div></div></div></div></div></div></div></div></div></div></div></div></div>"
      ],
      "text/plain": [
       "<IPython.core.display.HTML object>"
      ]
     },
     "metadata": {},
     "output_type": "display_data"
    },
    {
     "data": {
      "text/html": [
       "<p><b>verse</b> <i>14</i>"
      ],
      "text/plain": [
       "<IPython.core.display.HTML object>"
      ]
     },
     "metadata": {},
     "output_type": "display_data"
    },
    {
     "data": {
      "text/html": [
       "<div class=\"tfsechead \"><span class=\"ltr\"><a target=\"_blank\" href=\"https://bibleol.3bmoodle.dk/text/show_text/nestle1904/John/7/47\" sec=\"John 7:47\">John 7:47</a></span></div><div class=\" children pr-mode\"><div class=\"contnr c3    \" ><div class=\"lbl c3  \" ><span class=\"nd\">verse </span> <span class=\"\"><span title=\"book\">John</span> <span title=\"chapter\">7</span>:<span title=\"verse\">47</span></span></div><div class=\"children hor wrap \"><div class=\"contnr c1   lno \" ><div class=\"lbl c1  \" ><span class=\"nd\">sub_N1904 </span></div><div class=\"children hor wrap \"><div class=\"contnr c1   lno \" ><div class=\"lbl c1  \" ><span class=\"nd\">sub_SBL </span></div><div class=\"children hor wrap \"><div class=\"contnr c1   lno hl\" ><div class=\"lbl c1  hl\" ><span class=\"nd\">sub_TISCH </span></div><div class=\"children hor wrap \"><div class=\"contnr c1   lno \" ><div class=\"lbl c1  \" ><span class=\"nd\">sub_KJTR </span></div><div class=\"children hor wrap \"><div class=\"contnr c1   lno \" ><div class=\"lbl c1  \" ><span class=\"nd\">sub_TCGNT </span></div><div class=\"children hor wrap \"><div class=\"contnr c1    \" ><div class=\"lbl c1  \" ><span class=\"nd\">sub_SR </span></div><div class=\"children hor wrap \"><div class=\"contnr c0 trm   \" ><div class=\"lbl c0 trm \" ><span class=\"txtu\">απεκριθησαν</span></div></div><div class=\"contnr c0 trm   \" ><div class=\"lbl c0 trm \" ><span class=\"txtu\">ουν</span></div></div><div class=\"contnr c0 trm   \" ><div class=\"lbl c0 trm \" ><span class=\"txtu\">αυτοις</span></div></div><div class=\"contnr c0 trm   \" ><div class=\"lbl c0 trm \" ><span class=\"txtu\">οι</span></div></div><div class=\"contnr c0 trm   \" ><div class=\"lbl c0 trm \" ><span class=\"txtu\">φαρισαιοι</span></div></div></div></div><div class=\"contnr c1   rno \" ><div class=\"lbl c1  \" ><span class=\"nd\">sub_SR </span></div><div class=\"children hor wrap \"><div class=\"contnr c0 trm   \" ><div class=\"lbl c0 trm \" ><span class=\"txtu\">μη</span></div></div><div class=\"contnr c0 trm   \" ><div class=\"lbl c0 trm \" ><span class=\"txtu\">και</span></div></div></div></div></div></div></div></div><div class=\"contnr c1   rno \" ><div class=\"lbl c1  \" ><span class=\"nd\">sub_KJTR </span></div><div class=\"children hor wrap \"><div class=\"contnr c1   rno \" ><div class=\"lbl c1  \" ><span class=\"nd\">sub_TCGNT </span></div><div class=\"children hor wrap \"><div class=\"contnr c1   lno rno \" ><div class=\"lbl c1  \" ><span class=\"nd\">sub_SR </span></div><div class=\"children hor wrap \"><div class=\"contnr c0 trm   \" ><div class=\"lbl c0 trm \" ><span class=\"txtu\">υμεις</span></div></div></div></div></div></div></div></div></div></div></div></div><div class=\"contnr c1   rno \" ><div class=\"lbl c1  \" ><span class=\"nd\">sub_SBL </span></div><div class=\"children hor wrap \"><div class=\"contnr c1   rno \" ><div class=\"lbl c1  \" ><span class=\"nd\">sub_TISCH </span></div><div class=\"children hor wrap \"><div class=\"contnr c1   lno rno \" ><div class=\"lbl c1  \" ><span class=\"nd\">sub_KJTR </span></div><div class=\"children hor wrap \"><div class=\"contnr c1   lno rno \" ><div class=\"lbl c1  \" ><span class=\"nd\">sub_TCGNT </span></div><div class=\"children hor wrap \"><div class=\"contnr c1   lno rno \" ><div class=\"lbl c1  \" ><span class=\"nd\">sub_SR </span></div><div class=\"children hor wrap \"><div class=\"contnr c0 trm   \" ><div class=\"lbl c0 trm \" ><span class=\"txtu\">πεπλανησθε;</span></div></div></div></div></div></div></div></div></div></div></div></div></div></div></div></div></div>"
      ],
      "text/plain": [
       "<IPython.core.display.HTML object>"
      ]
     },
     "metadata": {},
     "output_type": "display_data"
    },
    {
     "data": {
      "text/html": [
       "<p><b>verse</b> <i>15</i>"
      ],
      "text/plain": [
       "<IPython.core.display.HTML object>"
      ]
     },
     "metadata": {},
     "output_type": "display_data"
    },
    {
     "data": {
      "text/html": [
       "<div class=\"tfsechead \"><span class=\"ltr\"><a target=\"_blank\" href=\"https://bibleol.3bmoodle.dk/text/show_text/nestle1904/John/9/10\" sec=\"John 9:10\">John 9:10</a></span></div><div class=\" children pr-mode\"><div class=\"contnr c3    \" ><div class=\"lbl c3  \" ><span class=\"nd\">verse </span> <span class=\"\"><span title=\"book\">John</span> <span title=\"chapter\">9</span>:<span title=\"verse\">10</span></span></div><div class=\"children hor wrap \"><div class=\"contnr c1   lno \" ><div class=\"lbl c1  \" ><span class=\"nd\">sub_N1904 </span></div><div class=\"children hor wrap \"><div class=\"contnr c1   lno \" ><div class=\"lbl c1  \" ><span class=\"nd\">sub_SBL </span></div><div class=\"children hor wrap \"><div class=\"contnr c1   lno rno \" ><div class=\"lbl c1  \" ><span class=\"nd\">sub_TISCH </span></div><div class=\"children hor wrap \"><div class=\"contnr c1   lno \" ><div class=\"lbl c1  \" ><span class=\"nd\">sub_KJTR </span></div><div class=\"children hor wrap \"><div class=\"contnr c1   rno \" ><div class=\"lbl c1  \" ><span class=\"nd\">sub_TCGNT </span></div><div class=\"children hor wrap \"><div class=\"contnr c1   lno rno \" ><div class=\"lbl c1  \" ><span class=\"nd\">sub_SR </span></div><div class=\"children hor wrap \"><div class=\"contnr c0 trm   \" ><div class=\"lbl c0 trm \" ><span class=\"txtu\">ελεγον</span></div></div></div></div></div></div></div></div><div class=\"contnr c1   rno \" ><div class=\"lbl c1  \" ><span class=\"nd\">sub_KJTR </span></div><div class=\"children hor wrap \"><div class=\"contnr c1   lno rno \" ><div class=\"lbl c1  \" ><span class=\"nd\">sub_TCGNT </span></div><div class=\"children hor wrap \"><div class=\"contnr c1   lno rno \" ><div class=\"lbl c1  \" ><span class=\"nd\">sub_SR </span></div><div class=\"children hor wrap \"><div class=\"contnr c0 trm   \" ><div class=\"lbl c0 trm \" ><span class=\"txtu\">ουν</span></div></div></div></div></div></div></div></div></div></div></div></div><div class=\"contnr c1   rno \" ><div class=\"lbl c1  \" ><span class=\"nd\">sub_SBL </span></div><div class=\"children hor wrap \"><div class=\"contnr c1   lno rno \" ><div class=\"lbl c1  \" ><span class=\"nd\">sub_TISCH </span></div><div class=\"children hor wrap \"><div class=\"contnr c1   lno \" ><div class=\"lbl c1  \" ><span class=\"nd\">sub_KJTR </span></div><div class=\"children hor wrap \"><div class=\"contnr c1   lno \" ><div class=\"lbl c1  \" ><span class=\"nd\">sub_TCGNT </span></div><div class=\"children hor wrap \"><div class=\"contnr c1   lno rno \" ><div class=\"lbl c1  \" ><span class=\"nd\">sub_SR </span></div><div class=\"children hor wrap \"><div class=\"contnr c0 trm   \" ><div class=\"lbl c0 trm \" ><span class=\"txtu\">αυτω</span></div></div></div></div></div></div><div class=\"contnr c1    \" ><div class=\"lbl c1  \" ><span class=\"nd\">sub_TCGNT </span></div><div class=\"children hor wrap \"><div class=\"contnr c1   lno rno \" ><div class=\"lbl c1  \" ><span class=\"nd\">sub_SR </span></div><div class=\"children hor wrap \"><div class=\"contnr c0 trm   \" ><div class=\"lbl c0 trm \" ><span class=\"txtu\">πως</span></div></div><div class=\"contnr c0 trm   \" ><div class=\"lbl c0 trm \" ><span class=\"txtu\">ουν</span></div></div></div></div></div></div><div class=\"contnr c1   rno \" ><div class=\"lbl c1  \" ><span class=\"nd\">sub_TCGNT </span></div><div class=\"children hor wrap \"><div class=\"contnr c1   lno \" ><div class=\"lbl c1  \" ><span class=\"nd\">sub_SR </span></div><div class=\"children hor wrap \"><div class=\"contnr c0 trm   \" ><div class=\"lbl c0 trm \" ><span class=\"txtu\">ηνεωχθησαν</span></div></div></div></div></div></div></div></div><div class=\"contnr c1   rno \" ><div class=\"lbl c1  \" ><span class=\"nd\">sub_KJTR </span></div><div class=\"children hor wrap \"><div class=\"contnr c1   lno rno \" ><div class=\"lbl c1  \" ><span class=\"nd\">sub_TCGNT </span></div><div class=\"children hor wrap \"><div class=\"contnr c1    \" ><div class=\"lbl c1  \" ><span class=\"nd\">sub_SR </span></div><div class=\"children hor wrap \"><div class=\"contnr c0 trm   \" ><div class=\"lbl c0 trm \" ><span class=\"txtu\">σου</span></div></div><div class=\"contnr c0 trm   \" ><div class=\"lbl c0 trm \" ><span class=\"txtu\">οι</span></div></div></div></div><div class=\"contnr c1   rno hl\" ><div class=\"lbl c1  hl\" ><span class=\"nd\">sub_SR </span></div><div class=\"children hor wrap \"><div class=\"contnr c0 trm   \" ><div class=\"lbl c0 trm \" ><span class=\"txtu\">οφθαλμοι;</span></div></div></div></div></div></div></div></div></div></div></div></div></div></div></div></div></div>"
      ],
      "text/plain": [
       "<IPython.core.display.HTML object>"
      ]
     },
     "metadata": {},
     "output_type": "display_data"
    },
    {
     "data": {
      "text/html": [
       "<p><b>verse</b> <i>16</i>"
      ],
      "text/plain": [
       "<IPython.core.display.HTML object>"
      ]
     },
     "metadata": {},
     "output_type": "display_data"
    },
    {
     "data": {
      "text/html": [
       "<div class=\"tfsechead \"><span class=\"ltr\"><a target=\"_blank\" href=\"https://bibleol.3bmoodle.dk/text/show_text/nestle1904/John/9/11\" sec=\"John 9:11\">John 9:11</a></span></div><div class=\" children pr-mode\"><div class=\"contnr c3    \" ><div class=\"lbl c3  \" ><span class=\"nd\">verse </span> <span class=\"\"><span title=\"book\">John</span> <span title=\"chapter\">9</span>:<span title=\"verse\">11</span></span></div><div class=\"children hor wrap \"><div class=\"contnr c1    hl\" ><div class=\"lbl c1  hl\" ><span class=\"nd\">sub_N1904 </span></div><div class=\"children hor wrap \"><div class=\"contnr c1   lno \" ><div class=\"lbl c1  \" ><span class=\"nd\">sub_SBL </span></div><div class=\"children hor wrap \"><div class=\"contnr c1   lno rno \" ><div class=\"lbl c1  \" ><span class=\"nd\">sub_TISCH </span></div><div class=\"children hor wrap \"><div class=\"contnr c1   lno \" ><div class=\"lbl c1  \" ><span class=\"nd\">sub_KJTR </span></div><div class=\"children hor wrap \"><div class=\"contnr c1   lno rno \" ><div class=\"lbl c1  \" ><span class=\"nd\">sub_TCGNT </span></div><div class=\"children hor wrap \"><div class=\"contnr c1   lno rno hl\" ><div class=\"lbl c1  hl\" ><span class=\"nd\">sub_SR </span></div><div class=\"children hor wrap \"><div class=\"contnr c0 trm   \" ><div class=\"lbl c0 trm \" ><span class=\"txtu\">απεκριθη</span></div></div></div></div></div></div></div></div></div></div></div></div><div class=\"contnr c1    hl\" ><div class=\"lbl c1  hl\" ><span class=\"nd\">sub_SBL </span></div><div class=\"children hor wrap \"><div class=\"contnr c1   lno rno \" ><div class=\"lbl c1  \" ><span class=\"nd\">sub_TISCH </span></div><div class=\"children hor wrap \"><div class=\"contnr c1   rno \" ><div class=\"lbl c1  \" ><span class=\"nd\">sub_KJTR </span></div><div class=\"children hor wrap \"><div class=\"contnr c1   lno \" ><div class=\"lbl c1  \" ><span class=\"nd\">sub_TCGNT </span></div><div class=\"children hor wrap \"><div class=\"contnr c1   lno rno hl\" ><div class=\"lbl c1  hl\" ><span class=\"nd\">sub_SR </span></div><div class=\"children hor wrap \"><div class=\"contnr c0 trm   \" ><div class=\"lbl c0 trm \" ><span class=\"txtu\">εκεινος</span></div></div><div class=\"contnr c0 trm   \" ><div class=\"lbl c0 trm \" ><span class=\"txtu\">ο</span></div></div></div></div></div></div><div class=\"contnr c1   rno \" ><div class=\"lbl c1  \" ><span class=\"nd\">sub_TCGNT </span></div><div class=\"children hor wrap \"><div class=\"contnr c1   lno rno hl\" ><div class=\"lbl c1  hl\" ><span class=\"nd\">sub_SR </span></div><div class=\"children hor wrap \"><div class=\"contnr c0 trm   hl\" ><div class=\"lbl c0 trm hl\" ><span class=\"txtu\">ανθρωπος</span></div></div></div></div></div></div></div></div></div></div></div></div><div class=\"contnr c1    \" ><div class=\"lbl c1  \" ><span class=\"nd\">sub_SBL </span></div><div class=\"children hor wrap \"><div class=\"contnr c1   lno rno \" ><div class=\"lbl c1  \" ><span class=\"nd\">sub_TISCH </span></div><div class=\"children hor wrap \"><div class=\"contnr c1   lno rno \" ><div class=\"lbl c1  \" ><span class=\"nd\">sub_KJTR </span></div><div class=\"children hor wrap \"><div class=\"contnr c1   lno rno \" ><div class=\"lbl c1  \" ><span class=\"nd\">sub_TCGNT </span></div><div class=\"children hor wrap \"><div class=\"contnr c1   lno hl\" ><div class=\"lbl c1  hl\" ><span class=\"nd\">sub_SR </span></div><div class=\"children hor wrap \"><div class=\"contnr c0 trm   \" ><div class=\"lbl c0 trm \" ><span class=\"txtu\">ο</span></div></div></div></div></div></div></div></div></div></div></div></div><div class=\"contnr c1   rno \" ><div class=\"lbl c1  \" ><span class=\"nd\">sub_SBL </span></div><div class=\"children hor wrap \"><div class=\"contnr c1   lno \" ><div class=\"lbl c1  \" ><span class=\"nd\">sub_TISCH </span></div><div class=\"children hor wrap \"><div class=\"contnr c1   lno \" ><div class=\"lbl c1  \" ><span class=\"nd\">sub_KJTR </span></div><div class=\"children hor wrap \"><div class=\"contnr c1   lno rno \" ><div class=\"lbl c1  \" ><span class=\"nd\">sub_TCGNT </span></div><div class=\"children hor wrap \"><div class=\"contnr c1   rno \" ><div class=\"lbl c1  \" ><span class=\"nd\">sub_SR </span></div><div class=\"children hor wrap \"><div class=\"contnr c0 trm   \" ><div class=\"lbl c0 trm \" ><span class=\"txtu\">λεγομενος</span></div></div></div></div></div></div></div></div><div class=\"contnr c1    \" ><div class=\"lbl c1  \" ><span class=\"nd\">sub_KJTR </span></div><div class=\"children hor wrap \"><div class=\"contnr c1   lno rno \" ><div class=\"lbl c1  \" ><span class=\"nd\">sub_TCGNT </span></div><div class=\"children hor wrap \"><div class=\"contnr c1   lno \" ><div class=\"lbl c1  \" ><span class=\"nd\">sub_SR </span></div><div class=\"children hor wrap \"><div class=\"contnr c0 trm   \" ><div class=\"lbl c0 trm \" ><span class=\"txtu\">ιησους</span></div></div><div class=\"contnr c0 trm   \" ><div class=\"lbl c0 trm \" ><span class=\"txtu\">πηλον</span></div></div></div></div><div class=\"contnr c1    \" ><div class=\"lbl c1  \" ><span class=\"nd\">sub_SR </span></div><div class=\"children hor wrap \"><div class=\"contnr c0 trm   \" ><div class=\"lbl c0 trm \" ><span class=\"txtu\">εποιησεν</span></div></div><div class=\"contnr c0 trm   \" ><div class=\"lbl c0 trm \" ><span class=\"txtu\">και</span></div></div><div class=\"contnr c0 trm   \" ><div class=\"lbl c0 trm \" ><span class=\"txtu\">επεχρισεν</span></div></div></div></div><div class=\"contnr c1    \" ><div class=\"lbl c1  \" ><span class=\"nd\">sub_SR </span></div><div class=\"children hor wrap \"><div class=\"contnr c0 trm   \" ><div class=\"lbl c0 trm \" ><span class=\"txtu\">μου</span></div></div><div class=\"contnr c0 trm   \" ><div class=\"lbl c0 trm \" ><span class=\"txtu\">τους</span></div></div></div></div><div class=\"contnr c1   rno \" ><div class=\"lbl c1  \" ><span class=\"nd\">sub_SR </span></div><div class=\"children hor wrap \"><div class=\"contnr c0 trm   \" ><div class=\"lbl c0 trm \" ><span class=\"txtu\">οφθαλμους</span></div></div><div class=\"contnr c0 trm   \" ><div class=\"lbl c0 trm \" ><span class=\"txtu\">και</span></div></div><div class=\"contnr c0 trm   \" ><div class=\"lbl c0 trm \" ><span class=\"txtu\">ειπεν</span></div></div><div class=\"contnr c0 trm   \" ><div class=\"lbl c0 trm \" ><span class=\"txtu\">μοι</span></div></div></div></div></div></div></div></div><div class=\"contnr c1    \" ><div class=\"lbl c1  \" ><span class=\"nd\">sub_KJTR </span></div><div class=\"children hor wrap \"><div class=\"contnr c1   lno rno \" ><div class=\"lbl c1  \" ><span class=\"nd\">sub_TCGNT </span></div><div class=\"children hor wrap \"><div class=\"contnr c1   lno rno \" ><div class=\"lbl c1  \" ><span class=\"nd\">sub_SR </span></div><div class=\"children hor wrap \"><div class=\"contnr c0 trm   \" ><div class=\"lbl c0 trm \" ><span class=\"txtu\">οτι</span></div></div></div></div></div></div></div></div><div class=\"contnr c1    \" ><div class=\"lbl c1  \" ><span class=\"nd\">sub_KJTR </span></div><div class=\"children hor wrap \"><div class=\"contnr c1   lno rno \" ><div class=\"lbl c1  \" ><span class=\"nd\">sub_TCGNT </span></div><div class=\"children hor wrap \"><div class=\"contnr c1   lno rno \" ><div class=\"lbl c1  \" ><span class=\"nd\">sub_SR </span></div><div class=\"children hor wrap \"><div class=\"contnr c0 trm   \" ><div class=\"lbl c0 trm \" ><span class=\"txtu\">υπαγε</span></div></div></div></div></div></div></div></div></div></div><div class=\"contnr c1   rno \" ><div class=\"lbl c1  \" ><span class=\"nd\">sub_TISCH </span></div><div class=\"children hor wrap \"><div class=\"contnr c1    \" ><div class=\"lbl c1  \" ><span class=\"nd\">sub_KJTR </span></div><div class=\"children hor wrap \"><div class=\"contnr c1   lno rno \" ><div class=\"lbl c1  \" ><span class=\"nd\">sub_TCGNT </span></div><div class=\"children hor wrap \"><div class=\"contnr c1   lno rno \" ><div class=\"lbl c1  \" ><span class=\"nd\">sub_SR </span></div><div class=\"children hor wrap \"><div class=\"contnr c0 trm   \" ><div class=\"lbl c0 trm \" ><span class=\"txtu\">εις</span></div></div><div class=\"contnr c0 trm   \" ><div class=\"lbl c0 trm \" ><span class=\"txtu\">τον</span></div></div></div></div></div></div></div></div><div class=\"contnr c1    \" ><div class=\"lbl c1  \" ><span class=\"nd\">sub_KJTR </span></div><div class=\"children hor wrap \"><div class=\"contnr c1   lno rno \" ><div class=\"lbl c1  \" ><span class=\"nd\">sub_TCGNT </span></div><div class=\"children hor wrap \"><div class=\"contnr c1   lno \" ><div class=\"lbl c1  \" ><span class=\"nd\">sub_SR </span></div><div class=\"children hor wrap \"><div class=\"contnr c0 trm   \" ><div class=\"lbl c0 trm \" ><span class=\"txtu\">σιλωαμ</span></div></div></div></div></div></div></div></div><div class=\"contnr c1   rno \" ><div class=\"lbl c1  \" ><span class=\"nd\">sub_KJTR </span></div><div class=\"children hor wrap \"><div class=\"contnr c1   lno \" ><div class=\"lbl c1  \" ><span class=\"nd\">sub_TCGNT </span></div><div class=\"children hor wrap \"><div class=\"contnr c1   rno \" ><div class=\"lbl c1  \" ><span class=\"nd\">sub_SR </span></div><div class=\"children hor wrap \"><div class=\"contnr c0 trm   \" ><div class=\"lbl c0 trm \" ><span class=\"txtu\">και</span></div></div></div></div></div></div><div class=\"contnr c1   rno \" ><div class=\"lbl c1  \" ><span class=\"nd\">sub_TCGNT </span></div><div class=\"children hor wrap \"><div class=\"contnr c1   lno rno \" ><div class=\"lbl c1  \" ><span class=\"nd\">sub_SR </span></div><div class=\"children hor wrap \"><div class=\"contnr c0 trm   \" ><div class=\"lbl c0 trm \" ><span class=\"txtu\">νιψαι·</span></div></div></div></div></div></div></div></div></div></div></div></div></div></div><div class=\"contnr c1   rno \" ><div class=\"lbl c1  \" ><span class=\"nd\">sub_N1904 </span></div><div class=\"children hor wrap \"><div class=\"contnr c1   lno rno \" ><div class=\"lbl c1  \" ><span class=\"nd\">sub_SBL </span></div><div class=\"children hor wrap \"><div class=\"contnr c1   lno \" ><div class=\"lbl c1  \" ><span class=\"nd\">sub_TISCH </span></div><div class=\"children hor wrap \"><div class=\"contnr c1   lno rno \" ><div class=\"lbl c1  \" ><span class=\"nd\">sub_KJTR </span></div><div class=\"children hor wrap \"><div class=\"contnr c1   lno \" ><div class=\"lbl c1  \" ><span class=\"nd\">sub_TCGNT </span></div><div class=\"children hor wrap \"><div class=\"contnr c1   lno rno \" ><div class=\"lbl c1  \" ><span class=\"nd\">sub_SR </span></div><div class=\"children hor wrap \"><div class=\"contnr c0 trm   \" ><div class=\"lbl c0 trm \" ><span class=\"txtu\">απελθων</span></div></div></div></div></div></div></div></div></div></div><div class=\"contnr c1    \" ><div class=\"lbl c1  \" ><span class=\"nd\">sub_TISCH </span></div><div class=\"children hor wrap \"><div class=\"contnr c1   lno \" ><div class=\"lbl c1  \" ><span class=\"nd\">sub_KJTR </span></div><div class=\"children hor wrap \"><div class=\"contnr c1   rno \" ><div class=\"lbl c1  \" ><span class=\"nd\">sub_TCGNT </span></div><div class=\"children hor wrap \"><div class=\"contnr c1   lno \" ><div class=\"lbl c1  \" ><span class=\"nd\">sub_SR </span></div><div class=\"children hor wrap \"><div class=\"contnr c0 trm   \" ><div class=\"lbl c0 trm \" ><span class=\"txtu\">ουν</span></div></div></div></div></div></div></div></div><div class=\"contnr c1   rno \" ><div class=\"lbl c1  \" ><span class=\"nd\">sub_KJTR </span></div><div class=\"children hor wrap \"><div class=\"contnr c1   lno rno \" ><div class=\"lbl c1  \" ><span class=\"nd\">sub_TCGNT </span></div><div class=\"children hor wrap \"><div class=\"contnr c1   rno \" ><div class=\"lbl c1  \" ><span class=\"nd\">sub_SR </span></div><div class=\"children hor wrap \"><div class=\"contnr c0 trm   \" ><div class=\"lbl c0 trm \" ><span class=\"txtu\">και</span></div></div></div></div></div></div></div></div></div></div><div class=\"contnr c1   rno \" ><div class=\"lbl c1  \" ><span class=\"nd\">sub_TISCH </span></div><div class=\"children hor wrap \"><div class=\"contnr c1   lno \" ><div class=\"lbl c1  \" ><span class=\"nd\">sub_KJTR </span></div><div class=\"children hor wrap \"><div class=\"contnr c1   lno rno \" ><div class=\"lbl c1  \" ><span class=\"nd\">sub_TCGNT </span></div><div class=\"children hor wrap \"><div class=\"contnr c1   lno rno \" ><div class=\"lbl c1  \" ><span class=\"nd\">sub_SR </span></div><div class=\"children hor wrap \"><div class=\"contnr c0 trm   \" ><div class=\"lbl c0 trm \" ><span class=\"txtu\">νιψαμενος</span></div></div><div class=\"contnr c0 trm   \" ><div class=\"lbl c0 trm \" ><span class=\"txtu\">ανεβλεψα.</span></div></div></div></div></div></div></div></div></div></div></div></div></div></div></div></div></div>"
      ],
      "text/plain": [
       "<IPython.core.display.HTML object>"
      ]
     },
     "metadata": {},
     "output_type": "display_data"
    },
    {
     "data": {
      "text/html": [
       "<p><b>verse</b> <i>17</i>"
      ],
      "text/plain": [
       "<IPython.core.display.HTML object>"
      ]
     },
     "metadata": {},
     "output_type": "display_data"
    },
    {
     "data": {
      "text/html": [
       "<div class=\"tfsechead \"><span class=\"ltr\"><a target=\"_blank\" href=\"https://bibleol.3bmoodle.dk/text/show_text/nestle1904/John/9/16\" sec=\"John 9:16\">John 9:16</a></span></div><div class=\" children pr-mode\"><div class=\"contnr c3    \" ><div class=\"lbl c3  \" ><span class=\"nd\">verse </span> <span class=\"\"><span title=\"book\">John</span> <span title=\"chapter\">9</span>:<span title=\"verse\">16</span></span></div><div class=\"children hor wrap \"><div class=\"contnr c1   lno \" ><div class=\"lbl c1  \" ><span class=\"nd\">sub_N1904 </span></div><div class=\"children hor wrap \"><div class=\"contnr c1   lno \" ><div class=\"lbl c1  \" ><span class=\"nd\">sub_SBL </span></div><div class=\"children hor wrap \"><div class=\"contnr c1   lno \" ><div class=\"lbl c1  \" ><span class=\"nd\">sub_TISCH </span></div><div class=\"children hor wrap \"><div class=\"contnr c1   lno rno \" ><div class=\"lbl c1  \" ><span class=\"nd\">sub_KJTR </span></div><div class=\"children hor wrap \"><div class=\"contnr c1   lno \" ><div class=\"lbl c1  \" ><span class=\"nd\">sub_TCGNT </span></div><div class=\"children hor wrap \"><div class=\"contnr c1   lno \" ><div class=\"lbl c1  \" ><span class=\"nd\">sub_SR </span></div><div class=\"children hor wrap \"><div class=\"contnr c0 trm   \" ><div class=\"lbl c0 trm \" ><span class=\"txtu\">ελεγον</span></div></div><div class=\"contnr c0 trm   \" ><div class=\"lbl c0 trm \" ><span class=\"txtu\">ουν</span></div></div></div></div><div class=\"contnr c1   rno \" ><div class=\"lbl c1  \" ><span class=\"nd\">sub_SR </span></div><div class=\"children hor wrap \"><div class=\"contnr c0 trm   \" ><div class=\"lbl c0 trm \" ><span class=\"txtu\">εκ</span></div></div></div></div></div></div><div class=\"contnr c1    \" ><div class=\"lbl c1  \" ><span class=\"nd\">sub_TCGNT </span></div><div class=\"children hor wrap \"><div class=\"contnr c1   lno rno \" ><div class=\"lbl c1  \" ><span class=\"nd\">sub_SR </span></div><div class=\"children hor wrap \"><div class=\"contnr c0 trm   \" ><div class=\"lbl c0 trm \" ><span class=\"txtu\">των</span></div></div></div></div></div></div></div></div></div></div><div class=\"contnr c1   rno \" ><div class=\"lbl c1  \" ><span class=\"nd\">sub_TISCH </span></div><div class=\"children hor wrap \"><div class=\"contnr c1   lno rno \" ><div class=\"lbl c1  \" ><span class=\"nd\">sub_KJTR </span></div><div class=\"children hor wrap \"><div class=\"contnr c1   rno \" ><div class=\"lbl c1  \" ><span class=\"nd\">sub_TCGNT </span></div><div class=\"children hor wrap \"><div class=\"contnr c1   lno rno \" ><div class=\"lbl c1  \" ><span class=\"nd\">sub_SR </span></div><div class=\"children hor wrap \"><div class=\"contnr c0 trm   \" ><div class=\"lbl c0 trm \" ><span class=\"txtu\">φαρισαιων</span></div></div><div class=\"contnr c0 trm   \" ><div class=\"lbl c0 trm \" ><span class=\"txtu\">τινες</span></div></div></div></div></div></div></div></div></div></div></div></div><div class=\"contnr c1    \" ><div class=\"lbl c1  \" ><span class=\"nd\">sub_SBL </span></div><div class=\"children hor wrap \"><div class=\"contnr c1   lno \" ><div class=\"lbl c1  \" ><span class=\"nd\">sub_TISCH </span></div><div class=\"children hor wrap \"><div class=\"contnr c1   lno \" ><div class=\"lbl c1  \" ><span class=\"nd\">sub_KJTR </span></div><div class=\"children hor wrap \"><div class=\"contnr c1   lno rno \" ><div class=\"lbl c1  \" ><span class=\"nd\">sub_TCGNT </span></div><div class=\"children hor wrap \"><div class=\"contnr c1   lno \" ><div class=\"lbl c1  \" ><span class=\"nd\">sub_SR </span></div><div class=\"children hor wrap \"><div class=\"contnr c0 trm   \" ><div class=\"lbl c0 trm \" ><span class=\"txtu\">ουκ</span></div></div></div></div></div></div></div></div><div class=\"contnr c1   rno \" ><div class=\"lbl c1  \" ><span class=\"nd\">sub_KJTR </span></div><div class=\"children hor wrap \"><div class=\"contnr c1   lno rno \" ><div class=\"lbl c1  \" ><span class=\"nd\">sub_TCGNT </span></div><div class=\"children hor wrap \"><div class=\"contnr c1   rno \" ><div class=\"lbl c1  \" ><span class=\"nd\">sub_SR </span></div><div class=\"children hor wrap \"><div class=\"contnr c0 trm   \" ><div class=\"lbl c0 trm \" ><span class=\"txtu\">εστιν</span></div></div><div class=\"contnr c0 trm   \" ><div class=\"lbl c0 trm \" ><span class=\"txtu\">ουτος</span></div></div></div></div></div></div></div></div></div></div><div class=\"contnr c1   rno hl\" ><div class=\"lbl c1  hl\" ><span class=\"nd\">sub_TISCH </span></div><div class=\"children hor wrap \"><div class=\"contnr c1   lno \" ><div class=\"lbl c1  \" ><span class=\"nd\">sub_KJTR </span></div><div class=\"children hor wrap \"><div class=\"contnr c1   lno rno \" ><div class=\"lbl c1  \" ><span class=\"nd\">sub_TCGNT </span></div><div class=\"children hor wrap \"><div class=\"contnr c1   lno \" ><div class=\"lbl c1  \" ><span class=\"nd\">sub_SR </span></div><div class=\"children hor wrap \"><div class=\"contnr c0 trm   \" ><div class=\"lbl c0 trm \" ><span class=\"txtu\">παρα</span></div></div></div></div></div></div></div></div><div class=\"contnr c1    \" ><div class=\"lbl c1  \" ><span class=\"nd\">sub_KJTR </span></div><div class=\"children hor wrap \"><div class=\"contnr c1   lno \" ><div class=\"lbl c1  \" ><span class=\"nd\">sub_TCGNT </span></div><div class=\"children hor wrap \"><div class=\"contnr c1   rno hl\" ><div class=\"lbl c1  hl\" ><span class=\"nd\">sub_SR </span></div><div class=\"children hor wrap \"><div class=\"contnr c0 trm   \" ><div class=\"lbl c0 trm \" ><span class=\"txtu\">θεου</span></div></div></div></div></div></div></div></div></div></div></div></div><div class=\"contnr c1   rno hl\" ><div class=\"lbl c1  hl\" ><span class=\"nd\">sub_SBL </span></div><div class=\"children hor wrap \"><div class=\"contnr c1   lno rno hl\" ><div class=\"lbl c1  hl\" ><span class=\"nd\">sub_TISCH </span></div><div class=\"children hor wrap \"><div class=\"contnr c1   rno hl\" ><div class=\"lbl c1  hl\" ><span class=\"nd\">sub_KJTR </span></div><div class=\"children hor wrap \"><div class=\"contnr c1   rno hl\" ><div class=\"lbl c1  hl\" ><span class=\"nd\">sub_TCGNT </span></div><div class=\"children hor wrap \"><div class=\"contnr c1   lno rno hl\" ><div class=\"lbl c1  hl\" ><span class=\"nd\">sub_SR </span></div><div class=\"children hor wrap \"><div class=\"contnr c0 trm   \" ><div class=\"lbl c0 trm \" ><span class=\"txtu\">ο</span></div></div><div class=\"contnr c0 trm   hl\" ><div class=\"lbl c0 trm hl\" ><span class=\"txtu\">ανθρωπος,</span></div></div></div></div></div></div></div></div></div></div></div></div></div></div><div class=\"contnr c1    \" ><div class=\"lbl c1  \" ><span class=\"nd\">sub_N1904 </span></div><div class=\"children hor wrap \"><div class=\"contnr c1   lno hl\" ><div class=\"lbl c1  hl\" ><span class=\"nd\">sub_SBL </span></div><div class=\"children hor wrap \"><div class=\"contnr c1   lno rno hl\" ><div class=\"lbl c1  hl\" ><span class=\"nd\">sub_TISCH </span></div><div class=\"children hor wrap \"><div class=\"contnr c1   lno rno hl\" ><div class=\"lbl c1  hl\" ><span class=\"nd\">sub_KJTR </span></div><div class=\"children hor wrap \"><div class=\"contnr c1   lno hl\" ><div class=\"lbl c1  hl\" ><span class=\"nd\">sub_TCGNT </span></div><div class=\"children hor wrap \"><div class=\"contnr c1   lno rno hl\" ><div class=\"lbl c1  hl\" ><span class=\"nd\">sub_SR </span></div><div class=\"children hor wrap \"><div class=\"contnr c0 trm   \" ><div class=\"lbl c0 trm \" ><span class=\"txtu\">οτι</span></div></div><div class=\"contnr c0 trm   \" ><div class=\"lbl c0 trm \" ><span class=\"txtu\">το</span></div></div><div class=\"contnr c0 trm   \" ><div class=\"lbl c0 trm \" ><span class=\"txtu\">σαββατον</span></div></div></div></div></div></div></div></div></div></div></div></div><div class=\"contnr c1   rno \" ><div class=\"lbl c1  \" ><span class=\"nd\">sub_SBL </span></div><div class=\"children hor wrap \"><div class=\"contnr c1   lno hl\" ><div class=\"lbl c1  hl\" ><span class=\"nd\">sub_TISCH </span></div><div class=\"children hor wrap \"><div class=\"contnr c1   lno hl\" ><div class=\"lbl c1  hl\" ><span class=\"nd\">sub_KJTR </span></div><div class=\"children hor wrap \"><div class=\"contnr c1   rno \" ><div class=\"lbl c1  \" ><span class=\"nd\">sub_TCGNT </span></div><div class=\"children hor wrap \"><div class=\"contnr c1   lno hl\" ><div class=\"lbl c1  hl\" ><span class=\"nd\">sub_SR </span></div><div class=\"children hor wrap \"><div class=\"contnr c0 trm   \" ><div class=\"lbl c0 trm \" ><span class=\"txtu\">ου</span></div></div></div></div></div></div></div></div></div></div><div class=\"contnr c1    \" ><div class=\"lbl c1  \" ><span class=\"nd\">sub_TISCH </span></div><div class=\"children hor wrap \"><div class=\"contnr c1    \" ><div class=\"lbl c1  \" ><span class=\"nd\">sub_KJTR </span></div><div class=\"children hor wrap \"><div class=\"contnr c1   lno rno \" ><div class=\"lbl c1  \" ><span class=\"nd\">sub_TCGNT </span></div><div class=\"children hor wrap \"><div class=\"contnr c1   rno \" ><div class=\"lbl c1  \" ><span class=\"nd\">sub_SR </span></div><div class=\"children hor wrap \"><div class=\"contnr c0 trm   \" ><div class=\"lbl c0 trm \" ><span class=\"txtu\">τηρει.</span></div></div><div class=\"contnr c0 trm   \" ><div class=\"lbl c0 trm \" ><span class=\"txtu\">αλλοι</span></div></div></div></div></div></div></div></div><div class=\"contnr c1   rno \" ><div class=\"lbl c1  \" ><span class=\"nd\">sub_KJTR </span></div><div class=\"children hor wrap \"><div class=\"contnr c1   lno rno \" ><div class=\"lbl c1  \" ><span class=\"nd\">sub_TCGNT </span></div><div class=\"children hor wrap \"><div class=\"contnr c1   lno \" ><div class=\"lbl c1  \" ><span class=\"nd\">sub_SR </span></div><div class=\"children hor wrap \"><div class=\"contnr c0 trm   \" ><div class=\"lbl c0 trm \" ><span class=\"txtu\">ελεγον</span></div></div></div></div><div class=\"contnr c1   rno \" ><div class=\"lbl c1  \" ><span class=\"nd\">sub_SR </span></div><div class=\"children hor wrap \"><div class=\"contnr c0 trm   \" ><div class=\"lbl c0 trm \" ><span class=\"txtu\">πως</span></div></div></div></div></div></div></div></div></div></div><div class=\"contnr c1    hl\" ><div class=\"lbl c1  hl\" ><span class=\"nd\">sub_TISCH </span></div><div class=\"children hor wrap \"><div class=\"contnr c1   lno \" ><div class=\"lbl c1  \" ><span class=\"nd\">sub_KJTR </span></div><div class=\"children hor wrap \"><div class=\"contnr c1   lno rno \" ><div class=\"lbl c1  \" ><span class=\"nd\">sub_TCGNT </span></div><div class=\"children hor wrap \"><div class=\"contnr c1   lno rno \" ><div class=\"lbl c1  \" ><span class=\"nd\">sub_SR </span></div><div class=\"children hor wrap \"><div class=\"contnr c0 trm   \" ><div class=\"lbl c0 trm \" ><span class=\"txtu\">δυναται</span></div></div></div></div></div></div></div></div><div class=\"contnr c1    hl\" ><div class=\"lbl c1  hl\" ><span class=\"nd\">sub_KJTR </span></div><div class=\"children hor wrap \"><div class=\"contnr c1   lno rno \" ><div class=\"lbl c1  \" ><span class=\"nd\">sub_TCGNT </span></div><div class=\"children hor wrap \"><div class=\"contnr c1   lno rno \" ><div class=\"lbl c1  \" ><span class=\"nd\">sub_SR </span></div><div class=\"children hor wrap \"><div class=\"contnr c0 trm   hl\" ><div class=\"lbl c0 trm hl\" ><span class=\"txtu\">ανθρωπος</span></div></div><div class=\"contnr c0 trm   \" ><div class=\"lbl c0 trm \" ><span class=\"txtu\">αμαρτωλος</span></div></div></div></div></div></div></div></div><div class=\"contnr c1   rno \" ><div class=\"lbl c1  \" ><span class=\"nd\">sub_KJTR </span></div><div class=\"children hor wrap \"><div class=\"contnr c1   lno rno \" ><div class=\"lbl c1  \" ><span class=\"nd\">sub_TCGNT </span></div><div class=\"children hor wrap \"><div class=\"contnr c1   lno rno \" ><div class=\"lbl c1  \" ><span class=\"nd\">sub_SR </span></div><div class=\"children hor wrap \"><div class=\"contnr c0 trm   \" ><div class=\"lbl c0 trm \" ><span class=\"txtu\">τοιαυτα</span></div></div><div class=\"contnr c0 trm   \" ><div class=\"lbl c0 trm \" ><span class=\"txtu\">σημεια</span></div></div></div></div></div></div></div></div></div></div><div class=\"contnr c1   rno \" ><div class=\"lbl c1  \" ><span class=\"nd\">sub_TISCH </span></div><div class=\"children hor wrap \"><div class=\"contnr c1   lno rno \" ><div class=\"lbl c1  \" ><span class=\"nd\">sub_KJTR </span></div><div class=\"children hor wrap \"><div class=\"contnr c1   lno rno \" ><div class=\"lbl c1  \" ><span class=\"nd\">sub_TCGNT </span></div><div class=\"children hor wrap \"><div class=\"contnr c1   lno \" ><div class=\"lbl c1  \" ><span class=\"nd\">sub_SR </span></div><div class=\"children hor wrap \"><div class=\"contnr c0 trm   \" ><div class=\"lbl c0 trm \" ><span class=\"txtu\">ποιειν;</span></div></div></div></div></div></div></div></div></div></div></div></div></div></div><div class=\"contnr c1   rno \" ><div class=\"lbl c1  \" ><span class=\"nd\">sub_N1904 </span></div><div class=\"children hor wrap \"><div class=\"contnr c1   lno rno \" ><div class=\"lbl c1  \" ><span class=\"nd\">sub_SBL </span></div><div class=\"children hor wrap \"><div class=\"contnr c1   lno \" ><div class=\"lbl c1  \" ><span class=\"nd\">sub_TISCH </span></div><div class=\"children hor wrap \"><div class=\"contnr c1   lno \" ><div class=\"lbl c1  \" ><span class=\"nd\">sub_KJTR </span></div><div class=\"children hor wrap \"><div class=\"contnr c1   lno \" ><div class=\"lbl c1  \" ><span class=\"nd\">sub_TCGNT </span></div><div class=\"children hor wrap \"><div class=\"contnr c1   rno \" ><div class=\"lbl c1  \" ><span class=\"nd\">sub_SR </span></div><div class=\"children hor wrap \"><div class=\"contnr c0 trm   \" ><div class=\"lbl c0 trm \" ><span class=\"txtu\">και</span></div></div><div class=\"contnr c0 trm   \" ><div class=\"lbl c0 trm \" ><span class=\"txtu\">σχισμα</span></div></div><div class=\"contnr c0 trm   \" ><div class=\"lbl c0 trm \" ><span class=\"txtu\">ην</span></div></div></div></div></div></div></div></div><div class=\"contnr c1   rno \" ><div class=\"lbl c1  \" ><span class=\"nd\">sub_KJTR </span></div><div class=\"children hor wrap \"><div class=\"contnr c1   rno \" ><div class=\"lbl c1  \" ><span class=\"nd\">sub_TCGNT </span></div><div class=\"children hor wrap \"><div class=\"contnr c1   lno rno \" ><div class=\"lbl c1  \" ><span class=\"nd\">sub_SR </span></div><div class=\"children hor wrap \"><div class=\"contnr c0 trm   \" ><div class=\"lbl c0 trm \" ><span class=\"txtu\">εν</span></div></div><div class=\"contnr c0 trm   \" ><div class=\"lbl c0 trm \" ><span class=\"txtu\">αυτοις.</span></div></div></div></div></div></div></div></div></div></div></div></div></div></div></div></div></div>"
      ],
      "text/plain": [
       "<IPython.core.display.HTML object>"
      ]
     },
     "metadata": {},
     "output_type": "display_data"
    },
    {
     "data": {
      "text/html": [
       "<p><b>verse</b> <i>18</i>"
      ],
      "text/plain": [
       "<IPython.core.display.HTML object>"
      ]
     },
     "metadata": {},
     "output_type": "display_data"
    },
    {
     "data": {
      "text/html": [
       "<div class=\"tfsechead \"><span class=\"ltr\"><a target=\"_blank\" href=\"https://bibleol.3bmoodle.dk/text/show_text/nestle1904/John/9/24\" sec=\"John 9:24\">John 9:24</a></span></div><div class=\" children pr-mode\"><div class=\"contnr c3    \" ><div class=\"lbl c3  \" ><span class=\"nd\">verse </span> <span class=\"\"><span title=\"book\">John</span> <span title=\"chapter\">9</span>:<span title=\"verse\">24</span></span></div><div class=\"children hor wrap \"><div class=\"contnr c1   lno \" ><div class=\"lbl c1  \" ><span class=\"nd\">sub_N1904 </span></div><div class=\"children hor wrap \"><div class=\"contnr c1   lno \" ><div class=\"lbl c1  \" ><span class=\"nd\">sub_SBL </span></div><div class=\"children hor wrap \"><div class=\"contnr c1   lno rno \" ><div class=\"lbl c1  \" ><span class=\"nd\">sub_TISCH </span></div><div class=\"children hor wrap \"><div class=\"contnr c1   lno rno \" ><div class=\"lbl c1  \" ><span class=\"nd\">sub_KJTR </span></div><div class=\"children hor wrap \"><div class=\"contnr c1   rno \" ><div class=\"lbl c1  \" ><span class=\"nd\">sub_TCGNT </span></div><div class=\"children hor wrap \"><div class=\"contnr c1   rno \" ><div class=\"lbl c1  \" ><span class=\"nd\">sub_SR </span></div><div class=\"children hor wrap \"><div class=\"contnr c0 trm   \" ><div class=\"lbl c0 trm \" ><span class=\"txtu\">εφωνησαν</span></div></div></div></div></div></div></div></div></div></div></div></div><div class=\"contnr c1   rno \" ><div class=\"lbl c1  \" ><span class=\"nd\">sub_SBL </span></div><div class=\"children hor wrap \"><div class=\"contnr c1   lno \" ><div class=\"lbl c1  \" ><span class=\"nd\">sub_TISCH </span></div><div class=\"children hor wrap \"><div class=\"contnr c1   lno rno \" ><div class=\"lbl c1  \" ><span class=\"nd\">sub_KJTR </span></div><div class=\"children hor wrap \"><div class=\"contnr c1   lno rno \" ><div class=\"lbl c1  \" ><span class=\"nd\">sub_TCGNT </span></div><div class=\"children hor wrap \"><div class=\"contnr c1   lno rno \" ><div class=\"lbl c1  \" ><span class=\"nd\">sub_SR </span></div><div class=\"children hor wrap \"><div class=\"contnr c0 trm   \" ><div class=\"lbl c0 trm \" ><span class=\"txtu\">ουν</span></div></div></div></div></div></div></div></div></div></div><div class=\"contnr c1    \" ><div class=\"lbl c1  \" ><span class=\"nd\">sub_TISCH </span></div><div class=\"children hor wrap \"><div class=\"contnr c1   lno \" ><div class=\"lbl c1  \" ><span class=\"nd\">sub_KJTR </span></div><div class=\"children hor wrap \"><div class=\"contnr c1   lno rno \" ><div class=\"lbl c1  \" ><span class=\"nd\">sub_TCGNT </span></div><div class=\"children hor wrap \"><div class=\"contnr c1   lno rno \" ><div class=\"lbl c1  \" ><span class=\"nd\">sub_SR </span></div><div class=\"children hor wrap \"><div class=\"contnr c0 trm   \" ><div class=\"lbl c0 trm \" ><span class=\"txtu\">τον</span></div></div></div></div></div></div></div></div><div class=\"contnr c1   rno \" ><div class=\"lbl c1  \" ><span class=\"nd\">sub_KJTR </span></div><div class=\"children hor wrap \"><div class=\"contnr c1   lno rno \" ><div class=\"lbl c1  \" ><span class=\"nd\">sub_TCGNT </span></div><div class=\"children hor wrap \"><div class=\"contnr c1   lno rno \" ><div class=\"lbl c1  \" ><span class=\"nd\">sub_SR </span></div><div class=\"children hor wrap \"><div class=\"contnr c0 trm   \" ><div class=\"lbl c0 trm \" ><span class=\"txtu\">ανθρωπον</span></div></div><div class=\"contnr c0 trm   \" ><div class=\"lbl c0 trm \" ><span class=\"txtu\">εκ</span></div></div><div class=\"contnr c0 trm   \" ><div class=\"lbl c0 trm \" ><span class=\"txtu\">δευτερου</span></div></div></div></div></div></div></div></div></div></div><div class=\"contnr c1   rno \" ><div class=\"lbl c1  \" ><span class=\"nd\">sub_TISCH </span></div><div class=\"children hor wrap \"><div class=\"contnr c1   lno rno \" ><div class=\"lbl c1  \" ><span class=\"nd\">sub_KJTR </span></div><div class=\"children hor wrap \"><div class=\"contnr c1   lno rno \" ><div class=\"lbl c1  \" ><span class=\"nd\">sub_TCGNT </span></div><div class=\"children hor wrap \"><div class=\"contnr c1   lno \" ><div class=\"lbl c1  \" ><span class=\"nd\">sub_SR </span></div><div class=\"children hor wrap \"><div class=\"contnr c0 trm   \" ><div class=\"lbl c0 trm \" ><span class=\"txtu\">ος</span></div></div><div class=\"contnr c0 trm   \" ><div class=\"lbl c0 trm \" ><span class=\"txtu\">ην</span></div></div></div></div><div class=\"contnr c1   rno \" ><div class=\"lbl c1  \" ><span class=\"nd\">sub_SR </span></div><div class=\"children hor wrap \"><div class=\"contnr c0 trm   \" ><div class=\"lbl c0 trm \" ><span class=\"txtu\">τυφλος,</span></div></div></div></div></div></div></div></div></div></div></div></div></div></div><div class=\"contnr c1    \" ><div class=\"lbl c1  \" ><span class=\"nd\">sub_N1904 </span></div><div class=\"children hor wrap \"><div class=\"contnr c1   lno \" ><div class=\"lbl c1  \" ><span class=\"nd\">sub_SBL </span></div><div class=\"children hor wrap \"><div class=\"contnr c1   lno rno \" ><div class=\"lbl c1  \" ><span class=\"nd\">sub_TISCH </span></div><div class=\"children hor wrap \"><div class=\"contnr c1   lno \" ><div class=\"lbl c1  \" ><span class=\"nd\">sub_KJTR </span></div><div class=\"children hor wrap \"><div class=\"contnr c1   lno rno \" ><div class=\"lbl c1  \" ><span class=\"nd\">sub_TCGNT </span></div><div class=\"children hor wrap \"><div class=\"contnr c1   lno rno \" ><div class=\"lbl c1  \" ><span class=\"nd\">sub_SR </span></div><div class=\"children hor wrap \"><div class=\"contnr c0 trm   \" ><div class=\"lbl c0 trm \" ><span class=\"txtu\">και</span></div></div></div></div></div></div></div></div><div class=\"contnr c1   rno \" ><div class=\"lbl c1  \" ><span class=\"nd\">sub_KJTR </span></div><div class=\"children hor wrap \"><div class=\"contnr c1   lno rno \" ><div class=\"lbl c1  \" ><span class=\"nd\">sub_TCGNT </span></div><div class=\"children hor wrap \"><div class=\"contnr c1   lno \" ><div class=\"lbl c1  \" ><span class=\"nd\">sub_SR </span></div><div class=\"children hor wrap \"><div class=\"contnr c0 trm   \" ><div class=\"lbl c0 trm \" ><span class=\"txtu\">ειπαν</span></div></div></div></div></div></div></div></div></div></div></div></div><div class=\"contnr c1    \" ><div class=\"lbl c1  \" ><span class=\"nd\">sub_SBL </span></div><div class=\"children hor wrap \"><div class=\"contnr c1   lno \" ><div class=\"lbl c1  \" ><span class=\"nd\">sub_TISCH </span></div><div class=\"children hor wrap \"><div class=\"contnr c1   lno rno \" ><div class=\"lbl c1  \" ><span class=\"nd\">sub_KJTR </span></div><div class=\"children hor wrap \"><div class=\"contnr c1   lno \" ><div class=\"lbl c1  \" ><span class=\"nd\">sub_TCGNT </span></div><div class=\"children hor wrap \"><div class=\"contnr c1   rno \" ><div class=\"lbl c1  \" ><span class=\"nd\">sub_SR </span></div><div class=\"children hor wrap \"><div class=\"contnr c0 trm   \" ><div class=\"lbl c0 trm \" ><span class=\"txtu\">αυτω</span></div></div><div class=\"contnr c0 trm   \" ><div class=\"lbl c0 trm \" ><span class=\"txtu\">δος</span></div></div></div></div></div></div></div></div></div></div><div class=\"contnr c1   rno \" ><div class=\"lbl c1  \" ><span class=\"nd\">sub_TISCH </span></div><div class=\"children hor wrap \"><div class=\"contnr c1   lno rno \" ><div class=\"lbl c1  \" ><span class=\"nd\">sub_KJTR </span></div><div class=\"children hor wrap \"><div class=\"contnr c1   rno \" ><div class=\"lbl c1  \" ><span class=\"nd\">sub_TCGNT </span></div><div class=\"children hor wrap \"><div class=\"contnr c1   lno rno \" ><div class=\"lbl c1  \" ><span class=\"nd\">sub_SR </span></div><div class=\"children hor wrap \"><div class=\"contnr c0 trm   \" ><div class=\"lbl c0 trm \" ><span class=\"txtu\">δοξαν</span></div></div></div></div></div></div></div></div></div></div></div></div><div class=\"contnr c1   rno \" ><div class=\"lbl c1  \" ><span class=\"nd\">sub_SBL </span></div><div class=\"children hor wrap \"><div class=\"contnr c1   lno rno \" ><div class=\"lbl c1  \" ><span class=\"nd\">sub_TISCH </span></div><div class=\"children hor wrap \"><div class=\"contnr c1   lno rno \" ><div class=\"lbl c1  \" ><span class=\"nd\">sub_KJTR </span></div><div class=\"children hor wrap \"><div class=\"contnr c1   lno rno \" ><div class=\"lbl c1  \" ><span class=\"nd\">sub_TCGNT </span></div><div class=\"children hor wrap \"><div class=\"contnr c1   lno rno \" ><div class=\"lbl c1  \" ><span class=\"nd\">sub_SR </span></div><div class=\"children hor wrap \"><div class=\"contnr c0 trm   \" ><div class=\"lbl c0 trm \" ><span class=\"txtu\">τω</span></div></div><div class=\"contnr c0 trm   \" ><div class=\"lbl c0 trm \" ><span class=\"txtu\">θεω·</span></div></div></div></div></div></div></div></div></div></div></div></div></div></div><div class=\"contnr c1   rno \" ><div class=\"lbl c1  \" ><span class=\"nd\">sub_N1904 </span></div><div class=\"children hor wrap \"><div class=\"contnr c1   lno \" ><div class=\"lbl c1  \" ><span class=\"nd\">sub_SBL </span></div><div class=\"children hor wrap \"><div class=\"contnr c1   lno \" ><div class=\"lbl c1  \" ><span class=\"nd\">sub_TISCH </span></div><div class=\"children hor wrap \"><div class=\"contnr c1   lno \" ><div class=\"lbl c1  \" ><span class=\"nd\">sub_KJTR </span></div><div class=\"children hor wrap \"><div class=\"contnr c1   lno rno \" ><div class=\"lbl c1  \" ><span class=\"nd\">sub_TCGNT </span></div><div class=\"children hor wrap \"><div class=\"contnr c1   lno rno \" ><div class=\"lbl c1  \" ><span class=\"nd\">sub_SR </span></div><div class=\"children hor wrap \"><div class=\"contnr c0 trm   \" ><div class=\"lbl c0 trm \" ><span class=\"txtu\">ημεις</span></div></div></div></div></div></div></div></div></div></div><div class=\"contnr c1   rno \" ><div class=\"lbl c1  \" ><span class=\"nd\">sub_TISCH </span></div><div class=\"children hor wrap \"><div class=\"contnr c1   rno \" ><div class=\"lbl c1  \" ><span class=\"nd\">sub_KJTR </span></div><div class=\"children hor wrap \"><div class=\"contnr c1   lno \" ><div class=\"lbl c1  \" ><span class=\"nd\">sub_TCGNT </span></div><div class=\"children hor wrap \"><div class=\"contnr c1   lno rno \" ><div class=\"lbl c1  \" ><span class=\"nd\">sub_SR </span></div><div class=\"children hor wrap \"><div class=\"contnr c0 trm   \" ><div class=\"lbl c0 trm \" ><span class=\"txtu\">οιδαμεν</span></div></div></div></div></div></div><div class=\"contnr c1   rno hl\" ><div class=\"lbl c1  hl\" ><span class=\"nd\">sub_TCGNT </span></div><div class=\"children hor wrap \"><div class=\"contnr c1   lno rno \" ><div class=\"lbl c1  \" ><span class=\"nd\">sub_SR </span></div><div class=\"children hor wrap \"><div class=\"contnr c0 trm   \" ><div class=\"lbl c0 trm \" ><span class=\"txtu\">οτι</span></div></div></div></div></div></div></div></div></div></div></div></div><div class=\"contnr c1    \" ><div class=\"lbl c1  \" ><span class=\"nd\">sub_SBL </span></div><div class=\"children hor wrap \"><div class=\"contnr c1   lno \" ><div class=\"lbl c1  \" ><span class=\"nd\">sub_TISCH </span></div><div class=\"children hor wrap \"><div class=\"contnr c1   lno rno \" ><div class=\"lbl c1  \" ><span class=\"nd\">sub_KJTR </span></div><div class=\"children hor wrap \"><div class=\"contnr c1   lno rno hl\" ><div class=\"lbl c1  hl\" ><span class=\"nd\">sub_TCGNT </span></div><div class=\"children hor wrap \"><div class=\"contnr c1   lno \" ><div class=\"lbl c1  \" ><span class=\"nd\">sub_SR </span></div><div class=\"children hor wrap \"><div class=\"contnr c0 trm   \" ><div class=\"lbl c0 trm \" ><span class=\"txtu\">ουτος</span></div></div><div class=\"contnr c0 trm   \" ><div class=\"lbl c0 trm \" ><span class=\"txtu\">ο</span></div></div></div></div></div></div></div></div></div></div></div></div><div class=\"contnr c1   rno hl\" ><div class=\"lbl c1  hl\" ><span class=\"nd\">sub_SBL </span></div><div class=\"children hor wrap \"><div class=\"contnr c1   rno hl\" ><div class=\"lbl c1  hl\" ><span class=\"nd\">sub_TISCH </span></div><div class=\"children hor wrap \"><div class=\"contnr c1   lno rno \" ><div class=\"lbl c1  \" ><span class=\"nd\">sub_KJTR </span></div><div class=\"children hor wrap \"><div class=\"contnr c1   lno rno hl\" ><div class=\"lbl c1  hl\" ><span class=\"nd\">sub_TCGNT </span></div><div class=\"children hor wrap \"><div class=\"contnr c1    hl\" ><div class=\"lbl c1  hl\" ><span class=\"nd\">sub_SR </span></div><div class=\"children hor wrap \"><div class=\"contnr c0 trm   hl\" ><div class=\"lbl c0 trm hl\" ><span class=\"txtu\">ανθρωπος</span></div></div></div></div><div class=\"contnr c1    \" ><div class=\"lbl c1  \" ><span class=\"nd\">sub_SR </span></div><div class=\"children hor wrap \"><div class=\"contnr c0 trm   \" ><div class=\"lbl c0 trm \" ><span class=\"txtu\">αμαρτωλος</span></div></div></div></div><div class=\"contnr c1   rno \" ><div class=\"lbl c1  \" ><span class=\"nd\">sub_SR </span></div><div class=\"children hor wrap \"><div class=\"contnr c0 trm   \" ><div class=\"lbl c0 trm \" ><span class=\"txtu\">εστιν.</span></div></div></div></div></div></div></div></div></div></div></div></div></div></div></div></div></div>"
      ],
      "text/plain": [
       "<IPython.core.display.HTML object>"
      ]
     },
     "metadata": {},
     "output_type": "display_data"
    },
    {
     "data": {
      "text/html": [
       "<p><b>verse</b> <i>19</i>"
      ],
      "text/plain": [
       "<IPython.core.display.HTML object>"
      ]
     },
     "metadata": {},
     "output_type": "display_data"
    },
    {
     "data": {
      "text/html": [
       "<div class=\"tfsechead \"><span class=\"ltr\"><a target=\"_blank\" href=\"https://bibleol.3bmoodle.dk/text/show_text/nestle1904/John/9/25\" sec=\"John 9:25\">John 9:25</a></span></div><div class=\" children pr-mode\"><div class=\"contnr c3    \" ><div class=\"lbl c3  \" ><span class=\"nd\">verse </span> <span class=\"\"><span title=\"book\">John</span> <span title=\"chapter\">9</span>:<span title=\"verse\">25</span></span></div><div class=\"children hor wrap \"><div class=\"contnr c1   lno \" ><div class=\"lbl c1  \" ><span class=\"nd\">sub_N1904 </span></div><div class=\"children hor wrap \"><div class=\"contnr c1   lno hl\" ><div class=\"lbl c1  hl\" ><span class=\"nd\">sub_SBL </span></div><div class=\"children hor wrap \"><div class=\"contnr c1   lno hl\" ><div class=\"lbl c1  hl\" ><span class=\"nd\">sub_TISCH </span></div><div class=\"children hor wrap \"><div class=\"contnr c1   lno \" ><div class=\"lbl c1  \" ><span class=\"nd\">sub_KJTR </span></div><div class=\"children hor wrap \"><div class=\"contnr c1   lno hl\" ><div class=\"lbl c1  hl\" ><span class=\"nd\">sub_TCGNT </span></div><div class=\"children hor wrap \"><div class=\"contnr c1   lno rno \" ><div class=\"lbl c1  \" ><span class=\"nd\">sub_SR </span></div><div class=\"children hor wrap \"><div class=\"contnr c0 trm   \" ><div class=\"lbl c0 trm \" ><span class=\"txtu\">απεκριθη</span></div></div><div class=\"contnr c0 trm   \" ><div class=\"lbl c0 trm \" ><span class=\"txtu\">ουν</span></div></div></div></div></div></div></div></div><div class=\"contnr c1   rno \" ><div class=\"lbl c1  \" ><span class=\"nd\">sub_KJTR </span></div><div class=\"children hor wrap \"><div class=\"contnr c1   rno \" ><div class=\"lbl c1  \" ><span class=\"nd\">sub_TCGNT </span></div><div class=\"children hor wrap \"><div class=\"contnr c1   lno rno \" ><div class=\"lbl c1  \" ><span class=\"nd\">sub_SR </span></div><div class=\"children hor wrap \"><div class=\"contnr c0 trm   \" ><div class=\"lbl c0 trm \" ><span class=\"txtu\">εκεινος</span></div></div></div></div></div></div></div></div></div></div></div></div><div class=\"contnr c1    \" ><div class=\"lbl c1  \" ><span class=\"nd\">sub_SBL </span></div><div class=\"children hor wrap \"><div class=\"contnr c1   rno \" ><div class=\"lbl c1  \" ><span class=\"nd\">sub_TISCH </span></div><div class=\"children hor wrap \"><div class=\"contnr c1   lno \" ><div class=\"lbl c1  \" ><span class=\"nd\">sub_KJTR </span></div><div class=\"children hor wrap \"><div class=\"contnr c1   lno \" ><div class=\"lbl c1  \" ><span class=\"nd\">sub_TCGNT </span></div><div class=\"children hor wrap \"><div class=\"contnr c1   lno \" ><div class=\"lbl c1  \" ><span class=\"nd\">sub_SR </span></div><div class=\"children hor wrap \"><div class=\"contnr c0 trm   \" ><div class=\"lbl c0 trm \" ><span class=\"txtu\">ει</span></div></div><div class=\"contnr c0 trm   \" ><div class=\"lbl c0 trm \" ><span class=\"txtu\">αμαρτωλος</span></div></div><div class=\"contnr c0 trm   \" ><div class=\"lbl c0 trm \" ><span class=\"txtu\">εστιν</span></div></div></div></div></div></div><div class=\"contnr c1   rno \" ><div class=\"lbl c1  \" ><span class=\"nd\">sub_TCGNT </span></div><div class=\"children hor wrap \"><div class=\"contnr c1   rno \" ><div class=\"lbl c1  \" ><span class=\"nd\">sub_SR </span></div><div class=\"children hor wrap \"><div class=\"contnr c0 trm   \" ><div class=\"lbl c0 trm \" ><span class=\"txtu\">ουκ</span></div></div></div></div></div></div></div></div></div></div></div></div><div class=\"contnr c1   rno \" ><div class=\"lbl c1  \" ><span class=\"nd\">sub_SBL </span></div><div class=\"children hor wrap \"><div class=\"contnr c1   lno rno \" ><div class=\"lbl c1  \" ><span class=\"nd\">sub_TISCH </span></div><div class=\"children hor wrap \"><div class=\"contnr c1   rno \" ><div class=\"lbl c1  \" ><span class=\"nd\">sub_KJTR </span></div><div class=\"children hor wrap \"><div class=\"contnr c1   lno rno \" ><div class=\"lbl c1  \" ><span class=\"nd\">sub_TCGNT </span></div><div class=\"children hor wrap \"><div class=\"contnr c1   lno rno \" ><div class=\"lbl c1  \" ><span class=\"nd\">sub_SR </span></div><div class=\"children hor wrap \"><div class=\"contnr c0 trm   \" ><div class=\"lbl c0 trm \" ><span class=\"txtu\">οιδα·</span></div></div></div></div></div></div></div></div></div></div></div></div></div></div><div class=\"contnr c1    \" ><div class=\"lbl c1  \" ><span class=\"nd\">sub_N1904 </span></div><div class=\"children hor wrap \"><div class=\"contnr c1   lno rno \" ><div class=\"lbl c1  \" ><span class=\"nd\">sub_SBL </span></div><div class=\"children hor wrap \"><div class=\"contnr c1   lno \" ><div class=\"lbl c1  \" ><span class=\"nd\">sub_TISCH </span></div><div class=\"children hor wrap \"><div class=\"contnr c1   lno rno \" ><div class=\"lbl c1  \" ><span class=\"nd\">sub_KJTR </span></div><div class=\"children hor wrap \"><div class=\"contnr c1   lno rno \" ><div class=\"lbl c1  \" ><span class=\"nd\">sub_TCGNT </span></div><div class=\"children hor wrap \"><div class=\"contnr c1   lno rno \" ><div class=\"lbl c1  \" ><span class=\"nd\">sub_SR </span></div><div class=\"children hor wrap \"><div class=\"contnr c0 trm   \" ><div class=\"lbl c0 trm \" ><span class=\"txtu\">εν</span></div></div><div class=\"contnr c0 trm   \" ><div class=\"lbl c0 trm \" ><span class=\"txtu\">οιδα,</span></div></div></div></div></div></div></div></div></div></div></div></div></div></div><div class=\"contnr c1   rno \" ><div class=\"lbl c1  \" ><span class=\"nd\">sub_N1904 </span></div><div class=\"children hor wrap \"><div class=\"contnr c1   lno \" ><div class=\"lbl c1  \" ><span class=\"nd\">sub_SBL </span></div><div class=\"children hor wrap \"><div class=\"contnr c1   rno \" ><div class=\"lbl c1  \" ><span class=\"nd\">sub_TISCH </span></div><div class=\"children hor wrap \"><div class=\"contnr c1   lno \" ><div class=\"lbl c1  \" ><span class=\"nd\">sub_KJTR </span></div><div class=\"children hor wrap \"><div class=\"contnr c1   lno \" ><div class=\"lbl c1  \" ><span class=\"nd\">sub_TCGNT </span></div><div class=\"children hor wrap \"><div class=\"contnr c1   lno rno \" ><div class=\"lbl c1  \" ><span class=\"nd\">sub_SR </span></div><div class=\"children hor wrap \"><div class=\"contnr c0 trm   \" ><div class=\"lbl c0 trm \" ><span class=\"txtu\">οτι</span></div></div></div></div></div></div><div class=\"contnr c1   rno \" ><div class=\"lbl c1  \" ><span class=\"nd\">sub_TCGNT </span></div><div class=\"children hor wrap \"><div class=\"contnr c1   lno rno \" ><div class=\"lbl c1  \" ><span class=\"nd\">sub_SR </span></div><div class=\"children hor wrap \"><div class=\"contnr c0 trm   \" ><div class=\"lbl c0 trm \" ><span class=\"txtu\">τυφλος</span></div></div></div></div></div></div></div></div><div class=\"contnr c1   rno \" ><div class=\"lbl c1  \" ><span class=\"nd\">sub_KJTR </span></div><div class=\"children hor wrap \"><div class=\"contnr c1   lno rno \" ><div class=\"lbl c1  \" ><span class=\"nd\">sub_TCGNT </span></div><div class=\"children hor wrap \"><div class=\"contnr c1   lno \" ><div class=\"lbl c1  \" ><span class=\"nd\">sub_SR </span></div><div class=\"children hor wrap \"><div class=\"contnr c0 trm   \" ><div class=\"lbl c0 trm \" ><span class=\"txtu\">ων</span></div></div><div class=\"contnr c0 trm   \" ><div class=\"lbl c0 trm \" ><span class=\"txtu\">αρτι</span></div></div></div></div></div></div></div></div></div></div></div></div><div class=\"contnr c1   rno \" ><div class=\"lbl c1  \" ><span class=\"nd\">sub_SBL </span></div><div class=\"children hor wrap \"><div class=\"contnr c1   lno rno \" ><div class=\"lbl c1  \" ><span class=\"nd\">sub_TISCH </span></div><div class=\"children hor wrap \"><div class=\"contnr c1   lno \" ><div class=\"lbl c1  \" ><span class=\"nd\">sub_KJTR </span></div><div class=\"children hor wrap \"><div class=\"contnr c1   lno rno \" ><div class=\"lbl c1  \" ><span class=\"nd\">sub_TCGNT </span></div><div class=\"children hor wrap \"><div class=\"contnr c1   rno \" ><div class=\"lbl c1  \" ><span class=\"nd\">sub_SR </span></div><div class=\"children hor wrap \"><div class=\"contnr c0 trm   \" ><div class=\"lbl c0 trm \" ><span class=\"txtu\">βλεπω.</span></div></div></div></div></div></div></div></div></div></div></div></div></div></div></div></div></div>"
      ],
      "text/plain": [
       "<IPython.core.display.HTML object>"
      ]
     },
     "metadata": {},
     "output_type": "display_data"
    },
    {
     "data": {
      "text/html": [
       "<p><b>verse</b> <i>20</i>"
      ],
      "text/plain": [
       "<IPython.core.display.HTML object>"
      ]
     },
     "metadata": {},
     "output_type": "display_data"
    },
    {
     "data": {
      "text/html": [
       "<div class=\"tfsechead \"><span class=\"ltr\"><a target=\"_blank\" href=\"https://bibleol.3bmoodle.dk/text/show_text/nestle1904/John/9/29\" sec=\"John 9:29\">John 9:29</a></span></div><div class=\" children pr-mode\"><div class=\"contnr c3    \" ><div class=\"lbl c3  \" ><span class=\"nd\">verse </span> <span class=\"\"><span title=\"book\">John</span> <span title=\"chapter\">9</span>:<span title=\"verse\">29</span></span></div><div class=\"children hor wrap \"><div class=\"contnr c1    \" ><div class=\"lbl c1  \" ><span class=\"nd\">sub_N1904 </span></div><div class=\"children hor wrap \"><div class=\"contnr c1   lno rno \" ><div class=\"lbl c1  \" ><span class=\"nd\">sub_SBL </span></div><div class=\"children hor wrap \"><div class=\"contnr c1   lno rno \" ><div class=\"lbl c1  \" ><span class=\"nd\">sub_TISCH </span></div><div class=\"children hor wrap \"><div class=\"contnr c1   lno \" ><div class=\"lbl c1  \" ><span class=\"nd\">sub_KJTR </span></div><div class=\"children hor wrap \"><div class=\"contnr c1   rno \" ><div class=\"lbl c1  \" ><span class=\"nd\">sub_TCGNT </span></div><div class=\"children hor wrap \"><div class=\"contnr c1   lno \" ><div class=\"lbl c1  \" ><span class=\"nd\">sub_SR </span></div><div class=\"children hor wrap \"><div class=\"contnr c0 trm   \" ><div class=\"lbl c0 trm \" ><span class=\"txtu\">ημεις</span></div></div><div class=\"contnr c0 trm   \" ><div class=\"lbl c0 trm \" ><span class=\"txtu\">οιδαμεν</span></div></div></div></div><div class=\"contnr c1    \" ><div class=\"lbl c1  \" ><span class=\"nd\">sub_SR </span></div><div class=\"children hor wrap \"><div class=\"contnr c0 trm   \" ><div class=\"lbl c0 trm \" ><span class=\"txtu\">οτι</span></div></div></div></div><div class=\"contnr c1   rno \" ><div class=\"lbl c1  \" ><span class=\"nd\">sub_SR </span></div><div class=\"children hor wrap \"><div class=\"contnr c0 trm   \" ><div class=\"lbl c0 trm \" ><span class=\"txtu\">μωυσει</span></div></div></div></div></div></div></div></div><div class=\"contnr c1   rno \" ><div class=\"lbl c1  \" ><span class=\"nd\">sub_KJTR </span></div><div class=\"children hor wrap \"><div class=\"contnr c1   lno rno \" ><div class=\"lbl c1  \" ><span class=\"nd\">sub_TCGNT </span></div><div class=\"children hor wrap \"><div class=\"contnr c1   lno \" ><div class=\"lbl c1  \" ><span class=\"nd\">sub_SR </span></div><div class=\"children hor wrap \"><div class=\"contnr c0 trm   \" ><div class=\"lbl c0 trm \" ><span class=\"txtu\">λελαληκεν</span></div></div></div></div><div class=\"contnr c1   rno \" ><div class=\"lbl c1  \" ><span class=\"nd\">sub_SR </span></div><div class=\"children hor wrap \"><div class=\"contnr c0 trm   \" ><div class=\"lbl c0 trm \" ><span class=\"txtu\">ο</span></div></div><div class=\"contnr c0 trm   \" ><div class=\"lbl c0 trm \" ><span class=\"txtu\">θεος,</span></div></div></div></div></div></div></div></div></div></div></div></div></div></div><div class=\"contnr c1   rno \" ><div class=\"lbl c1  \" ><span class=\"nd\">sub_N1904 </span></div><div class=\"children hor wrap \"><div class=\"contnr c1   lno \" ><div class=\"lbl c1  \" ><span class=\"nd\">sub_SBL </span></div><div class=\"children hor wrap \"><div class=\"contnr c1   lno \" ><div class=\"lbl c1  \" ><span class=\"nd\">sub_TISCH </span></div><div class=\"children hor wrap \"><div class=\"contnr c1   lno rno \" ><div class=\"lbl c1  \" ><span class=\"nd\">sub_KJTR </span></div><div class=\"children hor wrap \"><div class=\"contnr c1   lno \" ><div class=\"lbl c1  \" ><span class=\"nd\">sub_TCGNT </span></div><div class=\"children hor wrap \"><div class=\"contnr c1   lno rno \" ><div class=\"lbl c1  \" ><span class=\"nd\">sub_SR </span></div><div class=\"children hor wrap \"><div class=\"contnr c0 trm   \" ><div class=\"lbl c0 trm \" ><span class=\"txtu\">τουτον</span></div></div><div class=\"contnr c0 trm   \" ><div class=\"lbl c0 trm \" ><span class=\"txtu\">δε</span></div></div></div></div></div></div></div></div></div></div><div class=\"contnr c1   rno \" ><div class=\"lbl c1  \" ><span class=\"nd\">sub_TISCH </span></div><div class=\"children hor wrap \"><div class=\"contnr c1   lno \" ><div class=\"lbl c1  \" ><span class=\"nd\">sub_KJTR </span></div><div class=\"children hor wrap \"><div class=\"contnr c1   rno \" ><div class=\"lbl c1  \" ><span class=\"nd\">sub_TCGNT </span></div><div class=\"children hor wrap \"><div class=\"contnr c1   lno \" ><div class=\"lbl c1  \" ><span class=\"nd\">sub_SR </span></div><div class=\"children hor wrap \"><div class=\"contnr c0 trm   \" ><div class=\"lbl c0 trm \" ><span class=\"txtu\">ουκ</span></div></div><div class=\"contnr c0 trm   \" ><div class=\"lbl c0 trm \" ><span class=\"txtu\">οιδαμεν</span></div></div></div></div></div></div></div></div></div></div></div></div><div class=\"contnr c1   rno \" ><div class=\"lbl c1  \" ><span class=\"nd\">sub_SBL </span></div><div class=\"children hor wrap \"><div class=\"contnr c1   lno rno \" ><div class=\"lbl c1  \" ><span class=\"nd\">sub_TISCH </span></div><div class=\"children hor wrap \"><div class=\"contnr c1   rno hl\" ><div class=\"lbl c1  hl\" ><span class=\"nd\">sub_KJTR </span></div><div class=\"children hor wrap \"><div class=\"contnr c1   lno \" ><div class=\"lbl c1  \" ><span class=\"nd\">sub_TCGNT </span></div><div class=\"children hor wrap \"><div class=\"contnr c1   rno hl\" ><div class=\"lbl c1  hl\" ><span class=\"nd\">sub_SR </span></div><div class=\"children hor wrap \"><div class=\"contnr c0 trm   \" ><div class=\"lbl c0 trm \" ><span class=\"txtu\">ποθεν</span></div></div><div class=\"contnr c0 trm   \" ><div class=\"lbl c0 trm \" ><span class=\"txtu\">εστιν.</span></div></div></div></div></div></div></div></div></div></div></div></div></div></div></div></div></div>"
      ],
      "text/plain": [
       "<IPython.core.display.HTML object>"
      ]
     },
     "metadata": {},
     "output_type": "display_data"
    },
    {
     "data": {
      "text/html": [
       "<p><b>verse</b> <i>21</i>"
      ],
      "text/plain": [
       "<IPython.core.display.HTML object>"
      ]
     },
     "metadata": {},
     "output_type": "display_data"
    },
    {
     "data": {
      "text/html": [
       "<div class=\"tfsechead \"><span class=\"ltr\"><a target=\"_blank\" href=\"https://bibleol.3bmoodle.dk/text/show_text/nestle1904/John/9/30\" sec=\"John 9:30\">John 9:30</a></span></div><div class=\" children pr-mode\"><div class=\"contnr c3    \" ><div class=\"lbl c3  \" ><span class=\"nd\">verse </span> <span class=\"\"><span title=\"book\">John</span> <span title=\"chapter\">9</span>:<span title=\"verse\">30</span></span></div><div class=\"children hor wrap \"><div class=\"contnr c1   lno \" ><div class=\"lbl c1  \" ><span class=\"nd\">sub_N1904 </span></div><div class=\"children hor wrap \"><div class=\"contnr c1   lno rno \" ><div class=\"lbl c1  \" ><span class=\"nd\">sub_SBL </span></div><div class=\"children hor wrap \"><div class=\"contnr c1   lno \" ><div class=\"lbl c1  \" ><span class=\"nd\">sub_TISCH </span></div><div class=\"children hor wrap \"><div class=\"contnr c1   lno rno hl\" ><div class=\"lbl c1  hl\" ><span class=\"nd\">sub_KJTR </span></div><div class=\"children hor wrap \"><div class=\"contnr c1   rno hl\" ><div class=\"lbl c1  hl\" ><span class=\"nd\">sub_TCGNT </span></div><div class=\"children hor wrap \"><div class=\"contnr c1   lno rno hl\" ><div class=\"lbl c1  hl\" ><span class=\"nd\">sub_SR </span></div><div class=\"children hor wrap \"><div class=\"contnr c0 trm   \" ><div class=\"lbl c0 trm \" ><span class=\"txtu\">απεκριθη</span></div></div><div class=\"contnr c0 trm   \" ><div class=\"lbl c0 trm \" ><span class=\"txtu\">ο</span></div></div></div></div></div></div></div></div></div></div><div class=\"contnr c1    \" ><div class=\"lbl c1  \" ><span class=\"nd\">sub_TISCH </span></div><div class=\"children hor wrap \"><div class=\"contnr c1   lno hl\" ><div class=\"lbl c1  hl\" ><span class=\"nd\">sub_KJTR </span></div><div class=\"children hor wrap \"><div class=\"contnr c1   lno hl\" ><div class=\"lbl c1  hl\" ><span class=\"nd\">sub_TCGNT </span></div><div class=\"children hor wrap \"><div class=\"contnr c1   lno hl\" ><div class=\"lbl c1  hl\" ><span class=\"nd\">sub_SR </span></div><div class=\"children hor wrap \"><div class=\"contnr c0 trm   hl\" ><div class=\"lbl c0 trm hl\" ><span class=\"txtu\">ανθρωπος</span></div></div></div></div><div class=\"contnr c1   rno \" ><div class=\"lbl c1  \" ><span class=\"nd\">sub_SR </span></div><div class=\"children hor wrap \"><div class=\"contnr c0 trm   \" ><div class=\"lbl c0 trm \" ><span class=\"txtu\">και</span></div></div><div class=\"contnr c0 trm   \" ><div class=\"lbl c0 trm \" ><span class=\"txtu\">ειπεν</span></div></div></div></div></div></div><div class=\"contnr c1   rno \" ><div class=\"lbl c1  \" ><span class=\"nd\">sub_TCGNT </span></div><div class=\"children hor wrap \"><div class=\"contnr c1   lno \" ><div class=\"lbl c1  \" ><span class=\"nd\">sub_SR </span></div><div class=\"children hor wrap \"><div class=\"contnr c0 trm   \" ><div class=\"lbl c0 trm \" ><span class=\"txtu\">αυτοις</span></div></div></div></div></div></div></div></div><div class=\"contnr c1    \" ><div class=\"lbl c1  \" ><span class=\"nd\">sub_KJTR </span></div><div class=\"children hor wrap \"><div class=\"contnr c1   lno rno \" ><div class=\"lbl c1  \" ><span class=\"nd\">sub_TCGNT </span></div><div class=\"children hor wrap \"><div class=\"contnr c1   rno \" ><div class=\"lbl c1  \" ><span class=\"nd\">sub_SR </span></div><div class=\"children hor wrap \"><div class=\"contnr c0 trm   \" ><div class=\"lbl c0 trm \" ><span class=\"txtu\">εν</span></div></div><div class=\"contnr c0 trm   \" ><div class=\"lbl c0 trm \" ><span class=\"txtu\">τουτω</span></div></div></div></div></div></div></div></div><div class=\"contnr c1   rno \" ><div class=\"lbl c1  \" ><span class=\"nd\">sub_KJTR </span></div><div class=\"children hor wrap \"><div class=\"contnr c1   lno rno \" ><div class=\"lbl c1  \" ><span class=\"nd\">sub_TCGNT </span></div><div class=\"children hor wrap \"><div class=\"contnr c1   lno rno \" ><div class=\"lbl c1  \" ><span class=\"nd\">sub_SR </span></div><div class=\"children hor wrap \"><div class=\"contnr c0 trm   \" ><div class=\"lbl c0 trm \" ><span class=\"txtu\">γαρ</span></div></div><div class=\"contnr c0 trm   \" ><div class=\"lbl c0 trm \" ><span class=\"txtu\">το</span></div></div></div></div></div></div></div></div></div></div><div class=\"contnr c1   rno \" ><div class=\"lbl c1  \" ><span class=\"nd\">sub_TISCH </span></div><div class=\"children hor wrap \"><div class=\"contnr c1   lno rno \" ><div class=\"lbl c1  \" ><span class=\"nd\">sub_KJTR </span></div><div class=\"children hor wrap \"><div class=\"contnr c1   lno \" ><div class=\"lbl c1  \" ><span class=\"nd\">sub_TCGNT </span></div><div class=\"children hor wrap \"><div class=\"contnr c1   lno rno \" ><div class=\"lbl c1  \" ><span class=\"nd\">sub_SR </span></div><div class=\"children hor wrap \"><div class=\"contnr c0 trm   \" ><div class=\"lbl c0 trm \" ><span class=\"txtu\">θαυμαστον</span></div></div></div></div></div></div><div class=\"contnr c1   rno \" ><div class=\"lbl c1  \" ><span class=\"nd\">sub_TCGNT </span></div><div class=\"children hor wrap \"><div class=\"contnr c1   lno rno \" ><div class=\"lbl c1  \" ><span class=\"nd\">sub_SR </span></div><div class=\"children hor wrap \"><div class=\"contnr c0 trm   \" ><div class=\"lbl c0 trm \" ><span class=\"txtu\">εστιν,</span></div></div></div></div></div></div></div></div></div></div></div></div></div></div><div class=\"contnr c1    \" ><div class=\"lbl c1  \" ><span class=\"nd\">sub_N1904 </span></div><div class=\"children hor wrap \"><div class=\"contnr c1   lno rno \" ><div class=\"lbl c1  \" ><span class=\"nd\">sub_SBL </span></div><div class=\"children hor wrap \"><div class=\"contnr c1   lno \" ><div class=\"lbl c1  \" ><span class=\"nd\">sub_TISCH </span></div><div class=\"children hor wrap \"><div class=\"contnr c1   lno \" ><div class=\"lbl c1  \" ><span class=\"nd\">sub_KJTR </span></div><div class=\"children hor wrap \"><div class=\"contnr c1   lno rno \" ><div class=\"lbl c1  \" ><span class=\"nd\">sub_TCGNT </span></div><div class=\"children hor wrap \"><div class=\"contnr c1   lno rno \" ><div class=\"lbl c1  \" ><span class=\"nd\">sub_SR </span></div><div class=\"children hor wrap \"><div class=\"contnr c0 trm   \" ><div class=\"lbl c0 trm \" ><span class=\"txtu\">οτι</span></div></div><div class=\"contnr c0 trm   \" ><div class=\"lbl c0 trm \" ><span class=\"txtu\">υμεις</span></div></div></div></div></div></div></div></div><div class=\"contnr c1   rno \" ><div class=\"lbl c1  \" ><span class=\"nd\">sub_KJTR </span></div><div class=\"children hor wrap \"><div class=\"contnr c1   lno rno \" ><div class=\"lbl c1  \" ><span class=\"nd\">sub_TCGNT </span></div><div class=\"children hor wrap \"><div class=\"contnr c1   lno rno \" ><div class=\"lbl c1  \" ><span class=\"nd\">sub_SR </span></div><div class=\"children hor wrap \"><div class=\"contnr c0 trm   \" ><div class=\"lbl c0 trm \" ><span class=\"txtu\">ουκ</span></div></div></div></div></div></div></div></div></div></div><div class=\"contnr c1   rno \" ><div class=\"lbl c1  \" ><span class=\"nd\">sub_TISCH </span></div><div class=\"children hor wrap \"><div class=\"contnr c1   lno rno \" ><div class=\"lbl c1  \" ><span class=\"nd\">sub_KJTR </span></div><div class=\"children hor wrap \"><div class=\"contnr c1   lno rno \" ><div class=\"lbl c1  \" ><span class=\"nd\">sub_TCGNT </span></div><div class=\"children hor wrap \"><div class=\"contnr c1   lno \" ><div class=\"lbl c1  \" ><span class=\"nd\">sub_SR </span></div><div class=\"children hor wrap \"><div class=\"contnr c0 trm   \" ><div class=\"lbl c0 trm \" ><span class=\"txtu\">οιδατε</span></div></div><div class=\"contnr c0 trm   \" ><div class=\"lbl c0 trm \" ><span class=\"txtu\">ποθεν</span></div></div></div></div><div class=\"contnr c1   rno \" ><div class=\"lbl c1  \" ><span class=\"nd\">sub_SR </span></div><div class=\"children hor wrap \"><div class=\"contnr c0 trm   \" ><div class=\"lbl c0 trm \" ><span class=\"txtu\">εστιν,</span></div></div></div></div></div></div></div></div></div></div></div></div></div></div><div class=\"contnr c1   rno \" ><div class=\"lbl c1  \" ><span class=\"nd\">sub_N1904 </span></div><div class=\"children hor wrap \"><div class=\"contnr c1   lno \" ><div class=\"lbl c1  \" ><span class=\"nd\">sub_SBL </span></div><div class=\"children hor wrap \"><div class=\"contnr c1   lno \" ><div class=\"lbl c1  \" ><span class=\"nd\">sub_TISCH </span></div><div class=\"children hor wrap \"><div class=\"contnr c1   lno rno \" ><div class=\"lbl c1  \" ><span class=\"nd\">sub_KJTR </span></div><div class=\"children hor wrap \"><div class=\"contnr c1   lno rno \" ><div class=\"lbl c1  \" ><span class=\"nd\">sub_TCGNT </span></div><div class=\"children hor wrap \"><div class=\"contnr c1   lno rno \" ><div class=\"lbl c1  \" ><span class=\"nd\">sub_SR </span></div><div class=\"children hor wrap \"><div class=\"contnr c0 trm   \" ><div class=\"lbl c0 trm \" ><span class=\"txtu\">και</span></div></div></div></div></div></div></div></div></div></div><div class=\"contnr c1   rno \" ><div class=\"lbl c1  \" ><span class=\"nd\">sub_TISCH </span></div><div class=\"children hor wrap \"><div class=\"contnr c1   lno \" ><div class=\"lbl c1  \" ><span class=\"nd\">sub_KJTR </span></div><div class=\"children hor wrap \"><div class=\"contnr c1   lno rno \" ><div class=\"lbl c1  \" ><span class=\"nd\">sub_TCGNT </span></div><div class=\"children hor wrap \"><div class=\"contnr c1   lno rno \" ><div class=\"lbl c1  \" ><span class=\"nd\">sub_SR </span></div><div class=\"children hor wrap \"><div class=\"contnr c0 trm   \" ><div class=\"lbl c0 trm \" ><span class=\"txtu\">ηνοιξεν</span></div></div></div></div></div></div></div></div><div class=\"contnr c1   rno \" ><div class=\"lbl c1  \" ><span class=\"nd\">sub_KJTR </span></div><div class=\"children hor wrap \"><div class=\"contnr c1   lno rno \" ><div class=\"lbl c1  \" ><span class=\"nd\">sub_TCGNT </span></div><div class=\"children hor wrap \"><div class=\"contnr c1   lno rno \" ><div class=\"lbl c1  \" ><span class=\"nd\">sub_SR </span></div><div class=\"children hor wrap \"><div class=\"contnr c0 trm   \" ><div class=\"lbl c0 trm \" ><span class=\"txtu\">μου</span></div></div></div></div></div></div></div></div></div></div></div></div><div class=\"contnr c1   rno \" ><div class=\"lbl c1  \" ><span class=\"nd\">sub_SBL </span></div><div class=\"children hor wrap \"><div class=\"contnr c1   lno rno \" ><div class=\"lbl c1  \" ><span class=\"nd\">sub_TISCH </span></div><div class=\"children hor wrap \"><div class=\"contnr c1   lno rno \" ><div class=\"lbl c1  \" ><span class=\"nd\">sub_KJTR </span></div><div class=\"children hor wrap \"><div class=\"contnr c1   lno \" ><div class=\"lbl c1  \" ><span class=\"nd\">sub_TCGNT </span></div><div class=\"children hor wrap \"><div class=\"contnr c1   lno rno \" ><div class=\"lbl c1  \" ><span class=\"nd\">sub_SR </span></div><div class=\"children hor wrap \"><div class=\"contnr c0 trm   \" ><div class=\"lbl c0 trm \" ><span class=\"txtu\">τους</span></div></div></div></div></div></div><div class=\"contnr c1   rno \" ><div class=\"lbl c1  \" ><span class=\"nd\">sub_TCGNT </span></div><div class=\"children hor wrap \"><div class=\"contnr c1   lno rno \" ><div class=\"lbl c1  \" ><span class=\"nd\">sub_SR </span></div><div class=\"children hor wrap \"><div class=\"contnr c0 trm   \" ><div class=\"lbl c0 trm \" ><span class=\"txtu\">οφθαλμους.</span></div></div></div></div></div></div></div></div></div></div></div></div></div></div></div></div></div>"
      ],
      "text/plain": [
       "<IPython.core.display.HTML object>"
      ]
     },
     "metadata": {},
     "output_type": "display_data"
    },
    {
     "data": {
      "text/html": [
       "<p><b>verse</b> <i>22</i>"
      ],
      "text/plain": [
       "<IPython.core.display.HTML object>"
      ]
     },
     "metadata": {},
     "output_type": "display_data"
    },
    {
     "data": {
      "text/html": [
       "<div class=\"tfsechead \"><span class=\"ltr\"><a target=\"_blank\" href=\"https://bibleol.3bmoodle.dk/text/show_text/nestle1904/John/10/33\" sec=\"John 10:33\">John 10:33</a></span></div><div class=\" children pr-mode\"><div class=\"contnr c3    \" ><div class=\"lbl c3  \" ><span class=\"nd\">verse </span> <span class=\"\"><span title=\"book\">John</span> <span title=\"chapter\">10</span>:<span title=\"verse\">33</span></span></div><div class=\"children hor wrap \"><div class=\"contnr c1    \" ><div class=\"lbl c1  \" ><span class=\"nd\">sub_N1904 </span></div><div class=\"children hor wrap \"><div class=\"contnr c1   lno \" ><div class=\"lbl c1  \" ><span class=\"nd\">sub_SBL </span></div><div class=\"children hor wrap \"><div class=\"contnr c1   lno \" ><div class=\"lbl c1  \" ><span class=\"nd\">sub_TISCH </span></div><div class=\"children hor wrap \"><div class=\"contnr c1   lno rno \" ><div class=\"lbl c1  \" ><span class=\"nd\">sub_KJTR </span></div><div class=\"children hor wrap \"><div class=\"contnr c1   rno \" ><div class=\"lbl c1  \" ><span class=\"nd\">sub_TCGNT </span></div><div class=\"children hor wrap \"><div class=\"contnr c1   lno rno \" ><div class=\"lbl c1  \" ><span class=\"nd\">sub_SR </span></div><div class=\"children hor wrap \"><div class=\"contnr c0 trm   \" ><div class=\"lbl c0 trm \" ><span class=\"txtu\">απεκριθησαν</span></div></div><div class=\"contnr c0 trm   \" ><div class=\"lbl c0 trm \" ><span class=\"txtu\">αυτω</span></div></div><div class=\"contnr c0 trm   \" ><div class=\"lbl c0 trm \" ><span class=\"txtu\">οι</span></div></div></div></div></div></div></div></div></div></div><div class=\"contnr c1    \" ><div class=\"lbl c1  \" ><span class=\"nd\">sub_TISCH </span></div><div class=\"children hor wrap \"><div class=\"contnr c1   lno rno \" ><div class=\"lbl c1  \" ><span class=\"nd\">sub_KJTR </span></div><div class=\"children hor wrap \"><div class=\"contnr c1   lno rno \" ><div class=\"lbl c1  \" ><span class=\"nd\">sub_TCGNT </span></div><div class=\"children hor wrap \"><div class=\"contnr c1   lno rno \" ><div class=\"lbl c1  \" ><span class=\"nd\">sub_SR </span></div><div class=\"children hor wrap \"><div class=\"contnr c0 trm   \" ><div class=\"lbl c0 trm \" ><span class=\"txtu\">ιουδαιοι</span></div></div><div class=\"contnr c0 trm   \" ><div class=\"lbl c0 trm \" ><span class=\"txtu\">περι</span></div></div></div></div></div></div></div></div></div></div></div></div><div class=\"contnr c1    \" ><div class=\"lbl c1  \" ><span class=\"nd\">sub_SBL </span></div><div class=\"children hor wrap \"><div class=\"contnr c1   rno \" ><div class=\"lbl c1  \" ><span class=\"nd\">sub_TISCH </span></div><div class=\"children hor wrap \"><div class=\"contnr c1   lno rno \" ><div class=\"lbl c1  \" ><span class=\"nd\">sub_KJTR </span></div><div class=\"children hor wrap \"><div class=\"contnr c1   lno \" ><div class=\"lbl c1  \" ><span class=\"nd\">sub_TCGNT </span></div><div class=\"children hor wrap \"><div class=\"contnr c1   lno rno \" ><div class=\"lbl c1  \" ><span class=\"nd\">sub_SR </span></div><div class=\"children hor wrap \"><div class=\"contnr c0 trm   \" ><div class=\"lbl c0 trm \" ><span class=\"txtu\">καλου</span></div></div></div></div></div></div><div class=\"contnr c1   rno \" ><div class=\"lbl c1  \" ><span class=\"nd\">sub_TCGNT </span></div><div class=\"children hor wrap \"><div class=\"contnr c1   lno rno \" ><div class=\"lbl c1  \" ><span class=\"nd\">sub_SR </span></div><div class=\"children hor wrap \"><div class=\"contnr c0 trm   \" ><div class=\"lbl c0 trm \" ><span class=\"txtu\">εργου</span></div></div></div></div></div></div></div></div></div></div></div></div><div class=\"contnr c1   rno hl\" ><div class=\"lbl c1  hl\" ><span class=\"nd\">sub_SBL </span></div><div class=\"children hor wrap \"><div class=\"contnr c1   lno \" ><div class=\"lbl c1  \" ><span class=\"nd\">sub_TISCH </span></div><div class=\"children hor wrap \"><div class=\"contnr c1   lno rno \" ><div class=\"lbl c1  \" ><span class=\"nd\">sub_KJTR </span></div><div class=\"children hor wrap \"><div class=\"contnr c1   lno rno \" ><div class=\"lbl c1  \" ><span class=\"nd\">sub_TCGNT </span></div><div class=\"children hor wrap \"><div class=\"contnr c1   lno \" ><div class=\"lbl c1  \" ><span class=\"nd\">sub_SR </span></div><div class=\"children hor wrap \"><div class=\"contnr c0 trm   \" ><div class=\"lbl c0 trm \" ><span class=\"txtu\">ου</span></div></div></div></div></div></div></div></div></div></div><div class=\"contnr c1   rno \" ><div class=\"lbl c1  \" ><span class=\"nd\">sub_TISCH </span></div><div class=\"children hor wrap \"><div class=\"contnr c1   lno \" ><div class=\"lbl c1  \" ><span class=\"nd\">sub_KJTR </span></div><div class=\"children hor wrap \"><div class=\"contnr c1   lno rno \" ><div class=\"lbl c1  \" ><span class=\"nd\">sub_TCGNT </span></div><div class=\"children hor wrap \"><div class=\"contnr c1    \" ><div class=\"lbl c1  \" ><span class=\"nd\">sub_SR </span></div><div class=\"children hor wrap \"><div class=\"contnr c0 trm   \" ><div class=\"lbl c0 trm \" ><span class=\"txtu\">λιθαζομεν</span></div></div></div></div></div></div></div></div><div class=\"contnr c1   rno \" ><div class=\"lbl c1  \" ><span class=\"nd\">sub_KJTR </span></div><div class=\"children hor wrap \"><div class=\"contnr c1   lno \" ><div class=\"lbl c1  \" ><span class=\"nd\">sub_TCGNT </span></div><div class=\"children hor wrap \"><div class=\"contnr c1    \" ><div class=\"lbl c1  \" ><span class=\"nd\">sub_SR </span></div><div class=\"children hor wrap \"><div class=\"contnr c0 trm   \" ><div class=\"lbl c0 trm \" ><span class=\"txtu\">σε</span></div></div></div></div><div class=\"contnr c1   rno hl\" ><div class=\"lbl c1  hl\" ><span class=\"nd\">sub_SR </span></div><div class=\"children hor wrap \"><div class=\"contnr c0 trm   \" ><div class=\"lbl c0 trm \" ><span class=\"txtu\">αλλα</span></div></div></div></div></div></div><div class=\"contnr c1   rno \" ><div class=\"lbl c1  \" ><span class=\"nd\">sub_TCGNT </span></div><div class=\"children hor wrap \"><div class=\"contnr c1   lno rno hl\" ><div class=\"lbl c1  hl\" ><span class=\"nd\">sub_SR </span></div><div class=\"children hor wrap \"><div class=\"contnr c0 trm   \" ><div class=\"lbl c0 trm \" ><span class=\"txtu\">περι</span></div></div><div class=\"contnr c0 trm   \" ><div class=\"lbl c0 trm \" ><span class=\"txtu\">βλασφημιας,</span></div></div></div></div></div></div></div></div></div></div></div></div></div></div><div class=\"contnr c1   rno \" ><div class=\"lbl c1  \" ><span class=\"nd\">sub_N1904 </span></div><div class=\"children hor wrap \"><div class=\"contnr c1   lno hl\" ><div class=\"lbl c1  hl\" ><span class=\"nd\">sub_SBL </span></div><div class=\"children hor wrap \"><div class=\"contnr c1   lno \" ><div class=\"lbl c1  \" ><span class=\"nd\">sub_TISCH </span></div><div class=\"children hor wrap \"><div class=\"contnr c1   lno \" ><div class=\"lbl c1  \" ><span class=\"nd\">sub_KJTR </span></div><div class=\"children hor wrap \"><div class=\"contnr c1   lno rno \" ><div class=\"lbl c1  \" ><span class=\"nd\">sub_TCGNT </span></div><div class=\"children hor wrap \"><div class=\"contnr c1   lno rno hl\" ><div class=\"lbl c1  hl\" ><span class=\"nd\">sub_SR </span></div><div class=\"children hor wrap \"><div class=\"contnr c0 trm   \" ><div class=\"lbl c0 trm \" ><span class=\"txtu\">και</span></div></div><div class=\"contnr c0 trm   \" ><div class=\"lbl c0 trm \" ><span class=\"txtu\">οτι</span></div></div><div class=\"contnr c0 trm   \" ><div class=\"lbl c0 trm \" ><span class=\"txtu\">συ</span></div></div></div></div></div></div></div></div></div></div><div class=\"contnr c1   rno hl\" ><div class=\"lbl c1  hl\" ><span class=\"nd\">sub_TISCH </span></div><div class=\"children hor wrap \"><div class=\"contnr c1   rno \" ><div class=\"lbl c1  \" ><span class=\"nd\">sub_KJTR </span></div><div class=\"children hor wrap \"><div class=\"contnr c1   lno \" ><div class=\"lbl c1  \" ><span class=\"nd\">sub_TCGNT </span></div><div class=\"children hor wrap \"><div class=\"contnr c1   lno hl\" ><div class=\"lbl c1  hl\" ><span class=\"nd\">sub_SR </span></div><div class=\"children hor wrap \"><div class=\"contnr c0 trm   hl\" ><div class=\"lbl c0 trm hl\" ><span class=\"txtu\">ανθρωπος</span></div></div><div class=\"contnr c0 trm   \" ><div class=\"lbl c0 trm \" ><span class=\"txtu\">ων</span></div></div></div></div></div></div></div></div></div></div></div></div><div class=\"contnr c1   rno \" ><div class=\"lbl c1  \" ><span class=\"nd\">sub_SBL </span></div><div class=\"children hor wrap \"><div class=\"contnr c1   lno hl\" ><div class=\"lbl c1  hl\" ><span class=\"nd\">sub_TISCH </span></div><div class=\"children hor wrap \"><div class=\"contnr c1   lno rno \" ><div class=\"lbl c1  \" ><span class=\"nd\">sub_KJTR </span></div><div class=\"children hor wrap \"><div class=\"contnr c1   rno \" ><div class=\"lbl c1  \" ><span class=\"nd\">sub_TCGNT </span></div><div class=\"children hor wrap \"><div class=\"contnr c1   rno \" ><div class=\"lbl c1  \" ><span class=\"nd\">sub_SR </span></div><div class=\"children hor wrap \"><div class=\"contnr c0 trm   \" ><div class=\"lbl c0 trm \" ><span class=\"txtu\">ποιεις</span></div></div></div></div></div></div></div></div></div></div><div class=\"contnr c1   rno \" ><div class=\"lbl c1  \" ><span class=\"nd\">sub_TISCH </span></div><div class=\"children hor wrap \"><div class=\"contnr c1   lno rno \" ><div class=\"lbl c1  \" ><span class=\"nd\">sub_KJTR </span></div><div class=\"children hor wrap \"><div class=\"contnr c1   lno \" ><div class=\"lbl c1  \" ><span class=\"nd\">sub_TCGNT </span></div><div class=\"children hor wrap \"><div class=\"contnr c1   lno rno \" ><div class=\"lbl c1  \" ><span class=\"nd\">sub_SR </span></div><div class=\"children hor wrap \"><div class=\"contnr c0 trm   \" ><div class=\"lbl c0 trm \" ><span class=\"txtu\">σεαυτον</span></div></div></div></div></div></div><div class=\"contnr c1   rno \" ><div class=\"lbl c1  \" ><span class=\"nd\">sub_TCGNT </span></div><div class=\"children hor wrap \"><div class=\"contnr c1   lno rno \" ><div class=\"lbl c1  \" ><span class=\"nd\">sub_SR </span></div><div class=\"children hor wrap \"><div class=\"contnr c0 trm   \" ><div class=\"lbl c0 trm \" ><span class=\"txtu\">θεον.</span></div></div></div></div></div></div></div></div></div></div></div></div></div></div></div></div></div>"
      ],
      "text/plain": [
       "<IPython.core.display.HTML object>"
      ]
     },
     "metadata": {},
     "output_type": "display_data"
    },
    {
     "data": {
      "text/html": [
       "<p><b>verse</b> <i>23</i>"
      ],
      "text/plain": [
       "<IPython.core.display.HTML object>"
      ]
     },
     "metadata": {},
     "output_type": "display_data"
    },
    {
     "data": {
      "text/html": [
       "<div class=\"tfsechead \"><span class=\"ltr\"><a target=\"_blank\" href=\"https://bibleol.3bmoodle.dk/text/show_text/nestle1904/John/11/47\" sec=\"John 11:47\">John 11:47</a></span></div><div class=\" children pr-mode\"><div class=\"contnr c3    \" ><div class=\"lbl c3  \" ><span class=\"nd\">verse </span> <span class=\"\"><span title=\"book\">John</span> <span title=\"chapter\">11</span>:<span title=\"verse\">47</span></span></div><div class=\"children hor wrap \"><div class=\"contnr c1   lno \" ><div class=\"lbl c1  \" ><span class=\"nd\">sub_N1904 </span></div><div class=\"children hor wrap \"><div class=\"contnr c1   lno rno \" ><div class=\"lbl c1  \" ><span class=\"nd\">sub_SBL </span></div><div class=\"children hor wrap \"><div class=\"contnr c1   lno rno \" ><div class=\"lbl c1  \" ><span class=\"nd\">sub_TISCH </span></div><div class=\"children hor wrap \"><div class=\"contnr c1   lno \" ><div class=\"lbl c1  \" ><span class=\"nd\">sub_KJTR </span></div><div class=\"children hor wrap \"><div class=\"contnr c1   lno rno \" ><div class=\"lbl c1  \" ><span class=\"nd\">sub_TCGNT </span></div><div class=\"children hor wrap \"><div class=\"contnr c1   rno \" ><div class=\"lbl c1  \" ><span class=\"nd\">sub_SR </span></div><div class=\"children hor wrap \"><div class=\"contnr c0 trm   \" ><div class=\"lbl c0 trm \" ><span class=\"txtu\">συνηγαγον</span></div></div></div></div></div></div></div></div><div class=\"contnr c1   rno \" ><div class=\"lbl c1  \" ><span class=\"nd\">sub_KJTR </span></div><div class=\"children hor wrap \"><div class=\"contnr c1   lno \" ><div class=\"lbl c1  \" ><span class=\"nd\">sub_TCGNT </span></div><div class=\"children hor wrap \"><div class=\"contnr c1   lno rno \" ><div class=\"lbl c1  \" ><span class=\"nd\">sub_SR </span></div><div class=\"children hor wrap \"><div class=\"contnr c0 trm   \" ><div class=\"lbl c0 trm \" ><span class=\"txtu\">ουν</span></div></div><div class=\"contnr c0 trm   \" ><div class=\"lbl c0 trm \" ><span class=\"txtu\">οι</span></div></div><div class=\"contnr c0 trm   \" ><div class=\"lbl c0 trm \" ><span class=\"txtu\">αρχιερεις</span></div></div><div class=\"contnr c0 trm   \" ><div class=\"lbl c0 trm \" ><span class=\"txtu\">και</span></div></div></div></div></div></div><div class=\"contnr c1   rno \" ><div class=\"lbl c1  \" ><span class=\"nd\">sub_TCGNT </span></div><div class=\"children hor wrap \"><div class=\"contnr c1   lno \" ><div class=\"lbl c1  \" ><span class=\"nd\">sub_SR </span></div><div class=\"children hor wrap \"><div class=\"contnr c0 trm   \" ><div class=\"lbl c0 trm \" ><span class=\"txtu\">οι</span></div></div></div></div><div class=\"contnr c1    \" ><div class=\"lbl c1  \" ><span class=\"nd\">sub_SR </span></div><div class=\"children hor wrap \"><div class=\"contnr c0 trm   \" ><div class=\"lbl c0 trm \" ><span class=\"txtu\">φαρισαιοι</span></div></div></div></div><div class=\"contnr c1   rno \" ><div class=\"lbl c1  \" ><span class=\"nd\">sub_SR </span></div><div class=\"children hor wrap \"><div class=\"contnr c0 trm   \" ><div class=\"lbl c0 trm \" ><span class=\"txtu\">συνεδριον,</span></div></div></div></div></div></div></div></div></div></div></div></div></div></div><div class=\"contnr c1    \" ><div class=\"lbl c1  \" ><span class=\"nd\">sub_N1904 </span></div><div class=\"children hor wrap \"><div class=\"contnr c1   lno rno \" ><div class=\"lbl c1  \" ><span class=\"nd\">sub_SBL </span></div><div class=\"children hor wrap \"><div class=\"contnr c1   lno rno \" ><div class=\"lbl c1  \" ><span class=\"nd\">sub_TISCH </span></div><div class=\"children hor wrap \"><div class=\"contnr c1   lno \" ><div class=\"lbl c1  \" ><span class=\"nd\">sub_KJTR </span></div><div class=\"children hor wrap \"><div class=\"contnr c1   lno rno \" ><div class=\"lbl c1  \" ><span class=\"nd\">sub_TCGNT </span></div><div class=\"children hor wrap \"><div class=\"contnr c1   lno rno \" ><div class=\"lbl c1  \" ><span class=\"nd\">sub_SR </span></div><div class=\"children hor wrap \"><div class=\"contnr c0 trm   \" ><div class=\"lbl c0 trm \" ><span class=\"txtu\">και</span></div></div><div class=\"contnr c0 trm   \" ><div class=\"lbl c0 trm \" ><span class=\"txtu\">ελεγον</span></div></div></div></div></div></div></div></div><div class=\"contnr c1   rno \" ><div class=\"lbl c1  \" ><span class=\"nd\">sub_KJTR </span></div><div class=\"children hor wrap \"><div class=\"contnr c1   lno rno \" ><div class=\"lbl c1  \" ><span class=\"nd\">sub_TCGNT </span></div><div class=\"children hor wrap \"><div class=\"contnr c1   lno rno \" ><div class=\"lbl c1  \" ><span class=\"nd\">sub_SR </span></div><div class=\"children hor wrap \"><div class=\"contnr c0 trm   \" ><div class=\"lbl c0 trm \" ><span class=\"txtu\">τι</span></div></div><div class=\"contnr c0 trm   \" ><div class=\"lbl c0 trm \" ><span class=\"txtu\">ποιουμεν,</span></div></div></div></div></div></div></div></div></div></div></div></div></div></div><div class=\"contnr c1    hl\" ><div class=\"lbl c1  hl\" ><span class=\"nd\">sub_N1904 </span></div><div class=\"children hor wrap \"><div class=\"contnr c1   lno \" ><div class=\"lbl c1  \" ><span class=\"nd\">sub_SBL </span></div><div class=\"children hor wrap \"><div class=\"contnr c1   lno \" ><div class=\"lbl c1  \" ><span class=\"nd\">sub_TISCH </span></div><div class=\"children hor wrap \"><div class=\"contnr c1   lno \" ><div class=\"lbl c1  \" ><span class=\"nd\">sub_KJTR </span></div><div class=\"children hor wrap \"><div class=\"contnr c1   lno rno \" ><div class=\"lbl c1  \" ><span class=\"nd\">sub_TCGNT </span></div><div class=\"children hor wrap \"><div class=\"contnr c1   lno rno \" ><div class=\"lbl c1  \" ><span class=\"nd\">sub_SR </span></div><div class=\"children hor wrap \"><div class=\"contnr c0 trm   \" ><div class=\"lbl c0 trm \" ><span class=\"txtu\">οτι</span></div></div></div></div></div></div></div></div><div class=\"contnr c1   rno hl\" ><div class=\"lbl c1  hl\" ><span class=\"nd\">sub_KJTR </span></div><div class=\"children hor wrap \"><div class=\"contnr c1   lno rno \" ><div class=\"lbl c1  \" ><span class=\"nd\">sub_TCGNT </span></div><div class=\"children hor wrap \"><div class=\"contnr c1   lno rno \" ><div class=\"lbl c1  \" ><span class=\"nd\">sub_SR </span></div><div class=\"children hor wrap \"><div class=\"contnr c0 trm   \" ><div class=\"lbl c0 trm \" ><span class=\"txtu\">ουτος</span></div></div></div></div></div></div></div></div></div></div><div class=\"contnr c1   rno hl\" ><div class=\"lbl c1  hl\" ><span class=\"nd\">sub_TISCH </span></div><div class=\"children hor wrap \"><div class=\"contnr c1   lno rno hl\" ><div class=\"lbl c1  hl\" ><span class=\"nd\">sub_KJTR </span></div><div class=\"children hor wrap \"><div class=\"contnr c1   lno \" ><div class=\"lbl c1  \" ><span class=\"nd\">sub_TCGNT </span></div><div class=\"children hor wrap \"><div class=\"contnr c1   lno rno \" ><div class=\"lbl c1  \" ><span class=\"nd\">sub_SR </span></div><div class=\"children hor wrap \"><div class=\"contnr c0 trm   \" ><div class=\"lbl c0 trm \" ><span class=\"txtu\">ο</span></div></div></div></div></div></div><div class=\"contnr c1    hl\" ><div class=\"lbl c1  hl\" ><span class=\"nd\">sub_TCGNT </span></div><div class=\"children hor wrap \"><div class=\"contnr c1   lno rno \" ><div class=\"lbl c1  \" ><span class=\"nd\">sub_SR </span></div><div class=\"children hor wrap \"><div class=\"contnr c0 trm   hl\" ><div class=\"lbl c0 trm hl\" ><span class=\"txtu\">ανθρωπος</span></div></div></div></div></div></div><div class=\"contnr c1    \" ><div class=\"lbl c1  \" ><span class=\"nd\">sub_TCGNT </span></div><div class=\"children hor wrap \"><div class=\"contnr c1   lno \" ><div class=\"lbl c1  \" ><span class=\"nd\">sub_SR </span></div><div class=\"children hor wrap \"><div class=\"contnr c0 trm   \" ><div class=\"lbl c0 trm \" ><span class=\"txtu\">πολλα</span></div></div><div class=\"contnr c0 trm   \" ><div class=\"lbl c0 trm \" ><span class=\"txtu\">ποιει</span></div></div></div></div></div></div></div></div></div></div></div></div><div class=\"contnr c1   rno \" ><div class=\"lbl c1  \" ><span class=\"nd\">sub_SBL </span></div><div class=\"children hor wrap \"><div class=\"contnr c1   lno rno hl\" ><div class=\"lbl c1  hl\" ><span class=\"nd\">sub_TISCH </span></div><div class=\"children hor wrap \"><div class=\"contnr c1   lno hl\" ><div class=\"lbl c1  hl\" ><span class=\"nd\">sub_KJTR </span></div><div class=\"children hor wrap \"><div class=\"contnr c1   rno \" ><div class=\"lbl c1  \" ><span class=\"nd\">sub_TCGNT </span></div><div class=\"children hor wrap \"><div class=\"contnr c1   rno \" ><div class=\"lbl c1  \" ><span class=\"nd\">sub_SR </span></div><div class=\"children hor wrap \"><div class=\"contnr c0 trm   \" ><div class=\"lbl c0 trm \" ><span class=\"txtu\">σημεια;</span></div></div></div></div></div></div></div></div></div></div></div></div></div></div></div></div></div>"
      ],
      "text/plain": [
       "<IPython.core.display.HTML object>"
      ]
     },
     "metadata": {},
     "output_type": "display_data"
    },
    {
     "data": {
      "text/html": [
       "<p><b>verse</b> <i>24</i>"
      ],
      "text/plain": [
       "<IPython.core.display.HTML object>"
      ]
     },
     "metadata": {},
     "output_type": "display_data"
    },
    {
     "data": {
      "text/html": [
       "<div class=\"tfsechead \"><span class=\"ltr\"><a target=\"_blank\" href=\"https://bibleol.3bmoodle.dk/text/show_text/nestle1904/John/11/48\" sec=\"John 11:48\">John 11:48</a></span></div><div class=\" children pr-mode\"><div class=\"contnr c3    \" ><div class=\"lbl c3  \" ><span class=\"nd\">verse </span> <span class=\"\"><span title=\"book\">John</span> <span title=\"chapter\">11</span>:<span title=\"verse\">48</span></span></div><div class=\"children hor wrap \"><div class=\"contnr c1    \" ><div class=\"lbl c1  \" ><span class=\"nd\">sub_N1904 </span></div><div class=\"children hor wrap \"><div class=\"contnr c1   lno \" ><div class=\"lbl c1  \" ><span class=\"nd\">sub_SBL </span></div><div class=\"children hor wrap \"><div class=\"contnr c1   lno rno hl\" ><div class=\"lbl c1  hl\" ><span class=\"nd\">sub_TISCH </span></div><div class=\"children hor wrap \"><div class=\"contnr c1   rno \" ><div class=\"lbl c1  \" ><span class=\"nd\">sub_KJTR </span></div><div class=\"children hor wrap \"><div class=\"contnr c1   lno rno \" ><div class=\"lbl c1  \" ><span class=\"nd\">sub_TCGNT </span></div><div class=\"children hor wrap \"><div class=\"contnr c1   lno \" ><div class=\"lbl c1  \" ><span class=\"nd\">sub_SR </span></div><div class=\"children hor wrap \"><div class=\"contnr c0 trm   \" ><div class=\"lbl c0 trm \" ><span class=\"txtu\">εαν</span></div></div><div class=\"contnr c0 trm   \" ><div class=\"lbl c0 trm \" ><span class=\"txtu\">αφωμεν</span></div></div></div></div><div class=\"contnr c1   rno \" ><div class=\"lbl c1  \" ><span class=\"nd\">sub_SR </span></div><div class=\"children hor wrap \"><div class=\"contnr c0 trm   \" ><div class=\"lbl c0 trm \" ><span class=\"txtu\">αυτον</span></div></div><div class=\"contnr c0 trm   \" ><div class=\"lbl c0 trm \" ><span class=\"txtu\">ουτως,</span></div></div></div></div></div></div></div></div></div></div></div></div></div></div><div class=\"contnr c1    \" ><div class=\"lbl c1  \" ><span class=\"nd\">sub_N1904 </span></div><div class=\"children hor wrap \"><div class=\"contnr c1    \" ><div class=\"lbl c1  \" ><span class=\"nd\">sub_SBL </span></div><div class=\"children hor wrap \"><div class=\"contnr c1   lno rno hl\" ><div class=\"lbl c1  hl\" ><span class=\"nd\">sub_TISCH </span></div><div class=\"children hor wrap \"><div class=\"contnr c1   lno \" ><div class=\"lbl c1  \" ><span class=\"nd\">sub_KJTR </span></div><div class=\"children hor wrap \"><div class=\"contnr c1   lno \" ><div class=\"lbl c1  \" ><span class=\"nd\">sub_TCGNT </span></div><div class=\"children hor wrap \"><div class=\"contnr c1   lno \" ><div class=\"lbl c1  \" ><span class=\"nd\">sub_SR </span></div><div class=\"children hor wrap \"><div class=\"contnr c0 trm   \" ><div class=\"lbl c0 trm \" ><span class=\"txtu\">παντες</span></div></div></div></div><div class=\"contnr c1   rno \" ><div class=\"lbl c1  \" ><span class=\"nd\">sub_SR </span></div><div class=\"children hor wrap \"><div class=\"contnr c0 trm   \" ><div class=\"lbl c0 trm \" ><span class=\"txtu\">πιστευσουσιν</span></div></div></div></div></div></div></div></div></div></div></div></div><div class=\"contnr c1   rno \" ><div class=\"lbl c1  \" ><span class=\"nd\">sub_SBL </span></div><div class=\"children hor wrap \"><div class=\"contnr c1   lno rno hl\" ><div class=\"lbl c1  hl\" ><span class=\"nd\">sub_TISCH </span></div><div class=\"children hor wrap \"><div class=\"contnr c1   rno \" ><div class=\"lbl c1  \" ><span class=\"nd\">sub_KJTR </span></div><div class=\"children hor wrap \"><div class=\"contnr c1   rno \" ><div class=\"lbl c1  \" ><span class=\"nd\">sub_TCGNT </span></div><div class=\"children hor wrap \"><div class=\"contnr c1   lno rno \" ><div class=\"lbl c1  \" ><span class=\"nd\">sub_SR </span></div><div class=\"children hor wrap \"><div class=\"contnr c0 trm   \" ><div class=\"lbl c0 trm \" ><span class=\"txtu\">εις</span></div></div><div class=\"contnr c0 trm   \" ><div class=\"lbl c0 trm \" ><span class=\"txtu\">αυτον,</span></div></div></div></div></div></div></div></div></div></div></div></div></div></div><div class=\"contnr c1   rno \" ><div class=\"lbl c1  \" ><span class=\"nd\">sub_N1904 </span></div><div class=\"children hor wrap \"><div class=\"contnr c1   lno \" ><div class=\"lbl c1  \" ><span class=\"nd\">sub_SBL </span></div><div class=\"children hor wrap \"><div class=\"contnr c1   lno hl\" ><div class=\"lbl c1  hl\" ><span class=\"nd\">sub_TISCH </span></div><div class=\"children hor wrap \"><div class=\"contnr c1   lno rno \" ><div class=\"lbl c1  \" ><span class=\"nd\">sub_KJTR </span></div><div class=\"children hor wrap \"><div class=\"contnr c1   lno rno \" ><div class=\"lbl c1  \" ><span class=\"nd\">sub_TCGNT </span></div><div class=\"children hor wrap \"><div class=\"contnr c1   lno rno \" ><div class=\"lbl c1  \" ><span class=\"nd\">sub_SR </span></div><div class=\"children hor wrap \"><div class=\"contnr c0 trm   \" ><div class=\"lbl c0 trm \" ><span class=\"txtu\">και</span></div></div></div></div></div></div></div></div></div></div><div class=\"contnr c1   rno \" ><div class=\"lbl c1  \" ><span class=\"nd\">sub_TISCH </span></div><div class=\"children hor wrap \"><div class=\"contnr c1   lno rno \" ><div class=\"lbl c1  \" ><span class=\"nd\">sub_KJTR </span></div><div class=\"children hor wrap \"><div class=\"contnr c1   lno rno \" ><div class=\"lbl c1  \" ><span class=\"nd\">sub_TCGNT </span></div><div class=\"children hor wrap \"><div class=\"contnr c1   lno rno \" ><div class=\"lbl c1  \" ><span class=\"nd\">sub_SR </span></div><div class=\"children hor wrap \"><div class=\"contnr c0 trm   \" ><div class=\"lbl c0 trm \" ><span class=\"txtu\">ελευσονται</span></div></div></div></div></div></div></div></div></div></div></div></div><div class=\"contnr c1   rno \" ><div class=\"lbl c1  \" ><span class=\"nd\">sub_SBL </span></div><div class=\"children hor wrap \"><div class=\"contnr c1   lno \" ><div class=\"lbl c1  \" ><span class=\"nd\">sub_TISCH </span></div><div class=\"children hor wrap \"><div class=\"contnr c1   lno rno \" ><div class=\"lbl c1  \" ><span class=\"nd\">sub_KJTR </span></div><div class=\"children hor wrap \"><div class=\"contnr c1   lno \" ><div class=\"lbl c1  \" ><span class=\"nd\">sub_TCGNT </span></div><div class=\"children hor wrap \"><div class=\"contnr c1   lno rno \" ><div class=\"lbl c1  \" ><span class=\"nd\">sub_SR </span></div><div class=\"children hor wrap \"><div class=\"contnr c0 trm   \" ><div class=\"lbl c0 trm \" ><span class=\"txtu\">οι</span></div></div><div class=\"contnr c0 trm   \" ><div class=\"lbl c0 trm \" ><span class=\"txtu\">ρωμαιοι</span></div></div></div></div></div></div><div class=\"contnr c1   rno \" ><div class=\"lbl c1  \" ><span class=\"nd\">sub_TCGNT </span></div><div class=\"children hor wrap \"><div class=\"contnr c1   lno \" ><div class=\"lbl c1  \" ><span class=\"nd\">sub_SR </span></div><div class=\"children hor wrap \"><div class=\"contnr c0 trm   \" ><div class=\"lbl c0 trm \" ><span class=\"txtu\">και</span></div></div><div class=\"contnr c0 trm   \" ><div class=\"lbl c0 trm \" ><span class=\"txtu\">αρουσιν</span></div></div><div class=\"contnr c0 trm   \" ><div class=\"lbl c0 trm \" ><span class=\"txtu\">ημων</span></div></div></div></div></div></div></div></div></div></div><div class=\"contnr c1   rno \" ><div class=\"lbl c1  \" ><span class=\"nd\">sub_TISCH </span></div><div class=\"children hor wrap \"><div class=\"contnr c1   lno \" ><div class=\"lbl c1  \" ><span class=\"nd\">sub_KJTR </span></div><div class=\"children hor wrap \"><div class=\"contnr c1   lno \" ><div class=\"lbl c1  \" ><span class=\"nd\">sub_TCGNT </span></div><div class=\"children hor wrap \"><div class=\"contnr c1   rno \" ><div class=\"lbl c1  \" ><span class=\"nd\">sub_SR </span></div><div class=\"children hor wrap \"><div class=\"contnr c0 trm   \" ><div class=\"lbl c0 trm \" ><span class=\"txtu\">και</span></div></div><div class=\"contnr c0 trm   \" ><div class=\"lbl c0 trm \" ><span class=\"txtu\">τον</span></div></div></div></div></div></div><div class=\"contnr c1   rno \" ><div class=\"lbl c1  \" ><span class=\"nd\">sub_TCGNT </span></div><div class=\"children hor wrap \"><div class=\"contnr c1   lno \" ><div class=\"lbl c1  \" ><span class=\"nd\">sub_SR </span></div><div class=\"children hor wrap \"><div class=\"contnr c0 trm   \" ><div class=\"lbl c0 trm \" ><span class=\"txtu\">τοπον</span></div></div><div class=\"contnr c0 trm   \" ><div class=\"lbl c0 trm \" ><span class=\"txtu\">και</span></div></div></div></div></div></div></div></div><div class=\"contnr c1   rno \" ><div class=\"lbl c1  \" ><span class=\"nd\">sub_KJTR </span></div><div class=\"children hor wrap \"><div class=\"contnr c1   lno \" ><div class=\"lbl c1  \" ><span class=\"nd\">sub_TCGNT </span></div><div class=\"children hor wrap \"><div class=\"contnr c1   rno \" ><div class=\"lbl c1  \" ><span class=\"nd\">sub_SR </span></div><div class=\"children hor wrap \"><div class=\"contnr c0 trm   \" ><div class=\"lbl c0 trm \" ><span class=\"txtu\">το</span></div></div><div class=\"contnr c0 trm   \" ><div class=\"lbl c0 trm \" ><span class=\"txtu\">εθνος.</span></div></div></div></div></div></div></div></div></div></div></div></div></div></div></div></div></div>"
      ],
      "text/plain": [
       "<IPython.core.display.HTML object>"
      ]
     },
     "metadata": {},
     "output_type": "display_data"
    },
    {
     "data": {
      "text/html": [
       "<p><b>verse</b> <i>25</i>"
      ],
      "text/plain": [
       "<IPython.core.display.HTML object>"
      ]
     },
     "metadata": {},
     "output_type": "display_data"
    },
    {
     "data": {
      "text/html": [
       "<div class=\"tfsechead \"><span class=\"ltr\"><a target=\"_blank\" href=\"https://bibleol.3bmoodle.dk/text/show_text/nestle1904/John/11/49\" sec=\"John 11:49\">John 11:49</a></span></div><div class=\" children pr-mode\"><div class=\"contnr c3    \" ><div class=\"lbl c3  \" ><span class=\"nd\">verse </span> <span class=\"\"><span title=\"book\">John</span> <span title=\"chapter\">11</span>:<span title=\"verse\">49</span></span></div><div class=\"children hor wrap \"><div class=\"contnr c1   lno \" ><div class=\"lbl c1  \" ><span class=\"nd\">sub_N1904 </span></div><div class=\"children hor wrap \"><div class=\"contnr c1   lno rno \" ><div class=\"lbl c1  \" ><span class=\"nd\">sub_SBL </span></div><div class=\"children hor wrap \"><div class=\"contnr c1   lno rno \" ><div class=\"lbl c1  \" ><span class=\"nd\">sub_TISCH </span></div><div class=\"children hor wrap \"><div class=\"contnr c1   lno \" ><div class=\"lbl c1  \" ><span class=\"nd\">sub_KJTR </span></div><div class=\"children hor wrap \"><div class=\"contnr c1   rno \" ><div class=\"lbl c1  \" ><span class=\"nd\">sub_TCGNT </span></div><div class=\"children hor wrap \"><div class=\"contnr c1   lno rno \" ><div class=\"lbl c1  \" ><span class=\"nd\">sub_SR </span></div><div class=\"children hor wrap \"><div class=\"contnr c0 trm   \" ><div class=\"lbl c0 trm \" ><span class=\"txtu\">εις</span></div></div><div class=\"contnr c0 trm   \" ><div class=\"lbl c0 trm \" ><span class=\"txtu\">δε</span></div></div><div class=\"contnr c0 trm   \" ><div class=\"lbl c0 trm \" ><span class=\"txtu\">τις</span></div></div><div class=\"contnr c0 trm   \" ><div class=\"lbl c0 trm \" ><span class=\"txtu\">εξ</span></div></div><div class=\"contnr c0 trm   \" ><div class=\"lbl c0 trm \" ><span class=\"txtu\">αυτων</span></div></div><div class=\"contnr c0 trm   \" ><div class=\"lbl c0 trm \" ><span class=\"txtu\">καιαφας,</span></div></div></div></div></div></div></div></div></div></div></div></div></div></div><div class=\"contnr c1    \" ><div class=\"lbl c1  \" ><span class=\"nd\">sub_N1904 </span></div><div class=\"children hor wrap \"><div class=\"contnr c1   lno rno \" ><div class=\"lbl c1  \" ><span class=\"nd\">sub_SBL </span></div><div class=\"children hor wrap \"><div class=\"contnr c1   lno rno \" ><div class=\"lbl c1  \" ><span class=\"nd\">sub_TISCH </span></div><div class=\"children hor wrap \"><div class=\"contnr c1   rno \" ><div class=\"lbl c1  \" ><span class=\"nd\">sub_KJTR </span></div><div class=\"children hor wrap \"><div class=\"contnr c1   lno rno \" ><div class=\"lbl c1  \" ><span class=\"nd\">sub_TCGNT </span></div><div class=\"children hor wrap \"><div class=\"contnr c1   lno rno \" ><div class=\"lbl c1  \" ><span class=\"nd\">sub_SR </span></div><div class=\"children hor wrap \"><div class=\"contnr c0 trm   \" ><div class=\"lbl c0 trm \" ><span class=\"txtu\">αρχιερευς</span></div></div><div class=\"contnr c0 trm   \" ><div class=\"lbl c0 trm \" ><span class=\"txtu\">ων</span></div></div><div class=\"contnr c0 trm   \" ><div class=\"lbl c0 trm \" ><span class=\"txtu\">του</span></div></div><div class=\"contnr c0 trm   \" ><div class=\"lbl c0 trm \" ><span class=\"txtu\">ενιαυτου</span></div></div><div class=\"contnr c0 trm   \" ><div class=\"lbl c0 trm \" ><span class=\"txtu\">εκεινου,</span></div></div></div></div></div></div></div></div></div></div></div></div></div></div><div class=\"contnr c1    \" ><div class=\"lbl c1  \" ><span class=\"nd\">sub_N1904 </span></div><div class=\"children hor wrap \"><div class=\"contnr c1   lno \" ><div class=\"lbl c1  \" ><span class=\"nd\">sub_SBL </span></div><div class=\"children hor wrap \"><div class=\"contnr c1   lno rno \" ><div class=\"lbl c1  \" ><span class=\"nd\">sub_TISCH </span></div><div class=\"children hor wrap \"><div class=\"contnr c1   lno rno \" ><div class=\"lbl c1  \" ><span class=\"nd\">sub_KJTR </span></div><div class=\"children hor wrap \"><div class=\"contnr c1   lno \" ><div class=\"lbl c1  \" ><span class=\"nd\">sub_TCGNT </span></div><div class=\"children hor wrap \"><div class=\"contnr c1   lno rno \" ><div class=\"lbl c1  \" ><span class=\"nd\">sub_SR </span></div><div class=\"children hor wrap \"><div class=\"contnr c0 trm   \" ><div class=\"lbl c0 trm \" ><span class=\"txtu\">ειπεν</span></div></div></div></div></div></div><div class=\"contnr c1   rno \" ><div class=\"lbl c1  \" ><span class=\"nd\">sub_TCGNT </span></div><div class=\"children hor wrap \"><div class=\"contnr c1   lno rno \" ><div class=\"lbl c1  \" ><span class=\"nd\">sub_SR </span></div><div class=\"children hor wrap \"><div class=\"contnr c0 trm   \" ><div class=\"lbl c0 trm \" ><span class=\"txtu\">αυτοις</span></div></div></div></div></div></div></div></div></div></div></div></div><div class=\"contnr c1   rno hl\" ><div class=\"lbl c1  hl\" ><span class=\"nd\">sub_SBL </span></div><div class=\"children hor wrap \"><div class=\"contnr c1   lno rno \" ><div class=\"lbl c1  \" ><span class=\"nd\">sub_TISCH </span></div><div class=\"children hor wrap \"><div class=\"contnr c1   lno \" ><div class=\"lbl c1  \" ><span class=\"nd\">sub_KJTR </span></div><div class=\"children hor wrap \"><div class=\"contnr c1   lno \" ><div class=\"lbl c1  \" ><span class=\"nd\">sub_TCGNT </span></div><div class=\"children hor wrap \"><div class=\"contnr c1   lno rno \" ><div class=\"lbl c1  \" ><span class=\"nd\">sub_SR </span></div><div class=\"children hor wrap \"><div class=\"contnr c0 trm   \" ><div class=\"lbl c0 trm \" ><span class=\"txtu\">υμεις</span></div></div></div></div></div></div><div class=\"contnr c1    \" ><div class=\"lbl c1  \" ><span class=\"nd\">sub_TCGNT </span></div><div class=\"children hor wrap \"><div class=\"contnr c1   lno rno \" ><div class=\"lbl c1  \" ><span class=\"nd\">sub_SR </span></div><div class=\"children hor wrap \"><div class=\"contnr c0 trm   \" ><div class=\"lbl c0 trm \" ><span class=\"txtu\">ουκ</span></div></div></div></div></div></div></div></div><div class=\"contnr c1    \" ><div class=\"lbl c1  \" ><span class=\"nd\">sub_KJTR </span></div><div class=\"children hor wrap \"><div class=\"contnr c1   rno \" ><div class=\"lbl c1  \" ><span class=\"nd\">sub_TCGNT </span></div><div class=\"children hor wrap \"><div class=\"contnr c1   lno rno \" ><div class=\"lbl c1  \" ><span class=\"nd\">sub_SR </span></div><div class=\"children hor wrap \"><div class=\"contnr c0 trm   \" ><div class=\"lbl c0 trm \" ><span class=\"txtu\">οιδατε</span></div></div></div></div></div></div></div></div><div class=\"contnr c1    \" ><div class=\"lbl c1  \" ><span class=\"nd\">sub_KJTR </span></div><div class=\"children hor wrap \"><div class=\"contnr c1   lno rno \" ><div class=\"lbl c1  \" ><span class=\"nd\">sub_TCGNT </span></div><div class=\"children hor wrap \"><div class=\"contnr c1   lno \" ><div class=\"lbl c1  \" ><span class=\"nd\">sub_SR </span></div><div class=\"children hor wrap \"><div class=\"contnr c0 trm   \" ><div class=\"lbl c0 trm \" ><span class=\"txtu\">ουδεν,</span></div></div></div></div></div></div></div></div></div></div></div></div></div></div></div></div></div>"
      ],
      "text/plain": [
       "<IPython.core.display.HTML object>"
      ]
     },
     "metadata": {},
     "output_type": "display_data"
    },
    {
     "data": {
      "text/html": [
       "<p><b>verse</b> <i>26</i>"
      ],
      "text/plain": [
       "<IPython.core.display.HTML object>"
      ]
     },
     "metadata": {},
     "output_type": "display_data"
    },
    {
     "data": {
      "text/html": [
       "<div class=\"tfsechead \"><span class=\"ltr\"><a target=\"_blank\" href=\"https://bibleol.3bmoodle.dk/text/show_text/nestle1904/John/11/50\" sec=\"John 11:50\">John 11:50</a></span></div><div class=\" children pr-mode\"><div class=\"contnr c3    \" ><div class=\"lbl c3  \" ><span class=\"nd\">verse </span> <span class=\"\"><span title=\"book\">John</span> <span title=\"chapter\">11</span>:<span title=\"verse\">50</span></span></div><div class=\"children hor wrap \"><div class=\"contnr c1   rno \" ><div class=\"lbl c1  \" ><span class=\"nd\">sub_N1904 </span></div><div class=\"children hor wrap \"><div class=\"contnr c1   lno hl\" ><div class=\"lbl c1  hl\" ><span class=\"nd\">sub_SBL </span></div><div class=\"children hor wrap \"><div class=\"contnr c1   lno \" ><div class=\"lbl c1  \" ><span class=\"nd\">sub_TISCH </span></div><div class=\"children hor wrap \"><div class=\"contnr c1   rno \" ><div class=\"lbl c1  \" ><span class=\"nd\">sub_KJTR </span></div><div class=\"children hor wrap \"><div class=\"contnr c1   lno rno \" ><div class=\"lbl c1  \" ><span class=\"nd\">sub_TCGNT </span></div><div class=\"children hor wrap \"><div class=\"contnr c1    \" ><div class=\"lbl c1  \" ><span class=\"nd\">sub_SR </span></div><div class=\"children hor wrap \"><div class=\"contnr c0 trm   \" ><div class=\"lbl c0 trm \" ><span class=\"txtu\">ουδε</span></div></div><div class=\"contnr c0 trm   \" ><div class=\"lbl c0 trm \" ><span class=\"txtu\">λογιζεσθε</span></div></div><div class=\"contnr c0 trm   \" ><div class=\"lbl c0 trm \" ><span class=\"txtu\">οτι</span></div></div><div class=\"contnr c0 trm   \" ><div class=\"lbl c0 trm \" ><span class=\"txtu\">συμφερει</span></div></div><div class=\"contnr c0 trm   \" ><div class=\"lbl c0 trm \" ><span class=\"txtu\">υμιν</span></div></div></div></div><div class=\"contnr c1   rno hl\" ><div class=\"lbl c1  hl\" ><span class=\"nd\">sub_SR </span></div><div class=\"children hor wrap \"><div class=\"contnr c0 trm   \" ><div class=\"lbl c0 trm \" ><span class=\"txtu\">ινα</span></div></div></div></div></div></div></div></div></div></div><div class=\"contnr c1   rno hl\" ><div class=\"lbl c1  hl\" ><span class=\"nd\">sub_TISCH </span></div><div class=\"children hor wrap \"><div class=\"contnr c1   lno \" ><div class=\"lbl c1  \" ><span class=\"nd\">sub_KJTR </span></div><div class=\"children hor wrap \"><div class=\"contnr c1   lno rno \" ><div class=\"lbl c1  \" ><span class=\"nd\">sub_TCGNT </span></div><div class=\"children hor wrap \"><div class=\"contnr c1   lno rno hl\" ><div class=\"lbl c1  hl\" ><span class=\"nd\">sub_SR </span></div><div class=\"children hor wrap \"><div class=\"contnr c0 trm   \" ><div class=\"lbl c0 trm \" ><span class=\"txtu\">εις</span></div></div><div class=\"contnr c0 trm   hl\" ><div class=\"lbl c0 trm hl\" ><span class=\"txtu\">ανθρωπος</span></div></div><div class=\"contnr c0 trm   \" ><div class=\"lbl c0 trm \" ><span class=\"txtu\">αποθανη</span></div></div></div></div></div></div></div></div><div class=\"contnr c1   rno \" ><div class=\"lbl c1  \" ><span class=\"nd\">sub_KJTR </span></div><div class=\"children hor wrap \"><div class=\"contnr c1   lno \" ><div class=\"lbl c1  \" ><span class=\"nd\">sub_TCGNT </span></div><div class=\"children hor wrap \"><div class=\"contnr c1   lno rno hl\" ><div class=\"lbl c1  hl\" ><span class=\"nd\">sub_SR </span></div><div class=\"children hor wrap \"><div class=\"contnr c0 trm   \" ><div class=\"lbl c0 trm \" ><span class=\"txtu\">υπερ</span></div></div></div></div></div></div></div></div></div></div></div></div><div class=\"contnr c1    \" ><div class=\"lbl c1  \" ><span class=\"nd\">sub_SBL </span></div><div class=\"children hor wrap \"><div class=\"contnr c1   lno hl\" ><div class=\"lbl c1  hl\" ><span class=\"nd\">sub_TISCH </span></div><div class=\"children hor wrap \"><div class=\"contnr c1   lno \" ><div class=\"lbl c1  \" ><span class=\"nd\">sub_KJTR </span></div><div class=\"children hor wrap \"><div class=\"contnr c1   rno \" ><div class=\"lbl c1  \" ><span class=\"nd\">sub_TCGNT </span></div><div class=\"children hor wrap \"><div class=\"contnr c1   lno rno hl\" ><div class=\"lbl c1  hl\" ><span class=\"nd\">sub_SR </span></div><div class=\"children hor wrap \"><div class=\"contnr c0 trm   \" ><div class=\"lbl c0 trm \" ><span class=\"txtu\">του</span></div></div><div class=\"contnr c0 trm   \" ><div class=\"lbl c0 trm \" ><span class=\"txtu\">λαου</span></div></div></div></div></div></div></div></div><div class=\"contnr c1    \" ><div class=\"lbl c1  \" ><span class=\"nd\">sub_KJTR </span></div><div class=\"children hor wrap \"><div class=\"contnr c1   lno rno \" ><div class=\"lbl c1  \" ><span class=\"nd\">sub_TCGNT </span></div><div class=\"children hor wrap \"><div class=\"contnr c1   lno hl\" ><div class=\"lbl c1  hl\" ><span class=\"nd\">sub_SR </span></div><div class=\"children hor wrap \"><div class=\"contnr c0 trm   \" ><div class=\"lbl c0 trm \" ><span class=\"txtu\">και</span></div></div></div></div></div></div></div></div><div class=\"contnr c1    \" ><div class=\"lbl c1  \" ><span class=\"nd\">sub_KJTR </span></div><div class=\"children hor wrap \"><div class=\"contnr c1   lno rno \" ><div class=\"lbl c1  \" ><span class=\"nd\">sub_TCGNT </span></div><div class=\"children hor wrap \"><div class=\"contnr c1   rno \" ><div class=\"lbl c1  \" ><span class=\"nd\">sub_SR </span></div><div class=\"children hor wrap \"><div class=\"contnr c0 trm   \" ><div class=\"lbl c0 trm \" ><span class=\"txtu\">μη</span></div></div><div class=\"contnr c0 trm   \" ><div class=\"lbl c0 trm \" ><span class=\"txtu\">ολον</span></div></div></div></div></div></div></div></div></div></div><div class=\"contnr c1   rno \" ><div class=\"lbl c1  \" ><span class=\"nd\">sub_TISCH </span></div><div class=\"children hor wrap \"><div class=\"contnr c1   rno \" ><div class=\"lbl c1  \" ><span class=\"nd\">sub_KJTR </span></div><div class=\"children hor wrap \"><div class=\"contnr c1   lno rno \" ><div class=\"lbl c1  \" ><span class=\"nd\">sub_TCGNT </span></div><div class=\"children hor wrap \"><div class=\"contnr c1   lno rno \" ><div class=\"lbl c1  \" ><span class=\"nd\">sub_SR </span></div><div class=\"children hor wrap \"><div class=\"contnr c0 trm   \" ><div class=\"lbl c0 trm \" ><span class=\"txtu\">το</span></div></div></div></div></div></div></div></div></div></div></div></div><div class=\"contnr c1   rno \" ><div class=\"lbl c1  \" ><span class=\"nd\">sub_SBL </span></div><div class=\"children hor wrap \"><div class=\"contnr c1   lno rno \" ><div class=\"lbl c1  \" ><span class=\"nd\">sub_TISCH </span></div><div class=\"children hor wrap \"><div class=\"contnr c1   lno rno \" ><div class=\"lbl c1  \" ><span class=\"nd\">sub_KJTR </span></div><div class=\"children hor wrap \"><div class=\"contnr c1   lno \" ><div class=\"lbl c1  \" ><span class=\"nd\">sub_TCGNT </span></div><div class=\"children hor wrap \"><div class=\"contnr c1   lno rno \" ><div class=\"lbl c1  \" ><span class=\"nd\">sub_SR </span></div><div class=\"children hor wrap \"><div class=\"contnr c0 trm   \" ><div class=\"lbl c0 trm \" ><span class=\"txtu\">εθνος</span></div></div></div></div></div></div><div class=\"contnr c1   rno \" ><div class=\"lbl c1  \" ><span class=\"nd\">sub_TCGNT </span></div><div class=\"children hor wrap \"><div class=\"contnr c1   lno rno \" ><div class=\"lbl c1  \" ><span class=\"nd\">sub_SR </span></div><div class=\"children hor wrap \"><div class=\"contnr c0 trm   \" ><div class=\"lbl c0 trm \" ><span class=\"txtu\">αποληται.</span></div></div></div></div></div></div></div></div></div></div></div></div></div></div></div></div></div>"
      ],
      "text/plain": [
       "<IPython.core.display.HTML object>"
      ]
     },
     "metadata": {},
     "output_type": "display_data"
    },
    {
     "data": {
      "text/html": [
       "<p><b>verse</b> <i>27</i>"
      ],
      "text/plain": [
       "<IPython.core.display.HTML object>"
      ]
     },
     "metadata": {},
     "output_type": "display_data"
    },
    {
     "data": {
      "text/html": [
       "<div class=\"tfsechead \"><span class=\"ltr\"><a target=\"_blank\" href=\"https://bibleol.3bmoodle.dk/text/show_text/nestle1904/John/16/21\" sec=\"John 16:21\">John 16:21</a></span></div><div class=\" children pr-mode\"><div class=\"contnr c3    \" ><div class=\"lbl c3  \" ><span class=\"nd\">verse </span> <span class=\"\"><span title=\"book\">John</span> <span title=\"chapter\">16</span>:<span title=\"verse\">21</span></span></div><div class=\"children hor wrap \"><div class=\"contnr c1   lno \" ><div class=\"lbl c1  \" ><span class=\"nd\">sub_N1904 </span></div><div class=\"children hor wrap \"><div class=\"contnr c1   lno rno \" ><div class=\"lbl c1  \" ><span class=\"nd\">sub_SBL </span></div><div class=\"children hor wrap \"><div class=\"contnr c1   lno rno \" ><div class=\"lbl c1  \" ><span class=\"nd\">sub_TISCH </span></div><div class=\"children hor wrap \"><div class=\"contnr c1   lno \" ><div class=\"lbl c1  \" ><span class=\"nd\">sub_KJTR </span></div><div class=\"children hor wrap \"><div class=\"contnr c1   lno rno \" ><div class=\"lbl c1  \" ><span class=\"nd\">sub_TCGNT </span></div><div class=\"children hor wrap \"><div class=\"contnr c1   lno rno \" ><div class=\"lbl c1  \" ><span class=\"nd\">sub_SR </span></div><div class=\"children hor wrap \"><div class=\"contnr c0 trm   \" ><div class=\"lbl c0 trm \" ><span class=\"txtu\">η</span></div></div><div class=\"contnr c0 trm   \" ><div class=\"lbl c0 trm \" ><span class=\"txtu\">γυνη</span></div></div></div></div></div></div></div></div><div class=\"contnr c1   rno \" ><div class=\"lbl c1  \" ><span class=\"nd\">sub_KJTR </span></div><div class=\"children hor wrap \"><div class=\"contnr c1   lno \" ><div class=\"lbl c1  \" ><span class=\"nd\">sub_TCGNT </span></div><div class=\"children hor wrap \"><div class=\"contnr c1   lno \" ><div class=\"lbl c1  \" ><span class=\"nd\">sub_SR </span></div><div class=\"children hor wrap \"><div class=\"contnr c0 trm   \" ><div class=\"lbl c0 trm \" ><span class=\"txtu\">οταν</span></div></div></div></div><div class=\"contnr c1   rno \" ><div class=\"lbl c1  \" ><span class=\"nd\">sub_SR </span></div><div class=\"children hor wrap \"><div class=\"contnr c0 trm   \" ><div class=\"lbl c0 trm \" ><span class=\"txtu\">τικτη</span></div></div></div></div></div></div><div class=\"contnr c1   rno \" ><div class=\"lbl c1  \" ><span class=\"nd\">sub_TCGNT </span></div><div class=\"children hor wrap \"><div class=\"contnr c1   lno \" ><div class=\"lbl c1  \" ><span class=\"nd\">sub_SR </span></div><div class=\"children hor wrap \"><div class=\"contnr c0 trm   \" ><div class=\"lbl c0 trm \" ><span class=\"txtu\">λυπην</span></div></div></div></div><div class=\"contnr c1    \" ><div class=\"lbl c1  \" ><span class=\"nd\">sub_SR </span></div><div class=\"children hor wrap \"><div class=\"contnr c0 trm   \" ><div class=\"lbl c0 trm \" ><span class=\"txtu\">εχει,</span></div></div></div></div></div></div></div></div></div></div></div></div></div></div><div class=\"contnr c1    \" ><div class=\"lbl c1  \" ><span class=\"nd\">sub_N1904 </span></div><div class=\"children hor wrap \"><div class=\"contnr c1   lno \" ><div class=\"lbl c1  \" ><span class=\"nd\">sub_SBL </span></div><div class=\"children hor wrap \"><div class=\"contnr c1   lno \" ><div class=\"lbl c1  \" ><span class=\"nd\">sub_TISCH </span></div><div class=\"children hor wrap \"><div class=\"contnr c1   lno rno \" ><div class=\"lbl c1  \" ><span class=\"nd\">sub_KJTR </span></div><div class=\"children hor wrap \"><div class=\"contnr c1   lno rno \" ><div class=\"lbl c1  \" ><span class=\"nd\">sub_TCGNT </span></div><div class=\"children hor wrap \"><div class=\"contnr c1   rno \" ><div class=\"lbl c1  \" ><span class=\"nd\">sub_SR </span></div><div class=\"children hor wrap \"><div class=\"contnr c0 trm   \" ><div class=\"lbl c0 trm \" ><span class=\"txtu\">οτι</span></div></div></div></div></div></div></div></div></div></div><div class=\"contnr c1   rno \" ><div class=\"lbl c1  \" ><span class=\"nd\">sub_TISCH </span></div><div class=\"children hor wrap \"><div class=\"contnr c1   lno \" ><div class=\"lbl c1  \" ><span class=\"nd\">sub_KJTR </span></div><div class=\"children hor wrap \"><div class=\"contnr c1   lno rno \" ><div class=\"lbl c1  \" ><span class=\"nd\">sub_TCGNT </span></div><div class=\"children hor wrap \"><div class=\"contnr c1   lno rno \" ><div class=\"lbl c1  \" ><span class=\"nd\">sub_SR </span></div><div class=\"children hor wrap \"><div class=\"contnr c0 trm   \" ><div class=\"lbl c0 trm \" ><span class=\"txtu\">ηλθεν</span></div></div></div></div></div></div></div></div></div></div></div></div><div class=\"contnr c1   rno \" ><div class=\"lbl c1  \" ><span class=\"nd\">sub_SBL </span></div><div class=\"children hor wrap \"><div class=\"contnr c1   lno \" ><div class=\"lbl c1  \" ><span class=\"nd\">sub_TISCH </span></div><div class=\"children hor wrap \"><div class=\"contnr c1   rno \" ><div class=\"lbl c1  \" ><span class=\"nd\">sub_KJTR </span></div><div class=\"children hor wrap \"><div class=\"contnr c1   lno rno \" ><div class=\"lbl c1  \" ><span class=\"nd\">sub_TCGNT </span></div><div class=\"children hor wrap \"><div class=\"contnr c1   lno \" ><div class=\"lbl c1  \" ><span class=\"nd\">sub_SR </span></div><div class=\"children hor wrap \"><div class=\"contnr c0 trm   \" ><div class=\"lbl c0 trm \" ><span class=\"txtu\">η</span></div></div><div class=\"contnr c0 trm   \" ><div class=\"lbl c0 trm \" ><span class=\"txtu\">ωρα</span></div></div></div></div></div></div></div></div></div></div><div class=\"contnr c1   rno \" ><div class=\"lbl c1  \" ><span class=\"nd\">sub_TISCH </span></div><div class=\"children hor wrap \"><div class=\"contnr c1   lno \" ><div class=\"lbl c1  \" ><span class=\"nd\">sub_KJTR </span></div><div class=\"children hor wrap \"><div class=\"contnr c1   lno rno \" ><div class=\"lbl c1  \" ><span class=\"nd\">sub_TCGNT </span></div><div class=\"children hor wrap \"><div class=\"contnr c1   rno \" ><div class=\"lbl c1  \" ><span class=\"nd\">sub_SR </span></div><div class=\"children hor wrap \"><div class=\"contnr c0 trm   \" ><div class=\"lbl c0 trm \" ><span class=\"txtu\">αυτης·</span></div></div></div></div></div></div></div></div></div></div></div></div></div></div><div class=\"contnr c1    \" ><div class=\"lbl c1  \" ><span class=\"nd\">sub_N1904 </span></div><div class=\"children hor wrap \"><div class=\"contnr c1   lno \" ><div class=\"lbl c1  \" ><span class=\"nd\">sub_SBL </span></div><div class=\"children hor wrap \"><div class=\"contnr c1   lno rno \" ><div class=\"lbl c1  \" ><span class=\"nd\">sub_TISCH </span></div><div class=\"children hor wrap \"><div class=\"contnr c1   rno \" ><div class=\"lbl c1  \" ><span class=\"nd\">sub_KJTR </span></div><div class=\"children hor wrap \"><div class=\"contnr c1   lno rno \" ><div class=\"lbl c1  \" ><span class=\"nd\">sub_TCGNT </span></div><div class=\"children hor wrap \"><div class=\"contnr c1   lno rno \" ><div class=\"lbl c1  \" ><span class=\"nd\">sub_SR </span></div><div class=\"children hor wrap \"><div class=\"contnr c0 trm   \" ><div class=\"lbl c0 trm \" ><span class=\"txtu\">οταν</span></div></div></div></div></div></div></div></div></div></div></div></div><div class=\"contnr c1   rno \" ><div class=\"lbl c1  \" ><span class=\"nd\">sub_SBL </span></div><div class=\"children hor wrap \"><div class=\"contnr c1   lno rno \" ><div class=\"lbl c1  \" ><span class=\"nd\">sub_TISCH </span></div><div class=\"children hor wrap \"><div class=\"contnr c1   lno rno \" ><div class=\"lbl c1  \" ><span class=\"nd\">sub_KJTR </span></div><div class=\"children hor wrap \"><div class=\"contnr c1   lno \" ><div class=\"lbl c1  \" ><span class=\"nd\">sub_TCGNT </span></div><div class=\"children hor wrap \"><div class=\"contnr c1   lno rno \" ><div class=\"lbl c1  \" ><span class=\"nd\">sub_SR </span></div><div class=\"children hor wrap \"><div class=\"contnr c0 trm   \" ><div class=\"lbl c0 trm \" ><span class=\"txtu\">δε</span></div></div></div></div></div></div><div class=\"contnr c1   rno \" ><div class=\"lbl c1  \" ><span class=\"nd\">sub_TCGNT </span></div><div class=\"children hor wrap \"><div class=\"contnr c1   lno \" ><div class=\"lbl c1  \" ><span class=\"nd\">sub_SR </span></div><div class=\"children hor wrap \"><div class=\"contnr c0 trm   \" ><div class=\"lbl c0 trm \" ><span class=\"txtu\">γεννηση</span></div></div><div class=\"contnr c0 trm   \" ><div class=\"lbl c0 trm \" ><span class=\"txtu\">το</span></div></div><div class=\"contnr c0 trm   \" ><div class=\"lbl c0 trm \" ><span class=\"txtu\">παιδιον,</span></div></div></div></div></div></div></div></div></div></div></div></div></div></div><div class=\"contnr c1   rno \" ><div class=\"lbl c1  \" ><span class=\"nd\">sub_N1904 </span></div><div class=\"children hor wrap \"><div class=\"contnr c1   lno \" ><div class=\"lbl c1  \" ><span class=\"nd\">sub_SBL </span></div><div class=\"children hor wrap \"><div class=\"contnr c1   lno rno \" ><div class=\"lbl c1  \" ><span class=\"nd\">sub_TISCH </span></div><div class=\"children hor wrap \"><div class=\"contnr c1   lno \" ><div class=\"lbl c1  \" ><span class=\"nd\">sub_KJTR </span></div><div class=\"children hor wrap \"><div class=\"contnr c1   lno \" ><div class=\"lbl c1  \" ><span class=\"nd\">sub_TCGNT </span></div><div class=\"children hor wrap \"><div class=\"contnr c1   rno \" ><div class=\"lbl c1  \" ><span class=\"nd\">sub_SR </span></div><div class=\"children hor wrap \"><div class=\"contnr c0 trm   \" ><div class=\"lbl c0 trm \" ><span class=\"txtu\">ουκετι</span></div></div></div></div></div></div></div></div></div></div></div></div><div class=\"contnr c1   rno \" ><div class=\"lbl c1  \" ><span class=\"nd\">sub_SBL </span></div><div class=\"children hor wrap \"><div class=\"contnr c1   lno \" ><div class=\"lbl c1  \" ><span class=\"nd\">sub_TISCH </span></div><div class=\"children hor wrap \"><div class=\"contnr c1   rno \" ><div class=\"lbl c1  \" ><span class=\"nd\">sub_KJTR </span></div><div class=\"children hor wrap \"><div class=\"contnr c1   rno \" ><div class=\"lbl c1  \" ><span class=\"nd\">sub_TCGNT </span></div><div class=\"children hor wrap \"><div class=\"contnr c1   lno \" ><div class=\"lbl c1  \" ><span class=\"nd\">sub_SR </span></div><div class=\"children hor wrap \"><div class=\"contnr c0 trm   \" ><div class=\"lbl c0 trm \" ><span class=\"txtu\">μνημονευει</span></div></div><div class=\"contnr c0 trm   \" ><div class=\"lbl c0 trm \" ><span class=\"txtu\">της</span></div></div></div></div><div class=\"contnr c1   rno \" ><div class=\"lbl c1  \" ><span class=\"nd\">sub_SR </span></div><div class=\"children hor wrap \"><div class=\"contnr c0 trm   \" ><div class=\"lbl c0 trm \" ><span class=\"txtu\">θλιψεως</span></div></div><div class=\"contnr c0 trm   \" ><div class=\"lbl c0 trm \" ><span class=\"txtu\">δια</span></div></div></div></div></div></div></div></div></div></div><div class=\"contnr c1    hl\" ><div class=\"lbl c1  hl\" ><span class=\"nd\">sub_TISCH </span></div><div class=\"children hor wrap \"><div class=\"contnr c1   lno \" ><div class=\"lbl c1  \" ><span class=\"nd\">sub_KJTR </span></div><div class=\"children hor wrap \"><div class=\"contnr c1   lno rno \" ><div class=\"lbl c1  \" ><span class=\"nd\">sub_TCGNT </span></div><div class=\"children hor wrap \"><div class=\"contnr c1   lno rno \" ><div class=\"lbl c1  \" ><span class=\"nd\">sub_SR </span></div><div class=\"children hor wrap \"><div class=\"contnr c0 trm   \" ><div class=\"lbl c0 trm \" ><span class=\"txtu\">την</span></div></div></div></div></div></div></div></div><div class=\"contnr c1    \" ><div class=\"lbl c1  \" ><span class=\"nd\">sub_KJTR </span></div><div class=\"children hor wrap \"><div class=\"contnr c1   lno \" ><div class=\"lbl c1  \" ><span class=\"nd\">sub_TCGNT </span></div><div class=\"children hor wrap \"><div class=\"contnr c1   lno \" ><div class=\"lbl c1  \" ><span class=\"nd\">sub_SR </span></div><div class=\"children hor wrap \"><div class=\"contnr c0 trm   \" ><div class=\"lbl c0 trm \" ><span class=\"txtu\">χαραν</span></div></div></div></div></div></div><div class=\"contnr c1   rno hl\" ><div class=\"lbl c1  hl\" ><span class=\"nd\">sub_TCGNT </span></div><div class=\"children hor wrap \"><div class=\"contnr c1   rno \" ><div class=\"lbl c1  \" ><span class=\"nd\">sub_SR </span></div><div class=\"children hor wrap \"><div class=\"contnr c0 trm   \" ><div class=\"lbl c0 trm \" ><span class=\"txtu\">οτι</span></div></div><div class=\"contnr c0 trm   \" ><div class=\"lbl c0 trm \" ><span class=\"txtu\">εγεννηθη</span></div></div></div></div></div></div></div></div><div class=\"contnr c1   rno hl\" ><div class=\"lbl c1  hl\" ><span class=\"nd\">sub_KJTR </span></div><div class=\"children hor wrap \"><div class=\"contnr c1   lno hl\" ><div class=\"lbl c1  hl\" ><span class=\"nd\">sub_TCGNT </span></div><div class=\"children hor wrap \"><div class=\"contnr c1   lno rno \" ><div class=\"lbl c1  \" ><span class=\"nd\">sub_SR </span></div><div class=\"children hor wrap \"><div class=\"contnr c0 trm   hl\" ><div class=\"lbl c0 trm hl\" ><span class=\"txtu\">ανθρωπος</span></div></div><div class=\"contnr c0 trm   \" ><div class=\"lbl c0 trm \" ><span class=\"txtu\">εις</span></div></div><div class=\"contnr c0 trm   \" ><div class=\"lbl c0 trm \" ><span class=\"txtu\">τον</span></div></div></div></div></div></div><div class=\"contnr c1   rno \" ><div class=\"lbl c1  \" ><span class=\"nd\">sub_TCGNT </span></div><div class=\"children hor wrap \"><div class=\"contnr c1   lno rno \" ><div class=\"lbl c1  \" ><span class=\"nd\">sub_SR </span></div><div class=\"children hor wrap \"><div class=\"contnr c0 trm   \" ><div class=\"lbl c0 trm \" ><span class=\"txtu\">κοσμον.</span></div></div></div></div></div></div></div></div></div></div></div></div></div></div></div></div></div>"
      ],
      "text/plain": [
       "<IPython.core.display.HTML object>"
      ]
     },
     "metadata": {},
     "output_type": "display_data"
    },
    {
     "data": {
      "text/html": [
       "<p><b>verse</b> <i>28</i>"
      ],
      "text/plain": [
       "<IPython.core.display.HTML object>"
      ]
     },
     "metadata": {},
     "output_type": "display_data"
    },
    {
     "data": {
      "text/html": [
       "<div class=\"tfsechead \"><span class=\"ltr\"><a target=\"_blank\" href=\"https://bibleol.3bmoodle.dk/text/show_text/nestle1904/John/16/22\" sec=\"John 16:22\">John 16:22</a></span></div><div class=\" children pr-mode\"><div class=\"contnr c3    \" ><div class=\"lbl c3  \" ><span class=\"nd\">verse </span> <span class=\"\"><span title=\"book\">John</span> <span title=\"chapter\">16</span>:<span title=\"verse\">22</span></span></div><div class=\"children hor wrap \"><div class=\"contnr c1   lno \" ><div class=\"lbl c1  \" ><span class=\"nd\">sub_N1904 </span></div><div class=\"children hor wrap \"><div class=\"contnr c1   lno \" ><div class=\"lbl c1  \" ><span class=\"nd\">sub_SBL </span></div><div class=\"children hor wrap \"><div class=\"contnr c1   rno \" ><div class=\"lbl c1  \" ><span class=\"nd\">sub_TISCH </span></div><div class=\"children hor wrap \"><div class=\"contnr c1   lno hl\" ><div class=\"lbl c1  hl\" ><span class=\"nd\">sub_KJTR </span></div><div class=\"children hor wrap \"><div class=\"contnr c1   lno rno \" ><div class=\"lbl c1  \" ><span class=\"nd\">sub_TCGNT </span></div><div class=\"children hor wrap \"><div class=\"contnr c1   lno rno \" ><div class=\"lbl c1  \" ><span class=\"nd\">sub_SR </span></div><div class=\"children hor wrap \"><div class=\"contnr c0 trm   \" ><div class=\"lbl c0 trm \" ><span class=\"txtu\">και</span></div></div><div class=\"contnr c0 trm   \" ><div class=\"lbl c0 trm \" ><span class=\"txtu\">υμεις</span></div></div></div></div></div></div></div></div><div class=\"contnr c1   rno \" ><div class=\"lbl c1  \" ><span class=\"nd\">sub_KJTR </span></div><div class=\"children hor wrap \"><div class=\"contnr c1   lno \" ><div class=\"lbl c1  \" ><span class=\"nd\">sub_TCGNT </span></div><div class=\"children hor wrap \"><div class=\"contnr c1   lno \" ><div class=\"lbl c1  \" ><span class=\"nd\">sub_SR </span></div><div class=\"children hor wrap \"><div class=\"contnr c0 trm   \" ><div class=\"lbl c0 trm \" ><span class=\"txtu\">ουν</span></div></div></div></div><div class=\"contnr c1   rno \" ><div class=\"lbl c1  \" ><span class=\"nd\">sub_SR </span></div><div class=\"children hor wrap \"><div class=\"contnr c0 trm   \" ><div class=\"lbl c0 trm \" ><span class=\"txtu\">νυν</span></div></div></div></div></div></div><div class=\"contnr c1   rno \" ><div class=\"lbl c1  \" ><span class=\"nd\">sub_TCGNT </span></div><div class=\"children hor wrap \"><div class=\"contnr c1   lno rno \" ><div class=\"lbl c1  \" ><span class=\"nd\">sub_SR </span></div><div class=\"children hor wrap \"><div class=\"contnr c0 trm   \" ><div class=\"lbl c0 trm \" ><span class=\"txtu\">μεν</span></div></div></div></div></div></div></div></div></div></div></div></div><div class=\"contnr c1   rno \" ><div class=\"lbl c1  \" ><span class=\"nd\">sub_SBL </span></div><div class=\"children hor wrap \"><div class=\"contnr c1   lno rno \" ><div class=\"lbl c1  \" ><span class=\"nd\">sub_TISCH </span></div><div class=\"children hor wrap \"><div class=\"contnr c1   lno \" ><div class=\"lbl c1  \" ><span class=\"nd\">sub_KJTR </span></div><div class=\"children hor wrap \"><div class=\"contnr c1   lno rno \" ><div class=\"lbl c1  \" ><span class=\"nd\">sub_TCGNT </span></div><div class=\"children hor wrap \"><div class=\"contnr c1   lno rno \" ><div class=\"lbl c1  \" ><span class=\"nd\">sub_SR </span></div><div class=\"children hor wrap \"><div class=\"contnr c0 trm   \" ><div class=\"lbl c0 trm \" ><span class=\"txtu\">λυπην</span></div></div></div></div></div></div></div></div><div class=\"contnr c1   rno \" ><div class=\"lbl c1  \" ><span class=\"nd\">sub_KJTR </span></div><div class=\"children hor wrap \"><div class=\"contnr c1   lno rno \" ><div class=\"lbl c1  \" ><span class=\"nd\">sub_TCGNT </span></div><div class=\"children hor wrap \"><div class=\"contnr c1   lno rno \" ><div class=\"lbl c1  \" ><span class=\"nd\">sub_SR </span></div><div class=\"children hor wrap \"><div class=\"contnr c0 trm   \" ><div class=\"lbl c0 trm \" ><span class=\"txtu\">εχετε·</span></div></div></div></div></div></div></div></div></div></div></div></div></div></div><div class=\"contnr c1    \" ><div class=\"lbl c1  \" ><span class=\"nd\">sub_N1904 </span></div><div class=\"children hor wrap \"><div class=\"contnr c1   lno \" ><div class=\"lbl c1  \" ><span class=\"nd\">sub_SBL </span></div><div class=\"children hor wrap \"><div class=\"contnr c1   lno rno \" ><div class=\"lbl c1  \" ><span class=\"nd\">sub_TISCH </span></div><div class=\"children hor wrap \"><div class=\"contnr c1   lno \" ><div class=\"lbl c1  \" ><span class=\"nd\">sub_KJTR </span></div><div class=\"children hor wrap \"><div class=\"contnr c1   lno rno \" ><div class=\"lbl c1  \" ><span class=\"nd\">sub_TCGNT </span></div><div class=\"children hor wrap \"><div class=\"contnr c1   lno rno \" ><div class=\"lbl c1  \" ><span class=\"nd\">sub_SR </span></div><div class=\"children hor wrap \"><div class=\"contnr c0 trm   \" ><div class=\"lbl c0 trm \" ><span class=\"txtu\">παλιν</span></div></div><div class=\"contnr c0 trm   \" ><div class=\"lbl c0 trm \" ><span class=\"txtu\">δε</span></div></div></div></div></div></div></div></div></div></div></div></div><div class=\"contnr c1   rno \" ><div class=\"lbl c1  \" ><span class=\"nd\">sub_SBL </span></div><div class=\"children hor wrap \"><div class=\"contnr c1   lno rno \" ><div class=\"lbl c1  \" ><span class=\"nd\">sub_TISCH </span></div><div class=\"children hor wrap \"><div class=\"contnr c1   rno \" ><div class=\"lbl c1  \" ><span class=\"nd\">sub_KJTR </span></div><div class=\"children hor wrap \"><div class=\"contnr c1   lno rno \" ><div class=\"lbl c1  \" ><span class=\"nd\">sub_TCGNT </span></div><div class=\"children hor wrap \"><div class=\"contnr c1   lno rno \" ><div class=\"lbl c1  \" ><span class=\"nd\">sub_SR </span></div><div class=\"children hor wrap \"><div class=\"contnr c0 trm   \" ><div class=\"lbl c0 trm \" ><span class=\"txtu\">οψομαι</span></div></div><div class=\"contnr c0 trm   \" ><div class=\"lbl c0 trm \" ><span class=\"txtu\">υμας,</span></div></div></div></div></div></div></div></div></div></div></div></div></div></div><div class=\"contnr c1    \" ><div class=\"lbl c1  \" ><span class=\"nd\">sub_N1904 </span></div><div class=\"children hor wrap \"><div class=\"contnr c1   lno rno \" ><div class=\"lbl c1  \" ><span class=\"nd\">sub_SBL </span></div><div class=\"children hor wrap \"><div class=\"contnr c1   lno \" ><div class=\"lbl c1  \" ><span class=\"nd\">sub_TISCH </span></div><div class=\"children hor wrap \"><div class=\"contnr c1   lno rno \" ><div class=\"lbl c1  \" ><span class=\"nd\">sub_KJTR </span></div><div class=\"children hor wrap \"><div class=\"contnr c1   lno \" ><div class=\"lbl c1  \" ><span class=\"nd\">sub_TCGNT </span></div><div class=\"children hor wrap \"><div class=\"contnr c1   lno rno \" ><div class=\"lbl c1  \" ><span class=\"nd\">sub_SR </span></div><div class=\"children hor wrap \"><div class=\"contnr c0 trm   \" ><div class=\"lbl c0 trm \" ><span class=\"txtu\">και</span></div></div></div></div></div></div><div class=\"contnr c1   rno \" ><div class=\"lbl c1  \" ><span class=\"nd\">sub_TCGNT </span></div><div class=\"children hor wrap \"><div class=\"contnr c1   lno \" ><div class=\"lbl c1  \" ><span class=\"nd\">sub_SR </span></div><div class=\"children hor wrap \"><div class=\"contnr c0 trm   \" ><div class=\"lbl c0 trm \" ><span class=\"txtu\">χαρησεται</span></div></div></div></div><div class=\"contnr c1    \" ><div class=\"lbl c1  \" ><span class=\"nd\">sub_SR </span></div><div class=\"children hor wrap \"><div class=\"contnr c0 trm   \" ><div class=\"lbl c0 trm \" ><span class=\"txtu\">υμων</span></div></div><div class=\"contnr c0 trm   \" ><div class=\"lbl c0 trm \" ><span class=\"txtu\">η</span></div></div></div></div><div class=\"contnr c1   rno \" ><div class=\"lbl c1  \" ><span class=\"nd\">sub_SR </span></div><div class=\"children hor wrap \"><div class=\"contnr c0 trm   \" ><div class=\"lbl c0 trm \" ><span class=\"txtu\">καρδια,</span></div></div></div></div></div></div></div></div></div></div></div></div></div></div><div class=\"contnr c1   rno \" ><div class=\"lbl c1  \" ><span class=\"nd\">sub_N1904 </span></div><div class=\"children hor wrap \"><div class=\"contnr c1   lno rno \" ><div class=\"lbl c1  \" ><span class=\"nd\">sub_SBL </span></div><div class=\"children hor wrap \"><div class=\"contnr c1   rno \" ><div class=\"lbl c1  \" ><span class=\"nd\">sub_TISCH </span></div><div class=\"children hor wrap \"><div class=\"contnr c1   lno \" ><div class=\"lbl c1  \" ><span class=\"nd\">sub_KJTR </span></div><div class=\"children hor wrap \"><div class=\"contnr c1   lno \" ><div class=\"lbl c1  \" ><span class=\"nd\">sub_TCGNT </span></div><div class=\"children hor wrap \"><div class=\"contnr c1   lno rno \" ><div class=\"lbl c1  \" ><span class=\"nd\">sub_SR </span></div><div class=\"children hor wrap \"><div class=\"contnr c0 trm   \" ><div class=\"lbl c0 trm \" ><span class=\"txtu\">και</span></div></div></div></div></div></div><div class=\"contnr c1   rno \" ><div class=\"lbl c1  \" ><span class=\"nd\">sub_TCGNT </span></div><div class=\"children hor wrap \"><div class=\"contnr c1   lno rno \" ><div class=\"lbl c1  \" ><span class=\"nd\">sub_SR </span></div><div class=\"children hor wrap \"><div class=\"contnr c0 trm   \" ><div class=\"lbl c0 trm \" ><span class=\"txtu\">την</span></div></div><div class=\"contnr c0 trm   \" ><div class=\"lbl c0 trm \" ><span class=\"txtu\">χαραν</span></div></div><div class=\"contnr c0 trm   \" ><div class=\"lbl c0 trm \" ><span class=\"txtu\">υμων</span></div></div><div class=\"contnr c0 trm   \" ><div class=\"lbl c0 trm \" ><span class=\"txtu\">ουδεις</span></div></div></div></div></div></div></div></div><div class=\"contnr c1   rno \" ><div class=\"lbl c1  \" ><span class=\"nd\">sub_KJTR </span></div><div class=\"children hor wrap \"><div class=\"contnr c1   lno rno \" ><div class=\"lbl c1  \" ><span class=\"nd\">sub_TCGNT </span></div><div class=\"children hor wrap \"><div class=\"contnr c1   lno \" ><div class=\"lbl c1  \" ><span class=\"nd\">sub_SR </span></div><div class=\"children hor wrap \"><div class=\"contnr c0 trm   \" ><div class=\"lbl c0 trm \" ><span class=\"txtu\">αιρει</span></div></div></div></div><div class=\"contnr c1   rno \" ><div class=\"lbl c1  \" ><span class=\"nd\">sub_SR </span></div><div class=\"children hor wrap \"><div class=\"contnr c0 trm   \" ><div class=\"lbl c0 trm \" ><span class=\"txtu\">αφ᾽</span></div></div><div class=\"contnr c0 trm   \" ><div class=\"lbl c0 trm \" ><span class=\"txtu\">υμων.</span></div></div></div></div></div></div></div></div></div></div></div></div></div></div></div></div></div>"
      ],
      "text/plain": [
       "<IPython.core.display.HTML object>"
      ]
     },
     "metadata": {},
     "output_type": "display_data"
    },
    {
     "data": {
      "text/html": [
       "<p><b>verse</b> <i>29</i>"
      ],
      "text/plain": [
       "<IPython.core.display.HTML object>"
      ]
     },
     "metadata": {},
     "output_type": "display_data"
    },
    {
     "data": {
      "text/html": [
       "<div class=\"tfsechead \"><span class=\"ltr\"><a target=\"_blank\" href=\"https://bibleol.3bmoodle.dk/text/show_text/nestle1904/John/19/5\" sec=\"John 19:5\">John 19:5</a></span></div><div class=\" children pr-mode\"><div class=\"contnr c3    \" ><div class=\"lbl c3  \" ><span class=\"nd\">verse </span> <span class=\"\"><span title=\"book\">John</span> <span title=\"chapter\">19</span>:<span title=\"verse\">5</span></span></div><div class=\"children hor wrap \"><div class=\"contnr c1   lno \" ><div class=\"lbl c1  \" ><span class=\"nd\">sub_N1904 </span></div><div class=\"children hor wrap \"><div class=\"contnr c1   lno \" ><div class=\"lbl c1  \" ><span class=\"nd\">sub_SBL </span></div><div class=\"children hor wrap \"><div class=\"contnr c1   lno \" ><div class=\"lbl c1  \" ><span class=\"nd\">sub_TISCH </span></div><div class=\"children hor wrap \"><div class=\"contnr c1   lno rno \" ><div class=\"lbl c1  \" ><span class=\"nd\">sub_KJTR </span></div><div class=\"children hor wrap \"><div class=\"contnr c1   lno \" ><div class=\"lbl c1  \" ><span class=\"nd\">sub_TCGNT </span></div><div class=\"children hor wrap \"><div class=\"contnr c1   lno \" ><div class=\"lbl c1  \" ><span class=\"nd\">sub_SR </span></div><div class=\"children hor wrap \"><div class=\"contnr c0 trm   \" ><div class=\"lbl c0 trm \" ><span class=\"txtu\">εξηλθεν</span></div></div><div class=\"contnr c0 trm   \" ><div class=\"lbl c0 trm \" ><span class=\"txtu\">ουν</span></div></div><div class=\"contnr c0 trm   \" ><div class=\"lbl c0 trm \" ><span class=\"txtu\">ο</span></div></div></div></div></div></div></div></div></div></div></div></div><div class=\"contnr c1   rno \" ><div class=\"lbl c1  \" ><span class=\"nd\">sub_SBL </span></div><div class=\"children hor wrap \"><div class=\"contnr c1   rno \" ><div class=\"lbl c1  \" ><span class=\"nd\">sub_TISCH </span></div><div class=\"children hor wrap \"><div class=\"contnr c1   lno rno \" ><div class=\"lbl c1  \" ><span class=\"nd\">sub_KJTR </span></div><div class=\"children hor wrap \"><div class=\"contnr c1    \" ><div class=\"lbl c1  \" ><span class=\"nd\">sub_TCGNT </span></div><div class=\"children hor wrap \"><div class=\"contnr c1   rno \" ><div class=\"lbl c1  \" ><span class=\"nd\">sub_SR </span></div><div class=\"children hor wrap \"><div class=\"contnr c0 trm   \" ><div class=\"lbl c0 trm \" ><span class=\"txtu\">ιησους</span></div></div><div class=\"contnr c0 trm   \" ><div class=\"lbl c0 trm \" ><span class=\"txtu\">εξω,</span></div></div></div></div></div></div></div></div></div></div></div></div></div></div><div class=\"contnr c1   rno \" ><div class=\"lbl c1  \" ><span class=\"nd\">sub_N1904 </span></div><div class=\"children hor wrap \"><div class=\"contnr c1   lno \" ><div class=\"lbl c1  \" ><span class=\"nd\">sub_SBL </span></div><div class=\"children hor wrap \"><div class=\"contnr c1   lno \" ><div class=\"lbl c1  \" ><span class=\"nd\">sub_TISCH </span></div><div class=\"children hor wrap \"><div class=\"contnr c1   lno \" ><div class=\"lbl c1  \" ><span class=\"nd\">sub_KJTR </span></div><div class=\"children hor wrap \"><div class=\"contnr c1   rno \" ><div class=\"lbl c1  \" ><span class=\"nd\">sub_TCGNT </span></div><div class=\"children hor wrap \"><div class=\"contnr c1   lno rno \" ><div class=\"lbl c1  \" ><span class=\"nd\">sub_SR </span></div><div class=\"children hor wrap \"><div class=\"contnr c0 trm   \" ><div class=\"lbl c0 trm \" ><span class=\"txtu\">φορων</span></div></div></div></div></div></div></div></div></div></div><div class=\"contnr c1   rno \" ><div class=\"lbl c1  \" ><span class=\"nd\">sub_TISCH </span></div><div class=\"children hor wrap \"><div class=\"contnr c1   rno \" ><div class=\"lbl c1  \" ><span class=\"nd\">sub_KJTR </span></div><div class=\"children hor wrap \"><div class=\"contnr c1   lno \" ><div class=\"lbl c1  \" ><span class=\"nd\">sub_TCGNT </span></div><div class=\"children hor wrap \"><div class=\"contnr c1   lno rno \" ><div class=\"lbl c1  \" ><span class=\"nd\">sub_SR </span></div><div class=\"children hor wrap \"><div class=\"contnr c0 trm   \" ><div class=\"lbl c0 trm \" ><span class=\"txtu\">τον</span></div></div></div></div></div></div><div class=\"contnr c1   rno \" ><div class=\"lbl c1  \" ><span class=\"nd\">sub_TCGNT </span></div><div class=\"children hor wrap \"><div class=\"contnr c1   lno rno \" ><div class=\"lbl c1  \" ><span class=\"nd\">sub_SR </span></div><div class=\"children hor wrap \"><div class=\"contnr c0 trm   \" ><div class=\"lbl c0 trm \" ><span class=\"txtu\">ακανθινον</span></div></div><div class=\"contnr c0 trm   \" ><div class=\"lbl c0 trm \" ><span class=\"txtu\">στεφανον</span></div></div></div></div></div></div></div></div></div></div></div></div><div class=\"contnr c1    \" ><div class=\"lbl c1  \" ><span class=\"nd\">sub_SBL </span></div><div class=\"children hor wrap \"><div class=\"contnr c1   lno rno \" ><div class=\"lbl c1  \" ><span class=\"nd\">sub_TISCH </span></div><div class=\"children hor wrap \"><div class=\"contnr c1   lno \" ><div class=\"lbl c1  \" ><span class=\"nd\">sub_KJTR </span></div><div class=\"children hor wrap \"><div class=\"contnr c1   lno rno \" ><div class=\"lbl c1  \" ><span class=\"nd\">sub_TCGNT </span></div><div class=\"children hor wrap \"><div class=\"contnr c1   lno rno \" ><div class=\"lbl c1  \" ><span class=\"nd\">sub_SR </span></div><div class=\"children hor wrap \"><div class=\"contnr c0 trm   \" ><div class=\"lbl c0 trm \" ><span class=\"txtu\">και</span></div></div></div></div></div></div></div></div><div class=\"contnr c1    \" ><div class=\"lbl c1  \" ><span class=\"nd\">sub_KJTR </span></div><div class=\"children hor wrap \"><div class=\"contnr c1   lno rno \" ><div class=\"lbl c1  \" ><span class=\"nd\">sub_TCGNT </span></div><div class=\"children hor wrap \"><div class=\"contnr c1   lno \" ><div class=\"lbl c1  \" ><span class=\"nd\">sub_SR </span></div><div class=\"children hor wrap \"><div class=\"contnr c0 trm   \" ><div class=\"lbl c0 trm \" ><span class=\"txtu\">το</span></div></div></div></div><div class=\"contnr c1   rno \" ><div class=\"lbl c1  \" ><span class=\"nd\">sub_SR </span></div><div class=\"children hor wrap \"><div class=\"contnr c0 trm   \" ><div class=\"lbl c0 trm \" ><span class=\"txtu\">πορφυρουν</span></div></div><div class=\"contnr c0 trm   \" ><div class=\"lbl c0 trm \" ><span class=\"txtu\">ιματιον.</span></div></div></div></div></div></div></div></div><div class=\"contnr c1   rno hl\" ><div class=\"lbl c1  hl\" ><span class=\"nd\">sub_KJTR </span></div><div class=\"children hor wrap \"><div class=\"contnr c1   lno rno \" ><div class=\"lbl c1  \" ><span class=\"nd\">sub_TCGNT </span></div><div class=\"children hor wrap \"><div class=\"contnr c1   lno rno \" ><div class=\"lbl c1  \" ><span class=\"nd\">sub_SR </span></div><div class=\"children hor wrap \"><div class=\"contnr c0 trm   \" ><div class=\"lbl c0 trm \" ><span class=\"txtu\">και</span></div></div></div></div></div></div></div></div></div></div></div></div><div class=\"contnr c1   rno \" ><div class=\"lbl c1  \" ><span class=\"nd\">sub_SBL </span></div><div class=\"children hor wrap \"><div class=\"contnr c1   lno \" ><div class=\"lbl c1  \" ><span class=\"nd\">sub_TISCH </span></div><div class=\"children hor wrap \"><div class=\"contnr c1   lno rno hl\" ><div class=\"lbl c1  hl\" ><span class=\"nd\">sub_KJTR </span></div><div class=\"children hor wrap \"><div class=\"contnr c1   lno \" ><div class=\"lbl c1  \" ><span class=\"nd\">sub_TCGNT </span></div><div class=\"children hor wrap \"><div class=\"contnr c1   lno rno \" ><div class=\"lbl c1  \" ><span class=\"nd\">sub_SR </span></div><div class=\"children hor wrap \"><div class=\"contnr c0 trm   \" ><div class=\"lbl c0 trm \" ><span class=\"txtu\">λεγει</span></div></div><div class=\"contnr c0 trm   \" ><div class=\"lbl c0 trm \" ><span class=\"txtu\">αυτοις</span></div></div><div class=\"contnr c0 trm   \" ><div class=\"lbl c0 trm \" ><span class=\"txtu\">ιδου</span></div></div></div></div></div></div></div></div></div></div><div class=\"contnr c1   rno hl\" ><div class=\"lbl c1  hl\" ><span class=\"nd\">sub_TISCH </span></div><div class=\"children hor wrap \"><div class=\"contnr c1   lno hl\" ><div class=\"lbl c1  hl\" ><span class=\"nd\">sub_KJTR </span></div><div class=\"children hor wrap \"><div class=\"contnr c1   rno hl\" ><div class=\"lbl c1  hl\" ><span class=\"nd\">sub_TCGNT </span></div><div class=\"children hor wrap \"><div class=\"contnr c1   lno \" ><div class=\"lbl c1  \" ><span class=\"nd\">sub_SR </span></div><div class=\"children hor wrap \"><div class=\"contnr c0 trm   \" ><div class=\"lbl c0 trm \" ><span class=\"txtu\">ο</span></div></div></div></div><div class=\"contnr c1   rno hl\" ><div class=\"lbl c1  hl\" ><span class=\"nd\">sub_SR </span></div><div class=\"children hor wrap \"><div class=\"contnr c0 trm   hl\" ><div class=\"lbl c0 trm hl\" ><span class=\"txtu\">ανθρωπος.</span></div></div></div></div></div></div></div></div></div></div></div></div></div></div></div></div></div>"
      ],
      "text/plain": [
       "<IPython.core.display.HTML object>"
      ]
     },
     "metadata": {},
     "output_type": "display_data"
    },
    {
     "data": {
      "text/html": [
       "<p><b>verse</b> <i>30</i>"
      ],
      "text/plain": [
       "<IPython.core.display.HTML object>"
      ]
     },
     "metadata": {},
     "output_type": "display_data"
    },
    {
     "data": {
      "text/html": [
       "<div class=\"tfsechead \"><span class=\"ltr\"><a target=\"_blank\" href=\"https://bibleol.3bmoodle.dk/text/show_text/nestle1904/John/19/6\" sec=\"John 19:6\">John 19:6</a></span></div><div class=\" children pr-mode\"><div class=\"contnr c3    \" ><div class=\"lbl c3  \" ><span class=\"nd\">verse </span> <span class=\"\"><span title=\"book\">John</span> <span title=\"chapter\">19</span>:<span title=\"verse\">6</span></span></div><div class=\"children hor wrap \"><div class=\"contnr c1   lno \" ><div class=\"lbl c1  \" ><span class=\"nd\">sub_N1904 </span></div><div class=\"children hor wrap \"><div class=\"contnr c1   lno \" ><div class=\"lbl c1  \" ><span class=\"nd\">sub_SBL </span></div><div class=\"children hor wrap \"><div class=\"contnr c1   lno hl\" ><div class=\"lbl c1  hl\" ><span class=\"nd\">sub_TISCH </span></div><div class=\"children hor wrap \"><div class=\"contnr c1   rno \" ><div class=\"lbl c1  \" ><span class=\"nd\">sub_KJTR </span></div><div class=\"children hor wrap \"><div class=\"contnr c1   lno rno hl\" ><div class=\"lbl c1  hl\" ><span class=\"nd\">sub_TCGNT </span></div><div class=\"children hor wrap \"><div class=\"contnr c1   lno rno hl\" ><div class=\"lbl c1  hl\" ><span class=\"nd\">sub_SR </span></div><div class=\"children hor wrap \"><div class=\"contnr c0 trm   \" ><div class=\"lbl c0 trm \" ><span class=\"txtu\">οτε</span></div></div></div></div></div></div></div></div></div></div><div class=\"contnr c1   rno \" ><div class=\"lbl c1  \" ><span class=\"nd\">sub_TISCH </span></div><div class=\"children hor wrap \"><div class=\"contnr c1   lno \" ><div class=\"lbl c1  \" ><span class=\"nd\">sub_KJTR </span></div><div class=\"children hor wrap \"><div class=\"contnr c1   lno rno hl\" ><div class=\"lbl c1  hl\" ><span class=\"nd\">sub_TCGNT </span></div><div class=\"children hor wrap \"><div class=\"contnr c1   lno hl\" ><div class=\"lbl c1  hl\" ><span class=\"nd\">sub_SR </span></div><div class=\"children hor wrap \"><div class=\"contnr c0 trm   \" ><div class=\"lbl c0 trm \" ><span class=\"txtu\">ουν</span></div></div></div></div><div class=\"contnr c1   rno \" ><div class=\"lbl c1  \" ><span class=\"nd\">sub_SR </span></div><div class=\"children hor wrap \"><div class=\"contnr c0 trm   \" ><div class=\"lbl c0 trm \" ><span class=\"txtu\">ειδον</span></div></div><div class=\"contnr c0 trm   \" ><div class=\"lbl c0 trm \" ><span class=\"txtu\">αυτον</span></div></div></div></div></div></div></div></div><div class=\"contnr c1   rno \" ><div class=\"lbl c1  \" ><span class=\"nd\">sub_KJTR </span></div><div class=\"children hor wrap \"><div class=\"contnr c1   lno rno hl\" ><div class=\"lbl c1  hl\" ><span class=\"nd\">sub_TCGNT </span></div><div class=\"children hor wrap \"><div class=\"contnr c1   lno rno \" ><div class=\"lbl c1  \" ><span class=\"nd\">sub_SR </span></div><div class=\"children hor wrap \"><div class=\"contnr c0 trm   \" ><div class=\"lbl c0 trm \" ><span class=\"txtu\">οι</span></div></div><div class=\"contnr c0 trm   \" ><div class=\"lbl c0 trm \" ><span class=\"txtu\">αρχιερεις</span></div></div></div></div></div></div></div></div></div></div></div></div><div class=\"contnr c1    \" ><div class=\"lbl c1  \" ><span class=\"nd\">sub_SBL </span></div><div class=\"children hor wrap \"><div class=\"contnr c1   lno rno \" ><div class=\"lbl c1  \" ><span class=\"nd\">sub_TISCH </span></div><div class=\"children hor wrap \"><div class=\"contnr c1   lno \" ><div class=\"lbl c1  \" ><span class=\"nd\">sub_KJTR </span></div><div class=\"children hor wrap \"><div class=\"contnr c1   lno hl\" ><div class=\"lbl c1  hl\" ><span class=\"nd\">sub_TCGNT </span></div><div class=\"children hor wrap \"><div class=\"contnr c1   lno rno \" ><div class=\"lbl c1  \" ><span class=\"nd\">sub_SR </span></div><div class=\"children hor wrap \"><div class=\"contnr c0 trm   \" ><div class=\"lbl c0 trm \" ><span class=\"txtu\">και</span></div></div><div class=\"contnr c0 trm   \" ><div class=\"lbl c0 trm \" ><span class=\"txtu\">οι</span></div></div></div></div></div></div><div class=\"contnr c1   rno \" ><div class=\"lbl c1  \" ><span class=\"nd\">sub_TCGNT </span></div><div class=\"children hor wrap \"><div class=\"contnr c1   lno rno \" ><div class=\"lbl c1  \" ><span class=\"nd\">sub_SR </span></div><div class=\"children hor wrap \"><div class=\"contnr c0 trm   \" ><div class=\"lbl c0 trm \" ><span class=\"txtu\">υπηρεται,</span></div></div></div></div></div></div></div></div></div></div></div></div></div></div><div class=\"contnr c1    \" ><div class=\"lbl c1  \" ><span class=\"nd\">sub_N1904 </span></div><div class=\"children hor wrap \"><div class=\"contnr c1    \" ><div class=\"lbl c1  \" ><span class=\"nd\">sub_SBL </span></div><div class=\"children hor wrap \"><div class=\"contnr c1   lno \" ><div class=\"lbl c1  \" ><span class=\"nd\">sub_TISCH </span></div><div class=\"children hor wrap \"><div class=\"contnr c1   rno \" ><div class=\"lbl c1  \" ><span class=\"nd\">sub_KJTR </span></div><div class=\"children hor wrap \"><div class=\"contnr c1   lno rno \" ><div class=\"lbl c1  \" ><span class=\"nd\">sub_TCGNT </span></div><div class=\"children hor wrap \"><div class=\"contnr c1   lno \" ><div class=\"lbl c1  \" ><span class=\"nd\">sub_SR </span></div><div class=\"children hor wrap \"><div class=\"contnr c0 trm   \" ><div class=\"lbl c0 trm \" ><span class=\"txtu\">εκραυγασαν</span></div></div></div></div><div class=\"contnr c1   rno \" ><div class=\"lbl c1  \" ><span class=\"nd\">sub_SR </span></div><div class=\"children hor wrap \"><div class=\"contnr c0 trm   \" ><div class=\"lbl c0 trm \" ><span class=\"txtu\">λεγοντες</span></div></div><div class=\"contnr c0 trm   \" ><div class=\"lbl c0 trm \" ><span class=\"txtu\">σταυρωσον</span></div></div><div class=\"contnr c0 trm   \" ><div class=\"lbl c0 trm \" ><span class=\"txtu\">σταυρωσον.</span></div></div></div></div></div></div></div></div></div></div><div class=\"contnr c1    \" ><div class=\"lbl c1  \" ><span class=\"nd\">sub_TISCH </span></div><div class=\"children hor wrap \"><div class=\"contnr c1   lno \" ><div class=\"lbl c1  \" ><span class=\"nd\">sub_KJTR </span></div><div class=\"children hor wrap \"><div class=\"contnr c1   lno \" ><div class=\"lbl c1  \" ><span class=\"nd\">sub_TCGNT </span></div><div class=\"children hor wrap \"><div class=\"contnr c1   lno rno \" ><div class=\"lbl c1  \" ><span class=\"nd\">sub_SR </span></div><div class=\"children hor wrap \"><div class=\"contnr c0 trm   \" ><div class=\"lbl c0 trm \" ><span class=\"txtu\">λεγει</span></div></div></div></div></div></div><div class=\"contnr c1   rno \" ><div class=\"lbl c1  \" ><span class=\"nd\">sub_TCGNT </span></div><div class=\"children hor wrap \"><div class=\"contnr c1   lno rno \" ><div class=\"lbl c1  \" ><span class=\"nd\">sub_SR </span></div><div class=\"children hor wrap \"><div class=\"contnr c0 trm   \" ><div class=\"lbl c0 trm \" ><span class=\"txtu\">αυτοις</span></div></div></div></div></div></div></div></div></div></div></div></div><div class=\"contnr c1   rno \" ><div class=\"lbl c1  \" ><span class=\"nd\">sub_SBL </span></div><div class=\"children hor wrap \"><div class=\"contnr c1   rno \" ><div class=\"lbl c1  \" ><span class=\"nd\">sub_TISCH </span></div><div class=\"children hor wrap \"><div class=\"contnr c1    \" ><div class=\"lbl c1  \" ><span class=\"nd\">sub_KJTR </span></div><div class=\"children hor wrap \"><div class=\"contnr c1   lno rno \" ><div class=\"lbl c1  \" ><span class=\"nd\">sub_TCGNT </span></div><div class=\"children hor wrap \"><div class=\"contnr c1   lno \" ><div class=\"lbl c1  \" ><span class=\"nd\">sub_SR </span></div><div class=\"children hor wrap \"><div class=\"contnr c0 trm   \" ><div class=\"lbl c0 trm \" ><span class=\"txtu\">ο</span></div></div></div></div><div class=\"contnr c1   rno \" ><div class=\"lbl c1  \" ><span class=\"nd\">sub_SR </span></div><div class=\"children hor wrap \"><div class=\"contnr c0 trm   \" ><div class=\"lbl c0 trm \" ><span class=\"txtu\">πειλατος</span></div></div><div class=\"contnr c0 trm   \" ><div class=\"lbl c0 trm \" ><span class=\"txtu\">λαβετε</span></div></div></div></div></div></div></div></div><div class=\"contnr c1    \" ><div class=\"lbl c1  \" ><span class=\"nd\">sub_KJTR </span></div><div class=\"children hor wrap \"><div class=\"contnr c1   lno \" ><div class=\"lbl c1  \" ><span class=\"nd\">sub_TCGNT </span></div><div class=\"children hor wrap \"><div class=\"contnr c1   lno rno \" ><div class=\"lbl c1  \" ><span class=\"nd\">sub_SR </span></div><div class=\"children hor wrap \"><div class=\"contnr c0 trm   \" ><div class=\"lbl c0 trm \" ><span class=\"txtu\">αυτον</span></div></div></div></div></div></div><div class=\"contnr c1   rno \" ><div class=\"lbl c1  \" ><span class=\"nd\">sub_TCGNT </span></div><div class=\"children hor wrap \"><div class=\"contnr c1   lno rno \" ><div class=\"lbl c1  \" ><span class=\"nd\">sub_SR </span></div><div class=\"children hor wrap \"><div class=\"contnr c0 trm   \" ><div class=\"lbl c0 trm \" ><span class=\"txtu\">υμεις</span></div></div><div class=\"contnr c0 trm   \" ><div class=\"lbl c0 trm \" ><span class=\"txtu\">και</span></div></div><div class=\"contnr c0 trm   \" ><div class=\"lbl c0 trm \" ><span class=\"txtu\">σταυρωσατε·</span></div></div></div></div></div></div></div></div></div></div></div></div></div></div><div class=\"contnr c1   rno \" ><div class=\"lbl c1  \" ><span class=\"nd\">sub_N1904 </span></div><div class=\"children hor wrap \"><div class=\"contnr c1   lno \" ><div class=\"lbl c1  \" ><span class=\"nd\">sub_SBL </span></div><div class=\"children hor wrap \"><div class=\"contnr c1   lno \" ><div class=\"lbl c1  \" ><span class=\"nd\">sub_TISCH </span></div><div class=\"children hor wrap \"><div class=\"contnr c1   rno \" ><div class=\"lbl c1  \" ><span class=\"nd\">sub_KJTR </span></div><div class=\"children hor wrap \"><div class=\"contnr c1   lno rno \" ><div class=\"lbl c1  \" ><span class=\"nd\">sub_TCGNT </span></div><div class=\"children hor wrap \"><div class=\"contnr c1   lno \" ><div class=\"lbl c1  \" ><span class=\"nd\">sub_SR </span></div><div class=\"children hor wrap \"><div class=\"contnr c0 trm   \" ><div class=\"lbl c0 trm \" ><span class=\"txtu\">εγω</span></div></div></div></div><div class=\"contnr c1    \" ><div class=\"lbl c1  \" ><span class=\"nd\">sub_SR </span></div><div class=\"children hor wrap \"><div class=\"contnr c0 trm   \" ><div class=\"lbl c0 trm \" ><span class=\"txtu\">γαρ</span></div></div><div class=\"contnr c0 trm   \" ><div class=\"lbl c0 trm \" ><span class=\"txtu\">ουχ</span></div></div><div class=\"contnr c0 trm   \" ><div class=\"lbl c0 trm \" ><span class=\"txtu\">ευρισκω</span></div></div><div class=\"contnr c0 trm   \" ><div class=\"lbl c0 trm \" ><span class=\"txtu\">εν</span></div></div></div></div></div></div></div></div></div></div><div class=\"contnr c1   rno \" ><div class=\"lbl c1  \" ><span class=\"nd\">sub_TISCH </span></div><div class=\"children hor wrap \"><div class=\"contnr c1   lno rno \" ><div class=\"lbl c1  \" ><span class=\"nd\">sub_KJTR </span></div><div class=\"children hor wrap \"><div class=\"contnr c1   lno rno \" ><div class=\"lbl c1  \" ><span class=\"nd\">sub_TCGNT </span></div><div class=\"children hor wrap \"><div class=\"contnr c1   rno \" ><div class=\"lbl c1  \" ><span class=\"nd\">sub_SR </span></div><div class=\"children hor wrap \"><div class=\"contnr c0 trm   \" ><div class=\"lbl c0 trm \" ><span class=\"txtu\">αυτω</span></div></div></div></div></div></div></div></div></div></div></div></div><div class=\"contnr c1   rno \" ><div class=\"lbl c1  \" ><span class=\"nd\">sub_SBL </span></div><div class=\"children hor wrap \"><div class=\"contnr c1   lno rno \" ><div class=\"lbl c1  \" ><span class=\"nd\">sub_TISCH </span></div><div class=\"children hor wrap \"><div class=\"contnr c1   lno rno \" ><div class=\"lbl c1  \" ><span class=\"nd\">sub_KJTR </span></div><div class=\"children hor wrap \"><div class=\"contnr c1   lno rno \" ><div class=\"lbl c1  \" ><span class=\"nd\">sub_TCGNT </span></div><div class=\"children hor wrap \"><div class=\"contnr c1   lno \" ><div class=\"lbl c1  \" ><span class=\"nd\">sub_SR </span></div><div class=\"children hor wrap \"><div class=\"contnr c0 trm   \" ><div class=\"lbl c0 trm \" ><span class=\"txtu\">αιτιαν.</span></div></div></div></div></div></div></div></div></div></div></div></div></div></div></div></div></div>"
      ],
      "text/plain": [
       "<IPython.core.display.HTML object>"
      ]
     },
     "metadata": {},
     "output_type": "display_data"
    }
   ],
   "source": [
    "MPTF.show_results(testResults2)"
   ]
  },
  {
   "cell_type": "code",
   "execution_count": 11,
   "id": "873fb312-7d00-4989-8199-fab200b0acb9",
   "metadata": {},
   "outputs": [
    {
     "data": {
      "text/plain": [
       "['TF',\n",
       " '__class__',\n",
       " '__delattr__',\n",
       " '__dict__',\n",
       " '__dir__',\n",
       " '__doc__',\n",
       " '__eq__',\n",
       " '__format__',\n",
       " '__ge__',\n",
       " '__getattribute__',\n",
       " '__getstate__',\n",
       " '__gt__',\n",
       " '__hash__',\n",
       " '__init__',\n",
       " '__init_subclass__',\n",
       " '__le__',\n",
       " '__lt__',\n",
       " '__module__',\n",
       " '__ne__',\n",
       " '__new__',\n",
       " '__reduce__',\n",
       " '__reduce_ex__',\n",
       " '__repr__',\n",
       " '__setattr__',\n",
       " '__sizeof__',\n",
       " '__str__',\n",
       " '__subclasshook__',\n",
       " '__weakref__',\n",
       " '_browse',\n",
       " '_sectionLink',\n",
       " 'api',\n",
       " 'appLink',\n",
       " 'appName',\n",
       " 'backend',\n",
       " 'banner',\n",
       " 'cfgSpecs',\n",
       " 'charLink',\n",
       " 'collect',\n",
       " 'collection',\n",
       " 'collectionInfo',\n",
       " 'context',\n",
       " 'curDir',\n",
       " 'customMethods',\n",
       " 'dataLink',\n",
       " 'dh',\n",
       " 'display',\n",
       " 'displayReset',\n",
       " 'displaySetup',\n",
       " 'displayShow',\n",
       " 'dm',\n",
       " 'error',\n",
       " 'export',\n",
       " 'exportMQL',\n",
       " 'exportPandas',\n",
       " 'extract',\n",
       " 'featureLink',\n",
       " 'featureTypes',\n",
       " 'featuresOnly',\n",
       " 'flexLink',\n",
       " 'footprint',\n",
       " 'getCss',\n",
       " 'getText',\n",
       " 'getToolCss',\n",
       " 'getVolumes',\n",
       " 'header',\n",
       " 'hoist',\n",
       " 'homeDir',\n",
       " 'inNb',\n",
       " 'indent',\n",
       " 'info',\n",
       " 'isCompatible',\n",
       " 'isLoaded',\n",
       " 'isSilent',\n",
       " 'load',\n",
       " 'loadCss',\n",
       " 'loadData',\n",
       " 'loadToolCss',\n",
       " 'mLocations',\n",
       " 'makeNer',\n",
       " 'nodeFromSectionStr',\n",
       " 'parentDir',\n",
       " 'plain',\n",
       " 'plainFormats',\n",
       " 'plainTuple',\n",
       " 'pretty',\n",
       " 'prettyTuple',\n",
       " 'provenance',\n",
       " 'publishRelease',\n",
       " 'reinit',\n",
       " 'repoLocation',\n",
       " 'reuse',\n",
       " 'run_queries',\n",
       " 'search',\n",
       " 'sectionStrFromNode',\n",
       " 'setSilent',\n",
       " 'sets',\n",
       " 'show',\n",
       " 'showContext',\n",
       " 'showFormats',\n",
       " 'showProvenance',\n",
       " 'show_results',\n",
       " 'silent',\n",
       " 'silentOff',\n",
       " 'silentOn',\n",
       " 'specialCharacters',\n",
       " 'specs',\n",
       " 'structureStrFromNode',\n",
       " 'table',\n",
       " 'tempDir',\n",
       " 'tfLink',\n",
       " 'tfsLink',\n",
       " 'tutLink',\n",
       " 'unravel',\n",
       " 'version',\n",
       " 'versionOverride',\n",
       " 'volume',\n",
       " 'volumeInfo',\n",
       " 'warning',\n",
       " 'webLink',\n",
       " 'zipAll']"
      ]
     },
     "execution_count": 11,
     "metadata": {},
     "output_type": "execute_result"
    }
   ],
   "source": [
    "dir(MPTF)"
   ]
  },
  {
   "cell_type": "code",
   "execution_count": null,
   "id": "667cf9fe-0296-45dd-b4c7-15febdd6b770",
   "metadata": {},
   "outputs": [],
   "source": []
  }
 ],
 "metadata": {
  "kernelspec": {
   "display_name": "Python [conda env:base]",
   "language": "python",
   "name": "conda-base-py"
  },
  "language_info": {
   "codemirror_mode": {
    "name": "ipython",
    "version": 3
   },
   "file_extension": ".py",
   "mimetype": "text/x-python",
   "name": "python",
   "nbconvert_exporter": "python",
   "pygments_lexer": "ipython3",
   "version": "3.12.3"
  }
 },
 "nbformat": 4,
 "nbformat_minor": 5
}
